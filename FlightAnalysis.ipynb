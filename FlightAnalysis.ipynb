{
 "cells": [
  {
   "cell_type": "code",
   "execution_count": 11,
   "id": "4d035034",
   "metadata": {},
   "outputs": [
    {
     "name": "stdout",
     "output_type": "stream",
     "text": [
      "Requirement already satisfied: matplotlib in c:\\users\\dell\\appdata\\local\\programs\\python\\python37\\lib\\site-packages (3.4.3)Note: you may need to restart the kernel to use updated packages.\n",
      "\n",
      "Requirement already satisfied: cycler>=0.10 in c:\\users\\dell\\appdata\\local\\programs\\python\\python37\\lib\\site-packages (from matplotlib) (0.10.0)\n",
      "Requirement already satisfied: kiwisolver>=1.0.1 in c:\\users\\dell\\appdata\\local\\programs\\python\\python37\\lib\\site-packages (from matplotlib) (1.3.2)\n",
      "Requirement already satisfied: pyparsing>=2.2.1 in c:\\users\\dell\\appdata\\local\\programs\\python\\python37\\lib\\site-packages (from matplotlib) (2.4.7)\n",
      "Requirement already satisfied: python-dateutil>=2.7 in c:\\users\\dell\\appdata\\local\\programs\\python\\python37\\lib\\site-packages (from matplotlib) (2.8.2)\n",
      "Requirement already satisfied: numpy>=1.16 in c:\\users\\dell\\appdata\\local\\programs\\python\\python37\\lib\\site-packages (from matplotlib) (1.21.4+vanilla)\n",
      "Requirement already satisfied: pillow>=6.2.0 in c:\\users\\dell\\appdata\\local\\programs\\python\\python37\\lib\\site-packages (from matplotlib) (8.3.2)\n",
      "Requirement already satisfied: six in c:\\users\\dell\\appdata\\local\\programs\\python\\python37\\lib\\site-packages (from cycler>=0.10->matplotlib) (1.16.0)\n"
     ]
    }
   ],
   "source": [
    "pip install matplotlib"
   ]
  },
  {
   "cell_type": "code",
   "execution_count": 12,
   "id": "2509d861",
   "metadata": {},
   "outputs": [],
   "source": [
    "import matplotlib.pyplot as plt\n",
    "import numpy as np\n",
    "import pandas as pd\n",
    "import seaborn as sns"
   ]
  },
  {
   "cell_type": "code",
   "execution_count": 13,
   "id": "1e8d0ace",
   "metadata": {},
   "outputs": [],
   "source": [
    "import plotly"
   ]
  },
  {
   "cell_type": "code",
   "execution_count": 14,
   "id": "2335432e",
   "metadata": {},
   "outputs": [],
   "source": [
    "import plotly.express as px\n",
    "import plotly.graph_objects as go\n",
    "from plotly.subplots import make_subplots"
   ]
  },
  {
   "cell_type": "code",
   "execution_count": 15,
   "id": "8f322d99",
   "metadata": {
    "scrolled": true
   },
   "outputs": [
    {
     "data": {
      "text/html": [
       "<div>\n",
       "<style scoped>\n",
       "    .dataframe tbody tr th:only-of-type {\n",
       "        vertical-align: middle;\n",
       "    }\n",
       "\n",
       "    .dataframe tbody tr th {\n",
       "        vertical-align: top;\n",
       "    }\n",
       "\n",
       "    .dataframe thead th {\n",
       "        text-align: right;\n",
       "    }\n",
       "</style>\n",
       "<table border=\"1\" class=\"dataframe\">\n",
       "  <thead>\n",
       "    <tr style=\"text-align: right;\">\n",
       "      <th></th>\n",
       "      <th>YEAR</th>\n",
       "      <th>MONTH</th>\n",
       "      <th>DAY_OF_MONTH</th>\n",
       "      <th>DAY_OF_WEEK</th>\n",
       "      <th>UNIQUE_CARRIER</th>\n",
       "      <th>AIRLINE_ID</th>\n",
       "      <th>CARRIER</th>\n",
       "      <th>TAIL_NUM</th>\n",
       "      <th>FL_NUM</th>\n",
       "      <th>ORIGIN</th>\n",
       "      <th>...</th>\n",
       "      <th>CANCELLATION_CODE</th>\n",
       "      <th>DIVERTED</th>\n",
       "      <th>AIR_TIME</th>\n",
       "      <th>DISTANCE</th>\n",
       "      <th>CARRIER_DELAY</th>\n",
       "      <th>WEATHER_DELAY</th>\n",
       "      <th>NAS_DELAY</th>\n",
       "      <th>SECURITY_DELAY</th>\n",
       "      <th>LATE_AIRCRAFT_DELAY</th>\n",
       "      <th>Unnamed: 35</th>\n",
       "    </tr>\n",
       "  </thead>\n",
       "  <tbody>\n",
       "    <tr>\n",
       "      <th>0</th>\n",
       "      <td>2009</td>\n",
       "      <td>12</td>\n",
       "      <td>2</td>\n",
       "      <td>3</td>\n",
       "      <td>9E</td>\n",
       "      <td>20363</td>\n",
       "      <td>9E</td>\n",
       "      <td>91879E</td>\n",
       "      <td>850</td>\n",
       "      <td>ATL</td>\n",
       "      <td>...</td>\n",
       "      <td>NaN</td>\n",
       "      <td>0.0</td>\n",
       "      <td>61.0</td>\n",
       "      <td>356.0</td>\n",
       "      <td>NaN</td>\n",
       "      <td>NaN</td>\n",
       "      <td>NaN</td>\n",
       "      <td>NaN</td>\n",
       "      <td>NaN</td>\n",
       "      <td>NaN</td>\n",
       "    </tr>\n",
       "    <tr>\n",
       "      <th>1</th>\n",
       "      <td>2009</td>\n",
       "      <td>12</td>\n",
       "      <td>3</td>\n",
       "      <td>4</td>\n",
       "      <td>9E</td>\n",
       "      <td>20363</td>\n",
       "      <td>9E</td>\n",
       "      <td>92289E</td>\n",
       "      <td>850</td>\n",
       "      <td>ATL</td>\n",
       "      <td>...</td>\n",
       "      <td>NaN</td>\n",
       "      <td>0.0</td>\n",
       "      <td>49.0</td>\n",
       "      <td>356.0</td>\n",
       "      <td>NaN</td>\n",
       "      <td>NaN</td>\n",
       "      <td>NaN</td>\n",
       "      <td>NaN</td>\n",
       "      <td>NaN</td>\n",
       "      <td>NaN</td>\n",
       "    </tr>\n",
       "    <tr>\n",
       "      <th>2</th>\n",
       "      <td>2009</td>\n",
       "      <td>12</td>\n",
       "      <td>4</td>\n",
       "      <td>5</td>\n",
       "      <td>9E</td>\n",
       "      <td>20363</td>\n",
       "      <td>9E</td>\n",
       "      <td>91629E</td>\n",
       "      <td>850</td>\n",
       "      <td>ATL</td>\n",
       "      <td>...</td>\n",
       "      <td>NaN</td>\n",
       "      <td>0.0</td>\n",
       "      <td>53.0</td>\n",
       "      <td>356.0</td>\n",
       "      <td>NaN</td>\n",
       "      <td>NaN</td>\n",
       "      <td>NaN</td>\n",
       "      <td>NaN</td>\n",
       "      <td>NaN</td>\n",
       "      <td>NaN</td>\n",
       "    </tr>\n",
       "    <tr>\n",
       "      <th>3</th>\n",
       "      <td>2009</td>\n",
       "      <td>12</td>\n",
       "      <td>6</td>\n",
       "      <td>7</td>\n",
       "      <td>9E</td>\n",
       "      <td>20363</td>\n",
       "      <td>9E</td>\n",
       "      <td>91709E</td>\n",
       "      <td>850</td>\n",
       "      <td>ATL</td>\n",
       "      <td>...</td>\n",
       "      <td>NaN</td>\n",
       "      <td>0.0</td>\n",
       "      <td>51.0</td>\n",
       "      <td>356.0</td>\n",
       "      <td>NaN</td>\n",
       "      <td>NaN</td>\n",
       "      <td>NaN</td>\n",
       "      <td>NaN</td>\n",
       "      <td>NaN</td>\n",
       "      <td>NaN</td>\n",
       "    </tr>\n",
       "    <tr>\n",
       "      <th>4</th>\n",
       "      <td>2009</td>\n",
       "      <td>12</td>\n",
       "      <td>7</td>\n",
       "      <td>1</td>\n",
       "      <td>9E</td>\n",
       "      <td>20363</td>\n",
       "      <td>9E</td>\n",
       "      <td>92289E</td>\n",
       "      <td>850</td>\n",
       "      <td>ATL</td>\n",
       "      <td>...</td>\n",
       "      <td>NaN</td>\n",
       "      <td>0.0</td>\n",
       "      <td>57.0</td>\n",
       "      <td>356.0</td>\n",
       "      <td>NaN</td>\n",
       "      <td>NaN</td>\n",
       "      <td>NaN</td>\n",
       "      <td>NaN</td>\n",
       "      <td>NaN</td>\n",
       "      <td>NaN</td>\n",
       "    </tr>\n",
       "    <tr>\n",
       "      <th>...</th>\n",
       "      <td>...</td>\n",
       "      <td>...</td>\n",
       "      <td>...</td>\n",
       "      <td>...</td>\n",
       "      <td>...</td>\n",
       "      <td>...</td>\n",
       "      <td>...</td>\n",
       "      <td>...</td>\n",
       "      <td>...</td>\n",
       "      <td>...</td>\n",
       "      <td>...</td>\n",
       "      <td>...</td>\n",
       "      <td>...</td>\n",
       "      <td>...</td>\n",
       "      <td>...</td>\n",
       "      <td>...</td>\n",
       "      <td>...</td>\n",
       "      <td>...</td>\n",
       "      <td>...</td>\n",
       "      <td>...</td>\n",
       "      <td>...</td>\n",
       "    </tr>\n",
       "    <tr>\n",
       "      <th>529264</th>\n",
       "      <td>2009</td>\n",
       "      <td>12</td>\n",
       "      <td>31</td>\n",
       "      <td>4</td>\n",
       "      <td>YV</td>\n",
       "      <td>20378</td>\n",
       "      <td>YV</td>\n",
       "      <td>N437YV</td>\n",
       "      <td>2846</td>\n",
       "      <td>YUM</td>\n",
       "      <td>...</td>\n",
       "      <td>NaN</td>\n",
       "      <td>0.0</td>\n",
       "      <td>39.0</td>\n",
       "      <td>160.0</td>\n",
       "      <td>NaN</td>\n",
       "      <td>NaN</td>\n",
       "      <td>NaN</td>\n",
       "      <td>NaN</td>\n",
       "      <td>NaN</td>\n",
       "      <td>NaN</td>\n",
       "    </tr>\n",
       "    <tr>\n",
       "      <th>529265</th>\n",
       "      <td>2009</td>\n",
       "      <td>12</td>\n",
       "      <td>31</td>\n",
       "      <td>4</td>\n",
       "      <td>YV</td>\n",
       "      <td>20378</td>\n",
       "      <td>YV</td>\n",
       "      <td>N987HA</td>\n",
       "      <td>2850</td>\n",
       "      <td>YUM</td>\n",
       "      <td>...</td>\n",
       "      <td>NaN</td>\n",
       "      <td>0.0</td>\n",
       "      <td>48.0</td>\n",
       "      <td>160.0</td>\n",
       "      <td>NaN</td>\n",
       "      <td>NaN</td>\n",
       "      <td>NaN</td>\n",
       "      <td>NaN</td>\n",
       "      <td>NaN</td>\n",
       "      <td>NaN</td>\n",
       "    </tr>\n",
       "    <tr>\n",
       "      <th>529266</th>\n",
       "      <td>2009</td>\n",
       "      <td>12</td>\n",
       "      <td>31</td>\n",
       "      <td>4</td>\n",
       "      <td>YV</td>\n",
       "      <td>20378</td>\n",
       "      <td>YV</td>\n",
       "      <td>N7305V</td>\n",
       "      <td>2866</td>\n",
       "      <td>YUM</td>\n",
       "      <td>...</td>\n",
       "      <td>NaN</td>\n",
       "      <td>0.0</td>\n",
       "      <td>32.0</td>\n",
       "      <td>160.0</td>\n",
       "      <td>0.0</td>\n",
       "      <td>0.0</td>\n",
       "      <td>15.0</td>\n",
       "      <td>0.0</td>\n",
       "      <td>0.0</td>\n",
       "      <td>NaN</td>\n",
       "    </tr>\n",
       "    <tr>\n",
       "      <th>529267</th>\n",
       "      <td>2009</td>\n",
       "      <td>12</td>\n",
       "      <td>31</td>\n",
       "      <td>4</td>\n",
       "      <td>YV</td>\n",
       "      <td>20378</td>\n",
       "      <td>YV</td>\n",
       "      <td>N987HA</td>\n",
       "      <td>2868</td>\n",
       "      <td>YUM</td>\n",
       "      <td>...</td>\n",
       "      <td>NaN</td>\n",
       "      <td>0.0</td>\n",
       "      <td>45.0</td>\n",
       "      <td>160.0</td>\n",
       "      <td>NaN</td>\n",
       "      <td>NaN</td>\n",
       "      <td>NaN</td>\n",
       "      <td>NaN</td>\n",
       "      <td>NaN</td>\n",
       "      <td>NaN</td>\n",
       "    </tr>\n",
       "    <tr>\n",
       "      <th>529268</th>\n",
       "      <td>2009</td>\n",
       "      <td>12</td>\n",
       "      <td>31</td>\n",
       "      <td>4</td>\n",
       "      <td>YV</td>\n",
       "      <td>20378</td>\n",
       "      <td>YV</td>\n",
       "      <td>N988HA</td>\n",
       "      <td>2871</td>\n",
       "      <td>YUM</td>\n",
       "      <td>...</td>\n",
       "      <td>NaN</td>\n",
       "      <td>0.0</td>\n",
       "      <td>35.0</td>\n",
       "      <td>160.0</td>\n",
       "      <td>NaN</td>\n",
       "      <td>NaN</td>\n",
       "      <td>NaN</td>\n",
       "      <td>NaN</td>\n",
       "      <td>NaN</td>\n",
       "      <td>NaN</td>\n",
       "    </tr>\n",
       "  </tbody>\n",
       "</table>\n",
       "<p>529269 rows × 36 columns</p>\n",
       "</div>"
      ],
      "text/plain": [
       "        YEAR  MONTH  DAY_OF_MONTH  DAY_OF_WEEK UNIQUE_CARRIER  AIRLINE_ID  \\\n",
       "0       2009     12             2            3             9E       20363   \n",
       "1       2009     12             3            4             9E       20363   \n",
       "2       2009     12             4            5             9E       20363   \n",
       "3       2009     12             6            7             9E       20363   \n",
       "4       2009     12             7            1             9E       20363   \n",
       "...      ...    ...           ...          ...            ...         ...   \n",
       "529264  2009     12            31            4             YV       20378   \n",
       "529265  2009     12            31            4             YV       20378   \n",
       "529266  2009     12            31            4             YV       20378   \n",
       "529267  2009     12            31            4             YV       20378   \n",
       "529268  2009     12            31            4             YV       20378   \n",
       "\n",
       "       CARRIER TAIL_NUM  FL_NUM ORIGIN  ... CANCELLATION_CODE DIVERTED  \\\n",
       "0           9E   91879E     850    ATL  ...               NaN      0.0   \n",
       "1           9E   92289E     850    ATL  ...               NaN      0.0   \n",
       "2           9E   91629E     850    ATL  ...               NaN      0.0   \n",
       "3           9E   91709E     850    ATL  ...               NaN      0.0   \n",
       "4           9E   92289E     850    ATL  ...               NaN      0.0   \n",
       "...        ...      ...     ...    ...  ...               ...      ...   \n",
       "529264      YV   N437YV    2846    YUM  ...               NaN      0.0   \n",
       "529265      YV   N987HA    2850    YUM  ...               NaN      0.0   \n",
       "529266      YV   N7305V    2866    YUM  ...               NaN      0.0   \n",
       "529267      YV   N987HA    2868    YUM  ...               NaN      0.0   \n",
       "529268      YV   N988HA    2871    YUM  ...               NaN      0.0   \n",
       "\n",
       "       AIR_TIME  DISTANCE CARRIER_DELAY WEATHER_DELAY NAS_DELAY  \\\n",
       "0          61.0     356.0           NaN           NaN       NaN   \n",
       "1          49.0     356.0           NaN           NaN       NaN   \n",
       "2          53.0     356.0           NaN           NaN       NaN   \n",
       "3          51.0     356.0           NaN           NaN       NaN   \n",
       "4          57.0     356.0           NaN           NaN       NaN   \n",
       "...         ...       ...           ...           ...       ...   \n",
       "529264     39.0     160.0           NaN           NaN       NaN   \n",
       "529265     48.0     160.0           NaN           NaN       NaN   \n",
       "529266     32.0     160.0           0.0           0.0      15.0   \n",
       "529267     45.0     160.0           NaN           NaN       NaN   \n",
       "529268     35.0     160.0           NaN           NaN       NaN   \n",
       "\n",
       "       SECURITY_DELAY  LATE_AIRCRAFT_DELAY  Unnamed: 35  \n",
       "0                 NaN                  NaN          NaN  \n",
       "1                 NaN                  NaN          NaN  \n",
       "2                 NaN                  NaN          NaN  \n",
       "3                 NaN                  NaN          NaN  \n",
       "4                 NaN                  NaN          NaN  \n",
       "...               ...                  ...          ...  \n",
       "529264            NaN                  NaN          NaN  \n",
       "529265            NaN                  NaN          NaN  \n",
       "529266            0.0                  0.0          NaN  \n",
       "529267            NaN                  NaN          NaN  \n",
       "529268            NaN                  NaN          NaN  \n",
       "\n",
       "[529269 rows x 36 columns]"
      ]
     },
     "execution_count": 15,
     "metadata": {},
     "output_type": "execute_result"
    }
   ],
   "source": [
    "df = pd.read_csv('Flights dataset.csv')\n",
    "df.columns = df.columns.str.rstrip(' ')\n",
    "df"
   ]
  },
  {
   "cell_type": "code",
   "execution_count": 16,
   "id": "635e1e4b",
   "metadata": {},
   "outputs": [
    {
     "name": "stderr",
     "output_type": "stream",
     "text": [
      "C:\\Users\\Dell\\AppData\\Local\\Programs\\Python\\Python37\\lib\\site-packages\\pandas\\core\\frame.py:4913: SettingWithCopyWarning:\n",
      "\n",
      "\n",
      "A value is trying to be set on a copy of a slice from a DataFrame\n",
      "\n",
      "See the caveats in the documentation: https://pandas.pydata.org/pandas-docs/stable/user_guide/indexing.html#returning-a-view-versus-a-copy\n",
      "\n"
     ]
    },
    {
     "data": {
      "text/html": [
       "<div>\n",
       "<style scoped>\n",
       "    .dataframe tbody tr th:only-of-type {\n",
       "        vertical-align: middle;\n",
       "    }\n",
       "\n",
       "    .dataframe tbody tr th {\n",
       "        vertical-align: top;\n",
       "    }\n",
       "\n",
       "    .dataframe thead th {\n",
       "        text-align: right;\n",
       "    }\n",
       "</style>\n",
       "<table border=\"1\" class=\"dataframe\">\n",
       "  <thead>\n",
       "    <tr style=\"text-align: right;\">\n",
       "      <th></th>\n",
       "      <th>YEAR</th>\n",
       "      <th>MONTH</th>\n",
       "      <th>DAY_OF_MONTH</th>\n",
       "      <th>DAY_OF_WEEK</th>\n",
       "      <th>UNIQUE_CARRIER</th>\n",
       "      <th>AIRLINE_ID</th>\n",
       "      <th>CARRIER</th>\n",
       "      <th>TAIL_NUM</th>\n",
       "      <th>FL_NUM</th>\n",
       "      <th>ORIGIN</th>\n",
       "      <th>...</th>\n",
       "      <th>DEST_WAC</th>\n",
       "      <th>CRS_DEP_TIME</th>\n",
       "      <th>DEP_TIME</th>\n",
       "      <th>DEP_DELAY</th>\n",
       "      <th>CRS_ARR_TIME</th>\n",
       "      <th>ARR_TIME</th>\n",
       "      <th>ARR_DELAY</th>\n",
       "      <th>CANCELLED</th>\n",
       "      <th>CANCELLATION_CODE</th>\n",
       "      <th>DIVERTED</th>\n",
       "    </tr>\n",
       "  </thead>\n",
       "  <tbody>\n",
       "    <tr>\n",
       "      <th>602</th>\n",
       "      <td>2009</td>\n",
       "      <td>12</td>\n",
       "      <td>29</td>\n",
       "      <td>2</td>\n",
       "      <td>9E</td>\n",
       "      <td>20363</td>\n",
       "      <td>9E</td>\n",
       "      <td>91479E</td>\n",
       "      <td>872</td>\n",
       "      <td>ATL</td>\n",
       "      <td>...</td>\n",
       "      <td>21</td>\n",
       "      <td>832</td>\n",
       "      <td>830.0</td>\n",
       "      <td>-2.0</td>\n",
       "      <td>1050</td>\n",
       "      <td>1344.0</td>\n",
       "      <td>NaN</td>\n",
       "      <td>0.0</td>\n",
       "      <td>NaN</td>\n",
       "      <td>1.0</td>\n",
       "    </tr>\n",
       "    <tr>\n",
       "      <th>839</th>\n",
       "      <td>2009</td>\n",
       "      <td>12</td>\n",
       "      <td>1</td>\n",
       "      <td>2</td>\n",
       "      <td>9E</td>\n",
       "      <td>20363</td>\n",
       "      <td>9E</td>\n",
       "      <td>91629E</td>\n",
       "      <td>881</td>\n",
       "      <td>ATL</td>\n",
       "      <td>...</td>\n",
       "      <td>74</td>\n",
       "      <td>1845</td>\n",
       "      <td>1843.0</td>\n",
       "      <td>-2.0</td>\n",
       "      <td>2006</td>\n",
       "      <td>2221.0</td>\n",
       "      <td>NaN</td>\n",
       "      <td>0.0</td>\n",
       "      <td>NaN</td>\n",
       "      <td>1.0</td>\n",
       "    </tr>\n",
       "    <tr>\n",
       "      <th>980</th>\n",
       "      <td>2009</td>\n",
       "      <td>12</td>\n",
       "      <td>5</td>\n",
       "      <td>6</td>\n",
       "      <td>9E</td>\n",
       "      <td>20363</td>\n",
       "      <td>9E</td>\n",
       "      <td>91669E</td>\n",
       "      <td>886</td>\n",
       "      <td>ATL</td>\n",
       "      <td>...</td>\n",
       "      <td>12</td>\n",
       "      <td>1010</td>\n",
       "      <td>1003.0</td>\n",
       "      <td>-7.0</td>\n",
       "      <td>1305</td>\n",
       "      <td>1709.0</td>\n",
       "      <td>NaN</td>\n",
       "      <td>0.0</td>\n",
       "      <td>NaN</td>\n",
       "      <td>1.0</td>\n",
       "    </tr>\n",
       "    <tr>\n",
       "      <th>1017</th>\n",
       "      <td>2009</td>\n",
       "      <td>12</td>\n",
       "      <td>25</td>\n",
       "      <td>5</td>\n",
       "      <td>9E</td>\n",
       "      <td>20363</td>\n",
       "      <td>9E</td>\n",
       "      <td>91669E</td>\n",
       "      <td>887</td>\n",
       "      <td>ATL</td>\n",
       "      <td>...</td>\n",
       "      <td>73</td>\n",
       "      <td>1057</td>\n",
       "      <td>1052.0</td>\n",
       "      <td>-5.0</td>\n",
       "      <td>1208</td>\n",
       "      <td>1423.0</td>\n",
       "      <td>NaN</td>\n",
       "      <td>0.0</td>\n",
       "      <td>NaN</td>\n",
       "      <td>1.0</td>\n",
       "    </tr>\n",
       "    <tr>\n",
       "      <th>1096</th>\n",
       "      <td>2009</td>\n",
       "      <td>12</td>\n",
       "      <td>21</td>\n",
       "      <td>1</td>\n",
       "      <td>9E</td>\n",
       "      <td>20363</td>\n",
       "      <td>9E</td>\n",
       "      <td>91879E</td>\n",
       "      <td>890</td>\n",
       "      <td>ATL</td>\n",
       "      <td>...</td>\n",
       "      <td>15</td>\n",
       "      <td>930</td>\n",
       "      <td>1020.0</td>\n",
       "      <td>50.0</td>\n",
       "      <td>1158</td>\n",
       "      <td>NaN</td>\n",
       "      <td>NaN</td>\n",
       "      <td>0.0</td>\n",
       "      <td>NaN</td>\n",
       "      <td>1.0</td>\n",
       "    </tr>\n",
       "    <tr>\n",
       "      <th>...</th>\n",
       "      <td>...</td>\n",
       "      <td>...</td>\n",
       "      <td>...</td>\n",
       "      <td>...</td>\n",
       "      <td>...</td>\n",
       "      <td>...</td>\n",
       "      <td>...</td>\n",
       "      <td>...</td>\n",
       "      <td>...</td>\n",
       "      <td>...</td>\n",
       "      <td>...</td>\n",
       "      <td>...</td>\n",
       "      <td>...</td>\n",
       "      <td>...</td>\n",
       "      <td>...</td>\n",
       "      <td>...</td>\n",
       "      <td>...</td>\n",
       "      <td>...</td>\n",
       "      <td>...</td>\n",
       "      <td>...</td>\n",
       "      <td>...</td>\n",
       "    </tr>\n",
       "    <tr>\n",
       "      <th>527243</th>\n",
       "      <td>2009</td>\n",
       "      <td>12</td>\n",
       "      <td>28</td>\n",
       "      <td>1</td>\n",
       "      <td>YV</td>\n",
       "      <td>20378</td>\n",
       "      <td>YV</td>\n",
       "      <td>N7264V</td>\n",
       "      <td>2785</td>\n",
       "      <td>PHX</td>\n",
       "      <td>...</td>\n",
       "      <td>91</td>\n",
       "      <td>835</td>\n",
       "      <td>831.0</td>\n",
       "      <td>-4.0</td>\n",
       "      <td>909</td>\n",
       "      <td>NaN</td>\n",
       "      <td>NaN</td>\n",
       "      <td>0.0</td>\n",
       "      <td>NaN</td>\n",
       "      <td>1.0</td>\n",
       "    </tr>\n",
       "    <tr>\n",
       "      <th>528175</th>\n",
       "      <td>2009</td>\n",
       "      <td>12</td>\n",
       "      <td>30</td>\n",
       "      <td>3</td>\n",
       "      <td>YV</td>\n",
       "      <td>20378</td>\n",
       "      <td>YV</td>\n",
       "      <td>N445YV</td>\n",
       "      <td>7212</td>\n",
       "      <td>DEN</td>\n",
       "      <td>...</td>\n",
       "      <td>67</td>\n",
       "      <td>1639</td>\n",
       "      <td>1632.0</td>\n",
       "      <td>-7.0</td>\n",
       "      <td>1810</td>\n",
       "      <td>1938.0</td>\n",
       "      <td>NaN</td>\n",
       "      <td>0.0</td>\n",
       "      <td>NaN</td>\n",
       "      <td>1.0</td>\n",
       "    </tr>\n",
       "    <tr>\n",
       "      <th>528529</th>\n",
       "      <td>2009</td>\n",
       "      <td>12</td>\n",
       "      <td>30</td>\n",
       "      <td>3</td>\n",
       "      <td>YV</td>\n",
       "      <td>20378</td>\n",
       "      <td>YV</td>\n",
       "      <td>N991HA</td>\n",
       "      <td>2896</td>\n",
       "      <td>PHX</td>\n",
       "      <td>...</td>\n",
       "      <td>82</td>\n",
       "      <td>1609</td>\n",
       "      <td>1614.0</td>\n",
       "      <td>5.0</td>\n",
       "      <td>1753</td>\n",
       "      <td>2025.0</td>\n",
       "      <td>NaN</td>\n",
       "      <td>0.0</td>\n",
       "      <td>NaN</td>\n",
       "      <td>1.0</td>\n",
       "    </tr>\n",
       "    <tr>\n",
       "      <th>529088</th>\n",
       "      <td>2009</td>\n",
       "      <td>12</td>\n",
       "      <td>31</td>\n",
       "      <td>4</td>\n",
       "      <td>YV</td>\n",
       "      <td>20378</td>\n",
       "      <td>YV</td>\n",
       "      <td>N505MJ</td>\n",
       "      <td>7058</td>\n",
       "      <td>ORD</td>\n",
       "      <td>...</td>\n",
       "      <td>38</td>\n",
       "      <td>848</td>\n",
       "      <td>901.0</td>\n",
       "      <td>13.0</td>\n",
       "      <td>1145</td>\n",
       "      <td>NaN</td>\n",
       "      <td>NaN</td>\n",
       "      <td>0.0</td>\n",
       "      <td>NaN</td>\n",
       "      <td>1.0</td>\n",
       "    </tr>\n",
       "    <tr>\n",
       "      <th>529139</th>\n",
       "      <td>2009</td>\n",
       "      <td>12</td>\n",
       "      <td>31</td>\n",
       "      <td>4</td>\n",
       "      <td>YV</td>\n",
       "      <td>20378</td>\n",
       "      <td>YV</td>\n",
       "      <td>N989HA</td>\n",
       "      <td>2905</td>\n",
       "      <td>PHX</td>\n",
       "      <td>...</td>\n",
       "      <td>82</td>\n",
       "      <td>1556</td>\n",
       "      <td>1546.0</td>\n",
       "      <td>-10.0</td>\n",
       "      <td>1754</td>\n",
       "      <td>2040.0</td>\n",
       "      <td>NaN</td>\n",
       "      <td>0.0</td>\n",
       "      <td>NaN</td>\n",
       "      <td>1.0</td>\n",
       "    </tr>\n",
       "  </tbody>\n",
       "</table>\n",
       "<p>1488 rows × 28 columns</p>\n",
       "</div>"
      ],
      "text/plain": [
       "        YEAR  MONTH  DAY_OF_MONTH  DAY_OF_WEEK UNIQUE_CARRIER  AIRLINE_ID  \\\n",
       "602     2009     12            29            2             9E       20363   \n",
       "839     2009     12             1            2             9E       20363   \n",
       "980     2009     12             5            6             9E       20363   \n",
       "1017    2009     12            25            5             9E       20363   \n",
       "1096    2009     12            21            1             9E       20363   \n",
       "...      ...    ...           ...          ...            ...         ...   \n",
       "527243  2009     12            28            1             YV       20378   \n",
       "528175  2009     12            30            3             YV       20378   \n",
       "528529  2009     12            30            3             YV       20378   \n",
       "529088  2009     12            31            4             YV       20378   \n",
       "529139  2009     12            31            4             YV       20378   \n",
       "\n",
       "       CARRIER TAIL_NUM  FL_NUM ORIGIN  ... DEST_WAC CRS_DEP_TIME DEP_TIME  \\\n",
       "602         9E   91479E     872    ATL  ...       21          832    830.0   \n",
       "839         9E   91629E     881    ATL  ...       74         1845   1843.0   \n",
       "980         9E   91669E     886    ATL  ...       12         1010   1003.0   \n",
       "1017        9E   91669E     887    ATL  ...       73         1057   1052.0   \n",
       "1096        9E   91879E     890    ATL  ...       15          930   1020.0   \n",
       "...        ...      ...     ...    ...  ...      ...          ...      ...   \n",
       "527243      YV   N7264V    2785    PHX  ...       91          835    831.0   \n",
       "528175      YV   N445YV    7212    DEN  ...       67         1639   1632.0   \n",
       "528529      YV   N991HA    2896    PHX  ...       82         1609   1614.0   \n",
       "529088      YV   N505MJ    7058    ORD  ...       38          848    901.0   \n",
       "529139      YV   N989HA    2905    PHX  ...       82         1556   1546.0   \n",
       "\n",
       "        DEP_DELAY CRS_ARR_TIME ARR_TIME ARR_DELAY CANCELLED  \\\n",
       "602          -2.0         1050   1344.0       NaN       0.0   \n",
       "839          -2.0         2006   2221.0       NaN       0.0   \n",
       "980          -7.0         1305   1709.0       NaN       0.0   \n",
       "1017         -5.0         1208   1423.0       NaN       0.0   \n",
       "1096         50.0         1158      NaN       NaN       0.0   \n",
       "...           ...          ...      ...       ...       ...   \n",
       "527243       -4.0          909      NaN       NaN       0.0   \n",
       "528175       -7.0         1810   1938.0       NaN       0.0   \n",
       "528529        5.0         1753   2025.0       NaN       0.0   \n",
       "529088       13.0         1145      NaN       NaN       0.0   \n",
       "529139      -10.0         1754   2040.0       NaN       0.0   \n",
       "\n",
       "        CANCELLATION_CODE  DIVERTED  \n",
       "602                   NaN       1.0  \n",
       "839                   NaN       1.0  \n",
       "980                   NaN       1.0  \n",
       "1017                  NaN       1.0  \n",
       "1096                  NaN       1.0  \n",
       "...                   ...       ...  \n",
       "527243                NaN       1.0  \n",
       "528175                NaN       1.0  \n",
       "528529                NaN       1.0  \n",
       "529088                NaN       1.0  \n",
       "529139                NaN       1.0  \n",
       "\n",
       "[1488 rows x 28 columns]"
      ]
     },
     "execution_count": 16,
     "metadata": {},
     "output_type": "execute_result"
    }
   ],
   "source": [
    "Cancl_data = df.loc[df['CANCELLED'] != 0]\n",
    "Cancl_data.drop(columns=['AIR_TIME','DISTANCE','CARRIER_DELAY','WEATHER_DELAY', 'NAS_DELAY', 'SECURITY_DELAY', 'LATE_AIRCRAFT_DELAY','Unnamed: 35'], inplace=True)\n",
    "Divert_data = df.loc[df['DIVERTED'] != 0 ]\n",
    "Divert_data.drop(columns=['AIR_TIME','DISTANCE','CARRIER_DELAY','WEATHER_DELAY', 'NAS_DELAY', 'SECURITY_DELAY', 'LATE_AIRCRAFT_DELAY','Unnamed: 35'], inplace=True)\n",
    "Divert_data"
   ]
  },
  {
   "cell_type": "code",
   "execution_count": 17,
   "id": "a2dd042a",
   "metadata": {},
   "outputs": [],
   "source": [
    "Can_week_day = Cancl_data['DAY_OF_WEEK'].value_counts().rename_axis(\"Day\").reset_index(name=\"Counts\")\n",
    "Can_week_day.sort_values(by = 'Day' , axis=0,ascending=[True],inplace=True )\n",
    "\n",
    "# replace days of week with the days Name\n",
    "for index in Can_week_day.index:\n",
    "    if Can_week_day[\"Day\"][index] == 1:\n",
    "        Can_week_day[\"Day\"][index] = 'Monday'\n",
    "    if Can_week_day[\"Day\"][index] == 2:\n",
    "        Can_week_day[\"Day\"][index] = 'Tuesday'\n",
    "    if Can_week_day[\"Day\"][index] == 3:\n",
    "        Can_week_day[\"Day\"][index] = 'Wednesday'\n",
    "    if Can_week_day[\"Day\"][index] == 4:\n",
    "        Can_week_day[\"Day\"][index] = 'Thursday'\n",
    "    if Can_week_day[\"Day\"][index] == 5:\n",
    "        Can_week_day[\"Day\"][index] = 'Friday'\n",
    "    if Can_week_day[\"Day\"][index] == 6:\n",
    "        Can_week_day[\"Day\"][index] = 'Saturday'\n",
    "    if Can_week_day[\"Day\"][index] == 7:\n",
    "        Can_week_day[\"Day\"][index] = 'Sunday'\n",
    "#Can_week_day['Change_type'] = 'CANCELLED'\n",
    "\n",
    "\n",
    "Div_week_day = Divert_data['DAY_OF_WEEK'].value_counts().rename_axis(\"Day\").reset_index(name=\"Counts\")\n",
    "Div_week_day.sort_values(by = 'Day' , axis=0,ascending=[True],inplace=True )\n",
    "\n",
    "# replace days of week with the days Name\n",
    "for index in Div_week_day.index:\n",
    "    if Div_week_day[\"Day\"][index] == 1:\n",
    "        Div_week_day[\"Day\"][index] = 'Monday'\n",
    "    if Div_week_day[\"Day\"][index] == 2:\n",
    "        Div_week_day[\"Day\"][index] = 'Tuesday'\n",
    "    if Div_week_day[\"Day\"][index] == 3:\n",
    "        Div_week_day[\"Day\"][index] = 'Wednesday'\n",
    "    if Div_week_day[\"Day\"][index] == 4:\n",
    "        Div_week_day[\"Day\"][index] = 'Thursday'\n",
    "    if Div_week_day[\"Day\"][index] == 5:\n",
    "        Div_week_day[\"Day\"][index] = 'Friday'\n",
    "    if Div_week_day[\"Day\"][index] == 6:\n",
    "        Div_week_day[\"Day\"][index] = 'Saturday'\n",
    "    if Div_week_day[\"Day\"][index] == 7:\n",
    "        Div_week_day[\"Day\"][index] = 'Sunday'\n",
    "#Div_week_day['Change_type'] = 'DIVERTED'\n",
    "\n",
    "#combined = Can_week_day.append(Div_week_day, ignore_index =True)\n",
    "#\n",
    "# combined"
   ]
  },
  {
   "cell_type": "code",
   "execution_count": 18,
   "id": "63458b3f",
   "metadata": {},
   "outputs": [
    {
     "data": {
      "text/html": [
       "<div>\n",
       "<style scoped>\n",
       "    .dataframe tbody tr th:only-of-type {\n",
       "        vertical-align: middle;\n",
       "    }\n",
       "\n",
       "    .dataframe tbody tr th {\n",
       "        vertical-align: top;\n",
       "    }\n",
       "\n",
       "    .dataframe thead th {\n",
       "        text-align: right;\n",
       "    }\n",
       "</style>\n",
       "<table border=\"1\" class=\"dataframe\">\n",
       "  <thead>\n",
       "    <tr style=\"text-align: right;\">\n",
       "      <th></th>\n",
       "      <th>Date</th>\n",
       "      <th>Counts</th>\n",
       "    </tr>\n",
       "  </thead>\n",
       "  <tbody>\n",
       "    <tr>\n",
       "      <th>24</th>\n",
       "      <td>1</td>\n",
       "      <td>26</td>\n",
       "    </tr>\n",
       "    <tr>\n",
       "      <th>28</th>\n",
       "      <td>2</td>\n",
       "      <td>20</td>\n",
       "    </tr>\n",
       "    <tr>\n",
       "      <th>30</th>\n",
       "      <td>3</td>\n",
       "      <td>15</td>\n",
       "    </tr>\n",
       "    <tr>\n",
       "      <th>10</th>\n",
       "      <td>4</td>\n",
       "      <td>50</td>\n",
       "    </tr>\n",
       "    <tr>\n",
       "      <th>16</th>\n",
       "      <td>5</td>\n",
       "      <td>41</td>\n",
       "    </tr>\n",
       "    <tr>\n",
       "      <th>26</th>\n",
       "      <td>6</td>\n",
       "      <td>25</td>\n",
       "    </tr>\n",
       "    <tr>\n",
       "      <th>2</th>\n",
       "      <td>7</td>\n",
       "      <td>92</td>\n",
       "    </tr>\n",
       "    <tr>\n",
       "      <th>3</th>\n",
       "      <td>8</td>\n",
       "      <td>82</td>\n",
       "    </tr>\n",
       "    <tr>\n",
       "      <th>7</th>\n",
       "      <td>9</td>\n",
       "      <td>59</td>\n",
       "    </tr>\n",
       "    <tr>\n",
       "      <th>23</th>\n",
       "      <td>10</td>\n",
       "      <td>27</td>\n",
       "    </tr>\n",
       "    <tr>\n",
       "      <th>20</th>\n",
       "      <td>11</td>\n",
       "      <td>29</td>\n",
       "    </tr>\n",
       "    <tr>\n",
       "      <th>12</th>\n",
       "      <td>12</td>\n",
       "      <td>46</td>\n",
       "    </tr>\n",
       "    <tr>\n",
       "      <th>4</th>\n",
       "      <td>13</td>\n",
       "      <td>69</td>\n",
       "    </tr>\n",
       "    <tr>\n",
       "      <th>0</th>\n",
       "      <td>14</td>\n",
       "      <td>150</td>\n",
       "    </tr>\n",
       "    <tr>\n",
       "      <th>25</th>\n",
       "      <td>15</td>\n",
       "      <td>25</td>\n",
       "    </tr>\n",
       "    <tr>\n",
       "      <th>27</th>\n",
       "      <td>16</td>\n",
       "      <td>21</td>\n",
       "    </tr>\n",
       "    <tr>\n",
       "      <th>8</th>\n",
       "      <td>17</td>\n",
       "      <td>56</td>\n",
       "    </tr>\n",
       "    <tr>\n",
       "      <th>11</th>\n",
       "      <td>18</td>\n",
       "      <td>50</td>\n",
       "    </tr>\n",
       "    <tr>\n",
       "      <th>5</th>\n",
       "      <td>19</td>\n",
       "      <td>68</td>\n",
       "    </tr>\n",
       "    <tr>\n",
       "      <th>19</th>\n",
       "      <td>20</td>\n",
       "      <td>32</td>\n",
       "    </tr>\n",
       "    <tr>\n",
       "      <th>17</th>\n",
       "      <td>21</td>\n",
       "      <td>38</td>\n",
       "    </tr>\n",
       "    <tr>\n",
       "      <th>13</th>\n",
       "      <td>22</td>\n",
       "      <td>45</td>\n",
       "    </tr>\n",
       "    <tr>\n",
       "      <th>6</th>\n",
       "      <td>23</td>\n",
       "      <td>63</td>\n",
       "    </tr>\n",
       "    <tr>\n",
       "      <th>1</th>\n",
       "      <td>24</td>\n",
       "      <td>103</td>\n",
       "    </tr>\n",
       "    <tr>\n",
       "      <th>18</th>\n",
       "      <td>25</td>\n",
       "      <td>36</td>\n",
       "    </tr>\n",
       "    <tr>\n",
       "      <th>15</th>\n",
       "      <td>26</td>\n",
       "      <td>45</td>\n",
       "    </tr>\n",
       "    <tr>\n",
       "      <th>29</th>\n",
       "      <td>27</td>\n",
       "      <td>18</td>\n",
       "    </tr>\n",
       "    <tr>\n",
       "      <th>21</th>\n",
       "      <td>28</td>\n",
       "      <td>29</td>\n",
       "    </tr>\n",
       "    <tr>\n",
       "      <th>22</th>\n",
       "      <td>29</td>\n",
       "      <td>28</td>\n",
       "    </tr>\n",
       "    <tr>\n",
       "      <th>14</th>\n",
       "      <td>30</td>\n",
       "      <td>45</td>\n",
       "    </tr>\n",
       "    <tr>\n",
       "      <th>9</th>\n",
       "      <td>31</td>\n",
       "      <td>55</td>\n",
       "    </tr>\n",
       "  </tbody>\n",
       "</table>\n",
       "</div>"
      ],
      "text/plain": [
       "    Date  Counts\n",
       "24     1      26\n",
       "28     2      20\n",
       "30     3      15\n",
       "10     4      50\n",
       "16     5      41\n",
       "26     6      25\n",
       "2      7      92\n",
       "3      8      82\n",
       "7      9      59\n",
       "23    10      27\n",
       "20    11      29\n",
       "12    12      46\n",
       "4     13      69\n",
       "0     14     150\n",
       "25    15      25\n",
       "27    16      21\n",
       "8     17      56\n",
       "11    18      50\n",
       "5     19      68\n",
       "19    20      32\n",
       "17    21      38\n",
       "13    22      45\n",
       "6     23      63\n",
       "1     24     103\n",
       "18    25      36\n",
       "15    26      45\n",
       "29    27      18\n",
       "21    28      29\n",
       "22    29      28\n",
       "14    30      45\n",
       "9     31      55"
      ]
     },
     "execution_count": 18,
     "metadata": {},
     "output_type": "execute_result"
    }
   ],
   "source": [
    "Can_Month_date = Cancl_data['DAY_OF_MONTH'].value_counts().rename_axis(\"Date\").reset_index(name=\"Counts\")\n",
    "Can_Month_date.sort_values(by = 'Date' , \n",
    "                    axis=0,\n",
    "                    ascending=[True], \n",
    "                    inplace=True )\n",
    "#Can_Month_date['Change_type'] = 'CANCELLED'\n",
    "#Can_Month_date\n",
    "\n",
    "Div_Month_date = Divert_data['DAY_OF_MONTH'].value_counts().rename_axis(\"Date\").reset_index(name=\"Counts\")\n",
    "Div_Month_date.sort_values(by = 'Date' , \n",
    "                    axis=0,\n",
    "                    ascending=[True], \n",
    "                    inplace=True )\n",
    "#Div_Month_date['Change_type'] = 'DIVERTED'\n",
    "Div_Month_date\n",
    "\n",
    "#combined_date = Can_Month_date.append(Div_Month_date, ignore_index =True)\n",
    "#combined_date"
   ]
  },
  {
   "cell_type": "code",
   "execution_count": 19,
   "id": "47355927",
   "metadata": {},
   "outputs": [],
   "source": [
    "total_rec = df.index.value_counts().rename_axis(\"Date\").reset_index(name=\"Counts\")\n",
    "Can_rec = Cancl_data.index.value_counts().rename_axis(\"Date\").reset_index(name=\"Counts\")\n",
    "Div_rec = Divert_data.index.value_counts().rename_axis(\"Date\").reset_index(name=\"Counts\")"
   ]
  },
  {
   "cell_type": "code",
   "execution_count": 20,
   "id": "cc5ad95f",
   "metadata": {},
   "outputs": [
    {
     "data": {
      "text/html": [
       "<div>\n",
       "<style scoped>\n",
       "    .dataframe tbody tr th:only-of-type {\n",
       "        vertical-align: middle;\n",
       "    }\n",
       "\n",
       "    .dataframe tbody tr th {\n",
       "        vertical-align: top;\n",
       "    }\n",
       "\n",
       "    .dataframe thead th {\n",
       "        text-align: right;\n",
       "    }\n",
       "</style>\n",
       "<table border=\"1\" class=\"dataframe\">\n",
       "  <thead>\n",
       "    <tr style=\"text-align: right;\">\n",
       "      <th></th>\n",
       "      <th>CANCELLATION_CODE</th>\n",
       "      <th>Counts</th>\n",
       "    </tr>\n",
       "  </thead>\n",
       "  <tbody>\n",
       "    <tr>\n",
       "      <th>0</th>\n",
       "      <td>B</td>\n",
       "      <td>9791</td>\n",
       "    </tr>\n",
       "    <tr>\n",
       "      <th>1</th>\n",
       "      <td>A</td>\n",
       "      <td>3384</td>\n",
       "    </tr>\n",
       "    <tr>\n",
       "      <th>2</th>\n",
       "      <td>C</td>\n",
       "      <td>1542</td>\n",
       "    </tr>\n",
       "    <tr>\n",
       "      <th>3</th>\n",
       "      <td>D</td>\n",
       "      <td>13</td>\n",
       "    </tr>\n",
       "  </tbody>\n",
       "</table>\n",
       "</div>"
      ],
      "text/plain": [
       "  CANCELLATION_CODE  Counts\n",
       "0                 B    9791\n",
       "1                 A    3384\n",
       "2                 C    1542\n",
       "3                 D      13"
      ]
     },
     "execution_count": 20,
     "metadata": {},
     "output_type": "execute_result"
    }
   ],
   "source": [
    "Can_rec_detail  = Cancl_data['CANCELLATION_CODE'].value_counts().rename_axis(\"CANCELLATION_CODE\").reset_index(name=\"Counts\")\n",
    "Can_rec_detail "
   ]
  },
  {
   "cell_type": "code",
   "execution_count": 27,
   "id": "92c7367d",
   "metadata": {},
   "outputs": [
    {
     "data": {
      "application/vnd.plotly.v1+json": {
       "config": {
        "plotlyServerURL": "https://plot.ly"
       },
       "data": [
        {
         "name": "Cancelled on Day",
         "type": "bar",
         "x": [
          "Monday",
          "Tuesday",
          "Wednesday",
          "Thursday",
          "Friday",
          "Saturday",
          "Sunday"
         ],
         "xaxis": "x",
         "y": [
          1393,
          2037,
          1890,
          1433,
          1682,
          3670,
          2625
         ],
         "yaxis": "y"
        },
        {
         "name": "Diverted on Day",
         "type": "bar",
         "x": [
          "Monday",
          "Tuesday",
          "Wednesday",
          "Thursday",
          "Friday",
          "Saturday",
          "Sunday"
         ],
         "xaxis": "x",
         "y": [
          309,
          206,
          208,
          256,
          165,
          200,
          144
         ],
         "yaxis": "y"
        },
        {
         "mode": "lines+markers",
         "name": "Cancelled on Date",
         "type": "scatter",
         "x": [
          1,
          2,
          3,
          4,
          5,
          6,
          7,
          8,
          9,
          10,
          11,
          12,
          13,
          14,
          15,
          16,
          17,
          18,
          19,
          20,
          21,
          22,
          23,
          24,
          25,
          26,
          27,
          28,
          29,
          30,
          31
         ],
         "xaxis": "x2",
         "y": [
          87,
          203,
          92,
          608,
          189,
          92,
          335,
          1018,
          932,
          309,
          231,
          189,
          393,
          637,
          190,
          95,
          114,
          392,
          2534,
          1839,
          285,
          338,
          504,
          696,
          451,
          758,
          301,
          136,
          404,
          156,
          222
         ],
         "yaxis": "y2"
        },
        {
         "mode": "lines+markers",
         "name": "Diverted on Date",
         "type": "scatter",
         "x": [
          1,
          2,
          3,
          4,
          5,
          6,
          7,
          8,
          9,
          10,
          11,
          12,
          13,
          14,
          15,
          16,
          17,
          18,
          19,
          20,
          21,
          22,
          23,
          24,
          25,
          26,
          27,
          28,
          29,
          30,
          31
         ],
         "xaxis": "x2",
         "y": [
          26,
          20,
          15,
          50,
          41,
          25,
          92,
          82,
          59,
          27,
          29,
          46,
          69,
          150,
          25,
          21,
          56,
          50,
          68,
          32,
          38,
          45,
          63,
          103,
          36,
          45,
          18,
          29,
          28,
          45,
          55
         ],
         "yaxis": "y2"
        },
        {
         "domain": {
          "x": [
           0,
           1
          ],
          "y": [
           0,
           0.22222222222222224
          ]
         },
         "labels": [
          "B",
          "A",
          "C",
          "D"
         ],
         "name": "Cancellation type",
         "type": "pie",
         "values": [
          9791,
          3384,
          1542,
          13
         ]
        }
       ],
       "layout": {
        "annotations": [
         {
          "font": {
           "size": 16
          },
          "showarrow": false,
          "text": "Cancelled and Deiverted flight for each day",
          "x": 0.5,
          "xanchor": "center",
          "xref": "paper",
          "y": 1,
          "yanchor": "bottom",
          "yref": "paper"
         },
         {
          "font": {
           "size": 16
          },
          "showarrow": false,
          "text": "Cancelled and Diverted flight for each date",
          "x": 0.5,
          "xanchor": "center",
          "xref": "paper",
          "y": 0.6111111111111112,
          "yanchor": "bottom",
          "yref": "paper"
         },
         {
          "font": {
           "size": 16
          },
          "showarrow": false,
          "text": "Cancelled reason code contribution (A/B/C/D)",
          "x": 0.5,
          "xanchor": "center",
          "xref": "paper",
          "y": 0.22222222222222224,
          "yanchor": "bottom",
          "yref": "paper"
         }
        ],
        "height": 1000,
        "template": {
         "data": {
          "bar": [
           {
            "error_x": {
             "color": "#2a3f5f"
            },
            "error_y": {
             "color": "#2a3f5f"
            },
            "marker": {
             "line": {
              "color": "#E5ECF6",
              "width": 0.5
             },
             "pattern": {
              "fillmode": "overlay",
              "size": 10,
              "solidity": 0.2
             }
            },
            "type": "bar"
           }
          ],
          "barpolar": [
           {
            "marker": {
             "line": {
              "color": "#E5ECF6",
              "width": 0.5
             },
             "pattern": {
              "fillmode": "overlay",
              "size": 10,
              "solidity": 0.2
             }
            },
            "type": "barpolar"
           }
          ],
          "carpet": [
           {
            "aaxis": {
             "endlinecolor": "#2a3f5f",
             "gridcolor": "white",
             "linecolor": "white",
             "minorgridcolor": "white",
             "startlinecolor": "#2a3f5f"
            },
            "baxis": {
             "endlinecolor": "#2a3f5f",
             "gridcolor": "white",
             "linecolor": "white",
             "minorgridcolor": "white",
             "startlinecolor": "#2a3f5f"
            },
            "type": "carpet"
           }
          ],
          "choropleth": [
           {
            "colorbar": {
             "outlinewidth": 0,
             "ticks": ""
            },
            "type": "choropleth"
           }
          ],
          "contour": [
           {
            "colorbar": {
             "outlinewidth": 0,
             "ticks": ""
            },
            "colorscale": [
             [
              0,
              "#0d0887"
             ],
             [
              0.1111111111111111,
              "#46039f"
             ],
             [
              0.2222222222222222,
              "#7201a8"
             ],
             [
              0.3333333333333333,
              "#9c179e"
             ],
             [
              0.4444444444444444,
              "#bd3786"
             ],
             [
              0.5555555555555556,
              "#d8576b"
             ],
             [
              0.6666666666666666,
              "#ed7953"
             ],
             [
              0.7777777777777778,
              "#fb9f3a"
             ],
             [
              0.8888888888888888,
              "#fdca26"
             ],
             [
              1,
              "#f0f921"
             ]
            ],
            "type": "contour"
           }
          ],
          "contourcarpet": [
           {
            "colorbar": {
             "outlinewidth": 0,
             "ticks": ""
            },
            "type": "contourcarpet"
           }
          ],
          "heatmap": [
           {
            "colorbar": {
             "outlinewidth": 0,
             "ticks": ""
            },
            "colorscale": [
             [
              0,
              "#0d0887"
             ],
             [
              0.1111111111111111,
              "#46039f"
             ],
             [
              0.2222222222222222,
              "#7201a8"
             ],
             [
              0.3333333333333333,
              "#9c179e"
             ],
             [
              0.4444444444444444,
              "#bd3786"
             ],
             [
              0.5555555555555556,
              "#d8576b"
             ],
             [
              0.6666666666666666,
              "#ed7953"
             ],
             [
              0.7777777777777778,
              "#fb9f3a"
             ],
             [
              0.8888888888888888,
              "#fdca26"
             ],
             [
              1,
              "#f0f921"
             ]
            ],
            "type": "heatmap"
           }
          ],
          "heatmapgl": [
           {
            "colorbar": {
             "outlinewidth": 0,
             "ticks": ""
            },
            "colorscale": [
             [
              0,
              "#0d0887"
             ],
             [
              0.1111111111111111,
              "#46039f"
             ],
             [
              0.2222222222222222,
              "#7201a8"
             ],
             [
              0.3333333333333333,
              "#9c179e"
             ],
             [
              0.4444444444444444,
              "#bd3786"
             ],
             [
              0.5555555555555556,
              "#d8576b"
             ],
             [
              0.6666666666666666,
              "#ed7953"
             ],
             [
              0.7777777777777778,
              "#fb9f3a"
             ],
             [
              0.8888888888888888,
              "#fdca26"
             ],
             [
              1,
              "#f0f921"
             ]
            ],
            "type": "heatmapgl"
           }
          ],
          "histogram": [
           {
            "marker": {
             "pattern": {
              "fillmode": "overlay",
              "size": 10,
              "solidity": 0.2
             }
            },
            "type": "histogram"
           }
          ],
          "histogram2d": [
           {
            "colorbar": {
             "outlinewidth": 0,
             "ticks": ""
            },
            "colorscale": [
             [
              0,
              "#0d0887"
             ],
             [
              0.1111111111111111,
              "#46039f"
             ],
             [
              0.2222222222222222,
              "#7201a8"
             ],
             [
              0.3333333333333333,
              "#9c179e"
             ],
             [
              0.4444444444444444,
              "#bd3786"
             ],
             [
              0.5555555555555556,
              "#d8576b"
             ],
             [
              0.6666666666666666,
              "#ed7953"
             ],
             [
              0.7777777777777778,
              "#fb9f3a"
             ],
             [
              0.8888888888888888,
              "#fdca26"
             ],
             [
              1,
              "#f0f921"
             ]
            ],
            "type": "histogram2d"
           }
          ],
          "histogram2dcontour": [
           {
            "colorbar": {
             "outlinewidth": 0,
             "ticks": ""
            },
            "colorscale": [
             [
              0,
              "#0d0887"
             ],
             [
              0.1111111111111111,
              "#46039f"
             ],
             [
              0.2222222222222222,
              "#7201a8"
             ],
             [
              0.3333333333333333,
              "#9c179e"
             ],
             [
              0.4444444444444444,
              "#bd3786"
             ],
             [
              0.5555555555555556,
              "#d8576b"
             ],
             [
              0.6666666666666666,
              "#ed7953"
             ],
             [
              0.7777777777777778,
              "#fb9f3a"
             ],
             [
              0.8888888888888888,
              "#fdca26"
             ],
             [
              1,
              "#f0f921"
             ]
            ],
            "type": "histogram2dcontour"
           }
          ],
          "mesh3d": [
           {
            "colorbar": {
             "outlinewidth": 0,
             "ticks": ""
            },
            "type": "mesh3d"
           }
          ],
          "parcoords": [
           {
            "line": {
             "colorbar": {
              "outlinewidth": 0,
              "ticks": ""
             }
            },
            "type": "parcoords"
           }
          ],
          "pie": [
           {
            "automargin": true,
            "type": "pie"
           }
          ],
          "scatter": [
           {
            "marker": {
             "colorbar": {
              "outlinewidth": 0,
              "ticks": ""
             }
            },
            "type": "scatter"
           }
          ],
          "scatter3d": [
           {
            "line": {
             "colorbar": {
              "outlinewidth": 0,
              "ticks": ""
             }
            },
            "marker": {
             "colorbar": {
              "outlinewidth": 0,
              "ticks": ""
             }
            },
            "type": "scatter3d"
           }
          ],
          "scattercarpet": [
           {
            "marker": {
             "colorbar": {
              "outlinewidth": 0,
              "ticks": ""
             }
            },
            "type": "scattercarpet"
           }
          ],
          "scattergeo": [
           {
            "marker": {
             "colorbar": {
              "outlinewidth": 0,
              "ticks": ""
             }
            },
            "type": "scattergeo"
           }
          ],
          "scattergl": [
           {
            "marker": {
             "colorbar": {
              "outlinewidth": 0,
              "ticks": ""
             }
            },
            "type": "scattergl"
           }
          ],
          "scattermapbox": [
           {
            "marker": {
             "colorbar": {
              "outlinewidth": 0,
              "ticks": ""
             }
            },
            "type": "scattermapbox"
           }
          ],
          "scatterpolar": [
           {
            "marker": {
             "colorbar": {
              "outlinewidth": 0,
              "ticks": ""
             }
            },
            "type": "scatterpolar"
           }
          ],
          "scatterpolargl": [
           {
            "marker": {
             "colorbar": {
              "outlinewidth": 0,
              "ticks": ""
             }
            },
            "type": "scatterpolargl"
           }
          ],
          "scatterternary": [
           {
            "marker": {
             "colorbar": {
              "outlinewidth": 0,
              "ticks": ""
             }
            },
            "type": "scatterternary"
           }
          ],
          "surface": [
           {
            "colorbar": {
             "outlinewidth": 0,
             "ticks": ""
            },
            "colorscale": [
             [
              0,
              "#0d0887"
             ],
             [
              0.1111111111111111,
              "#46039f"
             ],
             [
              0.2222222222222222,
              "#7201a8"
             ],
             [
              0.3333333333333333,
              "#9c179e"
             ],
             [
              0.4444444444444444,
              "#bd3786"
             ],
             [
              0.5555555555555556,
              "#d8576b"
             ],
             [
              0.6666666666666666,
              "#ed7953"
             ],
             [
              0.7777777777777778,
              "#fb9f3a"
             ],
             [
              0.8888888888888888,
              "#fdca26"
             ],
             [
              1,
              "#f0f921"
             ]
            ],
            "type": "surface"
           }
          ],
          "table": [
           {
            "cells": {
             "fill": {
              "color": "#EBF0F8"
             },
             "line": {
              "color": "white"
             }
            },
            "header": {
             "fill": {
              "color": "#C8D4E3"
             },
             "line": {
              "color": "white"
             }
            },
            "type": "table"
           }
          ]
         },
         "layout": {
          "annotationdefaults": {
           "arrowcolor": "#2a3f5f",
           "arrowhead": 0,
           "arrowwidth": 1
          },
          "autotypenumbers": "strict",
          "coloraxis": {
           "colorbar": {
            "outlinewidth": 0,
            "ticks": ""
           }
          },
          "colorscale": {
           "diverging": [
            [
             0,
             "#8e0152"
            ],
            [
             0.1,
             "#c51b7d"
            ],
            [
             0.2,
             "#de77ae"
            ],
            [
             0.3,
             "#f1b6da"
            ],
            [
             0.4,
             "#fde0ef"
            ],
            [
             0.5,
             "#f7f7f7"
            ],
            [
             0.6,
             "#e6f5d0"
            ],
            [
             0.7,
             "#b8e186"
            ],
            [
             0.8,
             "#7fbc41"
            ],
            [
             0.9,
             "#4d9221"
            ],
            [
             1,
             "#276419"
            ]
           ],
           "sequential": [
            [
             0,
             "#0d0887"
            ],
            [
             0.1111111111111111,
             "#46039f"
            ],
            [
             0.2222222222222222,
             "#7201a8"
            ],
            [
             0.3333333333333333,
             "#9c179e"
            ],
            [
             0.4444444444444444,
             "#bd3786"
            ],
            [
             0.5555555555555556,
             "#d8576b"
            ],
            [
             0.6666666666666666,
             "#ed7953"
            ],
            [
             0.7777777777777778,
             "#fb9f3a"
            ],
            [
             0.8888888888888888,
             "#fdca26"
            ],
            [
             1,
             "#f0f921"
            ]
           ],
           "sequentialminus": [
            [
             0,
             "#0d0887"
            ],
            [
             0.1111111111111111,
             "#46039f"
            ],
            [
             0.2222222222222222,
             "#7201a8"
            ],
            [
             0.3333333333333333,
             "#9c179e"
            ],
            [
             0.4444444444444444,
             "#bd3786"
            ],
            [
             0.5555555555555556,
             "#d8576b"
            ],
            [
             0.6666666666666666,
             "#ed7953"
            ],
            [
             0.7777777777777778,
             "#fb9f3a"
            ],
            [
             0.8888888888888888,
             "#fdca26"
            ],
            [
             1,
             "#f0f921"
            ]
           ]
          },
          "colorway": [
           "#636efa",
           "#EF553B",
           "#00cc96",
           "#ab63fa",
           "#FFA15A",
           "#19d3f3",
           "#FF6692",
           "#B6E880",
           "#FF97FF",
           "#FECB52"
          ],
          "font": {
           "color": "#2a3f5f"
          },
          "geo": {
           "bgcolor": "white",
           "lakecolor": "white",
           "landcolor": "#E5ECF6",
           "showlakes": true,
           "showland": true,
           "subunitcolor": "white"
          },
          "hoverlabel": {
           "align": "left"
          },
          "hovermode": "closest",
          "mapbox": {
           "style": "light"
          },
          "paper_bgcolor": "white",
          "plot_bgcolor": "#E5ECF6",
          "polar": {
           "angularaxis": {
            "gridcolor": "white",
            "linecolor": "white",
            "ticks": ""
           },
           "bgcolor": "#E5ECF6",
           "radialaxis": {
            "gridcolor": "white",
            "linecolor": "white",
            "ticks": ""
           }
          },
          "scene": {
           "xaxis": {
            "backgroundcolor": "#E5ECF6",
            "gridcolor": "white",
            "gridwidth": 2,
            "linecolor": "white",
            "showbackground": true,
            "ticks": "",
            "zerolinecolor": "white"
           },
           "yaxis": {
            "backgroundcolor": "#E5ECF6",
            "gridcolor": "white",
            "gridwidth": 2,
            "linecolor": "white",
            "showbackground": true,
            "ticks": "",
            "zerolinecolor": "white"
           },
           "zaxis": {
            "backgroundcolor": "#E5ECF6",
            "gridcolor": "white",
            "gridwidth": 2,
            "linecolor": "white",
            "showbackground": true,
            "ticks": "",
            "zerolinecolor": "white"
           }
          },
          "shapedefaults": {
           "line": {
            "color": "#2a3f5f"
           }
          },
          "ternary": {
           "aaxis": {
            "gridcolor": "white",
            "linecolor": "white",
            "ticks": ""
           },
           "baxis": {
            "gridcolor": "white",
            "linecolor": "white",
            "ticks": ""
           },
           "bgcolor": "#E5ECF6",
           "caxis": {
            "gridcolor": "white",
            "linecolor": "white",
            "ticks": ""
           }
          },
          "title": {
           "x": 0.05
          },
          "xaxis": {
           "automargin": true,
           "gridcolor": "white",
           "linecolor": "white",
           "ticks": "",
           "title": {
            "standoff": 15
           },
           "zerolinecolor": "white",
           "zerolinewidth": 2
          },
          "yaxis": {
           "automargin": true,
           "gridcolor": "white",
           "linecolor": "white",
           "ticks": "",
           "title": {
            "standoff": 15
           },
           "zerolinecolor": "white",
           "zerolinewidth": 2
          }
         }
        },
        "title": {
         "text": "Cancelled and Diverted flight comparison and %age of each cancellation type"
        },
        "width": 1000,
        "xaxis": {
         "anchor": "y",
         "domain": [
          0,
          1
         ]
        },
        "xaxis2": {
         "anchor": "y2",
         "domain": [
          0,
          1
         ]
        },
        "yaxis": {
         "anchor": "x",
         "domain": [
          0.7777777777777778,
          1
         ]
        },
        "yaxis2": {
         "anchor": "x2",
         "domain": [
          0.3888888888888889,
          0.6111111111111112
         ]
        }
       }
      }
     },
     "metadata": {},
     "output_type": "display_data"
    }
   ],
   "source": [
    "# Initialize figure with 2 3D subplots\n",
    "fig = make_subplots(\n",
    "    rows=3, cols=1,subplot_titles=('Cancelled and Deiverted flight for each day',  'Cancelled and Diverted flight for each date',  'Cancelled reason code contribution (A/B/C/D)'),\n",
    "    specs=[[{'type': 'Bar'}],\n",
    "            [{'type': 'scatter'}],\n",
    "           [{'type': 'Pie'}]])\n",
    "\n",
    "x=Can_week_day['Day']\n",
    "y=Can_week_day['Counts']\n",
    "x1=Div_week_day['Day']\n",
    "y1=Div_week_day['Counts']\n",
    "x2=Can_Month_date['Date']\n",
    "y2=Can_Month_date['Counts']\n",
    "x3=Div_Month_date['Date']\n",
    "y3=Div_Month_date['Counts']\n",
    "\n",
    "\n",
    "\n",
    "# adding surfaces to subplots.\n",
    "fig.add_trace(\n",
    "    go.Bar(x=x, y=y, name='Cancelled on Day'),\n",
    "    row=1, col=1)\n",
    "\n",
    "fig.add_trace(\n",
    "    go.Bar(x=x1, y=y1, name='Diverted on Day'),\n",
    "    row=1, col=1)\n",
    "\n",
    "\n",
    "fig.add_trace(\n",
    "    go.Scatter(x=x2, y=y2, mode=\"lines+markers\",name= 'Cancelled on Date'),\n",
    "    row=2, col=1)\n",
    "\n",
    "fig.add_trace(\n",
    "    go.Scatter(x=x3, y=y3,mode=\"lines+markers\",name= 'Diverted on Date'),\n",
    "    row=2, col=1)\n",
    "\n",
    "fig.add_trace(\n",
    "    go.Pie(labels=Can_rec_detail ['CANCELLATION_CODE'], values=Can_rec_detail ['Counts'],name='Cancellation type'),\n",
    "    row=3, col=1)\n",
    "\n",
    "fig.update_layout(\n",
    "    title_text='Cancelled and Diverted flight comparison and %age of each cancellation type',\n",
    "    height=1000,\n",
    "    width=1000\n",
    ")\n",
    "\n",
    "fig.show()"
   ]
  },
  {
   "cell_type": "code",
   "execution_count": null,
   "id": "f851c927",
   "metadata": {},
   "outputs": [
    {
     "data": {
      "text/html": [
       "<div>\n",
       "<style scoped>\n",
       "    .dataframe tbody tr th:only-of-type {\n",
       "        vertical-align: middle;\n",
       "    }\n",
       "\n",
       "    .dataframe tbody tr th {\n",
       "        vertical-align: top;\n",
       "    }\n",
       "\n",
       "    .dataframe thead th {\n",
       "        text-align: right;\n",
       "    }\n",
       "</style>\n",
       "<table border=\"1\" class=\"dataframe\">\n",
       "  <thead>\n",
       "    <tr style=\"text-align: right;\">\n",
       "      <th></th>\n",
       "      <th>YEAR</th>\n",
       "      <th>MONTH</th>\n",
       "      <th>DAY_OF_MONTH</th>\n",
       "      <th>DAY_OF_WEEK</th>\n",
       "      <th>UNIQUE_CARRIER</th>\n",
       "      <th>AIRLINE_ID</th>\n",
       "      <th>CARRIER</th>\n",
       "      <th>TAIL_NUM</th>\n",
       "      <th>FL_NUM</th>\n",
       "      <th>ORIGIN</th>\n",
       "      <th>...</th>\n",
       "      <th>DEST_CITY_NAME</th>\n",
       "      <th>DEST_STATE_ABR</th>\n",
       "      <th>DEST_STATE_NM</th>\n",
       "      <th>DEST_WAC</th>\n",
       "      <th>CRS_DEP_TIME</th>\n",
       "      <th>DEP_TIME</th>\n",
       "      <th>DEP_DELAY</th>\n",
       "      <th>CRS_ARR_TIME</th>\n",
       "      <th>ARR_TIME</th>\n",
       "      <th>ARR_DELAY</th>\n",
       "    </tr>\n",
       "  </thead>\n",
       "  <tbody>\n",
       "    <tr>\n",
       "      <th>0</th>\n",
       "      <td>2009</td>\n",
       "      <td>12</td>\n",
       "      <td>2</td>\n",
       "      <td>3</td>\n",
       "      <td>9E</td>\n",
       "      <td>20363</td>\n",
       "      <td>9E</td>\n",
       "      <td>91879E</td>\n",
       "      <td>850</td>\n",
       "      <td>ATL</td>\n",
       "      <td>...</td>\n",
       "      <td>Raleigh/Durham, NC</td>\n",
       "      <td>NC</td>\n",
       "      <td>North Carolina</td>\n",
       "      <td>36</td>\n",
       "      <td>1755</td>\n",
       "      <td>1803.0</td>\n",
       "      <td>8.0</td>\n",
       "      <td>1929</td>\n",
       "      <td>1943.0</td>\n",
       "      <td>14.0</td>\n",
       "    </tr>\n",
       "    <tr>\n",
       "      <th>1</th>\n",
       "      <td>2009</td>\n",
       "      <td>12</td>\n",
       "      <td>3</td>\n",
       "      <td>4</td>\n",
       "      <td>9E</td>\n",
       "      <td>20363</td>\n",
       "      <td>9E</td>\n",
       "      <td>92289E</td>\n",
       "      <td>850</td>\n",
       "      <td>ATL</td>\n",
       "      <td>...</td>\n",
       "      <td>Raleigh/Durham, NC</td>\n",
       "      <td>NC</td>\n",
       "      <td>North Carolina</td>\n",
       "      <td>36</td>\n",
       "      <td>1755</td>\n",
       "      <td>1752.0</td>\n",
       "      <td>-3.0</td>\n",
       "      <td>1929</td>\n",
       "      <td>1924.0</td>\n",
       "      <td>-5.0</td>\n",
       "    </tr>\n",
       "    <tr>\n",
       "      <th>2</th>\n",
       "      <td>2009</td>\n",
       "      <td>12</td>\n",
       "      <td>4</td>\n",
       "      <td>5</td>\n",
       "      <td>9E</td>\n",
       "      <td>20363</td>\n",
       "      <td>9E</td>\n",
       "      <td>91629E</td>\n",
       "      <td>850</td>\n",
       "      <td>ATL</td>\n",
       "      <td>...</td>\n",
       "      <td>Raleigh/Durham, NC</td>\n",
       "      <td>NC</td>\n",
       "      <td>North Carolina</td>\n",
       "      <td>36</td>\n",
       "      <td>1755</td>\n",
       "      <td>1754.0</td>\n",
       "      <td>-1.0</td>\n",
       "      <td>1929</td>\n",
       "      <td>1920.0</td>\n",
       "      <td>-9.0</td>\n",
       "    </tr>\n",
       "    <tr>\n",
       "      <th>3</th>\n",
       "      <td>2009</td>\n",
       "      <td>12</td>\n",
       "      <td>6</td>\n",
       "      <td>7</td>\n",
       "      <td>9E</td>\n",
       "      <td>20363</td>\n",
       "      <td>9E</td>\n",
       "      <td>91709E</td>\n",
       "      <td>850</td>\n",
       "      <td>ATL</td>\n",
       "      <td>...</td>\n",
       "      <td>Raleigh/Durham, NC</td>\n",
       "      <td>NC</td>\n",
       "      <td>North Carolina</td>\n",
       "      <td>36</td>\n",
       "      <td>1755</td>\n",
       "      <td>1750.0</td>\n",
       "      <td>-5.0</td>\n",
       "      <td>1929</td>\n",
       "      <td>1917.0</td>\n",
       "      <td>-12.0</td>\n",
       "    </tr>\n",
       "    <tr>\n",
       "      <th>4</th>\n",
       "      <td>2009</td>\n",
       "      <td>12</td>\n",
       "      <td>7</td>\n",
       "      <td>1</td>\n",
       "      <td>9E</td>\n",
       "      <td>20363</td>\n",
       "      <td>9E</td>\n",
       "      <td>92289E</td>\n",
       "      <td>850</td>\n",
       "      <td>ATL</td>\n",
       "      <td>...</td>\n",
       "      <td>Raleigh/Durham, NC</td>\n",
       "      <td>NC</td>\n",
       "      <td>North Carolina</td>\n",
       "      <td>36</td>\n",
       "      <td>1755</td>\n",
       "      <td>1752.0</td>\n",
       "      <td>-3.0</td>\n",
       "      <td>1929</td>\n",
       "      <td>1930.0</td>\n",
       "      <td>1.0</td>\n",
       "    </tr>\n",
       "    <tr>\n",
       "      <th>...</th>\n",
       "      <td>...</td>\n",
       "      <td>...</td>\n",
       "      <td>...</td>\n",
       "      <td>...</td>\n",
       "      <td>...</td>\n",
       "      <td>...</td>\n",
       "      <td>...</td>\n",
       "      <td>...</td>\n",
       "      <td>...</td>\n",
       "      <td>...</td>\n",
       "      <td>...</td>\n",
       "      <td>...</td>\n",
       "      <td>...</td>\n",
       "      <td>...</td>\n",
       "      <td>...</td>\n",
       "      <td>...</td>\n",
       "      <td>...</td>\n",
       "      <td>...</td>\n",
       "      <td>...</td>\n",
       "      <td>...</td>\n",
       "      <td>...</td>\n",
       "    </tr>\n",
       "    <tr>\n",
       "      <th>529264</th>\n",
       "      <td>2009</td>\n",
       "      <td>12</td>\n",
       "      <td>31</td>\n",
       "      <td>4</td>\n",
       "      <td>YV</td>\n",
       "      <td>20378</td>\n",
       "      <td>YV</td>\n",
       "      <td>N437YV</td>\n",
       "      <td>2846</td>\n",
       "      <td>YUM</td>\n",
       "      <td>...</td>\n",
       "      <td>Phoenix, AZ</td>\n",
       "      <td>AZ</td>\n",
       "      <td>Arizona</td>\n",
       "      <td>81</td>\n",
       "      <td>615</td>\n",
       "      <td>605.0</td>\n",
       "      <td>-10.0</td>\n",
       "      <td>722</td>\n",
       "      <td>716.0</td>\n",
       "      <td>-6.0</td>\n",
       "    </tr>\n",
       "    <tr>\n",
       "      <th>529265</th>\n",
       "      <td>2009</td>\n",
       "      <td>12</td>\n",
       "      <td>31</td>\n",
       "      <td>4</td>\n",
       "      <td>YV</td>\n",
       "      <td>20378</td>\n",
       "      <td>YV</td>\n",
       "      <td>N987HA</td>\n",
       "      <td>2850</td>\n",
       "      <td>YUM</td>\n",
       "      <td>...</td>\n",
       "      <td>Phoenix, AZ</td>\n",
       "      <td>AZ</td>\n",
       "      <td>Arizona</td>\n",
       "      <td>81</td>\n",
       "      <td>1929</td>\n",
       "      <td>1919.0</td>\n",
       "      <td>-10.0</td>\n",
       "      <td>2039</td>\n",
       "      <td>2020.0</td>\n",
       "      <td>-19.0</td>\n",
       "    </tr>\n",
       "    <tr>\n",
       "      <th>529266</th>\n",
       "      <td>2009</td>\n",
       "      <td>12</td>\n",
       "      <td>31</td>\n",
       "      <td>4</td>\n",
       "      <td>YV</td>\n",
       "      <td>20378</td>\n",
       "      <td>YV</td>\n",
       "      <td>N7305V</td>\n",
       "      <td>2866</td>\n",
       "      <td>YUM</td>\n",
       "      <td>...</td>\n",
       "      <td>Phoenix, AZ</td>\n",
       "      <td>AZ</td>\n",
       "      <td>Arizona</td>\n",
       "      <td>81</td>\n",
       "      <td>1400</td>\n",
       "      <td>1400.0</td>\n",
       "      <td>0.0</td>\n",
       "      <td>1455</td>\n",
       "      <td>1510.0</td>\n",
       "      <td>15.0</td>\n",
       "    </tr>\n",
       "    <tr>\n",
       "      <th>529267</th>\n",
       "      <td>2009</td>\n",
       "      <td>12</td>\n",
       "      <td>31</td>\n",
       "      <td>4</td>\n",
       "      <td>YV</td>\n",
       "      <td>20378</td>\n",
       "      <td>YV</td>\n",
       "      <td>N987HA</td>\n",
       "      <td>2868</td>\n",
       "      <td>YUM</td>\n",
       "      <td>...</td>\n",
       "      <td>Phoenix, AZ</td>\n",
       "      <td>AZ</td>\n",
       "      <td>Arizona</td>\n",
       "      <td>81</td>\n",
       "      <td>1620</td>\n",
       "      <td>1615.0</td>\n",
       "      <td>-5.0</td>\n",
       "      <td>1727</td>\n",
       "      <td>1716.0</td>\n",
       "      <td>-11.0</td>\n",
       "    </tr>\n",
       "    <tr>\n",
       "      <th>529268</th>\n",
       "      <td>2009</td>\n",
       "      <td>12</td>\n",
       "      <td>31</td>\n",
       "      <td>4</td>\n",
       "      <td>YV</td>\n",
       "      <td>20378</td>\n",
       "      <td>YV</td>\n",
       "      <td>N988HA</td>\n",
       "      <td>2871</td>\n",
       "      <td>YUM</td>\n",
       "      <td>...</td>\n",
       "      <td>Phoenix, AZ</td>\n",
       "      <td>AZ</td>\n",
       "      <td>Arizona</td>\n",
       "      <td>81</td>\n",
       "      <td>1123</td>\n",
       "      <td>1113.0</td>\n",
       "      <td>-10.0</td>\n",
       "      <td>1230</td>\n",
       "      <td>1217.0</td>\n",
       "      <td>-13.0</td>\n",
       "    </tr>\n",
       "  </tbody>\n",
       "</table>\n",
       "<p>529269 rows × 25 columns</p>\n",
       "</div>"
      ],
      "text/plain": [
       "        YEAR  MONTH  DAY_OF_MONTH  DAY_OF_WEEK UNIQUE_CARRIER  AIRLINE_ID  \\\n",
       "0       2009     12             2            3             9E       20363   \n",
       "1       2009     12             3            4             9E       20363   \n",
       "2       2009     12             4            5             9E       20363   \n",
       "3       2009     12             6            7             9E       20363   \n",
       "4       2009     12             7            1             9E       20363   \n",
       "...      ...    ...           ...          ...            ...         ...   \n",
       "529264  2009     12            31            4             YV       20378   \n",
       "529265  2009     12            31            4             YV       20378   \n",
       "529266  2009     12            31            4             YV       20378   \n",
       "529267  2009     12            31            4             YV       20378   \n",
       "529268  2009     12            31            4             YV       20378   \n",
       "\n",
       "       CARRIER TAIL_NUM  FL_NUM ORIGIN  ...      DEST_CITY_NAME  \\\n",
       "0           9E   91879E     850    ATL  ...  Raleigh/Durham, NC   \n",
       "1           9E   92289E     850    ATL  ...  Raleigh/Durham, NC   \n",
       "2           9E   91629E     850    ATL  ...  Raleigh/Durham, NC   \n",
       "3           9E   91709E     850    ATL  ...  Raleigh/Durham, NC   \n",
       "4           9E   92289E     850    ATL  ...  Raleigh/Durham, NC   \n",
       "...        ...      ...     ...    ...  ...                 ...   \n",
       "529264      YV   N437YV    2846    YUM  ...         Phoenix, AZ   \n",
       "529265      YV   N987HA    2850    YUM  ...         Phoenix, AZ   \n",
       "529266      YV   N7305V    2866    YUM  ...         Phoenix, AZ   \n",
       "529267      YV   N987HA    2868    YUM  ...         Phoenix, AZ   \n",
       "529268      YV   N988HA    2871    YUM  ...         Phoenix, AZ   \n",
       "\n",
       "       DEST_STATE_ABR   DEST_STATE_NM  DEST_WAC CRS_DEP_TIME DEP_TIME  \\\n",
       "0                  NC  North Carolina        36         1755   1803.0   \n",
       "1                  NC  North Carolina        36         1755   1752.0   \n",
       "2                  NC  North Carolina        36         1755   1754.0   \n",
       "3                  NC  North Carolina        36         1755   1750.0   \n",
       "4                  NC  North Carolina        36         1755   1752.0   \n",
       "...               ...             ...       ...          ...      ...   \n",
       "529264             AZ         Arizona        81          615    605.0   \n",
       "529265             AZ         Arizona        81         1929   1919.0   \n",
       "529266             AZ         Arizona        81         1400   1400.0   \n",
       "529267             AZ         Arizona        81         1620   1615.0   \n",
       "529268             AZ         Arizona        81         1123   1113.0   \n",
       "\n",
       "       DEP_DELAY CRS_ARR_TIME  ARR_TIME  ARR_DELAY  \n",
       "0            8.0         1929    1943.0       14.0  \n",
       "1           -3.0         1929    1924.0       -5.0  \n",
       "2           -1.0         1929    1920.0       -9.0  \n",
       "3           -5.0         1929    1917.0      -12.0  \n",
       "4           -3.0         1929    1930.0        1.0  \n",
       "...          ...          ...       ...        ...  \n",
       "529264     -10.0          722     716.0       -6.0  \n",
       "529265     -10.0         2039    2020.0      -19.0  \n",
       "529266       0.0         1455    1510.0       15.0  \n",
       "529267      -5.0         1727    1716.0      -11.0  \n",
       "529268     -10.0         1230    1217.0      -13.0  \n",
       "\n",
       "[529269 rows x 25 columns]"
      ]
     },
     "execution_count": 7,
     "metadata": {},
     "output_type": "execute_result"
    }
   ],
   "source": [
    "df.drop(columns=['CANCELLED', 'CANCELLATION_CODE','DIVERTED','AIR_TIME','DISTANCE','CARRIER_DELAY','WEATHER_DELAY', 'NAS_DELAY', 'SECURITY_DELAY', 'LATE_AIRCRAFT_DELAY','Unnamed: 35'], inplace=True)\n",
    "df"
   ]
  },
  {
   "cell_type": "code",
   "execution_count": null,
   "id": "54376f99",
   "metadata": {},
   "outputs": [
    {
     "data": {
      "text/html": [
       "<div>\n",
       "<style scoped>\n",
       "    .dataframe tbody tr th:only-of-type {\n",
       "        vertical-align: middle;\n",
       "    }\n",
       "\n",
       "    .dataframe tbody tr th {\n",
       "        vertical-align: top;\n",
       "    }\n",
       "\n",
       "    .dataframe thead th {\n",
       "        text-align: right;\n",
       "    }\n",
       "</style>\n",
       "<table border=\"1\" class=\"dataframe\">\n",
       "  <thead>\n",
       "    <tr style=\"text-align: right;\">\n",
       "      <th></th>\n",
       "      <th>YEAR</th>\n",
       "      <th>MONTH</th>\n",
       "      <th>DAY_OF_MONTH</th>\n",
       "      <th>DAY_OF_WEEK</th>\n",
       "      <th>UNIQUE_CARRIER</th>\n",
       "      <th>AIRLINE_ID</th>\n",
       "      <th>CARRIER</th>\n",
       "      <th>TAIL_NUM</th>\n",
       "      <th>FL_NUM</th>\n",
       "      <th>ORIGIN</th>\n",
       "      <th>...</th>\n",
       "      <th>DEST_CITY_NAME</th>\n",
       "      <th>DEST_STATE_ABR</th>\n",
       "      <th>DEST_STATE_NM</th>\n",
       "      <th>DEST_WAC</th>\n",
       "      <th>CRS_DEP_TIME</th>\n",
       "      <th>DEP_TIME</th>\n",
       "      <th>DEP_DELAY</th>\n",
       "      <th>CRS_ARR_TIME</th>\n",
       "      <th>ARR_TIME</th>\n",
       "      <th>ARR_DELAY</th>\n",
       "    </tr>\n",
       "  </thead>\n",
       "  <tbody>\n",
       "    <tr>\n",
       "      <th>0</th>\n",
       "      <td>2009</td>\n",
       "      <td>12</td>\n",
       "      <td>2</td>\n",
       "      <td>3</td>\n",
       "      <td>9E</td>\n",
       "      <td>20363</td>\n",
       "      <td>9E</td>\n",
       "      <td>91879E</td>\n",
       "      <td>850</td>\n",
       "      <td>ATL</td>\n",
       "      <td>...</td>\n",
       "      <td>Raleigh/Durham, NC</td>\n",
       "      <td>NC</td>\n",
       "      <td>North Carolina</td>\n",
       "      <td>36</td>\n",
       "      <td>1755</td>\n",
       "      <td>1803.0</td>\n",
       "      <td>8.0</td>\n",
       "      <td>1929</td>\n",
       "      <td>1943.0</td>\n",
       "      <td>14.0</td>\n",
       "    </tr>\n",
       "    <tr>\n",
       "      <th>1</th>\n",
       "      <td>2009</td>\n",
       "      <td>12</td>\n",
       "      <td>3</td>\n",
       "      <td>4</td>\n",
       "      <td>9E</td>\n",
       "      <td>20363</td>\n",
       "      <td>9E</td>\n",
       "      <td>92289E</td>\n",
       "      <td>850</td>\n",
       "      <td>ATL</td>\n",
       "      <td>...</td>\n",
       "      <td>Raleigh/Durham, NC</td>\n",
       "      <td>NC</td>\n",
       "      <td>North Carolina</td>\n",
       "      <td>36</td>\n",
       "      <td>1755</td>\n",
       "      <td>1752.0</td>\n",
       "      <td>-3.0</td>\n",
       "      <td>1929</td>\n",
       "      <td>1924.0</td>\n",
       "      <td>-5.0</td>\n",
       "    </tr>\n",
       "    <tr>\n",
       "      <th>2</th>\n",
       "      <td>2009</td>\n",
       "      <td>12</td>\n",
       "      <td>4</td>\n",
       "      <td>5</td>\n",
       "      <td>9E</td>\n",
       "      <td>20363</td>\n",
       "      <td>9E</td>\n",
       "      <td>91629E</td>\n",
       "      <td>850</td>\n",
       "      <td>ATL</td>\n",
       "      <td>...</td>\n",
       "      <td>Raleigh/Durham, NC</td>\n",
       "      <td>NC</td>\n",
       "      <td>North Carolina</td>\n",
       "      <td>36</td>\n",
       "      <td>1755</td>\n",
       "      <td>1754.0</td>\n",
       "      <td>-1.0</td>\n",
       "      <td>1929</td>\n",
       "      <td>1920.0</td>\n",
       "      <td>-9.0</td>\n",
       "    </tr>\n",
       "    <tr>\n",
       "      <th>3</th>\n",
       "      <td>2009</td>\n",
       "      <td>12</td>\n",
       "      <td>6</td>\n",
       "      <td>7</td>\n",
       "      <td>9E</td>\n",
       "      <td>20363</td>\n",
       "      <td>9E</td>\n",
       "      <td>91709E</td>\n",
       "      <td>850</td>\n",
       "      <td>ATL</td>\n",
       "      <td>...</td>\n",
       "      <td>Raleigh/Durham, NC</td>\n",
       "      <td>NC</td>\n",
       "      <td>North Carolina</td>\n",
       "      <td>36</td>\n",
       "      <td>1755</td>\n",
       "      <td>1750.0</td>\n",
       "      <td>-5.0</td>\n",
       "      <td>1929</td>\n",
       "      <td>1917.0</td>\n",
       "      <td>-12.0</td>\n",
       "    </tr>\n",
       "    <tr>\n",
       "      <th>4</th>\n",
       "      <td>2009</td>\n",
       "      <td>12</td>\n",
       "      <td>7</td>\n",
       "      <td>1</td>\n",
       "      <td>9E</td>\n",
       "      <td>20363</td>\n",
       "      <td>9E</td>\n",
       "      <td>92289E</td>\n",
       "      <td>850</td>\n",
       "      <td>ATL</td>\n",
       "      <td>...</td>\n",
       "      <td>Raleigh/Durham, NC</td>\n",
       "      <td>NC</td>\n",
       "      <td>North Carolina</td>\n",
       "      <td>36</td>\n",
       "      <td>1755</td>\n",
       "      <td>1752.0</td>\n",
       "      <td>-3.0</td>\n",
       "      <td>1929</td>\n",
       "      <td>1930.0</td>\n",
       "      <td>1.0</td>\n",
       "    </tr>\n",
       "    <tr>\n",
       "      <th>...</th>\n",
       "      <td>...</td>\n",
       "      <td>...</td>\n",
       "      <td>...</td>\n",
       "      <td>...</td>\n",
       "      <td>...</td>\n",
       "      <td>...</td>\n",
       "      <td>...</td>\n",
       "      <td>...</td>\n",
       "      <td>...</td>\n",
       "      <td>...</td>\n",
       "      <td>...</td>\n",
       "      <td>...</td>\n",
       "      <td>...</td>\n",
       "      <td>...</td>\n",
       "      <td>...</td>\n",
       "      <td>...</td>\n",
       "      <td>...</td>\n",
       "      <td>...</td>\n",
       "      <td>...</td>\n",
       "      <td>...</td>\n",
       "      <td>...</td>\n",
       "    </tr>\n",
       "    <tr>\n",
       "      <th>529264</th>\n",
       "      <td>2009</td>\n",
       "      <td>12</td>\n",
       "      <td>31</td>\n",
       "      <td>4</td>\n",
       "      <td>YV</td>\n",
       "      <td>20378</td>\n",
       "      <td>YV</td>\n",
       "      <td>N437YV</td>\n",
       "      <td>2846</td>\n",
       "      <td>YUM</td>\n",
       "      <td>...</td>\n",
       "      <td>Phoenix, AZ</td>\n",
       "      <td>AZ</td>\n",
       "      <td>Arizona</td>\n",
       "      <td>81</td>\n",
       "      <td>615</td>\n",
       "      <td>605.0</td>\n",
       "      <td>-10.0</td>\n",
       "      <td>722</td>\n",
       "      <td>716.0</td>\n",
       "      <td>-6.0</td>\n",
       "    </tr>\n",
       "    <tr>\n",
       "      <th>529265</th>\n",
       "      <td>2009</td>\n",
       "      <td>12</td>\n",
       "      <td>31</td>\n",
       "      <td>4</td>\n",
       "      <td>YV</td>\n",
       "      <td>20378</td>\n",
       "      <td>YV</td>\n",
       "      <td>N987HA</td>\n",
       "      <td>2850</td>\n",
       "      <td>YUM</td>\n",
       "      <td>...</td>\n",
       "      <td>Phoenix, AZ</td>\n",
       "      <td>AZ</td>\n",
       "      <td>Arizona</td>\n",
       "      <td>81</td>\n",
       "      <td>1929</td>\n",
       "      <td>1919.0</td>\n",
       "      <td>-10.0</td>\n",
       "      <td>2039</td>\n",
       "      <td>2020.0</td>\n",
       "      <td>-19.0</td>\n",
       "    </tr>\n",
       "    <tr>\n",
       "      <th>529266</th>\n",
       "      <td>2009</td>\n",
       "      <td>12</td>\n",
       "      <td>31</td>\n",
       "      <td>4</td>\n",
       "      <td>YV</td>\n",
       "      <td>20378</td>\n",
       "      <td>YV</td>\n",
       "      <td>N7305V</td>\n",
       "      <td>2866</td>\n",
       "      <td>YUM</td>\n",
       "      <td>...</td>\n",
       "      <td>Phoenix, AZ</td>\n",
       "      <td>AZ</td>\n",
       "      <td>Arizona</td>\n",
       "      <td>81</td>\n",
       "      <td>1400</td>\n",
       "      <td>1400.0</td>\n",
       "      <td>0.0</td>\n",
       "      <td>1455</td>\n",
       "      <td>1510.0</td>\n",
       "      <td>15.0</td>\n",
       "    </tr>\n",
       "    <tr>\n",
       "      <th>529267</th>\n",
       "      <td>2009</td>\n",
       "      <td>12</td>\n",
       "      <td>31</td>\n",
       "      <td>4</td>\n",
       "      <td>YV</td>\n",
       "      <td>20378</td>\n",
       "      <td>YV</td>\n",
       "      <td>N987HA</td>\n",
       "      <td>2868</td>\n",
       "      <td>YUM</td>\n",
       "      <td>...</td>\n",
       "      <td>Phoenix, AZ</td>\n",
       "      <td>AZ</td>\n",
       "      <td>Arizona</td>\n",
       "      <td>81</td>\n",
       "      <td>1620</td>\n",
       "      <td>1615.0</td>\n",
       "      <td>-5.0</td>\n",
       "      <td>1727</td>\n",
       "      <td>1716.0</td>\n",
       "      <td>-11.0</td>\n",
       "    </tr>\n",
       "    <tr>\n",
       "      <th>529268</th>\n",
       "      <td>2009</td>\n",
       "      <td>12</td>\n",
       "      <td>31</td>\n",
       "      <td>4</td>\n",
       "      <td>YV</td>\n",
       "      <td>20378</td>\n",
       "      <td>YV</td>\n",
       "      <td>N988HA</td>\n",
       "      <td>2871</td>\n",
       "      <td>YUM</td>\n",
       "      <td>...</td>\n",
       "      <td>Phoenix, AZ</td>\n",
       "      <td>AZ</td>\n",
       "      <td>Arizona</td>\n",
       "      <td>81</td>\n",
       "      <td>1123</td>\n",
       "      <td>1113.0</td>\n",
       "      <td>-10.0</td>\n",
       "      <td>1230</td>\n",
       "      <td>1217.0</td>\n",
       "      <td>-13.0</td>\n",
       "    </tr>\n",
       "  </tbody>\n",
       "</table>\n",
       "<p>513051 rows × 25 columns</p>\n",
       "</div>"
      ],
      "text/plain": [
       "        YEAR  MONTH  DAY_OF_MONTH  DAY_OF_WEEK UNIQUE_CARRIER  AIRLINE_ID  \\\n",
       "0       2009     12             2            3             9E       20363   \n",
       "1       2009     12             3            4             9E       20363   \n",
       "2       2009     12             4            5             9E       20363   \n",
       "3       2009     12             6            7             9E       20363   \n",
       "4       2009     12             7            1             9E       20363   \n",
       "...      ...    ...           ...          ...            ...         ...   \n",
       "529264  2009     12            31            4             YV       20378   \n",
       "529265  2009     12            31            4             YV       20378   \n",
       "529266  2009     12            31            4             YV       20378   \n",
       "529267  2009     12            31            4             YV       20378   \n",
       "529268  2009     12            31            4             YV       20378   \n",
       "\n",
       "       CARRIER TAIL_NUM  FL_NUM ORIGIN  ...      DEST_CITY_NAME  \\\n",
       "0           9E   91879E     850    ATL  ...  Raleigh/Durham, NC   \n",
       "1           9E   92289E     850    ATL  ...  Raleigh/Durham, NC   \n",
       "2           9E   91629E     850    ATL  ...  Raleigh/Durham, NC   \n",
       "3           9E   91709E     850    ATL  ...  Raleigh/Durham, NC   \n",
       "4           9E   92289E     850    ATL  ...  Raleigh/Durham, NC   \n",
       "...        ...      ...     ...    ...  ...                 ...   \n",
       "529264      YV   N437YV    2846    YUM  ...         Phoenix, AZ   \n",
       "529265      YV   N987HA    2850    YUM  ...         Phoenix, AZ   \n",
       "529266      YV   N7305V    2866    YUM  ...         Phoenix, AZ   \n",
       "529267      YV   N987HA    2868    YUM  ...         Phoenix, AZ   \n",
       "529268      YV   N988HA    2871    YUM  ...         Phoenix, AZ   \n",
       "\n",
       "       DEST_STATE_ABR   DEST_STATE_NM  DEST_WAC CRS_DEP_TIME DEP_TIME  \\\n",
       "0                  NC  North Carolina        36         1755   1803.0   \n",
       "1                  NC  North Carolina        36         1755   1752.0   \n",
       "2                  NC  North Carolina        36         1755   1754.0   \n",
       "3                  NC  North Carolina        36         1755   1750.0   \n",
       "4                  NC  North Carolina        36         1755   1752.0   \n",
       "...               ...             ...       ...          ...      ...   \n",
       "529264             AZ         Arizona        81          615    605.0   \n",
       "529265             AZ         Arizona        81         1929   1919.0   \n",
       "529266             AZ         Arizona        81         1400   1400.0   \n",
       "529267             AZ         Arizona        81         1620   1615.0   \n",
       "529268             AZ         Arizona        81         1123   1113.0   \n",
       "\n",
       "       DEP_DELAY CRS_ARR_TIME  ARR_TIME  ARR_DELAY  \n",
       "0            8.0         1929    1943.0       14.0  \n",
       "1           -3.0         1929    1924.0       -5.0  \n",
       "2           -1.0         1929    1920.0       -9.0  \n",
       "3           -5.0         1929    1917.0      -12.0  \n",
       "4           -3.0         1929    1930.0        1.0  \n",
       "...          ...          ...       ...        ...  \n",
       "529264     -10.0          722     716.0       -6.0  \n",
       "529265     -10.0         2039    2020.0      -19.0  \n",
       "529266       0.0         1455    1510.0       15.0  \n",
       "529267      -5.0         1727    1716.0      -11.0  \n",
       "529268     -10.0         1230    1217.0      -13.0  \n",
       "\n",
       "[513051 rows x 25 columns]"
      ]
     },
     "execution_count": 8,
     "metadata": {},
     "output_type": "execute_result"
    }
   ],
   "source": [
    "df = df.dropna()\n",
    "df"
   ]
  },
  {
   "cell_type": "code",
   "execution_count": null,
   "id": "dad1fb15",
   "metadata": {},
   "outputs": [
    {
     "data": {
      "text/html": [
       "<div>\n",
       "<style scoped>\n",
       "    .dataframe tbody tr th:only-of-type {\n",
       "        vertical-align: middle;\n",
       "    }\n",
       "\n",
       "    .dataframe tbody tr th {\n",
       "        vertical-align: top;\n",
       "    }\n",
       "\n",
       "    .dataframe thead th {\n",
       "        text-align: right;\n",
       "    }\n",
       "</style>\n",
       "<table border=\"1\" class=\"dataframe\">\n",
       "  <thead>\n",
       "    <tr style=\"text-align: right;\">\n",
       "      <th></th>\n",
       "      <th>Day</th>\n",
       "      <th>Counts</th>\n",
       "    </tr>\n",
       "  </thead>\n",
       "  <tbody>\n",
       "    <tr>\n",
       "      <th>3</th>\n",
       "      <td>Monday</td>\n",
       "      <td>69993</td>\n",
       "    </tr>\n",
       "    <tr>\n",
       "      <th>1</th>\n",
       "      <td>Tuesday</td>\n",
       "      <td>85195</td>\n",
       "    </tr>\n",
       "    <tr>\n",
       "      <th>0</th>\n",
       "      <td>Wednesday</td>\n",
       "      <td>86481</td>\n",
       "    </tr>\n",
       "    <tr>\n",
       "      <th>2</th>\n",
       "      <td>Thursday</td>\n",
       "      <td>81898</td>\n",
       "    </tr>\n",
       "    <tr>\n",
       "      <th>4</th>\n",
       "      <td>Friday</td>\n",
       "      <td>66570</td>\n",
       "    </tr>\n",
       "    <tr>\n",
       "      <th>6</th>\n",
       "      <td>Saturday</td>\n",
       "      <td>56567</td>\n",
       "    </tr>\n",
       "    <tr>\n",
       "      <th>5</th>\n",
       "      <td>Sunday</td>\n",
       "      <td>66347</td>\n",
       "    </tr>\n",
       "  </tbody>\n",
       "</table>\n",
       "</div>"
      ],
      "text/plain": [
       "         Day  Counts\n",
       "3     Monday   69993\n",
       "1    Tuesday   85195\n",
       "0  Wednesday   86481\n",
       "2   Thursday   81898\n",
       "4     Friday   66570\n",
       "6   Saturday   56567\n",
       "5     Sunday   66347"
      ]
     },
     "execution_count": 9,
     "metadata": {},
     "output_type": "execute_result"
    }
   ],
   "source": [
    "Week_day = df['DAY_OF_WEEK'].value_counts().rename_axis(\"Day\").reset_index(name=\"Counts\")\n",
    "Week_day.sort_values(by = 'Day' , axis=0,ascending=[True],inplace=True )\n",
    "\n",
    "# replace days of week with the days Name\n",
    "for index in Week_day.index:\n",
    "    if Week_day[\"Day\"][index] == 1:\n",
    "        Week_day[\"Day\"][index] = 'Monday'\n",
    "    if Week_day[\"Day\"][index] == 2:\n",
    "        Week_day[\"Day\"][index] = 'Tuesday'\n",
    "    if Week_day[\"Day\"][index] == 3:\n",
    "        Week_day[\"Day\"][index] = 'Wednesday'\n",
    "    if Week_day[\"Day\"][index] == 4:\n",
    "        Week_day[\"Day\"][index] = 'Thursday'\n",
    "    if Week_day[\"Day\"][index] == 5:\n",
    "        Week_day[\"Day\"][index] = 'Friday'\n",
    "    if Week_day[\"Day\"][index] == 6:\n",
    "        Week_day[\"Day\"][index] = 'Saturday'\n",
    "    if Week_day[\"Day\"][index] == 7:\n",
    "        Week_day[\"Day\"][index] = 'Sunday'\n",
    "Week_day"
   ]
  },
  {
   "cell_type": "code",
   "execution_count": null,
   "id": "e1c706bc",
   "metadata": {},
   "outputs": [
    {
     "data": {
      "text/html": [
       "<div>\n",
       "<style scoped>\n",
       "    .dataframe tbody tr th:only-of-type {\n",
       "        vertical-align: middle;\n",
       "    }\n",
       "\n",
       "    .dataframe tbody tr th {\n",
       "        vertical-align: top;\n",
       "    }\n",
       "\n",
       "    .dataframe thead th {\n",
       "        text-align: right;\n",
       "    }\n",
       "</style>\n",
       "<table border=\"1\" class=\"dataframe\">\n",
       "  <thead>\n",
       "    <tr style=\"text-align: right;\">\n",
       "      <th></th>\n",
       "      <th>Date</th>\n",
       "      <th>Counts</th>\n",
       "    </tr>\n",
       "  </thead>\n",
       "  <tbody>\n",
       "    <tr>\n",
       "      <th>15</th>\n",
       "      <td>1</td>\n",
       "      <td>17202</td>\n",
       "    </tr>\n",
       "    <tr>\n",
       "      <th>16</th>\n",
       "      <td>2</td>\n",
       "      <td>17188</td>\n",
       "    </tr>\n",
       "    <tr>\n",
       "      <th>4</th>\n",
       "      <td>3</td>\n",
       "      <td>17770</td>\n",
       "    </tr>\n",
       "    <tr>\n",
       "      <th>13</th>\n",
       "      <td>4</td>\n",
       "      <td>17269</td>\n",
       "    </tr>\n",
       "    <tr>\n",
       "      <th>29</th>\n",
       "      <td>5</td>\n",
       "      <td>13767</td>\n",
       "    </tr>\n",
       "    <tr>\n",
       "      <th>19</th>\n",
       "      <td>6</td>\n",
       "      <td>16773</td>\n",
       "    </tr>\n",
       "    <tr>\n",
       "      <th>14</th>\n",
       "      <td>7</td>\n",
       "      <td>17269</td>\n",
       "    </tr>\n",
       "    <tr>\n",
       "      <th>22</th>\n",
       "      <td>8</td>\n",
       "      <td>15780</td>\n",
       "    </tr>\n",
       "    <tr>\n",
       "      <th>21</th>\n",
       "      <td>9</td>\n",
       "      <td>16357</td>\n",
       "    </tr>\n",
       "    <tr>\n",
       "      <th>10</th>\n",
       "      <td>10</td>\n",
       "      <td>17523</td>\n",
       "    </tr>\n",
       "    <tr>\n",
       "      <th>7</th>\n",
       "      <td>11</td>\n",
       "      <td>17668</td>\n",
       "    </tr>\n",
       "    <tr>\n",
       "      <th>28</th>\n",
       "      <td>12</td>\n",
       "      <td>13797</td>\n",
       "    </tr>\n",
       "    <tr>\n",
       "      <th>20</th>\n",
       "      <td>13</td>\n",
       "      <td>16459</td>\n",
       "    </tr>\n",
       "    <tr>\n",
       "      <th>17</th>\n",
       "      <td>14</td>\n",
       "      <td>16915</td>\n",
       "    </tr>\n",
       "    <tr>\n",
       "      <th>18</th>\n",
       "      <td>15</td>\n",
       "      <td>16802</td>\n",
       "    </tr>\n",
       "    <tr>\n",
       "      <th>11</th>\n",
       "      <td>16</td>\n",
       "      <td>17499</td>\n",
       "    </tr>\n",
       "    <tr>\n",
       "      <th>1</th>\n",
       "      <td>17</td>\n",
       "      <td>17874</td>\n",
       "    </tr>\n",
       "    <tr>\n",
       "      <th>6</th>\n",
       "      <td>18</td>\n",
       "      <td>17704</td>\n",
       "    </tr>\n",
       "    <tr>\n",
       "      <th>30</th>\n",
       "      <td>19</td>\n",
       "      <td>13383</td>\n",
       "    </tr>\n",
       "    <tr>\n",
       "      <th>23</th>\n",
       "      <td>20</td>\n",
       "      <td>15632</td>\n",
       "    </tr>\n",
       "    <tr>\n",
       "      <th>2</th>\n",
       "      <td>21</td>\n",
       "      <td>17858</td>\n",
       "    </tr>\n",
       "    <tr>\n",
       "      <th>5</th>\n",
       "      <td>22</td>\n",
       "      <td>17769</td>\n",
       "    </tr>\n",
       "    <tr>\n",
       "      <th>9</th>\n",
       "      <td>23</td>\n",
       "      <td>17583</td>\n",
       "    </tr>\n",
       "    <tr>\n",
       "      <th>26</th>\n",
       "      <td>24</td>\n",
       "      <td>14287</td>\n",
       "    </tr>\n",
       "    <tr>\n",
       "      <th>27</th>\n",
       "      <td>25</td>\n",
       "      <td>13929</td>\n",
       "    </tr>\n",
       "    <tr>\n",
       "      <th>24</th>\n",
       "      <td>26</td>\n",
       "      <td>15620</td>\n",
       "    </tr>\n",
       "    <tr>\n",
       "      <th>12</th>\n",
       "      <td>27</td>\n",
       "      <td>17483</td>\n",
       "    </tr>\n",
       "    <tr>\n",
       "      <th>0</th>\n",
       "      <td>28</td>\n",
       "      <td>17951</td>\n",
       "    </tr>\n",
       "    <tr>\n",
       "      <th>8</th>\n",
       "      <td>29</td>\n",
       "      <td>17642</td>\n",
       "    </tr>\n",
       "    <tr>\n",
       "      <th>3</th>\n",
       "      <td>30</td>\n",
       "      <td>17854</td>\n",
       "    </tr>\n",
       "    <tr>\n",
       "      <th>25</th>\n",
       "      <td>31</td>\n",
       "      <td>14444</td>\n",
       "    </tr>\n",
       "  </tbody>\n",
       "</table>\n",
       "</div>"
      ],
      "text/plain": [
       "    Date  Counts\n",
       "15     1   17202\n",
       "16     2   17188\n",
       "4      3   17770\n",
       "13     4   17269\n",
       "29     5   13767\n",
       "19     6   16773\n",
       "14     7   17269\n",
       "22     8   15780\n",
       "21     9   16357\n",
       "10    10   17523\n",
       "7     11   17668\n",
       "28    12   13797\n",
       "20    13   16459\n",
       "17    14   16915\n",
       "18    15   16802\n",
       "11    16   17499\n",
       "1     17   17874\n",
       "6     18   17704\n",
       "30    19   13383\n",
       "23    20   15632\n",
       "2     21   17858\n",
       "5     22   17769\n",
       "9     23   17583\n",
       "26    24   14287\n",
       "27    25   13929\n",
       "24    26   15620\n",
       "12    27   17483\n",
       "0     28   17951\n",
       "8     29   17642\n",
       "3     30   17854\n",
       "25    31   14444"
      ]
     },
     "execution_count": 10,
     "metadata": {},
     "output_type": "execute_result"
    }
   ],
   "source": [
    "Month_date = df['DAY_OF_MONTH'].value_counts().rename_axis(\"Date\").reset_index(name=\"Counts\")\n",
    "Month_date.sort_values(by = 'Date' , \n",
    "                    axis=0,\n",
    "                    ascending=[True], \n",
    "                    inplace=True )\n",
    "Month_date"
   ]
  },
  {
   "cell_type": "code",
   "execution_count": null,
   "id": "e96aef7e",
   "metadata": {},
   "outputs": [
    {
     "data": {
      "application/vnd.plotly.v1+json": {
       "config": {
        "plotlyServerURL": "https://plot.ly"
       },
       "data": [
        {
         "mode": "lines+markers",
         "name": "Day of week",
         "type": "scatter",
         "x": [
          "Monday",
          "Tuesday",
          "Wednesday",
          "Thursday",
          "Friday",
          "Saturday",
          "Sunday"
         ],
         "xaxis": "x",
         "y": [
          69993,
          85195,
          86481,
          81898,
          66570,
          56567,
          66347
         ],
         "yaxis": "y"
        },
        {
         "mode": "lines+markers",
         "name": "Date of month",
         "type": "scatter",
         "x": [
          1,
          2,
          3,
          4,
          5,
          6,
          7,
          8,
          9,
          10,
          11,
          12,
          13,
          14,
          15,
          16,
          17,
          18,
          19,
          20,
          21,
          22,
          23,
          24,
          25,
          26,
          27,
          28,
          29,
          30,
          31
         ],
         "xaxis": "x2",
         "y": [
          17202,
          17188,
          17770,
          17269,
          13767,
          16773,
          17269,
          15780,
          16357,
          17523,
          17668,
          13797,
          16459,
          16915,
          16802,
          17499,
          17874,
          17704,
          13383,
          15632,
          17858,
          17769,
          17583,
          14287,
          13929,
          15620,
          17483,
          17951,
          17642,
          17854,
          14444
         ],
         "yaxis": "y2"
        }
       ],
       "layout": {
        "height": 1000,
        "template": {
         "data": {
          "bar": [
           {
            "error_x": {
             "color": "#2a3f5f"
            },
            "error_y": {
             "color": "#2a3f5f"
            },
            "marker": {
             "line": {
              "color": "#E5ECF6",
              "width": 0.5
             },
             "pattern": {
              "fillmode": "overlay",
              "size": 10,
              "solidity": 0.2
             }
            },
            "type": "bar"
           }
          ],
          "barpolar": [
           {
            "marker": {
             "line": {
              "color": "#E5ECF6",
              "width": 0.5
             },
             "pattern": {
              "fillmode": "overlay",
              "size": 10,
              "solidity": 0.2
             }
            },
            "type": "barpolar"
           }
          ],
          "carpet": [
           {
            "aaxis": {
             "endlinecolor": "#2a3f5f",
             "gridcolor": "white",
             "linecolor": "white",
             "minorgridcolor": "white",
             "startlinecolor": "#2a3f5f"
            },
            "baxis": {
             "endlinecolor": "#2a3f5f",
             "gridcolor": "white",
             "linecolor": "white",
             "minorgridcolor": "white",
             "startlinecolor": "#2a3f5f"
            },
            "type": "carpet"
           }
          ],
          "choropleth": [
           {
            "colorbar": {
             "outlinewidth": 0,
             "ticks": ""
            },
            "type": "choropleth"
           }
          ],
          "contour": [
           {
            "colorbar": {
             "outlinewidth": 0,
             "ticks": ""
            },
            "colorscale": [
             [
              0,
              "#0d0887"
             ],
             [
              0.1111111111111111,
              "#46039f"
             ],
             [
              0.2222222222222222,
              "#7201a8"
             ],
             [
              0.3333333333333333,
              "#9c179e"
             ],
             [
              0.4444444444444444,
              "#bd3786"
             ],
             [
              0.5555555555555556,
              "#d8576b"
             ],
             [
              0.6666666666666666,
              "#ed7953"
             ],
             [
              0.7777777777777778,
              "#fb9f3a"
             ],
             [
              0.8888888888888888,
              "#fdca26"
             ],
             [
              1,
              "#f0f921"
             ]
            ],
            "type": "contour"
           }
          ],
          "contourcarpet": [
           {
            "colorbar": {
             "outlinewidth": 0,
             "ticks": ""
            },
            "type": "contourcarpet"
           }
          ],
          "heatmap": [
           {
            "colorbar": {
             "outlinewidth": 0,
             "ticks": ""
            },
            "colorscale": [
             [
              0,
              "#0d0887"
             ],
             [
              0.1111111111111111,
              "#46039f"
             ],
             [
              0.2222222222222222,
              "#7201a8"
             ],
             [
              0.3333333333333333,
              "#9c179e"
             ],
             [
              0.4444444444444444,
              "#bd3786"
             ],
             [
              0.5555555555555556,
              "#d8576b"
             ],
             [
              0.6666666666666666,
              "#ed7953"
             ],
             [
              0.7777777777777778,
              "#fb9f3a"
             ],
             [
              0.8888888888888888,
              "#fdca26"
             ],
             [
              1,
              "#f0f921"
             ]
            ],
            "type": "heatmap"
           }
          ],
          "heatmapgl": [
           {
            "colorbar": {
             "outlinewidth": 0,
             "ticks": ""
            },
            "colorscale": [
             [
              0,
              "#0d0887"
             ],
             [
              0.1111111111111111,
              "#46039f"
             ],
             [
              0.2222222222222222,
              "#7201a8"
             ],
             [
              0.3333333333333333,
              "#9c179e"
             ],
             [
              0.4444444444444444,
              "#bd3786"
             ],
             [
              0.5555555555555556,
              "#d8576b"
             ],
             [
              0.6666666666666666,
              "#ed7953"
             ],
             [
              0.7777777777777778,
              "#fb9f3a"
             ],
             [
              0.8888888888888888,
              "#fdca26"
             ],
             [
              1,
              "#f0f921"
             ]
            ],
            "type": "heatmapgl"
           }
          ],
          "histogram": [
           {
            "marker": {
             "pattern": {
              "fillmode": "overlay",
              "size": 10,
              "solidity": 0.2
             }
            },
            "type": "histogram"
           }
          ],
          "histogram2d": [
           {
            "colorbar": {
             "outlinewidth": 0,
             "ticks": ""
            },
            "colorscale": [
             [
              0,
              "#0d0887"
             ],
             [
              0.1111111111111111,
              "#46039f"
             ],
             [
              0.2222222222222222,
              "#7201a8"
             ],
             [
              0.3333333333333333,
              "#9c179e"
             ],
             [
              0.4444444444444444,
              "#bd3786"
             ],
             [
              0.5555555555555556,
              "#d8576b"
             ],
             [
              0.6666666666666666,
              "#ed7953"
             ],
             [
              0.7777777777777778,
              "#fb9f3a"
             ],
             [
              0.8888888888888888,
              "#fdca26"
             ],
             [
              1,
              "#f0f921"
             ]
            ],
            "type": "histogram2d"
           }
          ],
          "histogram2dcontour": [
           {
            "colorbar": {
             "outlinewidth": 0,
             "ticks": ""
            },
            "colorscale": [
             [
              0,
              "#0d0887"
             ],
             [
              0.1111111111111111,
              "#46039f"
             ],
             [
              0.2222222222222222,
              "#7201a8"
             ],
             [
              0.3333333333333333,
              "#9c179e"
             ],
             [
              0.4444444444444444,
              "#bd3786"
             ],
             [
              0.5555555555555556,
              "#d8576b"
             ],
             [
              0.6666666666666666,
              "#ed7953"
             ],
             [
              0.7777777777777778,
              "#fb9f3a"
             ],
             [
              0.8888888888888888,
              "#fdca26"
             ],
             [
              1,
              "#f0f921"
             ]
            ],
            "type": "histogram2dcontour"
           }
          ],
          "mesh3d": [
           {
            "colorbar": {
             "outlinewidth": 0,
             "ticks": ""
            },
            "type": "mesh3d"
           }
          ],
          "parcoords": [
           {
            "line": {
             "colorbar": {
              "outlinewidth": 0,
              "ticks": ""
             }
            },
            "type": "parcoords"
           }
          ],
          "pie": [
           {
            "automargin": true,
            "type": "pie"
           }
          ],
          "scatter": [
           {
            "marker": {
             "colorbar": {
              "outlinewidth": 0,
              "ticks": ""
             }
            },
            "type": "scatter"
           }
          ],
          "scatter3d": [
           {
            "line": {
             "colorbar": {
              "outlinewidth": 0,
              "ticks": ""
             }
            },
            "marker": {
             "colorbar": {
              "outlinewidth": 0,
              "ticks": ""
             }
            },
            "type": "scatter3d"
           }
          ],
          "scattercarpet": [
           {
            "marker": {
             "colorbar": {
              "outlinewidth": 0,
              "ticks": ""
             }
            },
            "type": "scattercarpet"
           }
          ],
          "scattergeo": [
           {
            "marker": {
             "colorbar": {
              "outlinewidth": 0,
              "ticks": ""
             }
            },
            "type": "scattergeo"
           }
          ],
          "scattergl": [
           {
            "marker": {
             "colorbar": {
              "outlinewidth": 0,
              "ticks": ""
             }
            },
            "type": "scattergl"
           }
          ],
          "scattermapbox": [
           {
            "marker": {
             "colorbar": {
              "outlinewidth": 0,
              "ticks": ""
             }
            },
            "type": "scattermapbox"
           }
          ],
          "scatterpolar": [
           {
            "marker": {
             "colorbar": {
              "outlinewidth": 0,
              "ticks": ""
             }
            },
            "type": "scatterpolar"
           }
          ],
          "scatterpolargl": [
           {
            "marker": {
             "colorbar": {
              "outlinewidth": 0,
              "ticks": ""
             }
            },
            "type": "scatterpolargl"
           }
          ],
          "scatterternary": [
           {
            "marker": {
             "colorbar": {
              "outlinewidth": 0,
              "ticks": ""
             }
            },
            "type": "scatterternary"
           }
          ],
          "surface": [
           {
            "colorbar": {
             "outlinewidth": 0,
             "ticks": ""
            },
            "colorscale": [
             [
              0,
              "#0d0887"
             ],
             [
              0.1111111111111111,
              "#46039f"
             ],
             [
              0.2222222222222222,
              "#7201a8"
             ],
             [
              0.3333333333333333,
              "#9c179e"
             ],
             [
              0.4444444444444444,
              "#bd3786"
             ],
             [
              0.5555555555555556,
              "#d8576b"
             ],
             [
              0.6666666666666666,
              "#ed7953"
             ],
             [
              0.7777777777777778,
              "#fb9f3a"
             ],
             [
              0.8888888888888888,
              "#fdca26"
             ],
             [
              1,
              "#f0f921"
             ]
            ],
            "type": "surface"
           }
          ],
          "table": [
           {
            "cells": {
             "fill": {
              "color": "#EBF0F8"
             },
             "line": {
              "color": "white"
             }
            },
            "header": {
             "fill": {
              "color": "#C8D4E3"
             },
             "line": {
              "color": "white"
             }
            },
            "type": "table"
           }
          ]
         },
         "layout": {
          "annotationdefaults": {
           "arrowcolor": "#2a3f5f",
           "arrowhead": 0,
           "arrowwidth": 1
          },
          "autotypenumbers": "strict",
          "coloraxis": {
           "colorbar": {
            "outlinewidth": 0,
            "ticks": ""
           }
          },
          "colorscale": {
           "diverging": [
            [
             0,
             "#8e0152"
            ],
            [
             0.1,
             "#c51b7d"
            ],
            [
             0.2,
             "#de77ae"
            ],
            [
             0.3,
             "#f1b6da"
            ],
            [
             0.4,
             "#fde0ef"
            ],
            [
             0.5,
             "#f7f7f7"
            ],
            [
             0.6,
             "#e6f5d0"
            ],
            [
             0.7,
             "#b8e186"
            ],
            [
             0.8,
             "#7fbc41"
            ],
            [
             0.9,
             "#4d9221"
            ],
            [
             1,
             "#276419"
            ]
           ],
           "sequential": [
            [
             0,
             "#0d0887"
            ],
            [
             0.1111111111111111,
             "#46039f"
            ],
            [
             0.2222222222222222,
             "#7201a8"
            ],
            [
             0.3333333333333333,
             "#9c179e"
            ],
            [
             0.4444444444444444,
             "#bd3786"
            ],
            [
             0.5555555555555556,
             "#d8576b"
            ],
            [
             0.6666666666666666,
             "#ed7953"
            ],
            [
             0.7777777777777778,
             "#fb9f3a"
            ],
            [
             0.8888888888888888,
             "#fdca26"
            ],
            [
             1,
             "#f0f921"
            ]
           ],
           "sequentialminus": [
            [
             0,
             "#0d0887"
            ],
            [
             0.1111111111111111,
             "#46039f"
            ],
            [
             0.2222222222222222,
             "#7201a8"
            ],
            [
             0.3333333333333333,
             "#9c179e"
            ],
            [
             0.4444444444444444,
             "#bd3786"
            ],
            [
             0.5555555555555556,
             "#d8576b"
            ],
            [
             0.6666666666666666,
             "#ed7953"
            ],
            [
             0.7777777777777778,
             "#fb9f3a"
            ],
            [
             0.8888888888888888,
             "#fdca26"
            ],
            [
             1,
             "#f0f921"
            ]
           ]
          },
          "colorway": [
           "#636efa",
           "#EF553B",
           "#00cc96",
           "#ab63fa",
           "#FFA15A",
           "#19d3f3",
           "#FF6692",
           "#B6E880",
           "#FF97FF",
           "#FECB52"
          ],
          "font": {
           "color": "#2a3f5f"
          },
          "geo": {
           "bgcolor": "white",
           "lakecolor": "white",
           "landcolor": "#E5ECF6",
           "showlakes": true,
           "showland": true,
           "subunitcolor": "white"
          },
          "hoverlabel": {
           "align": "left"
          },
          "hovermode": "closest",
          "mapbox": {
           "style": "light"
          },
          "paper_bgcolor": "white",
          "plot_bgcolor": "#E5ECF6",
          "polar": {
           "angularaxis": {
            "gridcolor": "white",
            "linecolor": "white",
            "ticks": ""
           },
           "bgcolor": "#E5ECF6",
           "radialaxis": {
            "gridcolor": "white",
            "linecolor": "white",
            "ticks": ""
           }
          },
          "scene": {
           "xaxis": {
            "backgroundcolor": "#E5ECF6",
            "gridcolor": "white",
            "gridwidth": 2,
            "linecolor": "white",
            "showbackground": true,
            "ticks": "",
            "zerolinecolor": "white"
           },
           "yaxis": {
            "backgroundcolor": "#E5ECF6",
            "gridcolor": "white",
            "gridwidth": 2,
            "linecolor": "white",
            "showbackground": true,
            "ticks": "",
            "zerolinecolor": "white"
           },
           "zaxis": {
            "backgroundcolor": "#E5ECF6",
            "gridcolor": "white",
            "gridwidth": 2,
            "linecolor": "white",
            "showbackground": true,
            "ticks": "",
            "zerolinecolor": "white"
           }
          },
          "shapedefaults": {
           "line": {
            "color": "#2a3f5f"
           }
          },
          "ternary": {
           "aaxis": {
            "gridcolor": "white",
            "linecolor": "white",
            "ticks": ""
           },
           "baxis": {
            "gridcolor": "white",
            "linecolor": "white",
            "ticks": ""
           },
           "bgcolor": "#E5ECF6",
           "caxis": {
            "gridcolor": "white",
            "linecolor": "white",
            "ticks": ""
           }
          },
          "title": {
           "x": 0.05
          },
          "xaxis": {
           "automargin": true,
           "gridcolor": "white",
           "linecolor": "white",
           "ticks": "",
           "title": {
            "standoff": 15
           },
           "zerolinecolor": "white",
           "zerolinewidth": 2
          },
          "yaxis": {
           "automargin": true,
           "gridcolor": "white",
           "linecolor": "white",
           "ticks": "",
           "title": {
            "standoff": 15
           },
           "zerolinecolor": "white",
           "zerolinewidth": 2
          }
         }
        },
        "title": {
         "text": "Days and Dates Preferences"
        },
        "width": 1000,
        "xaxis": {
         "anchor": "y",
         "domain": [
          0,
          1
         ]
        },
        "xaxis2": {
         "anchor": "y2",
         "domain": [
          0,
          1
         ]
        },
        "yaxis": {
         "anchor": "x",
         "domain": [
          0.575,
          1
         ]
        },
        "yaxis2": {
         "anchor": "x2",
         "domain": [
          0,
          0.425
         ]
        }
       }
      }
     },
     "metadata": {},
     "output_type": "display_data"
    }
   ],
   "source": [
    "\n",
    "fig = make_subplots(rows=2, cols=1)\n",
    "\n",
    "fig.add_trace(\n",
    "    go.Scatter(x= Week_day['Day'], y=Week_day['Counts'],mode=\"lines+markers\",name= 'Day of week'),\n",
    "    row=1, col=1\n",
    ")\n",
    "\n",
    "fig.add_trace(\n",
    "    go.Scatter(x=Month_date['Date'], y=Month_date['Counts'],mode=\"lines+markers\",name= 'Date of month'),\n",
    "    row=2, col=1\n",
    ")\n",
    "\n",
    "fig.update_layout(height=1000, width=1000, title_text=\"Days and Dates Preferences\")\n",
    "fig.show()"
   ]
  },
  {
   "cell_type": "code",
   "execution_count": null,
   "id": "0ec36501",
   "metadata": {},
   "outputs": [
    {
     "data": {
      "text/html": [
       "<div>\n",
       "<style scoped>\n",
       "    .dataframe tbody tr th:only-of-type {\n",
       "        vertical-align: middle;\n",
       "    }\n",
       "\n",
       "    .dataframe tbody tr th {\n",
       "        vertical-align: top;\n",
       "    }\n",
       "\n",
       "    .dataframe thead th {\n",
       "        text-align: right;\n",
       "    }\n",
       "</style>\n",
       "<table border=\"1\" class=\"dataframe\">\n",
       "  <thead>\n",
       "    <tr style=\"text-align: right;\">\n",
       "      <th></th>\n",
       "      <th>YEAR</th>\n",
       "      <th>MONTH</th>\n",
       "      <th>DAY_OF_MONTH</th>\n",
       "      <th>DAY_OF_WEEK</th>\n",
       "      <th>UNIQUE_CARRIER</th>\n",
       "      <th>AIRLINE_ID</th>\n",
       "      <th>CARRIER</th>\n",
       "      <th>TAIL_NUM</th>\n",
       "      <th>FL_NUM</th>\n",
       "      <th>ORIGIN</th>\n",
       "      <th>...</th>\n",
       "      <th>DEST_CITY_NAME</th>\n",
       "      <th>DEST_STATE_ABR</th>\n",
       "      <th>DEST_STATE_NM</th>\n",
       "      <th>DEST_WAC</th>\n",
       "      <th>CRS_DEP_TIME</th>\n",
       "      <th>DEP_TIME</th>\n",
       "      <th>DEP_DELAY</th>\n",
       "      <th>CRS_ARR_TIME</th>\n",
       "      <th>ARR_TIME</th>\n",
       "      <th>ARR_DELAY</th>\n",
       "    </tr>\n",
       "  </thead>\n",
       "  <tbody>\n",
       "    <tr>\n",
       "      <th>0</th>\n",
       "      <td>2009</td>\n",
       "      <td>12</td>\n",
       "      <td>2</td>\n",
       "      <td>3</td>\n",
       "      <td>9E</td>\n",
       "      <td>20363</td>\n",
       "      <td>9E</td>\n",
       "      <td>91879E</td>\n",
       "      <td>850</td>\n",
       "      <td>ATL</td>\n",
       "      <td>...</td>\n",
       "      <td>Raleigh/Durham, NC</td>\n",
       "      <td>NC</td>\n",
       "      <td>North Carolina</td>\n",
       "      <td>36</td>\n",
       "      <td>1755</td>\n",
       "      <td>1803.0</td>\n",
       "      <td>8.0</td>\n",
       "      <td>1929</td>\n",
       "      <td>1943.0</td>\n",
       "      <td>14.0</td>\n",
       "    </tr>\n",
       "    <tr>\n",
       "      <th>1</th>\n",
       "      <td>2009</td>\n",
       "      <td>12</td>\n",
       "      <td>3</td>\n",
       "      <td>4</td>\n",
       "      <td>9E</td>\n",
       "      <td>20363</td>\n",
       "      <td>9E</td>\n",
       "      <td>92289E</td>\n",
       "      <td>850</td>\n",
       "      <td>ATL</td>\n",
       "      <td>...</td>\n",
       "      <td>Raleigh/Durham, NC</td>\n",
       "      <td>NC</td>\n",
       "      <td>North Carolina</td>\n",
       "      <td>36</td>\n",
       "      <td>1755</td>\n",
       "      <td>1752.0</td>\n",
       "      <td>-3.0</td>\n",
       "      <td>1929</td>\n",
       "      <td>1924.0</td>\n",
       "      <td>-5.0</td>\n",
       "    </tr>\n",
       "    <tr>\n",
       "      <th>2</th>\n",
       "      <td>2009</td>\n",
       "      <td>12</td>\n",
       "      <td>4</td>\n",
       "      <td>5</td>\n",
       "      <td>9E</td>\n",
       "      <td>20363</td>\n",
       "      <td>9E</td>\n",
       "      <td>91629E</td>\n",
       "      <td>850</td>\n",
       "      <td>ATL</td>\n",
       "      <td>...</td>\n",
       "      <td>Raleigh/Durham, NC</td>\n",
       "      <td>NC</td>\n",
       "      <td>North Carolina</td>\n",
       "      <td>36</td>\n",
       "      <td>1755</td>\n",
       "      <td>1754.0</td>\n",
       "      <td>-1.0</td>\n",
       "      <td>1929</td>\n",
       "      <td>1920.0</td>\n",
       "      <td>-9.0</td>\n",
       "    </tr>\n",
       "    <tr>\n",
       "      <th>3</th>\n",
       "      <td>2009</td>\n",
       "      <td>12</td>\n",
       "      <td>6</td>\n",
       "      <td>7</td>\n",
       "      <td>9E</td>\n",
       "      <td>20363</td>\n",
       "      <td>9E</td>\n",
       "      <td>91709E</td>\n",
       "      <td>850</td>\n",
       "      <td>ATL</td>\n",
       "      <td>...</td>\n",
       "      <td>Raleigh/Durham, NC</td>\n",
       "      <td>NC</td>\n",
       "      <td>North Carolina</td>\n",
       "      <td>36</td>\n",
       "      <td>1755</td>\n",
       "      <td>1750.0</td>\n",
       "      <td>-5.0</td>\n",
       "      <td>1929</td>\n",
       "      <td>1917.0</td>\n",
       "      <td>-12.0</td>\n",
       "    </tr>\n",
       "    <tr>\n",
       "      <th>4</th>\n",
       "      <td>2009</td>\n",
       "      <td>12</td>\n",
       "      <td>7</td>\n",
       "      <td>1</td>\n",
       "      <td>9E</td>\n",
       "      <td>20363</td>\n",
       "      <td>9E</td>\n",
       "      <td>92289E</td>\n",
       "      <td>850</td>\n",
       "      <td>ATL</td>\n",
       "      <td>...</td>\n",
       "      <td>Raleigh/Durham, NC</td>\n",
       "      <td>NC</td>\n",
       "      <td>North Carolina</td>\n",
       "      <td>36</td>\n",
       "      <td>1755</td>\n",
       "      <td>1752.0</td>\n",
       "      <td>-3.0</td>\n",
       "      <td>1929</td>\n",
       "      <td>1930.0</td>\n",
       "      <td>1.0</td>\n",
       "    </tr>\n",
       "    <tr>\n",
       "      <th>...</th>\n",
       "      <td>...</td>\n",
       "      <td>...</td>\n",
       "      <td>...</td>\n",
       "      <td>...</td>\n",
       "      <td>...</td>\n",
       "      <td>...</td>\n",
       "      <td>...</td>\n",
       "      <td>...</td>\n",
       "      <td>...</td>\n",
       "      <td>...</td>\n",
       "      <td>...</td>\n",
       "      <td>...</td>\n",
       "      <td>...</td>\n",
       "      <td>...</td>\n",
       "      <td>...</td>\n",
       "      <td>...</td>\n",
       "      <td>...</td>\n",
       "      <td>...</td>\n",
       "      <td>...</td>\n",
       "      <td>...</td>\n",
       "      <td>...</td>\n",
       "    </tr>\n",
       "    <tr>\n",
       "      <th>529264</th>\n",
       "      <td>2009</td>\n",
       "      <td>12</td>\n",
       "      <td>31</td>\n",
       "      <td>4</td>\n",
       "      <td>YV</td>\n",
       "      <td>20378</td>\n",
       "      <td>YV</td>\n",
       "      <td>N437YV</td>\n",
       "      <td>2846</td>\n",
       "      <td>YUM</td>\n",
       "      <td>...</td>\n",
       "      <td>Phoenix, AZ</td>\n",
       "      <td>AZ</td>\n",
       "      <td>Arizona</td>\n",
       "      <td>81</td>\n",
       "      <td>615</td>\n",
       "      <td>605.0</td>\n",
       "      <td>-10.0</td>\n",
       "      <td>722</td>\n",
       "      <td>716.0</td>\n",
       "      <td>-6.0</td>\n",
       "    </tr>\n",
       "    <tr>\n",
       "      <th>529265</th>\n",
       "      <td>2009</td>\n",
       "      <td>12</td>\n",
       "      <td>31</td>\n",
       "      <td>4</td>\n",
       "      <td>YV</td>\n",
       "      <td>20378</td>\n",
       "      <td>YV</td>\n",
       "      <td>N987HA</td>\n",
       "      <td>2850</td>\n",
       "      <td>YUM</td>\n",
       "      <td>...</td>\n",
       "      <td>Phoenix, AZ</td>\n",
       "      <td>AZ</td>\n",
       "      <td>Arizona</td>\n",
       "      <td>81</td>\n",
       "      <td>1929</td>\n",
       "      <td>1919.0</td>\n",
       "      <td>-10.0</td>\n",
       "      <td>2039</td>\n",
       "      <td>2020.0</td>\n",
       "      <td>-19.0</td>\n",
       "    </tr>\n",
       "    <tr>\n",
       "      <th>529266</th>\n",
       "      <td>2009</td>\n",
       "      <td>12</td>\n",
       "      <td>31</td>\n",
       "      <td>4</td>\n",
       "      <td>YV</td>\n",
       "      <td>20378</td>\n",
       "      <td>YV</td>\n",
       "      <td>N7305V</td>\n",
       "      <td>2866</td>\n",
       "      <td>YUM</td>\n",
       "      <td>...</td>\n",
       "      <td>Phoenix, AZ</td>\n",
       "      <td>AZ</td>\n",
       "      <td>Arizona</td>\n",
       "      <td>81</td>\n",
       "      <td>1400</td>\n",
       "      <td>1400.0</td>\n",
       "      <td>0.0</td>\n",
       "      <td>1455</td>\n",
       "      <td>1510.0</td>\n",
       "      <td>15.0</td>\n",
       "    </tr>\n",
       "    <tr>\n",
       "      <th>529267</th>\n",
       "      <td>2009</td>\n",
       "      <td>12</td>\n",
       "      <td>31</td>\n",
       "      <td>4</td>\n",
       "      <td>YV</td>\n",
       "      <td>20378</td>\n",
       "      <td>YV</td>\n",
       "      <td>N987HA</td>\n",
       "      <td>2868</td>\n",
       "      <td>YUM</td>\n",
       "      <td>...</td>\n",
       "      <td>Phoenix, AZ</td>\n",
       "      <td>AZ</td>\n",
       "      <td>Arizona</td>\n",
       "      <td>81</td>\n",
       "      <td>1620</td>\n",
       "      <td>1615.0</td>\n",
       "      <td>-5.0</td>\n",
       "      <td>1727</td>\n",
       "      <td>1716.0</td>\n",
       "      <td>-11.0</td>\n",
       "    </tr>\n",
       "    <tr>\n",
       "      <th>529268</th>\n",
       "      <td>2009</td>\n",
       "      <td>12</td>\n",
       "      <td>31</td>\n",
       "      <td>4</td>\n",
       "      <td>YV</td>\n",
       "      <td>20378</td>\n",
       "      <td>YV</td>\n",
       "      <td>N988HA</td>\n",
       "      <td>2871</td>\n",
       "      <td>YUM</td>\n",
       "      <td>...</td>\n",
       "      <td>Phoenix, AZ</td>\n",
       "      <td>AZ</td>\n",
       "      <td>Arizona</td>\n",
       "      <td>81</td>\n",
       "      <td>1123</td>\n",
       "      <td>1113.0</td>\n",
       "      <td>-10.0</td>\n",
       "      <td>1230</td>\n",
       "      <td>1217.0</td>\n",
       "      <td>-13.0</td>\n",
       "    </tr>\n",
       "  </tbody>\n",
       "</table>\n",
       "<p>513051 rows × 25 columns</p>\n",
       "</div>"
      ],
      "text/plain": [
       "        YEAR  MONTH  DAY_OF_MONTH  DAY_OF_WEEK UNIQUE_CARRIER  AIRLINE_ID  \\\n",
       "0       2009     12             2            3             9E       20363   \n",
       "1       2009     12             3            4             9E       20363   \n",
       "2       2009     12             4            5             9E       20363   \n",
       "3       2009     12             6            7             9E       20363   \n",
       "4       2009     12             7            1             9E       20363   \n",
       "...      ...    ...           ...          ...            ...         ...   \n",
       "529264  2009     12            31            4             YV       20378   \n",
       "529265  2009     12            31            4             YV       20378   \n",
       "529266  2009     12            31            4             YV       20378   \n",
       "529267  2009     12            31            4             YV       20378   \n",
       "529268  2009     12            31            4             YV       20378   \n",
       "\n",
       "       CARRIER TAIL_NUM  FL_NUM ORIGIN  ...      DEST_CITY_NAME  \\\n",
       "0           9E   91879E     850    ATL  ...  Raleigh/Durham, NC   \n",
       "1           9E   92289E     850    ATL  ...  Raleigh/Durham, NC   \n",
       "2           9E   91629E     850    ATL  ...  Raleigh/Durham, NC   \n",
       "3           9E   91709E     850    ATL  ...  Raleigh/Durham, NC   \n",
       "4           9E   92289E     850    ATL  ...  Raleigh/Durham, NC   \n",
       "...        ...      ...     ...    ...  ...                 ...   \n",
       "529264      YV   N437YV    2846    YUM  ...         Phoenix, AZ   \n",
       "529265      YV   N987HA    2850    YUM  ...         Phoenix, AZ   \n",
       "529266      YV   N7305V    2866    YUM  ...         Phoenix, AZ   \n",
       "529267      YV   N987HA    2868    YUM  ...         Phoenix, AZ   \n",
       "529268      YV   N988HA    2871    YUM  ...         Phoenix, AZ   \n",
       "\n",
       "       DEST_STATE_ABR   DEST_STATE_NM  DEST_WAC CRS_DEP_TIME DEP_TIME  \\\n",
       "0                  NC  North Carolina        36         1755   1803.0   \n",
       "1                  NC  North Carolina        36         1755   1752.0   \n",
       "2                  NC  North Carolina        36         1755   1754.0   \n",
       "3                  NC  North Carolina        36         1755   1750.0   \n",
       "4                  NC  North Carolina        36         1755   1752.0   \n",
       "...               ...             ...       ...          ...      ...   \n",
       "529264             AZ         Arizona        81          615    605.0   \n",
       "529265             AZ         Arizona        81         1929   1919.0   \n",
       "529266             AZ         Arizona        81         1400   1400.0   \n",
       "529267             AZ         Arizona        81         1620   1615.0   \n",
       "529268             AZ         Arizona        81         1123   1113.0   \n",
       "\n",
       "       DEP_DELAY CRS_ARR_TIME  ARR_TIME  ARR_DELAY  \n",
       "0            8.0         1929    1943.0       14.0  \n",
       "1           -3.0         1929    1924.0       -5.0  \n",
       "2           -1.0         1929    1920.0       -9.0  \n",
       "3           -5.0         1929    1917.0      -12.0  \n",
       "4           -3.0         1929    1930.0        1.0  \n",
       "...          ...          ...       ...        ...  \n",
       "529264     -10.0          722     716.0       -6.0  \n",
       "529265     -10.0         2039    2020.0      -19.0  \n",
       "529266       0.0         1455    1510.0       15.0  \n",
       "529267      -5.0         1727    1716.0      -11.0  \n",
       "529268     -10.0         1230    1217.0      -13.0  \n",
       "\n",
       "[513051 rows x 25 columns]"
      ]
     },
     "execution_count": 12,
     "metadata": {},
     "output_type": "execute_result"
    }
   ],
   "source": [
    "df"
   ]
  },
  {
   "cell_type": "code",
   "execution_count": null,
   "id": "1de6f9b3",
   "metadata": {},
   "outputs": [
    {
     "name": "stderr",
     "output_type": "stream",
     "text": [
      "C:\\Users\\Dell\\AppData\\Local\\Programs\\Python\\Python37\\lib\\site-packages\\ipykernel_launcher.py:4: SettingWithCopyWarning:\n",
      "\n",
      "\n",
      "A value is trying to be set on a copy of a slice from a DataFrame\n",
      "\n",
      "See the caveats in the documentation: https://pandas.pydata.org/pandas-docs/stable/user_guide/indexing.html#returning-a-view-versus-a-copy\n",
      "\n",
      "C:\\Users\\Dell\\AppData\\Local\\Programs\\Python\\Python37\\lib\\site-packages\\ipykernel_launcher.py:10: SettingWithCopyWarning:\n",
      "\n",
      "\n",
      "A value is trying to be set on a copy of a slice from a DataFrame\n",
      "\n",
      "See the caveats in the documentation: https://pandas.pydata.org/pandas-docs/stable/user_guide/indexing.html#returning-a-view-versus-a-copy\n",
      "\n"
     ]
    },
    {
     "data": {
      "text/html": [
       "<div>\n",
       "<style scoped>\n",
       "    .dataframe tbody tr th:only-of-type {\n",
       "        vertical-align: middle;\n",
       "    }\n",
       "\n",
       "    .dataframe tbody tr th {\n",
       "        vertical-align: top;\n",
       "    }\n",
       "\n",
       "    .dataframe thead th {\n",
       "        text-align: right;\n",
       "    }\n",
       "</style>\n",
       "<table border=\"1\" class=\"dataframe\">\n",
       "  <thead>\n",
       "    <tr style=\"text-align: right;\">\n",
       "      <th></th>\n",
       "      <th>ORIGIN_STATE_NM</th>\n",
       "      <th>ORIGIN_STATE_ABR</th>\n",
       "      <th>ARR_DELAY_TIME</th>\n",
       "    </tr>\n",
       "  </thead>\n",
       "  <tbody>\n",
       "    <tr>\n",
       "      <th>0</th>\n",
       "      <td>Alabama</td>\n",
       "      <td>AL</td>\n",
       "      <td>604.266667</td>\n",
       "    </tr>\n",
       "    <tr>\n",
       "      <th>1</th>\n",
       "      <td>Alaska</td>\n",
       "      <td>AK</td>\n",
       "      <td>283.616667</td>\n",
       "    </tr>\n",
       "    <tr>\n",
       "      <th>2</th>\n",
       "      <td>Arizona</td>\n",
       "      <td>AZ</td>\n",
       "      <td>1335.333333</td>\n",
       "    </tr>\n",
       "    <tr>\n",
       "      <th>3</th>\n",
       "      <td>Arkansas</td>\n",
       "      <td>AR</td>\n",
       "      <td>574.166667</td>\n",
       "    </tr>\n",
       "    <tr>\n",
       "      <th>4</th>\n",
       "      <td>California</td>\n",
       "      <td>CA</td>\n",
       "      <td>4746.866667</td>\n",
       "    </tr>\n",
       "    <tr>\n",
       "      <th>5</th>\n",
       "      <td>Colorado</td>\n",
       "      <td>CO</td>\n",
       "      <td>4168.516667</td>\n",
       "    </tr>\n",
       "    <tr>\n",
       "      <th>6</th>\n",
       "      <td>Connecticut</td>\n",
       "      <td>CT</td>\n",
       "      <td>178.233333</td>\n",
       "    </tr>\n",
       "    <tr>\n",
       "      <th>7</th>\n",
       "      <td>District of Columbia</td>\n",
       "      <td>DC</td>\n",
       "      <td>2112.066667</td>\n",
       "    </tr>\n",
       "    <tr>\n",
       "      <th>8</th>\n",
       "      <td>Florida</td>\n",
       "      <td>FL</td>\n",
       "      <td>4937.333333</td>\n",
       "    </tr>\n",
       "    <tr>\n",
       "      <th>9</th>\n",
       "      <td>Georgia</td>\n",
       "      <td>GA</td>\n",
       "      <td>4368.100000</td>\n",
       "    </tr>\n",
       "    <tr>\n",
       "      <th>10</th>\n",
       "      <td>Hawaii</td>\n",
       "      <td>HI</td>\n",
       "      <td>-110.333333</td>\n",
       "    </tr>\n",
       "    <tr>\n",
       "      <th>11</th>\n",
       "      <td>Idaho</td>\n",
       "      <td>ID</td>\n",
       "      <td>270.783333</td>\n",
       "    </tr>\n",
       "    <tr>\n",
       "      <th>12</th>\n",
       "      <td>Illinois</td>\n",
       "      <td>IL</td>\n",
       "      <td>9214.066667</td>\n",
       "    </tr>\n",
       "    <tr>\n",
       "      <th>13</th>\n",
       "      <td>Indiana</td>\n",
       "      <td>IN</td>\n",
       "      <td>777.933333</td>\n",
       "    </tr>\n",
       "    <tr>\n",
       "      <th>14</th>\n",
       "      <td>Iowa</td>\n",
       "      <td>IA</td>\n",
       "      <td>530.800000</td>\n",
       "    </tr>\n",
       "    <tr>\n",
       "      <th>15</th>\n",
       "      <td>Kansas</td>\n",
       "      <td>KS</td>\n",
       "      <td>234.916667</td>\n",
       "    </tr>\n",
       "    <tr>\n",
       "      <th>16</th>\n",
       "      <td>Kentucky</td>\n",
       "      <td>KY</td>\n",
       "      <td>501.133333</td>\n",
       "    </tr>\n",
       "    <tr>\n",
       "      <th>17</th>\n",
       "      <td>Louisiana</td>\n",
       "      <td>LA</td>\n",
       "      <td>911.933333</td>\n",
       "    </tr>\n",
       "    <tr>\n",
       "      <th>18</th>\n",
       "      <td>Maine</td>\n",
       "      <td>ME</td>\n",
       "      <td>115.450000</td>\n",
       "    </tr>\n",
       "    <tr>\n",
       "      <th>19</th>\n",
       "      <td>Maryland</td>\n",
       "      <td>MD</td>\n",
       "      <td>1749.300000</td>\n",
       "    </tr>\n",
       "    <tr>\n",
       "      <th>20</th>\n",
       "      <td>Massachusetts</td>\n",
       "      <td>MA</td>\n",
       "      <td>873.683333</td>\n",
       "    </tr>\n",
       "    <tr>\n",
       "      <th>21</th>\n",
       "      <td>Michigan</td>\n",
       "      <td>MI</td>\n",
       "      <td>2378.950000</td>\n",
       "    </tr>\n",
       "    <tr>\n",
       "      <th>22</th>\n",
       "      <td>Minnesota</td>\n",
       "      <td>MN</td>\n",
       "      <td>1649.016667</td>\n",
       "    </tr>\n",
       "    <tr>\n",
       "      <th>23</th>\n",
       "      <td>Mississippi</td>\n",
       "      <td>MS</td>\n",
       "      <td>305.233333</td>\n",
       "    </tr>\n",
       "    <tr>\n",
       "      <th>24</th>\n",
       "      <td>Missouri</td>\n",
       "      <td>MO</td>\n",
       "      <td>1668.466667</td>\n",
       "    </tr>\n",
       "    <tr>\n",
       "      <th>25</th>\n",
       "      <td>Montana</td>\n",
       "      <td>MT</td>\n",
       "      <td>292.883333</td>\n",
       "    </tr>\n",
       "    <tr>\n",
       "      <th>26</th>\n",
       "      <td>Nebraska</td>\n",
       "      <td>NE</td>\n",
       "      <td>628.916667</td>\n",
       "    </tr>\n",
       "    <tr>\n",
       "      <th>27</th>\n",
       "      <td>Nevada</td>\n",
       "      <td>NV</td>\n",
       "      <td>1137.650000</td>\n",
       "    </tr>\n",
       "    <tr>\n",
       "      <th>28</th>\n",
       "      <td>New Hampshire</td>\n",
       "      <td>NH</td>\n",
       "      <td>143.466667</td>\n",
       "    </tr>\n",
       "    <tr>\n",
       "      <th>29</th>\n",
       "      <td>New Jersey</td>\n",
       "      <td>NJ</td>\n",
       "      <td>2512.833333</td>\n",
       "    </tr>\n",
       "    <tr>\n",
       "      <th>30</th>\n",
       "      <td>New Mexico</td>\n",
       "      <td>NM</td>\n",
       "      <td>274.116667</td>\n",
       "    </tr>\n",
       "    <tr>\n",
       "      <th>31</th>\n",
       "      <td>New York</td>\n",
       "      <td>NY</td>\n",
       "      <td>3614.966667</td>\n",
       "    </tr>\n",
       "    <tr>\n",
       "      <th>32</th>\n",
       "      <td>North Carolina</td>\n",
       "      <td>NC</td>\n",
       "      <td>2736.050000</td>\n",
       "    </tr>\n",
       "    <tr>\n",
       "      <th>33</th>\n",
       "      <td>North Dakota</td>\n",
       "      <td>ND</td>\n",
       "      <td>172.800000</td>\n",
       "    </tr>\n",
       "    <tr>\n",
       "      <th>34</th>\n",
       "      <td>Ohio</td>\n",
       "      <td>OH</td>\n",
       "      <td>1990.316667</td>\n",
       "    </tr>\n",
       "    <tr>\n",
       "      <th>35</th>\n",
       "      <td>Oklahoma</td>\n",
       "      <td>OK</td>\n",
       "      <td>567.300000</td>\n",
       "    </tr>\n",
       "    <tr>\n",
       "      <th>36</th>\n",
       "      <td>Oregon</td>\n",
       "      <td>OR</td>\n",
       "      <td>565.666667</td>\n",
       "    </tr>\n",
       "    <tr>\n",
       "      <th>37</th>\n",
       "      <td>Pennsylvania</td>\n",
       "      <td>PA</td>\n",
       "      <td>2321.316667</td>\n",
       "    </tr>\n",
       "    <tr>\n",
       "      <th>38</th>\n",
       "      <td>Puerto Rico</td>\n",
       "      <td>PR</td>\n",
       "      <td>250.283333</td>\n",
       "    </tr>\n",
       "    <tr>\n",
       "      <th>39</th>\n",
       "      <td>Rhode Island</td>\n",
       "      <td>RI</td>\n",
       "      <td>203.416667</td>\n",
       "    </tr>\n",
       "    <tr>\n",
       "      <th>40</th>\n",
       "      <td>South Carolina</td>\n",
       "      <td>SC</td>\n",
       "      <td>495.800000</td>\n",
       "    </tr>\n",
       "    <tr>\n",
       "      <th>41</th>\n",
       "      <td>South Dakota</td>\n",
       "      <td>SD</td>\n",
       "      <td>174.116667</td>\n",
       "    </tr>\n",
       "    <tr>\n",
       "      <th>42</th>\n",
       "      <td>Tennessee</td>\n",
       "      <td>TN</td>\n",
       "      <td>1662.216667</td>\n",
       "    </tr>\n",
       "    <tr>\n",
       "      <th>43</th>\n",
       "      <td>Texas</td>\n",
       "      <td>TX</td>\n",
       "      <td>10650.750000</td>\n",
       "    </tr>\n",
       "    <tr>\n",
       "      <th>44</th>\n",
       "      <td>U.S. Virgin Islands</td>\n",
       "      <td>VI</td>\n",
       "      <td>27.833333</td>\n",
       "    </tr>\n",
       "    <tr>\n",
       "      <th>45</th>\n",
       "      <td>Utah</td>\n",
       "      <td>UT</td>\n",
       "      <td>2212.183333</td>\n",
       "    </tr>\n",
       "    <tr>\n",
       "      <th>46</th>\n",
       "      <td>Vermont</td>\n",
       "      <td>VT</td>\n",
       "      <td>67.033333</td>\n",
       "    </tr>\n",
       "    <tr>\n",
       "      <th>47</th>\n",
       "      <td>Virginia</td>\n",
       "      <td>VA</td>\n",
       "      <td>851.283333</td>\n",
       "    </tr>\n",
       "    <tr>\n",
       "      <th>48</th>\n",
       "      <td>Washington</td>\n",
       "      <td>WA</td>\n",
       "      <td>306.966667</td>\n",
       "    </tr>\n",
       "    <tr>\n",
       "      <th>49</th>\n",
       "      <td>West Virginia</td>\n",
       "      <td>WV</td>\n",
       "      <td>89.766667</td>\n",
       "    </tr>\n",
       "    <tr>\n",
       "      <th>50</th>\n",
       "      <td>Wisconsin</td>\n",
       "      <td>WI</td>\n",
       "      <td>1660.516667</td>\n",
       "    </tr>\n",
       "    <tr>\n",
       "      <th>51</th>\n",
       "      <td>Wyoming</td>\n",
       "      <td>WY</td>\n",
       "      <td>160.883333</td>\n",
       "    </tr>\n",
       "  </tbody>\n",
       "</table>\n",
       "</div>"
      ],
      "text/plain": [
       "         ORIGIN_STATE_NM ORIGIN_STATE_ABR  ARR_DELAY_TIME\n",
       "0                Alabama               AL      604.266667\n",
       "1                 Alaska               AK      283.616667\n",
       "2                Arizona               AZ     1335.333333\n",
       "3               Arkansas               AR      574.166667\n",
       "4             California               CA     4746.866667\n",
       "5               Colorado               CO     4168.516667\n",
       "6            Connecticut               CT      178.233333\n",
       "7   District of Columbia               DC     2112.066667\n",
       "8                Florida               FL     4937.333333\n",
       "9                Georgia               GA     4368.100000\n",
       "10                Hawaii               HI     -110.333333\n",
       "11                 Idaho               ID      270.783333\n",
       "12              Illinois               IL     9214.066667\n",
       "13               Indiana               IN      777.933333\n",
       "14                  Iowa               IA      530.800000\n",
       "15                Kansas               KS      234.916667\n",
       "16              Kentucky               KY      501.133333\n",
       "17             Louisiana               LA      911.933333\n",
       "18                 Maine               ME      115.450000\n",
       "19              Maryland               MD     1749.300000\n",
       "20         Massachusetts               MA      873.683333\n",
       "21              Michigan               MI     2378.950000\n",
       "22             Minnesota               MN     1649.016667\n",
       "23           Mississippi               MS      305.233333\n",
       "24              Missouri               MO     1668.466667\n",
       "25               Montana               MT      292.883333\n",
       "26              Nebraska               NE      628.916667\n",
       "27                Nevada               NV     1137.650000\n",
       "28         New Hampshire               NH      143.466667\n",
       "29            New Jersey               NJ     2512.833333\n",
       "30            New Mexico               NM      274.116667\n",
       "31              New York               NY     3614.966667\n",
       "32        North Carolina               NC     2736.050000\n",
       "33          North Dakota               ND      172.800000\n",
       "34                  Ohio               OH     1990.316667\n",
       "35              Oklahoma               OK      567.300000\n",
       "36                Oregon               OR      565.666667\n",
       "37          Pennsylvania               PA     2321.316667\n",
       "38           Puerto Rico               PR      250.283333\n",
       "39          Rhode Island               RI      203.416667\n",
       "40        South Carolina               SC      495.800000\n",
       "41          South Dakota               SD      174.116667\n",
       "42             Tennessee               TN     1662.216667\n",
       "43                 Texas               TX    10650.750000\n",
       "44   U.S. Virgin Islands               VI       27.833333\n",
       "45                  Utah               UT     2212.183333\n",
       "46               Vermont               VT       67.033333\n",
       "47              Virginia               VA      851.283333\n",
       "48            Washington               WA      306.966667\n",
       "49         West Virginia               WV       89.766667\n",
       "50             Wisconsin               WI     1660.516667\n",
       "51               Wyoming               WY      160.883333"
      ]
     },
     "execution_count": 13,
     "metadata": {},
     "output_type": "execute_result"
    }
   ],
   "source": [
    "# total arrival delay in each city\n",
    "Arrival_delay = df.groupby([\"ORIGIN_STATE_NM\",\"ORIGIN_STATE_ABR\"])[\"ARR_DELAY\"].sum().reset_index(name=\"ARR_DELAY_TIME\")\n",
    "for index in Arrival_delay.index:\n",
    "    Arrival_delay[\"ARR_DELAY_TIME\"][index] =((Arrival_delay[\"ARR_DELAY_TIME\"][index])/60)\n",
    "\n",
    "        \n",
    "# total departure delay in each city\n",
    "Departure_delay = df.groupby([\"ORIGIN_STATE_NM\",\"ORIGIN_STATE_ABR\"])[\"DEP_DELAY\"].sum().reset_index(name=\"DEP_DELAY_TIME\")\n",
    "for index in Departure_delay.index:\n",
    "    Departure_delay[\"DEP_DELAY_TIME\"][index] =((Departure_delay[\"DEP_DELAY_TIME\"][index])/60)\n",
    "    \n",
    "Arrival_delay\n",
    "#Departure_delay"
   ]
  },
  {
   "cell_type": "code",
   "execution_count": null,
   "id": "5d82add2",
   "metadata": {},
   "outputs": [
    {
     "data": {
      "text/html": [
       "<div>\n",
       "<style scoped>\n",
       "    .dataframe tbody tr th:only-of-type {\n",
       "        vertical-align: middle;\n",
       "    }\n",
       "\n",
       "    .dataframe tbody tr th {\n",
       "        vertical-align: top;\n",
       "    }\n",
       "\n",
       "    .dataframe thead th {\n",
       "        text-align: right;\n",
       "    }\n",
       "</style>\n",
       "<table border=\"1\" class=\"dataframe\">\n",
       "  <thead>\n",
       "    <tr style=\"text-align: right;\">\n",
       "      <th></th>\n",
       "      <th>ORIGIN_STATE_NM</th>\n",
       "      <th>ORIGIN_STATE_ABR</th>\n",
       "      <th>DEP_DELAY_TIME</th>\n",
       "    </tr>\n",
       "  </thead>\n",
       "  <tbody>\n",
       "    <tr>\n",
       "      <th>0</th>\n",
       "      <td>Alabama</td>\n",
       "      <td>AL</td>\n",
       "      <td>679.800000</td>\n",
       "    </tr>\n",
       "    <tr>\n",
       "      <th>1</th>\n",
       "      <td>Alaska</td>\n",
       "      <td>AK</td>\n",
       "      <td>318.233333</td>\n",
       "    </tr>\n",
       "    <tr>\n",
       "      <th>2</th>\n",
       "      <td>Arizona</td>\n",
       "      <td>AZ</td>\n",
       "      <td>2610.700000</td>\n",
       "    </tr>\n",
       "    <tr>\n",
       "      <th>3</th>\n",
       "      <td>Arkansas</td>\n",
       "      <td>AR</td>\n",
       "      <td>607.150000</td>\n",
       "    </tr>\n",
       "    <tr>\n",
       "      <th>4</th>\n",
       "      <td>California</td>\n",
       "      <td>CA</td>\n",
       "      <td>10539.100000</td>\n",
       "    </tr>\n",
       "    <tr>\n",
       "      <th>5</th>\n",
       "      <td>Colorado</td>\n",
       "      <td>CO</td>\n",
       "      <td>5020.750000</td>\n",
       "    </tr>\n",
       "    <tr>\n",
       "      <th>6</th>\n",
       "      <td>Connecticut</td>\n",
       "      <td>CT</td>\n",
       "      <td>263.983333</td>\n",
       "    </tr>\n",
       "    <tr>\n",
       "      <th>7</th>\n",
       "      <td>District of Columbia</td>\n",
       "      <td>DC</td>\n",
       "      <td>2296.433333</td>\n",
       "    </tr>\n",
       "    <tr>\n",
       "      <th>8</th>\n",
       "      <td>Florida</td>\n",
       "      <td>FL</td>\n",
       "      <td>8353.200000</td>\n",
       "    </tr>\n",
       "    <tr>\n",
       "      <th>9</th>\n",
       "      <td>Georgia</td>\n",
       "      <td>GA</td>\n",
       "      <td>6871.600000</td>\n",
       "    </tr>\n",
       "    <tr>\n",
       "      <th>10</th>\n",
       "      <td>Hawaii</td>\n",
       "      <td>HI</td>\n",
       "      <td>527.583333</td>\n",
       "    </tr>\n",
       "    <tr>\n",
       "      <th>11</th>\n",
       "      <td>Idaho</td>\n",
       "      <td>ID</td>\n",
       "      <td>275.766667</td>\n",
       "    </tr>\n",
       "    <tr>\n",
       "      <th>12</th>\n",
       "      <td>Illinois</td>\n",
       "      <td>IL</td>\n",
       "      <td>11113.350000</td>\n",
       "    </tr>\n",
       "    <tr>\n",
       "      <th>13</th>\n",
       "      <td>Indiana</td>\n",
       "      <td>IN</td>\n",
       "      <td>856.100000</td>\n",
       "    </tr>\n",
       "    <tr>\n",
       "      <th>14</th>\n",
       "      <td>Iowa</td>\n",
       "      <td>IA</td>\n",
       "      <td>460.066667</td>\n",
       "    </tr>\n",
       "    <tr>\n",
       "      <th>15</th>\n",
       "      <td>Kansas</td>\n",
       "      <td>KS</td>\n",
       "      <td>212.783333</td>\n",
       "    </tr>\n",
       "    <tr>\n",
       "      <th>16</th>\n",
       "      <td>Kentucky</td>\n",
       "      <td>KY</td>\n",
       "      <td>545.333333</td>\n",
       "    </tr>\n",
       "    <tr>\n",
       "      <th>17</th>\n",
       "      <td>Louisiana</td>\n",
       "      <td>LA</td>\n",
       "      <td>1057.350000</td>\n",
       "    </tr>\n",
       "    <tr>\n",
       "      <th>18</th>\n",
       "      <td>Maine</td>\n",
       "      <td>ME</td>\n",
       "      <td>93.500000</td>\n",
       "    </tr>\n",
       "    <tr>\n",
       "      <th>19</th>\n",
       "      <td>Maryland</td>\n",
       "      <td>MD</td>\n",
       "      <td>1989.316667</td>\n",
       "    </tr>\n",
       "    <tr>\n",
       "      <th>20</th>\n",
       "      <td>Massachusetts</td>\n",
       "      <td>MA</td>\n",
       "      <td>1185.333333</td>\n",
       "    </tr>\n",
       "    <tr>\n",
       "      <th>21</th>\n",
       "      <td>Michigan</td>\n",
       "      <td>MI</td>\n",
       "      <td>2835.800000</td>\n",
       "    </tr>\n",
       "    <tr>\n",
       "      <th>22</th>\n",
       "      <td>Minnesota</td>\n",
       "      <td>MN</td>\n",
       "      <td>1829.133333</td>\n",
       "    </tr>\n",
       "    <tr>\n",
       "      <th>23</th>\n",
       "      <td>Mississippi</td>\n",
       "      <td>MS</td>\n",
       "      <td>299.266667</td>\n",
       "    </tr>\n",
       "    <tr>\n",
       "      <th>24</th>\n",
       "      <td>Missouri</td>\n",
       "      <td>MO</td>\n",
       "      <td>2015.366667</td>\n",
       "    </tr>\n",
       "    <tr>\n",
       "      <th>25</th>\n",
       "      <td>Montana</td>\n",
       "      <td>MT</td>\n",
       "      <td>241.450000</td>\n",
       "    </tr>\n",
       "    <tr>\n",
       "      <th>26</th>\n",
       "      <td>Nebraska</td>\n",
       "      <td>NE</td>\n",
       "      <td>584.783333</td>\n",
       "    </tr>\n",
       "    <tr>\n",
       "      <th>27</th>\n",
       "      <td>Nevada</td>\n",
       "      <td>NV</td>\n",
       "      <td>2787.650000</td>\n",
       "    </tr>\n",
       "    <tr>\n",
       "      <th>28</th>\n",
       "      <td>New Hampshire</td>\n",
       "      <td>NH</td>\n",
       "      <td>252.550000</td>\n",
       "    </tr>\n",
       "    <tr>\n",
       "      <th>29</th>\n",
       "      <td>New Jersey</td>\n",
       "      <td>NJ</td>\n",
       "      <td>3015.500000</td>\n",
       "    </tr>\n",
       "    <tr>\n",
       "      <th>30</th>\n",
       "      <td>New Mexico</td>\n",
       "      <td>NM</td>\n",
       "      <td>479.066667</td>\n",
       "    </tr>\n",
       "    <tr>\n",
       "      <th>31</th>\n",
       "      <td>New York</td>\n",
       "      <td>NY</td>\n",
       "      <td>5239.666667</td>\n",
       "    </tr>\n",
       "    <tr>\n",
       "      <th>32</th>\n",
       "      <td>North Carolina</td>\n",
       "      <td>NC</td>\n",
       "      <td>2957.916667</td>\n",
       "    </tr>\n",
       "    <tr>\n",
       "      <th>33</th>\n",
       "      <td>North Dakota</td>\n",
       "      <td>ND</td>\n",
       "      <td>165.216667</td>\n",
       "    </tr>\n",
       "    <tr>\n",
       "      <th>34</th>\n",
       "      <td>Ohio</td>\n",
       "      <td>OH</td>\n",
       "      <td>2266.083333</td>\n",
       "    </tr>\n",
       "    <tr>\n",
       "      <th>35</th>\n",
       "      <td>Oklahoma</td>\n",
       "      <td>OK</td>\n",
       "      <td>676.716667</td>\n",
       "    </tr>\n",
       "    <tr>\n",
       "      <th>36</th>\n",
       "      <td>Oregon</td>\n",
       "      <td>OR</td>\n",
       "      <td>844.200000</td>\n",
       "    </tr>\n",
       "    <tr>\n",
       "      <th>37</th>\n",
       "      <td>Pennsylvania</td>\n",
       "      <td>PA</td>\n",
       "      <td>2447.750000</td>\n",
       "    </tr>\n",
       "    <tr>\n",
       "      <th>38</th>\n",
       "      <td>Puerto Rico</td>\n",
       "      <td>PR</td>\n",
       "      <td>449.633333</td>\n",
       "    </tr>\n",
       "    <tr>\n",
       "      <th>39</th>\n",
       "      <td>Rhode Island</td>\n",
       "      <td>RI</td>\n",
       "      <td>242.616667</td>\n",
       "    </tr>\n",
       "    <tr>\n",
       "      <th>40</th>\n",
       "      <td>South Carolina</td>\n",
       "      <td>SC</td>\n",
       "      <td>520.500000</td>\n",
       "    </tr>\n",
       "    <tr>\n",
       "      <th>41</th>\n",
       "      <td>South Dakota</td>\n",
       "      <td>SD</td>\n",
       "      <td>148.816667</td>\n",
       "    </tr>\n",
       "    <tr>\n",
       "      <th>42</th>\n",
       "      <td>Tennessee</td>\n",
       "      <td>TN</td>\n",
       "      <td>2122.316667</td>\n",
       "    </tr>\n",
       "    <tr>\n",
       "      <th>43</th>\n",
       "      <td>Texas</td>\n",
       "      <td>TX</td>\n",
       "      <td>13012.850000</td>\n",
       "    </tr>\n",
       "    <tr>\n",
       "      <th>44</th>\n",
       "      <td>U.S. Virgin Islands</td>\n",
       "      <td>VI</td>\n",
       "      <td>44.033333</td>\n",
       "    </tr>\n",
       "    <tr>\n",
       "      <th>45</th>\n",
       "      <td>Utah</td>\n",
       "      <td>UT</td>\n",
       "      <td>1890.500000</td>\n",
       "    </tr>\n",
       "    <tr>\n",
       "      <th>46</th>\n",
       "      <td>Vermont</td>\n",
       "      <td>VT</td>\n",
       "      <td>71.866667</td>\n",
       "    </tr>\n",
       "    <tr>\n",
       "      <th>47</th>\n",
       "      <td>Virginia</td>\n",
       "      <td>VA</td>\n",
       "      <td>785.766667</td>\n",
       "    </tr>\n",
       "    <tr>\n",
       "      <th>48</th>\n",
       "      <td>Washington</td>\n",
       "      <td>WA</td>\n",
       "      <td>1036.550000</td>\n",
       "    </tr>\n",
       "    <tr>\n",
       "      <th>49</th>\n",
       "      <td>West Virginia</td>\n",
       "      <td>WV</td>\n",
       "      <td>73.316667</td>\n",
       "    </tr>\n",
       "    <tr>\n",
       "      <th>50</th>\n",
       "      <td>Wisconsin</td>\n",
       "      <td>WI</td>\n",
       "      <td>1517.283333</td>\n",
       "    </tr>\n",
       "    <tr>\n",
       "      <th>51</th>\n",
       "      <td>Wyoming</td>\n",
       "      <td>WY</td>\n",
       "      <td>161.533333</td>\n",
       "    </tr>\n",
       "  </tbody>\n",
       "</table>\n",
       "</div>"
      ],
      "text/plain": [
       "         ORIGIN_STATE_NM ORIGIN_STATE_ABR  DEP_DELAY_TIME\n",
       "0                Alabama               AL      679.800000\n",
       "1                 Alaska               AK      318.233333\n",
       "2                Arizona               AZ     2610.700000\n",
       "3               Arkansas               AR      607.150000\n",
       "4             California               CA    10539.100000\n",
       "5               Colorado               CO     5020.750000\n",
       "6            Connecticut               CT      263.983333\n",
       "7   District of Columbia               DC     2296.433333\n",
       "8                Florida               FL     8353.200000\n",
       "9                Georgia               GA     6871.600000\n",
       "10                Hawaii               HI      527.583333\n",
       "11                 Idaho               ID      275.766667\n",
       "12              Illinois               IL    11113.350000\n",
       "13               Indiana               IN      856.100000\n",
       "14                  Iowa               IA      460.066667\n",
       "15                Kansas               KS      212.783333\n",
       "16              Kentucky               KY      545.333333\n",
       "17             Louisiana               LA     1057.350000\n",
       "18                 Maine               ME       93.500000\n",
       "19              Maryland               MD     1989.316667\n",
       "20         Massachusetts               MA     1185.333333\n",
       "21              Michigan               MI     2835.800000\n",
       "22             Minnesota               MN     1829.133333\n",
       "23           Mississippi               MS      299.266667\n",
       "24              Missouri               MO     2015.366667\n",
       "25               Montana               MT      241.450000\n",
       "26              Nebraska               NE      584.783333\n",
       "27                Nevada               NV     2787.650000\n",
       "28         New Hampshire               NH      252.550000\n",
       "29            New Jersey               NJ     3015.500000\n",
       "30            New Mexico               NM      479.066667\n",
       "31              New York               NY     5239.666667\n",
       "32        North Carolina               NC     2957.916667\n",
       "33          North Dakota               ND      165.216667\n",
       "34                  Ohio               OH     2266.083333\n",
       "35              Oklahoma               OK      676.716667\n",
       "36                Oregon               OR      844.200000\n",
       "37          Pennsylvania               PA     2447.750000\n",
       "38           Puerto Rico               PR      449.633333\n",
       "39          Rhode Island               RI      242.616667\n",
       "40        South Carolina               SC      520.500000\n",
       "41          South Dakota               SD      148.816667\n",
       "42             Tennessee               TN     2122.316667\n",
       "43                 Texas               TX    13012.850000\n",
       "44   U.S. Virgin Islands               VI       44.033333\n",
       "45                  Utah               UT     1890.500000\n",
       "46               Vermont               VT       71.866667\n",
       "47              Virginia               VA      785.766667\n",
       "48            Washington               WA     1036.550000\n",
       "49         West Virginia               WV       73.316667\n",
       "50             Wisconsin               WI     1517.283333\n",
       "51               Wyoming               WY      161.533333"
      ]
     },
     "execution_count": 14,
     "metadata": {},
     "output_type": "execute_result"
    }
   ],
   "source": [
    "Departure_delay"
   ]
  },
  {
   "cell_type": "code",
   "execution_count": null,
   "id": "10092cfb",
   "metadata": {},
   "outputs": [
    {
     "data": {
      "application/vnd.plotly.v1+json": {
       "config": {
        "plotlyServerURL": "https://plot.ly"
       },
       "data": [
        {
         "coloraxis": "coloraxis",
         "customdata": [
          [
           "Alabama",
           "AL",
           604.2666666666667
          ],
          [
           "Alaska",
           "AK",
           283.6166666666667
          ],
          [
           "Arizona",
           "AZ",
           1335.3333333333333
          ],
          [
           "Arkansas",
           "AR",
           574.1666666666666
          ],
          [
           "California",
           "CA",
           4746.866666666667
          ],
          [
           "Colorado",
           "CO",
           4168.516666666666
          ],
          [
           "Connecticut",
           "CT",
           178.23333333333332
          ],
          [
           "District of Columbia",
           "DC",
           2112.0666666666666
          ],
          [
           "Florida",
           "FL",
           4937.333333333333
          ],
          [
           "Georgia",
           "GA",
           4368.1
          ],
          [
           "Hawaii",
           "HI",
           -110.33333333333333
          ],
          [
           "Idaho",
           "ID",
           270.78333333333336
          ],
          [
           "Illinois",
           "IL",
           9214.066666666668
          ],
          [
           "Indiana",
           "IN",
           777.9333333333333
          ],
          [
           "Iowa",
           "IA",
           530.8
          ],
          [
           "Kansas",
           "KS",
           234.91666666666666
          ],
          [
           "Kentucky",
           "KY",
           501.1333333333333
          ],
          [
           "Louisiana",
           "LA",
           911.9333333333333
          ],
          [
           "Maine",
           "ME",
           115.45
          ],
          [
           "Maryland",
           "MD",
           1749.3
          ],
          [
           "Massachusetts",
           "MA",
           873.6833333333333
          ],
          [
           "Michigan",
           "MI",
           2378.95
          ],
          [
           "Minnesota",
           "MN",
           1649.0166666666667
          ],
          [
           "Mississippi",
           "MS",
           305.23333333333335
          ],
          [
           "Missouri",
           "MO",
           1668.4666666666667
          ],
          [
           "Montana",
           "MT",
           292.8833333333333
          ],
          [
           "Nebraska",
           "NE",
           628.9166666666666
          ],
          [
           "Nevada",
           "NV",
           1137.65
          ],
          [
           "New Hampshire",
           "NH",
           143.46666666666667
          ],
          [
           "New Jersey",
           "NJ",
           2512.8333333333335
          ],
          [
           "New Mexico",
           "NM",
           274.1166666666667
          ],
          [
           "New York",
           "NY",
           3614.9666666666667
          ],
          [
           "North Carolina",
           "NC",
           2736.05
          ],
          [
           "North Dakota",
           "ND",
           172.8
          ],
          [
           "Ohio",
           "OH",
           1990.3166666666666
          ],
          [
           "Oklahoma",
           "OK",
           567.3
          ],
          [
           "Oregon",
           "OR",
           565.6666666666666
          ],
          [
           "Pennsylvania",
           "PA",
           2321.3166666666666
          ],
          [
           "Puerto Rico",
           "PR",
           250.28333333333333
          ],
          [
           "Rhode Island",
           "RI",
           203.41666666666666
          ],
          [
           "South Carolina",
           "SC",
           495.8
          ],
          [
           "South Dakota",
           "SD",
           174.11666666666667
          ],
          [
           "Tennessee",
           "TN",
           1662.2166666666667
          ],
          [
           "Texas",
           "TX",
           10650.75
          ],
          [
           "U.S. Virgin Islands",
           "VI",
           27.833333333333332
          ],
          [
           "Utah",
           "UT",
           2212.1833333333334
          ],
          [
           "Vermont",
           "VT",
           67.03333333333333
          ],
          [
           "Virginia",
           "VA",
           851.2833333333333
          ],
          [
           "Washington",
           "WA",
           306.96666666666664
          ],
          [
           "West Virginia",
           "WV",
           89.76666666666667
          ],
          [
           "Wisconsin",
           "WI",
           1660.5166666666667
          ],
          [
           "Wyoming",
           "WY",
           160.88333333333333
          ]
         ],
         "geo": "geo",
         "hovertemplate": "ORIGIN_STATE_ABR=%{customdata[1]}<br>ORIGIN_STATE_NM=%{customdata[0]}<br>ARR_DELAY_TIME=%{z}<extra></extra>",
         "locationmode": "USA-states",
         "locations": [
          "AL",
          "AK",
          "AZ",
          "AR",
          "CA",
          "CO",
          "CT",
          "DC",
          "FL",
          "GA",
          "HI",
          "ID",
          "IL",
          "IN",
          "IA",
          "KS",
          "KY",
          "LA",
          "ME",
          "MD",
          "MA",
          "MI",
          "MN",
          "MS",
          "MO",
          "MT",
          "NE",
          "NV",
          "NH",
          "NJ",
          "NM",
          "NY",
          "NC",
          "ND",
          "OH",
          "OK",
          "OR",
          "PA",
          "PR",
          "RI",
          "SC",
          "SD",
          "TN",
          "TX",
          "VI",
          "UT",
          "VT",
          "VA",
          "WA",
          "WV",
          "WI",
          "WY"
         ],
         "name": "",
         "type": "choropleth",
         "z": [
          604.2666666666667,
          283.6166666666667,
          1335.3333333333333,
          574.1666666666666,
          4746.866666666667,
          4168.516666666666,
          178.23333333333332,
          2112.0666666666666,
          4937.333333333333,
          4368.1,
          -110.33333333333333,
          270.78333333333336,
          9214.066666666668,
          777.9333333333333,
          530.8,
          234.91666666666666,
          501.1333333333333,
          911.9333333333333,
          115.45,
          1749.3,
          873.6833333333333,
          2378.95,
          1649.0166666666667,
          305.23333333333335,
          1668.4666666666667,
          292.8833333333333,
          628.9166666666666,
          1137.65,
          143.46666666666667,
          2512.8333333333335,
          274.1166666666667,
          3614.9666666666667,
          2736.05,
          172.8,
          1990.3166666666666,
          567.3,
          565.6666666666666,
          2321.3166666666666,
          250.28333333333333,
          203.41666666666666,
          495.8,
          174.11666666666667,
          1662.2166666666667,
          10650.75,
          27.833333333333332,
          2212.1833333333334,
          67.03333333333333,
          851.2833333333333,
          306.96666666666664,
          89.76666666666667,
          1660.5166666666667,
          160.88333333333333
         ]
        }
       ],
       "layout": {
        "coloraxis": {
         "colorbar": {
          "title": {
           "text": "ARR_DELAY_TIME"
          }
         },
         "colorscale": [
          [
           0,
           "#0d0887"
          ],
          [
           0.1111111111111111,
           "#46039f"
          ],
          [
           0.2222222222222222,
           "#7201a8"
          ],
          [
           0.3333333333333333,
           "#9c179e"
          ],
          [
           0.4444444444444444,
           "#bd3786"
          ],
          [
           0.5555555555555556,
           "#d8576b"
          ],
          [
           0.6666666666666666,
           "#ed7953"
          ],
          [
           0.7777777777777778,
           "#fb9f3a"
          ],
          [
           0.8888888888888888,
           "#fdca26"
          ],
          [
           1,
           "#f0f921"
          ]
         ]
        },
        "geo": {
         "center": {},
         "domain": {
          "x": [
           0,
           1
          ],
          "y": [
           0,
           1
          ]
         },
         "scope": "usa"
        },
        "legend": {
         "tracegroupgap": 0
        },
        "margin": {
         "t": 60
        },
        "template": {
         "data": {
          "bar": [
           {
            "error_x": {
             "color": "#2a3f5f"
            },
            "error_y": {
             "color": "#2a3f5f"
            },
            "marker": {
             "line": {
              "color": "#E5ECF6",
              "width": 0.5
             },
             "pattern": {
              "fillmode": "overlay",
              "size": 10,
              "solidity": 0.2
             }
            },
            "type": "bar"
           }
          ],
          "barpolar": [
           {
            "marker": {
             "line": {
              "color": "#E5ECF6",
              "width": 0.5
             },
             "pattern": {
              "fillmode": "overlay",
              "size": 10,
              "solidity": 0.2
             }
            },
            "type": "barpolar"
           }
          ],
          "carpet": [
           {
            "aaxis": {
             "endlinecolor": "#2a3f5f",
             "gridcolor": "white",
             "linecolor": "white",
             "minorgridcolor": "white",
             "startlinecolor": "#2a3f5f"
            },
            "baxis": {
             "endlinecolor": "#2a3f5f",
             "gridcolor": "white",
             "linecolor": "white",
             "minorgridcolor": "white",
             "startlinecolor": "#2a3f5f"
            },
            "type": "carpet"
           }
          ],
          "choropleth": [
           {
            "colorbar": {
             "outlinewidth": 0,
             "ticks": ""
            },
            "type": "choropleth"
           }
          ],
          "contour": [
           {
            "colorbar": {
             "outlinewidth": 0,
             "ticks": ""
            },
            "colorscale": [
             [
              0,
              "#0d0887"
             ],
             [
              0.1111111111111111,
              "#46039f"
             ],
             [
              0.2222222222222222,
              "#7201a8"
             ],
             [
              0.3333333333333333,
              "#9c179e"
             ],
             [
              0.4444444444444444,
              "#bd3786"
             ],
             [
              0.5555555555555556,
              "#d8576b"
             ],
             [
              0.6666666666666666,
              "#ed7953"
             ],
             [
              0.7777777777777778,
              "#fb9f3a"
             ],
             [
              0.8888888888888888,
              "#fdca26"
             ],
             [
              1,
              "#f0f921"
             ]
            ],
            "type": "contour"
           }
          ],
          "contourcarpet": [
           {
            "colorbar": {
             "outlinewidth": 0,
             "ticks": ""
            },
            "type": "contourcarpet"
           }
          ],
          "heatmap": [
           {
            "colorbar": {
             "outlinewidth": 0,
             "ticks": ""
            },
            "colorscale": [
             [
              0,
              "#0d0887"
             ],
             [
              0.1111111111111111,
              "#46039f"
             ],
             [
              0.2222222222222222,
              "#7201a8"
             ],
             [
              0.3333333333333333,
              "#9c179e"
             ],
             [
              0.4444444444444444,
              "#bd3786"
             ],
             [
              0.5555555555555556,
              "#d8576b"
             ],
             [
              0.6666666666666666,
              "#ed7953"
             ],
             [
              0.7777777777777778,
              "#fb9f3a"
             ],
             [
              0.8888888888888888,
              "#fdca26"
             ],
             [
              1,
              "#f0f921"
             ]
            ],
            "type": "heatmap"
           }
          ],
          "heatmapgl": [
           {
            "colorbar": {
             "outlinewidth": 0,
             "ticks": ""
            },
            "colorscale": [
             [
              0,
              "#0d0887"
             ],
             [
              0.1111111111111111,
              "#46039f"
             ],
             [
              0.2222222222222222,
              "#7201a8"
             ],
             [
              0.3333333333333333,
              "#9c179e"
             ],
             [
              0.4444444444444444,
              "#bd3786"
             ],
             [
              0.5555555555555556,
              "#d8576b"
             ],
             [
              0.6666666666666666,
              "#ed7953"
             ],
             [
              0.7777777777777778,
              "#fb9f3a"
             ],
             [
              0.8888888888888888,
              "#fdca26"
             ],
             [
              1,
              "#f0f921"
             ]
            ],
            "type": "heatmapgl"
           }
          ],
          "histogram": [
           {
            "marker": {
             "pattern": {
              "fillmode": "overlay",
              "size": 10,
              "solidity": 0.2
             }
            },
            "type": "histogram"
           }
          ],
          "histogram2d": [
           {
            "colorbar": {
             "outlinewidth": 0,
             "ticks": ""
            },
            "colorscale": [
             [
              0,
              "#0d0887"
             ],
             [
              0.1111111111111111,
              "#46039f"
             ],
             [
              0.2222222222222222,
              "#7201a8"
             ],
             [
              0.3333333333333333,
              "#9c179e"
             ],
             [
              0.4444444444444444,
              "#bd3786"
             ],
             [
              0.5555555555555556,
              "#d8576b"
             ],
             [
              0.6666666666666666,
              "#ed7953"
             ],
             [
              0.7777777777777778,
              "#fb9f3a"
             ],
             [
              0.8888888888888888,
              "#fdca26"
             ],
             [
              1,
              "#f0f921"
             ]
            ],
            "type": "histogram2d"
           }
          ],
          "histogram2dcontour": [
           {
            "colorbar": {
             "outlinewidth": 0,
             "ticks": ""
            },
            "colorscale": [
             [
              0,
              "#0d0887"
             ],
             [
              0.1111111111111111,
              "#46039f"
             ],
             [
              0.2222222222222222,
              "#7201a8"
             ],
             [
              0.3333333333333333,
              "#9c179e"
             ],
             [
              0.4444444444444444,
              "#bd3786"
             ],
             [
              0.5555555555555556,
              "#d8576b"
             ],
             [
              0.6666666666666666,
              "#ed7953"
             ],
             [
              0.7777777777777778,
              "#fb9f3a"
             ],
             [
              0.8888888888888888,
              "#fdca26"
             ],
             [
              1,
              "#f0f921"
             ]
            ],
            "type": "histogram2dcontour"
           }
          ],
          "mesh3d": [
           {
            "colorbar": {
             "outlinewidth": 0,
             "ticks": ""
            },
            "type": "mesh3d"
           }
          ],
          "parcoords": [
           {
            "line": {
             "colorbar": {
              "outlinewidth": 0,
              "ticks": ""
             }
            },
            "type": "parcoords"
           }
          ],
          "pie": [
           {
            "automargin": true,
            "type": "pie"
           }
          ],
          "scatter": [
           {
            "marker": {
             "colorbar": {
              "outlinewidth": 0,
              "ticks": ""
             }
            },
            "type": "scatter"
           }
          ],
          "scatter3d": [
           {
            "line": {
             "colorbar": {
              "outlinewidth": 0,
              "ticks": ""
             }
            },
            "marker": {
             "colorbar": {
              "outlinewidth": 0,
              "ticks": ""
             }
            },
            "type": "scatter3d"
           }
          ],
          "scattercarpet": [
           {
            "marker": {
             "colorbar": {
              "outlinewidth": 0,
              "ticks": ""
             }
            },
            "type": "scattercarpet"
           }
          ],
          "scattergeo": [
           {
            "marker": {
             "colorbar": {
              "outlinewidth": 0,
              "ticks": ""
             }
            },
            "type": "scattergeo"
           }
          ],
          "scattergl": [
           {
            "marker": {
             "colorbar": {
              "outlinewidth": 0,
              "ticks": ""
             }
            },
            "type": "scattergl"
           }
          ],
          "scattermapbox": [
           {
            "marker": {
             "colorbar": {
              "outlinewidth": 0,
              "ticks": ""
             }
            },
            "type": "scattermapbox"
           }
          ],
          "scatterpolar": [
           {
            "marker": {
             "colorbar": {
              "outlinewidth": 0,
              "ticks": ""
             }
            },
            "type": "scatterpolar"
           }
          ],
          "scatterpolargl": [
           {
            "marker": {
             "colorbar": {
              "outlinewidth": 0,
              "ticks": ""
             }
            },
            "type": "scatterpolargl"
           }
          ],
          "scatterternary": [
           {
            "marker": {
             "colorbar": {
              "outlinewidth": 0,
              "ticks": ""
             }
            },
            "type": "scatterternary"
           }
          ],
          "surface": [
           {
            "colorbar": {
             "outlinewidth": 0,
             "ticks": ""
            },
            "colorscale": [
             [
              0,
              "#0d0887"
             ],
             [
              0.1111111111111111,
              "#46039f"
             ],
             [
              0.2222222222222222,
              "#7201a8"
             ],
             [
              0.3333333333333333,
              "#9c179e"
             ],
             [
              0.4444444444444444,
              "#bd3786"
             ],
             [
              0.5555555555555556,
              "#d8576b"
             ],
             [
              0.6666666666666666,
              "#ed7953"
             ],
             [
              0.7777777777777778,
              "#fb9f3a"
             ],
             [
              0.8888888888888888,
              "#fdca26"
             ],
             [
              1,
              "#f0f921"
             ]
            ],
            "type": "surface"
           }
          ],
          "table": [
           {
            "cells": {
             "fill": {
              "color": "#EBF0F8"
             },
             "line": {
              "color": "white"
             }
            },
            "header": {
             "fill": {
              "color": "#C8D4E3"
             },
             "line": {
              "color": "white"
             }
            },
            "type": "table"
           }
          ]
         },
         "layout": {
          "annotationdefaults": {
           "arrowcolor": "#2a3f5f",
           "arrowhead": 0,
           "arrowwidth": 1
          },
          "autotypenumbers": "strict",
          "coloraxis": {
           "colorbar": {
            "outlinewidth": 0,
            "ticks": ""
           }
          },
          "colorscale": {
           "diverging": [
            [
             0,
             "#8e0152"
            ],
            [
             0.1,
             "#c51b7d"
            ],
            [
             0.2,
             "#de77ae"
            ],
            [
             0.3,
             "#f1b6da"
            ],
            [
             0.4,
             "#fde0ef"
            ],
            [
             0.5,
             "#f7f7f7"
            ],
            [
             0.6,
             "#e6f5d0"
            ],
            [
             0.7,
             "#b8e186"
            ],
            [
             0.8,
             "#7fbc41"
            ],
            [
             0.9,
             "#4d9221"
            ],
            [
             1,
             "#276419"
            ]
           ],
           "sequential": [
            [
             0,
             "#0d0887"
            ],
            [
             0.1111111111111111,
             "#46039f"
            ],
            [
             0.2222222222222222,
             "#7201a8"
            ],
            [
             0.3333333333333333,
             "#9c179e"
            ],
            [
             0.4444444444444444,
             "#bd3786"
            ],
            [
             0.5555555555555556,
             "#d8576b"
            ],
            [
             0.6666666666666666,
             "#ed7953"
            ],
            [
             0.7777777777777778,
             "#fb9f3a"
            ],
            [
             0.8888888888888888,
             "#fdca26"
            ],
            [
             1,
             "#f0f921"
            ]
           ],
           "sequentialminus": [
            [
             0,
             "#0d0887"
            ],
            [
             0.1111111111111111,
             "#46039f"
            ],
            [
             0.2222222222222222,
             "#7201a8"
            ],
            [
             0.3333333333333333,
             "#9c179e"
            ],
            [
             0.4444444444444444,
             "#bd3786"
            ],
            [
             0.5555555555555556,
             "#d8576b"
            ],
            [
             0.6666666666666666,
             "#ed7953"
            ],
            [
             0.7777777777777778,
             "#fb9f3a"
            ],
            [
             0.8888888888888888,
             "#fdca26"
            ],
            [
             1,
             "#f0f921"
            ]
           ]
          },
          "colorway": [
           "#636efa",
           "#EF553B",
           "#00cc96",
           "#ab63fa",
           "#FFA15A",
           "#19d3f3",
           "#FF6692",
           "#B6E880",
           "#FF97FF",
           "#FECB52"
          ],
          "font": {
           "color": "#2a3f5f"
          },
          "geo": {
           "bgcolor": "white",
           "lakecolor": "white",
           "landcolor": "#E5ECF6",
           "showlakes": true,
           "showland": true,
           "subunitcolor": "white"
          },
          "hoverlabel": {
           "align": "left"
          },
          "hovermode": "closest",
          "mapbox": {
           "style": "light"
          },
          "paper_bgcolor": "white",
          "plot_bgcolor": "#E5ECF6",
          "polar": {
           "angularaxis": {
            "gridcolor": "white",
            "linecolor": "white",
            "ticks": ""
           },
           "bgcolor": "#E5ECF6",
           "radialaxis": {
            "gridcolor": "white",
            "linecolor": "white",
            "ticks": ""
           }
          },
          "scene": {
           "xaxis": {
            "backgroundcolor": "#E5ECF6",
            "gridcolor": "white",
            "gridwidth": 2,
            "linecolor": "white",
            "showbackground": true,
            "ticks": "",
            "zerolinecolor": "white"
           },
           "yaxis": {
            "backgroundcolor": "#E5ECF6",
            "gridcolor": "white",
            "gridwidth": 2,
            "linecolor": "white",
            "showbackground": true,
            "ticks": "",
            "zerolinecolor": "white"
           },
           "zaxis": {
            "backgroundcolor": "#E5ECF6",
            "gridcolor": "white",
            "gridwidth": 2,
            "linecolor": "white",
            "showbackground": true,
            "ticks": "",
            "zerolinecolor": "white"
           }
          },
          "shapedefaults": {
           "line": {
            "color": "#2a3f5f"
           }
          },
          "ternary": {
           "aaxis": {
            "gridcolor": "white",
            "linecolor": "white",
            "ticks": ""
           },
           "baxis": {
            "gridcolor": "white",
            "linecolor": "white",
            "ticks": ""
           },
           "bgcolor": "#E5ECF6",
           "caxis": {
            "gridcolor": "white",
            "linecolor": "white",
            "ticks": ""
           }
          },
          "title": {
           "x": 0.05
          },
          "xaxis": {
           "automargin": true,
           "gridcolor": "white",
           "linecolor": "white",
           "ticks": "",
           "title": {
            "standoff": 15
           },
           "zerolinecolor": "white",
           "zerolinewidth": 2
          },
          "yaxis": {
           "automargin": true,
           "gridcolor": "white",
           "linecolor": "white",
           "ticks": "",
           "title": {
            "standoff": 15
           },
           "zerolinecolor": "white",
           "zerolinewidth": 2
          }
         }
        },
        "title": {
         "text": "Total arrival delay (in Hours)"
        }
       }
      }
     },
     "metadata": {},
     "output_type": "display_data"
    }
   ],
   "source": [
    "figsize=(16, 12)\n",
    "\n",
    "fig = px.choropleth(Arrival_delay, locations='ORIGIN_STATE_ABR',\n",
    "                    locationmode=\"USA-states\", color='ARR_DELAY_TIME',hover_data =[\"ORIGIN_STATE_NM\",\"ORIGIN_STATE_ABR\",\"ARR_DELAY_TIME\"])\n",
    "\n",
    "fig.update_layout(\n",
    "    title_text = 'Total arrival delay (in Hours)',\n",
    "    geo_scope='usa', # limite map scope to USA\n",
    ")\n",
    "\n",
    "fig.show()"
   ]
  },
  {
   "cell_type": "code",
   "execution_count": null,
   "id": "40e35020",
   "metadata": {
    "scrolled": false
   },
   "outputs": [
    {
     "data": {
      "application/vnd.plotly.v1+json": {
       "config": {
        "plotlyServerURL": "https://plot.ly"
       },
       "data": [
        {
         "coloraxis": "coloraxis",
         "customdata": [
          [
           "Alabama",
           "AL",
           679.8
          ],
          [
           "Alaska",
           "AK",
           318.23333333333335
          ],
          [
           "Arizona",
           "AZ",
           2610.7
          ],
          [
           "Arkansas",
           "AR",
           607.15
          ],
          [
           "California",
           "CA",
           10539.1
          ],
          [
           "Colorado",
           "CO",
           5020.75
          ],
          [
           "Connecticut",
           "CT",
           263.98333333333335
          ],
          [
           "District of Columbia",
           "DC",
           2296.4333333333334
          ],
          [
           "Florida",
           "FL",
           8353.2
          ],
          [
           "Georgia",
           "GA",
           6871.6
          ],
          [
           "Hawaii",
           "HI",
           527.5833333333334
          ],
          [
           "Idaho",
           "ID",
           275.76666666666665
          ],
          [
           "Illinois",
           "IL",
           11113.35
          ],
          [
           "Indiana",
           "IN",
           856.1
          ],
          [
           "Iowa",
           "IA",
           460.06666666666666
          ],
          [
           "Kansas",
           "KS",
           212.78333333333333
          ],
          [
           "Kentucky",
           "KY",
           545.3333333333334
          ],
          [
           "Louisiana",
           "LA",
           1057.35
          ],
          [
           "Maine",
           "ME",
           93.5
          ],
          [
           "Maryland",
           "MD",
           1989.3166666666666
          ],
          [
           "Massachusetts",
           "MA",
           1185.3333333333333
          ],
          [
           "Michigan",
           "MI",
           2835.8
          ],
          [
           "Minnesota",
           "MN",
           1829.1333333333334
          ],
          [
           "Mississippi",
           "MS",
           299.26666666666665
          ],
          [
           "Missouri",
           "MO",
           2015.3666666666666
          ],
          [
           "Montana",
           "MT",
           241.45
          ],
          [
           "Nebraska",
           "NE",
           584.7833333333333
          ],
          [
           "Nevada",
           "NV",
           2787.65
          ],
          [
           "New Hampshire",
           "NH",
           252.55
          ],
          [
           "New Jersey",
           "NJ",
           3015.5
          ],
          [
           "New Mexico",
           "NM",
           479.06666666666666
          ],
          [
           "New York",
           "NY",
           5239.666666666667
          ],
          [
           "North Carolina",
           "NC",
           2957.9166666666665
          ],
          [
           "North Dakota",
           "ND",
           165.21666666666667
          ],
          [
           "Ohio",
           "OH",
           2266.0833333333335
          ],
          [
           "Oklahoma",
           "OK",
           676.7166666666667
          ],
          [
           "Oregon",
           "OR",
           844.2
          ],
          [
           "Pennsylvania",
           "PA",
           2447.75
          ],
          [
           "Puerto Rico",
           "PR",
           449.6333333333333
          ],
          [
           "Rhode Island",
           "RI",
           242.61666666666667
          ],
          [
           "South Carolina",
           "SC",
           520.5
          ],
          [
           "South Dakota",
           "SD",
           148.81666666666666
          ],
          [
           "Tennessee",
           "TN",
           2122.3166666666666
          ],
          [
           "Texas",
           "TX",
           13012.85
          ],
          [
           "U.S. Virgin Islands",
           "VI",
           44.03333333333333
          ],
          [
           "Utah",
           "UT",
           1890.5
          ],
          [
           "Vermont",
           "VT",
           71.86666666666666
          ],
          [
           "Virginia",
           "VA",
           785.7666666666667
          ],
          [
           "Washington",
           "WA",
           1036.55
          ],
          [
           "West Virginia",
           "WV",
           73.31666666666666
          ],
          [
           "Wisconsin",
           "WI",
           1517.2833333333333
          ],
          [
           "Wyoming",
           "WY",
           161.53333333333333
          ]
         ],
         "geo": "geo",
         "hovertemplate": "ORIGIN_STATE_ABR=%{customdata[1]}<br>ORIGIN_STATE_NM=%{customdata[0]}<br>DEP_DELAY_TIME=%{z}<extra></extra>",
         "locationmode": "USA-states",
         "locations": [
          "AL",
          "AK",
          "AZ",
          "AR",
          "CA",
          "CO",
          "CT",
          "DC",
          "FL",
          "GA",
          "HI",
          "ID",
          "IL",
          "IN",
          "IA",
          "KS",
          "KY",
          "LA",
          "ME",
          "MD",
          "MA",
          "MI",
          "MN",
          "MS",
          "MO",
          "MT",
          "NE",
          "NV",
          "NH",
          "NJ",
          "NM",
          "NY",
          "NC",
          "ND",
          "OH",
          "OK",
          "OR",
          "PA",
          "PR",
          "RI",
          "SC",
          "SD",
          "TN",
          "TX",
          "VI",
          "UT",
          "VT",
          "VA",
          "WA",
          "WV",
          "WI",
          "WY"
         ],
         "name": "",
         "type": "choropleth",
         "z": [
          679.8,
          318.23333333333335,
          2610.7,
          607.15,
          10539.1,
          5020.75,
          263.98333333333335,
          2296.4333333333334,
          8353.2,
          6871.6,
          527.5833333333334,
          275.76666666666665,
          11113.35,
          856.1,
          460.06666666666666,
          212.78333333333333,
          545.3333333333334,
          1057.35,
          93.5,
          1989.3166666666666,
          1185.3333333333333,
          2835.8,
          1829.1333333333334,
          299.26666666666665,
          2015.3666666666666,
          241.45,
          584.7833333333333,
          2787.65,
          252.55,
          3015.5,
          479.06666666666666,
          5239.666666666667,
          2957.9166666666665,
          165.21666666666667,
          2266.0833333333335,
          676.7166666666667,
          844.2,
          2447.75,
          449.6333333333333,
          242.61666666666667,
          520.5,
          148.81666666666666,
          2122.3166666666666,
          13012.85,
          44.03333333333333,
          1890.5,
          71.86666666666666,
          785.7666666666667,
          1036.55,
          73.31666666666666,
          1517.2833333333333,
          161.53333333333333
         ]
        }
       ],
       "layout": {
        "coloraxis": {
         "colorbar": {
          "title": {
           "text": "DEP_DELAY_TIME"
          }
         },
         "colorscale": [
          [
           0,
           "#0d0887"
          ],
          [
           0.1111111111111111,
           "#46039f"
          ],
          [
           0.2222222222222222,
           "#7201a8"
          ],
          [
           0.3333333333333333,
           "#9c179e"
          ],
          [
           0.4444444444444444,
           "#bd3786"
          ],
          [
           0.5555555555555556,
           "#d8576b"
          ],
          [
           0.6666666666666666,
           "#ed7953"
          ],
          [
           0.7777777777777778,
           "#fb9f3a"
          ],
          [
           0.8888888888888888,
           "#fdca26"
          ],
          [
           1,
           "#f0f921"
          ]
         ]
        },
        "geo": {
         "center": {},
         "domain": {
          "x": [
           0,
           1
          ],
          "y": [
           0,
           1
          ]
         },
         "scope": "usa"
        },
        "legend": {
         "tracegroupgap": 0
        },
        "margin": {
         "t": 60
        },
        "template": {
         "data": {
          "bar": [
           {
            "error_x": {
             "color": "#2a3f5f"
            },
            "error_y": {
             "color": "#2a3f5f"
            },
            "marker": {
             "line": {
              "color": "#E5ECF6",
              "width": 0.5
             },
             "pattern": {
              "fillmode": "overlay",
              "size": 10,
              "solidity": 0.2
             }
            },
            "type": "bar"
           }
          ],
          "barpolar": [
           {
            "marker": {
             "line": {
              "color": "#E5ECF6",
              "width": 0.5
             },
             "pattern": {
              "fillmode": "overlay",
              "size": 10,
              "solidity": 0.2
             }
            },
            "type": "barpolar"
           }
          ],
          "carpet": [
           {
            "aaxis": {
             "endlinecolor": "#2a3f5f",
             "gridcolor": "white",
             "linecolor": "white",
             "minorgridcolor": "white",
             "startlinecolor": "#2a3f5f"
            },
            "baxis": {
             "endlinecolor": "#2a3f5f",
             "gridcolor": "white",
             "linecolor": "white",
             "minorgridcolor": "white",
             "startlinecolor": "#2a3f5f"
            },
            "type": "carpet"
           }
          ],
          "choropleth": [
           {
            "colorbar": {
             "outlinewidth": 0,
             "ticks": ""
            },
            "type": "choropleth"
           }
          ],
          "contour": [
           {
            "colorbar": {
             "outlinewidth": 0,
             "ticks": ""
            },
            "colorscale": [
             [
              0,
              "#0d0887"
             ],
             [
              0.1111111111111111,
              "#46039f"
             ],
             [
              0.2222222222222222,
              "#7201a8"
             ],
             [
              0.3333333333333333,
              "#9c179e"
             ],
             [
              0.4444444444444444,
              "#bd3786"
             ],
             [
              0.5555555555555556,
              "#d8576b"
             ],
             [
              0.6666666666666666,
              "#ed7953"
             ],
             [
              0.7777777777777778,
              "#fb9f3a"
             ],
             [
              0.8888888888888888,
              "#fdca26"
             ],
             [
              1,
              "#f0f921"
             ]
            ],
            "type": "contour"
           }
          ],
          "contourcarpet": [
           {
            "colorbar": {
             "outlinewidth": 0,
             "ticks": ""
            },
            "type": "contourcarpet"
           }
          ],
          "heatmap": [
           {
            "colorbar": {
             "outlinewidth": 0,
             "ticks": ""
            },
            "colorscale": [
             [
              0,
              "#0d0887"
             ],
             [
              0.1111111111111111,
              "#46039f"
             ],
             [
              0.2222222222222222,
              "#7201a8"
             ],
             [
              0.3333333333333333,
              "#9c179e"
             ],
             [
              0.4444444444444444,
              "#bd3786"
             ],
             [
              0.5555555555555556,
              "#d8576b"
             ],
             [
              0.6666666666666666,
              "#ed7953"
             ],
             [
              0.7777777777777778,
              "#fb9f3a"
             ],
             [
              0.8888888888888888,
              "#fdca26"
             ],
             [
              1,
              "#f0f921"
             ]
            ],
            "type": "heatmap"
           }
          ],
          "heatmapgl": [
           {
            "colorbar": {
             "outlinewidth": 0,
             "ticks": ""
            },
            "colorscale": [
             [
              0,
              "#0d0887"
             ],
             [
              0.1111111111111111,
              "#46039f"
             ],
             [
              0.2222222222222222,
              "#7201a8"
             ],
             [
              0.3333333333333333,
              "#9c179e"
             ],
             [
              0.4444444444444444,
              "#bd3786"
             ],
             [
              0.5555555555555556,
              "#d8576b"
             ],
             [
              0.6666666666666666,
              "#ed7953"
             ],
             [
              0.7777777777777778,
              "#fb9f3a"
             ],
             [
              0.8888888888888888,
              "#fdca26"
             ],
             [
              1,
              "#f0f921"
             ]
            ],
            "type": "heatmapgl"
           }
          ],
          "histogram": [
           {
            "marker": {
             "pattern": {
              "fillmode": "overlay",
              "size": 10,
              "solidity": 0.2
             }
            },
            "type": "histogram"
           }
          ],
          "histogram2d": [
           {
            "colorbar": {
             "outlinewidth": 0,
             "ticks": ""
            },
            "colorscale": [
             [
              0,
              "#0d0887"
             ],
             [
              0.1111111111111111,
              "#46039f"
             ],
             [
              0.2222222222222222,
              "#7201a8"
             ],
             [
              0.3333333333333333,
              "#9c179e"
             ],
             [
              0.4444444444444444,
              "#bd3786"
             ],
             [
              0.5555555555555556,
              "#d8576b"
             ],
             [
              0.6666666666666666,
              "#ed7953"
             ],
             [
              0.7777777777777778,
              "#fb9f3a"
             ],
             [
              0.8888888888888888,
              "#fdca26"
             ],
             [
              1,
              "#f0f921"
             ]
            ],
            "type": "histogram2d"
           }
          ],
          "histogram2dcontour": [
           {
            "colorbar": {
             "outlinewidth": 0,
             "ticks": ""
            },
            "colorscale": [
             [
              0,
              "#0d0887"
             ],
             [
              0.1111111111111111,
              "#46039f"
             ],
             [
              0.2222222222222222,
              "#7201a8"
             ],
             [
              0.3333333333333333,
              "#9c179e"
             ],
             [
              0.4444444444444444,
              "#bd3786"
             ],
             [
              0.5555555555555556,
              "#d8576b"
             ],
             [
              0.6666666666666666,
              "#ed7953"
             ],
             [
              0.7777777777777778,
              "#fb9f3a"
             ],
             [
              0.8888888888888888,
              "#fdca26"
             ],
             [
              1,
              "#f0f921"
             ]
            ],
            "type": "histogram2dcontour"
           }
          ],
          "mesh3d": [
           {
            "colorbar": {
             "outlinewidth": 0,
             "ticks": ""
            },
            "type": "mesh3d"
           }
          ],
          "parcoords": [
           {
            "line": {
             "colorbar": {
              "outlinewidth": 0,
              "ticks": ""
             }
            },
            "type": "parcoords"
           }
          ],
          "pie": [
           {
            "automargin": true,
            "type": "pie"
           }
          ],
          "scatter": [
           {
            "marker": {
             "colorbar": {
              "outlinewidth": 0,
              "ticks": ""
             }
            },
            "type": "scatter"
           }
          ],
          "scatter3d": [
           {
            "line": {
             "colorbar": {
              "outlinewidth": 0,
              "ticks": ""
             }
            },
            "marker": {
             "colorbar": {
              "outlinewidth": 0,
              "ticks": ""
             }
            },
            "type": "scatter3d"
           }
          ],
          "scattercarpet": [
           {
            "marker": {
             "colorbar": {
              "outlinewidth": 0,
              "ticks": ""
             }
            },
            "type": "scattercarpet"
           }
          ],
          "scattergeo": [
           {
            "marker": {
             "colorbar": {
              "outlinewidth": 0,
              "ticks": ""
             }
            },
            "type": "scattergeo"
           }
          ],
          "scattergl": [
           {
            "marker": {
             "colorbar": {
              "outlinewidth": 0,
              "ticks": ""
             }
            },
            "type": "scattergl"
           }
          ],
          "scattermapbox": [
           {
            "marker": {
             "colorbar": {
              "outlinewidth": 0,
              "ticks": ""
             }
            },
            "type": "scattermapbox"
           }
          ],
          "scatterpolar": [
           {
            "marker": {
             "colorbar": {
              "outlinewidth": 0,
              "ticks": ""
             }
            },
            "type": "scatterpolar"
           }
          ],
          "scatterpolargl": [
           {
            "marker": {
             "colorbar": {
              "outlinewidth": 0,
              "ticks": ""
             }
            },
            "type": "scatterpolargl"
           }
          ],
          "scatterternary": [
           {
            "marker": {
             "colorbar": {
              "outlinewidth": 0,
              "ticks": ""
             }
            },
            "type": "scatterternary"
           }
          ],
          "surface": [
           {
            "colorbar": {
             "outlinewidth": 0,
             "ticks": ""
            },
            "colorscale": [
             [
              0,
              "#0d0887"
             ],
             [
              0.1111111111111111,
              "#46039f"
             ],
             [
              0.2222222222222222,
              "#7201a8"
             ],
             [
              0.3333333333333333,
              "#9c179e"
             ],
             [
              0.4444444444444444,
              "#bd3786"
             ],
             [
              0.5555555555555556,
              "#d8576b"
             ],
             [
              0.6666666666666666,
              "#ed7953"
             ],
             [
              0.7777777777777778,
              "#fb9f3a"
             ],
             [
              0.8888888888888888,
              "#fdca26"
             ],
             [
              1,
              "#f0f921"
             ]
            ],
            "type": "surface"
           }
          ],
          "table": [
           {
            "cells": {
             "fill": {
              "color": "#EBF0F8"
             },
             "line": {
              "color": "white"
             }
            },
            "header": {
             "fill": {
              "color": "#C8D4E3"
             },
             "line": {
              "color": "white"
             }
            },
            "type": "table"
           }
          ]
         },
         "layout": {
          "annotationdefaults": {
           "arrowcolor": "#2a3f5f",
           "arrowhead": 0,
           "arrowwidth": 1
          },
          "autotypenumbers": "strict",
          "coloraxis": {
           "colorbar": {
            "outlinewidth": 0,
            "ticks": ""
           }
          },
          "colorscale": {
           "diverging": [
            [
             0,
             "#8e0152"
            ],
            [
             0.1,
             "#c51b7d"
            ],
            [
             0.2,
             "#de77ae"
            ],
            [
             0.3,
             "#f1b6da"
            ],
            [
             0.4,
             "#fde0ef"
            ],
            [
             0.5,
             "#f7f7f7"
            ],
            [
             0.6,
             "#e6f5d0"
            ],
            [
             0.7,
             "#b8e186"
            ],
            [
             0.8,
             "#7fbc41"
            ],
            [
             0.9,
             "#4d9221"
            ],
            [
             1,
             "#276419"
            ]
           ],
           "sequential": [
            [
             0,
             "#0d0887"
            ],
            [
             0.1111111111111111,
             "#46039f"
            ],
            [
             0.2222222222222222,
             "#7201a8"
            ],
            [
             0.3333333333333333,
             "#9c179e"
            ],
            [
             0.4444444444444444,
             "#bd3786"
            ],
            [
             0.5555555555555556,
             "#d8576b"
            ],
            [
             0.6666666666666666,
             "#ed7953"
            ],
            [
             0.7777777777777778,
             "#fb9f3a"
            ],
            [
             0.8888888888888888,
             "#fdca26"
            ],
            [
             1,
             "#f0f921"
            ]
           ],
           "sequentialminus": [
            [
             0,
             "#0d0887"
            ],
            [
             0.1111111111111111,
             "#46039f"
            ],
            [
             0.2222222222222222,
             "#7201a8"
            ],
            [
             0.3333333333333333,
             "#9c179e"
            ],
            [
             0.4444444444444444,
             "#bd3786"
            ],
            [
             0.5555555555555556,
             "#d8576b"
            ],
            [
             0.6666666666666666,
             "#ed7953"
            ],
            [
             0.7777777777777778,
             "#fb9f3a"
            ],
            [
             0.8888888888888888,
             "#fdca26"
            ],
            [
             1,
             "#f0f921"
            ]
           ]
          },
          "colorway": [
           "#636efa",
           "#EF553B",
           "#00cc96",
           "#ab63fa",
           "#FFA15A",
           "#19d3f3",
           "#FF6692",
           "#B6E880",
           "#FF97FF",
           "#FECB52"
          ],
          "font": {
           "color": "#2a3f5f"
          },
          "geo": {
           "bgcolor": "white",
           "lakecolor": "white",
           "landcolor": "#E5ECF6",
           "showlakes": true,
           "showland": true,
           "subunitcolor": "white"
          },
          "hoverlabel": {
           "align": "left"
          },
          "hovermode": "closest",
          "mapbox": {
           "style": "light"
          },
          "paper_bgcolor": "white",
          "plot_bgcolor": "#E5ECF6",
          "polar": {
           "angularaxis": {
            "gridcolor": "white",
            "linecolor": "white",
            "ticks": ""
           },
           "bgcolor": "#E5ECF6",
           "radialaxis": {
            "gridcolor": "white",
            "linecolor": "white",
            "ticks": ""
           }
          },
          "scene": {
           "xaxis": {
            "backgroundcolor": "#E5ECF6",
            "gridcolor": "white",
            "gridwidth": 2,
            "linecolor": "white",
            "showbackground": true,
            "ticks": "",
            "zerolinecolor": "white"
           },
           "yaxis": {
            "backgroundcolor": "#E5ECF6",
            "gridcolor": "white",
            "gridwidth": 2,
            "linecolor": "white",
            "showbackground": true,
            "ticks": "",
            "zerolinecolor": "white"
           },
           "zaxis": {
            "backgroundcolor": "#E5ECF6",
            "gridcolor": "white",
            "gridwidth": 2,
            "linecolor": "white",
            "showbackground": true,
            "ticks": "",
            "zerolinecolor": "white"
           }
          },
          "shapedefaults": {
           "line": {
            "color": "#2a3f5f"
           }
          },
          "ternary": {
           "aaxis": {
            "gridcolor": "white",
            "linecolor": "white",
            "ticks": ""
           },
           "baxis": {
            "gridcolor": "white",
            "linecolor": "white",
            "ticks": ""
           },
           "bgcolor": "#E5ECF6",
           "caxis": {
            "gridcolor": "white",
            "linecolor": "white",
            "ticks": ""
           }
          },
          "title": {
           "x": 0.05
          },
          "xaxis": {
           "automargin": true,
           "gridcolor": "white",
           "linecolor": "white",
           "ticks": "",
           "title": {
            "standoff": 15
           },
           "zerolinecolor": "white",
           "zerolinewidth": 2
          },
          "yaxis": {
           "automargin": true,
           "gridcolor": "white",
           "linecolor": "white",
           "ticks": "",
           "title": {
            "standoff": 15
           },
           "zerolinecolor": "white",
           "zerolinewidth": 2
          }
         }
        },
        "title": {
         "text": "Total departure delay (in Hours)"
        }
       }
      }
     },
     "metadata": {},
     "output_type": "display_data"
    }
   ],
   "source": [
    "figsize=(16, 12)\n",
    "fig = px.choropleth(Departure_delay, locations='ORIGIN_STATE_ABR',\n",
    "                    locationmode=\"USA-states\", color='DEP_DELAY_TIME',hover_data =[\"ORIGIN_STATE_NM\",\"ORIGIN_STATE_ABR\",\"DEP_DELAY_TIME\"])\n",
    "\n",
    "fig.update_layout(\n",
    "    title_text = 'Total departure delay (in Hours)',geo_scope='usa', # limite map scope to USA\n",
    ")\n",
    "fig.show()"
   ]
  },
  {
   "cell_type": "code",
   "execution_count": null,
   "id": "ce705f27",
   "metadata": {},
   "outputs": [
    {
     "data": {
      "text/html": [
       "<div>\n",
       "<style scoped>\n",
       "    .dataframe tbody tr th:only-of-type {\n",
       "        vertical-align: middle;\n",
       "    }\n",
       "\n",
       "    .dataframe tbody tr th {\n",
       "        vertical-align: top;\n",
       "    }\n",
       "\n",
       "    .dataframe thead th {\n",
       "        text-align: right;\n",
       "    }\n",
       "</style>\n",
       "<table border=\"1\" class=\"dataframe\">\n",
       "  <thead>\n",
       "    <tr style=\"text-align: right;\">\n",
       "      <th></th>\n",
       "      <th>UNIQUE_CARRIER</th>\n",
       "      <th>ORIGIN_STATE_NM</th>\n",
       "      <th>ORIGIN_STATE_ABR</th>\n",
       "      <th>ARR_DEL_TIME</th>\n",
       "    </tr>\n",
       "  </thead>\n",
       "  <tbody>\n",
       "    <tr>\n",
       "      <th>0</th>\n",
       "      <td>9E</td>\n",
       "      <td>Alabama</td>\n",
       "      <td>AL</td>\n",
       "      <td>931.0</td>\n",
       "    </tr>\n",
       "    <tr>\n",
       "      <th>1</th>\n",
       "      <td>9E</td>\n",
       "      <td>Arkansas</td>\n",
       "      <td>AR</td>\n",
       "      <td>1184.0</td>\n",
       "    </tr>\n",
       "    <tr>\n",
       "      <th>2</th>\n",
       "      <td>9E</td>\n",
       "      <td>Connecticut</td>\n",
       "      <td>CT</td>\n",
       "      <td>50.0</td>\n",
       "    </tr>\n",
       "    <tr>\n",
       "      <th>3</th>\n",
       "      <td>9E</td>\n",
       "      <td>District of Columbia</td>\n",
       "      <td>DC</td>\n",
       "      <td>1146.0</td>\n",
       "    </tr>\n",
       "    <tr>\n",
       "      <th>4</th>\n",
       "      <td>9E</td>\n",
       "      <td>Florida</td>\n",
       "      <td>FL</td>\n",
       "      <td>671.0</td>\n",
       "    </tr>\n",
       "    <tr>\n",
       "      <th>...</th>\n",
       "      <td>...</td>\n",
       "      <td>...</td>\n",
       "      <td>...</td>\n",
       "      <td>...</td>\n",
       "    </tr>\n",
       "    <tr>\n",
       "      <th>602</th>\n",
       "      <td>YV</td>\n",
       "      <td>Texas</td>\n",
       "      <td>TX</td>\n",
       "      <td>3881.0</td>\n",
       "    </tr>\n",
       "    <tr>\n",
       "      <th>603</th>\n",
       "      <td>YV</td>\n",
       "      <td>Utah</td>\n",
       "      <td>UT</td>\n",
       "      <td>184.0</td>\n",
       "    </tr>\n",
       "    <tr>\n",
       "      <th>604</th>\n",
       "      <td>YV</td>\n",
       "      <td>Virginia</td>\n",
       "      <td>VA</td>\n",
       "      <td>3099.0</td>\n",
       "    </tr>\n",
       "    <tr>\n",
       "      <th>605</th>\n",
       "      <td>YV</td>\n",
       "      <td>Wisconsin</td>\n",
       "      <td>WI</td>\n",
       "      <td>8520.0</td>\n",
       "    </tr>\n",
       "    <tr>\n",
       "      <th>606</th>\n",
       "      <td>YV</td>\n",
       "      <td>Wyoming</td>\n",
       "      <td>WY</td>\n",
       "      <td>31.0</td>\n",
       "    </tr>\n",
       "  </tbody>\n",
       "</table>\n",
       "<p>607 rows × 4 columns</p>\n",
       "</div>"
      ],
      "text/plain": [
       "    UNIQUE_CARRIER       ORIGIN_STATE_NM ORIGIN_STATE_ABR  ARR_DEL_TIME\n",
       "0               9E               Alabama               AL         931.0\n",
       "1               9E              Arkansas               AR        1184.0\n",
       "2               9E           Connecticut               CT          50.0\n",
       "3               9E  District of Columbia               DC        1146.0\n",
       "4               9E               Florida               FL         671.0\n",
       "..             ...                   ...              ...           ...\n",
       "602             YV                 Texas               TX        3881.0\n",
       "603             YV                  Utah               UT         184.0\n",
       "604             YV              Virginia               VA        3099.0\n",
       "605             YV             Wisconsin               WI        8520.0\n",
       "606             YV               Wyoming               WY          31.0\n",
       "\n",
       "[607 rows x 4 columns]"
      ]
     },
     "execution_count": 17,
     "metadata": {},
     "output_type": "execute_result"
    }
   ],
   "source": [
    "# total arrival delay in each city by each carrier\n",
    "Arr_delay = df.groupby([\"UNIQUE_CARRIER\",\"ORIGIN_STATE_NM\",\"ORIGIN_STATE_ABR\"])[\"ARR_DELAY\"].sum().reset_index(name=\"ARR_DEL_TIME\")\n",
    "        \n",
    "# total departure delay in each city by each carrier\n",
    "Dep_delay = df.groupby([\"UNIQUE_CARRIER\",\"ORIGIN_STATE_NM\",\"ORIGIN_STATE_ABR\"])[\"DEP_DELAY\"].sum().reset_index(name=\"DEP_DEL_TIME\")\n",
    "    \n",
    "Arr_delay"
   ]
  },
  {
   "cell_type": "code",
   "execution_count": null,
   "id": "9b25799d",
   "metadata": {},
   "outputs": [
    {
     "data": {
      "application/vnd.plotly.v1+json": {
       "config": {
        "plotlyServerURL": "https://plot.ly"
       },
       "data": [
        {
         "mode": "markers",
         "name": "Arrrival Delay",
         "scene": "scene",
         "type": "scatter3d",
         "x": [
          "9E",
          "9E",
          "9E",
          "9E",
          "9E",
          "9E",
          "9E",
          "9E",
          "9E",
          "9E",
          "9E",
          "9E",
          "9E",
          "9E",
          "9E",
          "9E",
          "9E",
          "9E",
          "9E",
          "9E",
          "9E",
          "9E",
          "9E",
          "9E",
          "9E",
          "9E",
          "9E",
          "9E",
          "9E",
          "9E",
          "9E",
          "9E",
          "9E",
          "9E",
          "9E",
          "AA",
          "AA",
          "AA",
          "AA",
          "AA",
          "AA",
          "AA",
          "AA",
          "AA",
          "AA",
          "AA",
          "AA",
          "AA",
          "AA",
          "AA",
          "AA",
          "AA",
          "AA",
          "AA",
          "AA",
          "AA",
          "AA",
          "AA",
          "AA",
          "AA",
          "AA",
          "AA",
          "AA",
          "AA",
          "AA",
          "AA",
          "AA",
          "AA",
          "AA",
          "AA",
          "AA",
          "AA",
          "AA",
          "AS",
          "AS",
          "AS",
          "AS",
          "AS",
          "AS",
          "AS",
          "AS",
          "AS",
          "AS",
          "AS",
          "AS",
          "AS",
          "AS",
          "AS",
          "AS",
          "B6",
          "B6",
          "B6",
          "B6",
          "B6",
          "B6",
          "B6",
          "B6",
          "B6",
          "B6",
          "B6",
          "B6",
          "B6",
          "B6",
          "B6",
          "B6",
          "B6",
          "B6",
          "B6",
          "B6",
          "B6",
          "B6",
          "CO",
          "CO",
          "CO",
          "CO",
          "CO",
          "CO",
          "CO",
          "CO",
          "CO",
          "CO",
          "CO",
          "CO",
          "CO",
          "CO",
          "CO",
          "CO",
          "CO",
          "CO",
          "CO",
          "CO",
          "CO",
          "CO",
          "CO",
          "CO",
          "CO",
          "CO",
          "CO",
          "CO",
          "CO",
          "CO",
          "CO",
          "DL",
          "DL",
          "DL",
          "DL",
          "DL",
          "DL",
          "DL",
          "DL",
          "DL",
          "DL",
          "DL",
          "DL",
          "DL",
          "DL",
          "DL",
          "DL",
          "DL",
          "DL",
          "DL",
          "DL",
          "DL",
          "DL",
          "DL",
          "DL",
          "DL",
          "DL",
          "DL",
          "DL",
          "DL",
          "DL",
          "DL",
          "DL",
          "DL",
          "DL",
          "DL",
          "DL",
          "DL",
          "DL",
          "DL",
          "DL",
          "DL",
          "EV",
          "EV",
          "EV",
          "EV",
          "EV",
          "EV",
          "EV",
          "EV",
          "EV",
          "EV",
          "EV",
          "EV",
          "EV",
          "EV",
          "EV",
          "EV",
          "EV",
          "EV",
          "EV",
          "EV",
          "EV",
          "EV",
          "EV",
          "EV",
          "EV",
          "EV",
          "EV",
          "EV",
          "EV",
          "EV",
          "F9",
          "F9",
          "F9",
          "F9",
          "F9",
          "F9",
          "F9",
          "F9",
          "F9",
          "F9",
          "F9",
          "F9",
          "F9",
          "F9",
          "F9",
          "F9",
          "F9",
          "F9",
          "F9",
          "F9",
          "F9",
          "F9",
          "F9",
          "FL",
          "FL",
          "FL",
          "FL",
          "FL",
          "FL",
          "FL",
          "FL",
          "FL",
          "FL",
          "FL",
          "FL",
          "FL",
          "FL",
          "FL",
          "FL",
          "FL",
          "FL",
          "FL",
          "FL",
          "FL",
          "FL",
          "FL",
          "FL",
          "FL",
          "FL",
          "FL",
          "FL",
          "FL",
          "FL",
          "HA",
          "HA",
          "HA",
          "HA",
          "HA",
          "HA",
          "MQ",
          "MQ",
          "MQ",
          "MQ",
          "MQ",
          "MQ",
          "MQ",
          "MQ",
          "MQ",
          "MQ",
          "MQ",
          "MQ",
          "MQ",
          "MQ",
          "MQ",
          "MQ",
          "MQ",
          "MQ",
          "MQ",
          "MQ",
          "MQ",
          "MQ",
          "MQ",
          "MQ",
          "MQ",
          "MQ",
          "MQ",
          "MQ",
          "MQ",
          "MQ",
          "MQ",
          "MQ",
          "MQ",
          "NW",
          "NW",
          "NW",
          "NW",
          "NW",
          "NW",
          "NW",
          "NW",
          "NW",
          "NW",
          "NW",
          "NW",
          "NW",
          "NW",
          "NW",
          "NW",
          "NW",
          "NW",
          "NW",
          "NW",
          "NW",
          "NW",
          "NW",
          "NW",
          "NW",
          "NW",
          "NW",
          "NW",
          "NW",
          "NW",
          "NW",
          "NW",
          "NW",
          "NW",
          "NW",
          "NW",
          "NW",
          "NW",
          "NW",
          "NW",
          "OH",
          "OH",
          "OH",
          "OH",
          "OH",
          "OH",
          "OH",
          "OH",
          "OH",
          "OH",
          "OH",
          "OH",
          "OH",
          "OH",
          "OH",
          "OH",
          "OH",
          "OH",
          "OH",
          "OH",
          "OH",
          "OH",
          "OH",
          "OH",
          "OH",
          "OH",
          "OH",
          "OH",
          "OH",
          "OH",
          "OH",
          "OH",
          "OO",
          "OO",
          "OO",
          "OO",
          "OO",
          "OO",
          "OO",
          "OO",
          "OO",
          "OO",
          "OO",
          "OO",
          "OO",
          "OO",
          "OO",
          "OO",
          "OO",
          "OO",
          "OO",
          "OO",
          "OO",
          "OO",
          "OO",
          "OO",
          "OO",
          "OO",
          "OO",
          "OO",
          "OO",
          "OO",
          "OO",
          "OO",
          "OO",
          "OO",
          "OO",
          "OO",
          "OO",
          "OO",
          "OO",
          "OO",
          "UA",
          "UA",
          "UA",
          "UA",
          "UA",
          "UA",
          "UA",
          "UA",
          "UA",
          "UA",
          "UA",
          "UA",
          "UA",
          "UA",
          "UA",
          "UA",
          "UA",
          "UA",
          "UA",
          "UA",
          "UA",
          "UA",
          "UA",
          "UA",
          "UA",
          "UA",
          "UA",
          "UA",
          "UA",
          "UA",
          "UA",
          "UA",
          "UA",
          "UA",
          "UA",
          "UA",
          "UA",
          "UA",
          "US",
          "US",
          "US",
          "US",
          "US",
          "US",
          "US",
          "US",
          "US",
          "US",
          "US",
          "US",
          "US",
          "US",
          "US",
          "US",
          "US",
          "US",
          "US",
          "US",
          "US",
          "US",
          "US",
          "US",
          "US",
          "US",
          "US",
          "US",
          "US",
          "US",
          "US",
          "US",
          "US",
          "US",
          "US",
          "US",
          "US",
          "US",
          "US",
          "WN",
          "WN",
          "WN",
          "WN",
          "WN",
          "WN",
          "WN",
          "WN",
          "WN",
          "WN",
          "WN",
          "WN",
          "WN",
          "WN",
          "WN",
          "WN",
          "WN",
          "WN",
          "WN",
          "WN",
          "WN",
          "WN",
          "WN",
          "WN",
          "WN",
          "WN",
          "WN",
          "WN",
          "WN",
          "WN",
          "WN",
          "WN",
          "WN",
          "WN",
          "WN",
          "WN",
          "XE",
          "XE",
          "XE",
          "XE",
          "XE",
          "XE",
          "XE",
          "XE",
          "XE",
          "XE",
          "XE",
          "XE",
          "XE",
          "XE",
          "XE",
          "XE",
          "XE",
          "XE",
          "XE",
          "XE",
          "XE",
          "XE",
          "XE",
          "XE",
          "XE",
          "XE",
          "XE",
          "XE",
          "XE",
          "XE",
          "XE",
          "XE",
          "XE",
          "XE",
          "XE",
          "XE",
          "XE",
          "XE",
          "XE",
          "XE",
          "YV",
          "YV",
          "YV",
          "YV",
          "YV",
          "YV",
          "YV",
          "YV",
          "YV",
          "YV",
          "YV",
          "YV",
          "YV",
          "YV",
          "YV",
          "YV",
          "YV",
          "YV",
          "YV",
          "YV",
          "YV",
          "YV",
          "YV",
          "YV",
          "YV",
          "YV",
          "YV",
          "YV",
          "YV",
          "YV",
          "YV",
          "YV",
          "YV",
          "YV",
          "YV",
          "YV",
          "YV"
         ],
         "y": [
          "Alabama",
          "Arkansas",
          "Connecticut",
          "District of Columbia",
          "Florida",
          "Georgia",
          "Illinois",
          "Indiana",
          "Iowa",
          "Kansas",
          "Kentucky",
          "Louisiana",
          "Maine",
          "Massachusetts",
          "Michigan",
          "Minnesota",
          "Mississippi",
          "Missouri",
          "Nebraska",
          "New Hampshire",
          "New Jersey",
          "New York",
          "North Carolina",
          "North Dakota",
          "Ohio",
          "Oklahoma",
          "Pennsylvania",
          "Rhode Island",
          "South Carolina",
          "South Dakota",
          "Tennessee",
          "Texas",
          "Vermont",
          "Virginia",
          "Wisconsin",
          "Alabama",
          "Arizona",
          "Arkansas",
          "California",
          "Colorado",
          "Connecticut",
          "District of Columbia",
          "Florida",
          "Georgia",
          "Hawaii",
          "Illinois",
          "Indiana",
          "Kansas",
          "Kentucky",
          "Louisiana",
          "Maryland",
          "Massachusetts",
          "Michigan",
          "Minnesota",
          "Missouri",
          "Nebraska",
          "Nevada",
          "New Jersey",
          "New Mexico",
          "New York",
          "North Carolina",
          "Ohio",
          "Oklahoma",
          "Oregon",
          "Pennsylvania",
          "Puerto Rico",
          "Tennessee",
          "Texas",
          "U.S. Virgin Islands",
          "Utah",
          "Virginia",
          "Washington",
          "Wyoming",
          "Alaska",
          "Arizona",
          "California",
          "Colorado",
          "District of Columbia",
          "Florida",
          "Georgia",
          "Hawaii",
          "Illinois",
          "Massachusetts",
          "Minnesota",
          "Nevada",
          "New Jersey",
          "Oregon",
          "Texas",
          "Washington",
          "Arizona",
          "California",
          "Colorado",
          "District of Columbia",
          "Florida",
          "Illinois",
          "Louisiana",
          "Maine",
          "Maryland",
          "Massachusetts",
          "Nevada",
          "New Jersey",
          "New York",
          "North Carolina",
          "Oregon",
          "Pennsylvania",
          "Puerto Rico",
          "Texas",
          "Utah",
          "Vermont",
          "Virginia",
          "Washington",
          "Alaska",
          "Arizona",
          "California",
          "Colorado",
          "District of Columbia",
          "Florida",
          "Georgia",
          "Hawaii",
          "Illinois",
          "Indiana",
          "Louisiana",
          "Maryland",
          "Massachusetts",
          "Michigan",
          "Minnesota",
          "Missouri",
          "Nebraska",
          "Nevada",
          "New Jersey",
          "New Mexico",
          "New York",
          "North Carolina",
          "Ohio",
          "Oklahoma",
          "Oregon",
          "Pennsylvania",
          "Puerto Rico",
          "Texas",
          "U.S. Virgin Islands",
          "Utah",
          "Washington",
          "Alabama",
          "Alaska",
          "Arizona",
          "California",
          "Colorado",
          "Connecticut",
          "District of Columbia",
          "Florida",
          "Georgia",
          "Hawaii",
          "Idaho",
          "Illinois",
          "Indiana",
          "Kentucky",
          "Louisiana",
          "Maryland",
          "Massachusetts",
          "Michigan",
          "Minnesota",
          "Mississippi",
          "Missouri",
          "Montana",
          "Nevada",
          "New Jersey",
          "New Mexico",
          "New York",
          "North Carolina",
          "Ohio",
          "Oregon",
          "Pennsylvania",
          "Puerto Rico",
          "Rhode Island",
          "South Carolina",
          "Tennessee",
          "Texas",
          "U.S. Virgin Islands",
          "Utah",
          "Virginia",
          "Washington",
          "Wisconsin",
          "Wyoming",
          "Alabama",
          "Arkansas",
          "District of Columbia",
          "Florida",
          "Georgia",
          "Illinois",
          "Indiana",
          "Iowa",
          "Kansas",
          "Kentucky",
          "Louisiana",
          "Maine",
          "Michigan",
          "Mississippi",
          "Missouri",
          "Nebraska",
          "New Hampshire",
          "New York",
          "North Carolina",
          "Ohio",
          "Oklahoma",
          "Pennsylvania",
          "Rhode Island",
          "South Carolina",
          "South Dakota",
          "Tennessee",
          "Texas",
          "Virginia",
          "West Virginia",
          "Wisconsin",
          "Arizona",
          "California",
          "Colorado",
          "District of Columbia",
          "Florida",
          "Georgia",
          "Idaho",
          "Illinois",
          "Indiana",
          "Massachusetts",
          "Michigan",
          "Minnesota",
          "Missouri",
          "Nevada",
          "New York",
          "Ohio",
          "Oregon",
          "Pennsylvania",
          "Tennessee",
          "Texas",
          "Utah",
          "Washington",
          "Wisconsin",
          "Arizona",
          "California",
          "Colorado",
          "District of Columbia",
          "Florida",
          "Georgia",
          "Illinois",
          "Indiana",
          "Kansas",
          "Louisiana",
          "Maine",
          "Maryland",
          "Massachusetts",
          "Michigan",
          "Minnesota",
          "Missouri",
          "Nevada",
          "New Jersey",
          "New York",
          "North Carolina",
          "Ohio",
          "Pennsylvania",
          "Puerto Rico",
          "South Carolina",
          "Tennessee",
          "Texas",
          "Virginia",
          "Washington",
          "West Virginia",
          "Wisconsin",
          "Arizona",
          "California",
          "Hawaii",
          "Nevada",
          "Oregon",
          "Washington",
          "Alabama",
          "Arkansas",
          "California",
          "Colorado",
          "Connecticut",
          "District of Columbia",
          "Florida",
          "Georgia",
          "Illinois",
          "Indiana",
          "Iowa",
          "Kansas",
          "Kentucky",
          "Louisiana",
          "Maryland",
          "Massachusetts",
          "Michigan",
          "Minnesota",
          "Mississippi",
          "Missouri",
          "Nebraska",
          "New Mexico",
          "New York",
          "North Carolina",
          "Ohio",
          "Oklahoma",
          "Pennsylvania",
          "South Carolina",
          "Tennessee",
          "Texas",
          "Virginia",
          "West Virginia",
          "Wisconsin",
          "Alaska",
          "Arizona",
          "Arkansas",
          "California",
          "Colorado",
          "Connecticut",
          "District of Columbia",
          "Florida",
          "Georgia",
          "Hawaii",
          "Illinois",
          "Indiana",
          "Louisiana",
          "Maryland",
          "Massachusetts",
          "Michigan",
          "Minnesota",
          "Missouri",
          "Montana",
          "Nebraska",
          "Nevada",
          "New Hampshire",
          "New Jersey",
          "New Mexico",
          "New York",
          "North Carolina",
          "North Dakota",
          "Ohio",
          "Oregon",
          "Pennsylvania",
          "Puerto Rico",
          "Rhode Island",
          "South Dakota",
          "Tennessee",
          "Texas",
          "Utah",
          "Virginia",
          "Washington",
          "Wisconsin",
          "Wyoming",
          "Alabama",
          "Connecticut",
          "District of Columbia",
          "Florida",
          "Georgia",
          "Illinois",
          "Indiana",
          "Iowa",
          "Kentucky",
          "Louisiana",
          "Maine",
          "Maryland",
          "Massachusetts",
          "Michigan",
          "Minnesota",
          "Mississippi",
          "Missouri",
          "Nebraska",
          "New Jersey",
          "New York",
          "North Carolina",
          "Ohio",
          "Oklahoma",
          "Pennsylvania",
          "Rhode Island",
          "South Carolina",
          "Tennessee",
          "Texas",
          "Vermont",
          "Virginia",
          "West Virginia",
          "Wisconsin",
          "Alabama",
          "Arizona",
          "Arkansas",
          "California",
          "Colorado",
          "District of Columbia",
          "Georgia",
          "Idaho",
          "Illinois",
          "Indiana",
          "Iowa",
          "Kansas",
          "Kentucky",
          "Louisiana",
          "Michigan",
          "Minnesota",
          "Mississippi",
          "Missouri",
          "Montana",
          "Nebraska",
          "Nevada",
          "New Jersey",
          "New Mexico",
          "New York",
          "North Carolina",
          "North Dakota",
          "Ohio",
          "Oklahoma",
          "Oregon",
          "Pennsylvania",
          "South Carolina",
          "South Dakota",
          "Tennessee",
          "Texas",
          "Utah",
          "Virginia",
          "Washington",
          "West Virginia",
          "Wisconsin",
          "Wyoming",
          "Arizona",
          "California",
          "Colorado",
          "Connecticut",
          "District of Columbia",
          "Florida",
          "Georgia",
          "Hawaii",
          "Idaho",
          "Illinois",
          "Iowa",
          "Kansas",
          "Louisiana",
          "Maryland",
          "Massachusetts",
          "Michigan",
          "Minnesota",
          "Missouri",
          "Montana",
          "Nebraska",
          "Nevada",
          "New Jersey",
          "New Mexico",
          "New York",
          "North Carolina",
          "Ohio",
          "Oklahoma",
          "Oregon",
          "Pennsylvania",
          "Puerto Rico",
          "Rhode Island",
          "South Dakota",
          "Texas",
          "U.S. Virgin Islands",
          "Utah",
          "Virginia",
          "Washington",
          "Wyoming",
          "Alaska",
          "Arizona",
          "California",
          "Colorado",
          "Connecticut",
          "District of Columbia",
          "Florida",
          "Georgia",
          "Hawaii",
          "Idaho",
          "Illinois",
          "Indiana",
          "Louisiana",
          "Maine",
          "Maryland",
          "Massachusetts",
          "Michigan",
          "Minnesota",
          "Missouri",
          "Nebraska",
          "Nevada",
          "New Hampshire",
          "New Jersey",
          "New Mexico",
          "New York",
          "North Carolina",
          "Ohio",
          "Oregon",
          "Pennsylvania",
          "Puerto Rico",
          "Rhode Island",
          "South Carolina",
          "Tennessee",
          "Texas",
          "U.S. Virgin Islands",
          "Utah",
          "Virginia",
          "Washington",
          "Wisconsin",
          "Alabama",
          "Arizona",
          "Arkansas",
          "California",
          "Colorado",
          "Connecticut",
          "District of Columbia",
          "Florida",
          "Idaho",
          "Illinois",
          "Indiana",
          "Kentucky",
          "Louisiana",
          "Maryland",
          "Massachusetts",
          "Michigan",
          "Minnesota",
          "Mississippi",
          "Missouri",
          "Nebraska",
          "Nevada",
          "New Hampshire",
          "New Mexico",
          "New York",
          "North Carolina",
          "Ohio",
          "Oklahoma",
          "Oregon",
          "Pennsylvania",
          "Rhode Island",
          "Tennessee",
          "Texas",
          "Utah",
          "Virginia",
          "Washington",
          "Wisconsin",
          "Alabama",
          "Arizona",
          "Arkansas",
          "Colorado",
          "Connecticut",
          "District of Columbia",
          "Florida",
          "Georgia",
          "Illinois",
          "Indiana",
          "Iowa",
          "Kansas",
          "Kentucky",
          "Louisiana",
          "Maine",
          "Maryland",
          "Massachusetts",
          "Michigan",
          "Minnesota",
          "Mississippi",
          "Missouri",
          "Nebraska",
          "New Hampshire",
          "New Jersey",
          "New Mexico",
          "New York",
          "North Carolina",
          "Ohio",
          "Oklahoma",
          "Pennsylvania",
          "Rhode Island",
          "South Carolina",
          "South Dakota",
          "Tennessee",
          "Texas",
          "Utah",
          "Vermont",
          "Virginia",
          "West Virginia",
          "Wisconsin",
          "Alabama",
          "Arizona",
          "California",
          "Colorado",
          "Connecticut",
          "District of Columbia",
          "Florida",
          "Georgia",
          "Hawaii",
          "Illinois",
          "Indiana",
          "Iowa",
          "Kentucky",
          "Maine",
          "Massachusetts",
          "Michigan",
          "Minnesota",
          "Missouri",
          "Nebraska",
          "Nevada",
          "New Hampshire",
          "New Jersey",
          "New Mexico",
          "New York",
          "North Carolina",
          "Ohio",
          "Oklahoma",
          "Pennsylvania",
          "Rhode Island",
          "South Carolina",
          "South Dakota",
          "Tennessee",
          "Texas",
          "Utah",
          "Virginia",
          "Wisconsin",
          "Wyoming"
         ],
         "z": [
          931,
          1184,
          50,
          1146,
          671,
          7194,
          5050,
          2715,
          2336,
          1351,
          283,
          2891,
          2984,
          999,
          46160,
          13658,
          228,
          2164,
          4044,
          -13,
          185,
          10907,
          3247,
          2031,
          4466,
          2301,
          7848,
          1208,
          871,
          1046,
          16490,
          3079,
          1215,
          2405,
          2506,
          3311,
          6141,
          91,
          21914,
          8330,
          2030,
          18190,
          61408,
          6168,
          -1672,
          59501,
          412,
          294,
          895,
          3993,
          4392,
          6104,
          312,
          3442,
          11065,
          1464,
          3070,
          6769,
          725,
          11712,
          4874,
          2326,
          3354,
          992,
          6660,
          4441,
          337,
          158907,
          517,
          2494,
          1862,
          2468,
          899,
          15015,
          -1715,
          -10210,
          -654,
          150,
          -1307,
          644,
          -1877,
          4115,
          -121,
          -404,
          -1900,
          -772,
          -876,
          1892,
          -6301,
          737,
          16161,
          575,
          6957,
          50354,
          5599,
          464,
          991,
          -498,
          17065,
          2088,
          9989,
          78415,
          3035,
          322,
          1476,
          7658,
          3599,
          1426,
          1730,
          1853,
          293,
          1509,
          370,
          11592,
          6356,
          4037,
          19276,
          3618,
          -2123,
          10272,
          322,
          2498,
          1967,
          4817,
          791,
          179,
          659,
          450,
          2314,
          50235,
          32,
          2760,
          1285,
          3722,
          230,
          1072,
          3111,
          1988,
          88185,
          96,
          274,
          5076,
          1513,
          78,
          -603,
          -1606,
          4415,
          1834,
          8004,
          18403,
          30588,
          -5039,
          392,
          4751,
          1893,
          168,
          2675,
          4081,
          2647,
          3926,
          4998,
          439,
          3569,
          -47,
          -1088,
          4688,
          -121,
          6641,
          5292,
          4660,
          240,
          5271,
          -665,
          -32,
          1714,
          2470,
          9413,
          574,
          11377,
          4673,
          1842,
          818,
          219,
          11884,
          4575,
          1025,
          17737,
          79388,
          3352,
          3563,
          960,
          2686,
          7982,
          7971,
          -264,
          3806,
          6040,
          2258,
          1918,
          355,
          4566,
          17800,
          5645,
          5059,
          3906,
          341,
          9665,
          -4,
          10976,
          698,
          8546,
          2708,
          1227,
          2781,
          4460,
          42354,
          1181,
          3507,
          964,
          607,
          1525,
          969,
          928,
          234,
          1194,
          2612,
          3533,
          608,
          214,
          559,
          301,
          1075,
          3522,
          1427,
          148,
          10896,
          -80,
          3026,
          2509,
          8533,
          39582,
          91079,
          10127,
          6851,
          921,
          3352,
          755,
          18787,
          5064,
          5319,
          3879,
          5815,
          1455,
          867,
          12208,
          4637,
          10352,
          11081,
          -422,
          151,
          1127,
          6829,
          6627,
          472,
          77,
          22647,
          836,
          6463,
          4419,
          2881,
          1128,
          1174,
          2594,
          15667,
          6130,
          1640,
          1503,
          9582,
          17488,
          1878,
          134581,
          9570,
          13363,
          2765,
          4724,
          10236,
          2973,
          7537,
          19146,
          3725,
          3096,
          9771,
          2584,
          4190,
          20329,
          17410,
          21111,
          6378,
          5519,
          3818,
          12390,
          137833,
          4651,
          389,
          17006,
          -243,
          -1353,
          189,
          2837,
          3131,
          -22,
          3773,
          1620,
          1649,
          -330,
          3164,
          -70,
          380,
          59,
          873,
          25020,
          40564,
          747,
          598,
          1013,
          195,
          488,
          1401,
          -163,
          10697,
          1305,
          2356,
          828,
          2288,
          -37,
          5,
          -423,
          291,
          3037,
          1867,
          2600,
          329,
          2103,
          1700,
          47,
          382,
          1059,
          6468,
          929,
          11785,
          3446,
          1700,
          1574,
          4200,
          22,
          1592,
          504,
          2201,
          12865,
          3141,
          -148,
          3482,
          3355,
          -81,
          21249,
          8359,
          23858,
          501,
          2427,
          309,
          402,
          2405,
          1589,
          -325,
          3775,
          179,
          1192,
          1060,
          6780,
          7023,
          97490,
          98567,
          312,
          9206,
          13482,
          84401,
          4490,
          6375,
          4659,
          4375,
          642,
          3931,
          3974,
          2316,
          6963,
          16528,
          11458,
          4127,
          1573,
          2644,
          3752,
          2052,
          5981,
          13122,
          5621,
          21310,
          6109,
          1222,
          5195,
          7480,
          18404,
          100457,
          12,
          7116,
          1054,
          24729,
          8051,
          407,
          -4083,
          21751,
          -330,
          14726,
          -3219,
          378,
          -12127,
          264,
          32133,
          467,
          68,
          693,
          1426,
          -160,
          144,
          4070,
          1816,
          494,
          1091,
          -1769,
          1979,
          -475,
          -191,
          -142,
          -1231,
          281,
          -49,
          2468,
          -392,
          608,
          233,
          1429,
          239,
          703,
          336,
          693,
          406,
          658,
          11888,
          2919,
          3504,
          768,
          10845,
          11616,
          4378,
          -4535,
          417,
          6111,
          -174,
          446,
          149,
          1743,
          -340,
          -311,
          1108,
          699,
          382,
          2614,
          -240,
          1429,
          -425,
          1716,
          51864,
          193,
          375,
          49557,
          2404,
          1067,
          -215,
          -205,
          7347,
          244,
          452,
          320,
          1609,
          103,
          5939,
          36425,
          1922,
          120944,
          40456,
          3123,
          3936,
          47287,
          1085,
          110738,
          3021,
          4532,
          9830,
          67052,
          2936,
          3698,
          7022,
          2776,
          35234,
          4716,
          48709,
          3493,
          8345,
          17485,
          8043,
          8283,
          3748,
          6579,
          28479,
          7663,
          18087,
          96001,
          10396,
          3993,
          1725,
          1230,
          5777,
          2083,
          3799,
          7695,
          201,
          9077,
          9845,
          8524,
          8580,
          7523,
          1296,
          1351,
          2879,
          8623,
          211,
          2472,
          1156,
          9023,
          8391,
          3567,
          12873,
          5064,
          2175,
          70733,
          1174,
          6809,
          13450,
          17092,
          4951,
          2128,
          1358,
          6691,
          1464,
          16594,
          94570,
          941,
          1402,
          8596,
          979,
          7057,
          2865,
          15423,
          6775,
          9482,
          478,
          18782,
          1043,
          4645,
          16664,
          65398,
          3891,
          5477,
          30,
          509,
          715,
          8673,
          0,
          381,
          196,
          2030,
          2350,
          1775,
          521,
          7235,
          21652,
          4778,
          1614,
          2975,
          106,
          5429,
          2222,
          7470,
          3881,
          184,
          3099,
          8520,
          31
         ]
        },
        {
         "mode": "markers",
         "name": "Departure Delay",
         "scene": "scene2",
         "type": "scatter3d",
         "x": [
          "9E",
          "9E",
          "9E",
          "9E",
          "9E",
          "9E",
          "9E",
          "9E",
          "9E",
          "9E",
          "9E",
          "9E",
          "9E",
          "9E",
          "9E",
          "9E",
          "9E",
          "9E",
          "9E",
          "9E",
          "9E",
          "9E",
          "9E",
          "9E",
          "9E",
          "9E",
          "9E",
          "9E",
          "9E",
          "9E",
          "9E",
          "9E",
          "9E",
          "9E",
          "9E",
          "AA",
          "AA",
          "AA",
          "AA",
          "AA",
          "AA",
          "AA",
          "AA",
          "AA",
          "AA",
          "AA",
          "AA",
          "AA",
          "AA",
          "AA",
          "AA",
          "AA",
          "AA",
          "AA",
          "AA",
          "AA",
          "AA",
          "AA",
          "AA",
          "AA",
          "AA",
          "AA",
          "AA",
          "AA",
          "AA",
          "AA",
          "AA",
          "AA",
          "AA",
          "AA",
          "AA",
          "AA",
          "AA",
          "AS",
          "AS",
          "AS",
          "AS",
          "AS",
          "AS",
          "AS",
          "AS",
          "AS",
          "AS",
          "AS",
          "AS",
          "AS",
          "AS",
          "AS",
          "AS",
          "B6",
          "B6",
          "B6",
          "B6",
          "B6",
          "B6",
          "B6",
          "B6",
          "B6",
          "B6",
          "B6",
          "B6",
          "B6",
          "B6",
          "B6",
          "B6",
          "B6",
          "B6",
          "B6",
          "B6",
          "B6",
          "B6",
          "CO",
          "CO",
          "CO",
          "CO",
          "CO",
          "CO",
          "CO",
          "CO",
          "CO",
          "CO",
          "CO",
          "CO",
          "CO",
          "CO",
          "CO",
          "CO",
          "CO",
          "CO",
          "CO",
          "CO",
          "CO",
          "CO",
          "CO",
          "CO",
          "CO",
          "CO",
          "CO",
          "CO",
          "CO",
          "CO",
          "CO",
          "DL",
          "DL",
          "DL",
          "DL",
          "DL",
          "DL",
          "DL",
          "DL",
          "DL",
          "DL",
          "DL",
          "DL",
          "DL",
          "DL",
          "DL",
          "DL",
          "DL",
          "DL",
          "DL",
          "DL",
          "DL",
          "DL",
          "DL",
          "DL",
          "DL",
          "DL",
          "DL",
          "DL",
          "DL",
          "DL",
          "DL",
          "DL",
          "DL",
          "DL",
          "DL",
          "DL",
          "DL",
          "DL",
          "DL",
          "DL",
          "DL",
          "EV",
          "EV",
          "EV",
          "EV",
          "EV",
          "EV",
          "EV",
          "EV",
          "EV",
          "EV",
          "EV",
          "EV",
          "EV",
          "EV",
          "EV",
          "EV",
          "EV",
          "EV",
          "EV",
          "EV",
          "EV",
          "EV",
          "EV",
          "EV",
          "EV",
          "EV",
          "EV",
          "EV",
          "EV",
          "EV",
          "F9",
          "F9",
          "F9",
          "F9",
          "F9",
          "F9",
          "F9",
          "F9",
          "F9",
          "F9",
          "F9",
          "F9",
          "F9",
          "F9",
          "F9",
          "F9",
          "F9",
          "F9",
          "F9",
          "F9",
          "F9",
          "F9",
          "F9",
          "FL",
          "FL",
          "FL",
          "FL",
          "FL",
          "FL",
          "FL",
          "FL",
          "FL",
          "FL",
          "FL",
          "FL",
          "FL",
          "FL",
          "FL",
          "FL",
          "FL",
          "FL",
          "FL",
          "FL",
          "FL",
          "FL",
          "FL",
          "FL",
          "FL",
          "FL",
          "FL",
          "FL",
          "FL",
          "FL",
          "HA",
          "HA",
          "HA",
          "HA",
          "HA",
          "HA",
          "MQ",
          "MQ",
          "MQ",
          "MQ",
          "MQ",
          "MQ",
          "MQ",
          "MQ",
          "MQ",
          "MQ",
          "MQ",
          "MQ",
          "MQ",
          "MQ",
          "MQ",
          "MQ",
          "MQ",
          "MQ",
          "MQ",
          "MQ",
          "MQ",
          "MQ",
          "MQ",
          "MQ",
          "MQ",
          "MQ",
          "MQ",
          "MQ",
          "MQ",
          "MQ",
          "MQ",
          "MQ",
          "MQ",
          "NW",
          "NW",
          "NW",
          "NW",
          "NW",
          "NW",
          "NW",
          "NW",
          "NW",
          "NW",
          "NW",
          "NW",
          "NW",
          "NW",
          "NW",
          "NW",
          "NW",
          "NW",
          "NW",
          "NW",
          "NW",
          "NW",
          "NW",
          "NW",
          "NW",
          "NW",
          "NW",
          "NW",
          "NW",
          "NW",
          "NW",
          "NW",
          "NW",
          "NW",
          "NW",
          "NW",
          "NW",
          "NW",
          "NW",
          "NW",
          "OH",
          "OH",
          "OH",
          "OH",
          "OH",
          "OH",
          "OH",
          "OH",
          "OH",
          "OH",
          "OH",
          "OH",
          "OH",
          "OH",
          "OH",
          "OH",
          "OH",
          "OH",
          "OH",
          "OH",
          "OH",
          "OH",
          "OH",
          "OH",
          "OH",
          "OH",
          "OH",
          "OH",
          "OH",
          "OH",
          "OH",
          "OH",
          "OO",
          "OO",
          "OO",
          "OO",
          "OO",
          "OO",
          "OO",
          "OO",
          "OO",
          "OO",
          "OO",
          "OO",
          "OO",
          "OO",
          "OO",
          "OO",
          "OO",
          "OO",
          "OO",
          "OO",
          "OO",
          "OO",
          "OO",
          "OO",
          "OO",
          "OO",
          "OO",
          "OO",
          "OO",
          "OO",
          "OO",
          "OO",
          "OO",
          "OO",
          "OO",
          "OO",
          "OO",
          "OO",
          "OO",
          "OO",
          "UA",
          "UA",
          "UA",
          "UA",
          "UA",
          "UA",
          "UA",
          "UA",
          "UA",
          "UA",
          "UA",
          "UA",
          "UA",
          "UA",
          "UA",
          "UA",
          "UA",
          "UA",
          "UA",
          "UA",
          "UA",
          "UA",
          "UA",
          "UA",
          "UA",
          "UA",
          "UA",
          "UA",
          "UA",
          "UA",
          "UA",
          "UA",
          "UA",
          "UA",
          "UA",
          "UA",
          "UA",
          "UA",
          "US",
          "US",
          "US",
          "US",
          "US",
          "US",
          "US",
          "US",
          "US",
          "US",
          "US",
          "US",
          "US",
          "US",
          "US",
          "US",
          "US",
          "US",
          "US",
          "US",
          "US",
          "US",
          "US",
          "US",
          "US",
          "US",
          "US",
          "US",
          "US",
          "US",
          "US",
          "US",
          "US",
          "US",
          "US",
          "US",
          "US",
          "US",
          "US",
          "WN",
          "WN",
          "WN",
          "WN",
          "WN",
          "WN",
          "WN",
          "WN",
          "WN",
          "WN",
          "WN",
          "WN",
          "WN",
          "WN",
          "WN",
          "WN",
          "WN",
          "WN",
          "WN",
          "WN",
          "WN",
          "WN",
          "WN",
          "WN",
          "WN",
          "WN",
          "WN",
          "WN",
          "WN",
          "WN",
          "WN",
          "WN",
          "WN",
          "WN",
          "WN",
          "WN",
          "XE",
          "XE",
          "XE",
          "XE",
          "XE",
          "XE",
          "XE",
          "XE",
          "XE",
          "XE",
          "XE",
          "XE",
          "XE",
          "XE",
          "XE",
          "XE",
          "XE",
          "XE",
          "XE",
          "XE",
          "XE",
          "XE",
          "XE",
          "XE",
          "XE",
          "XE",
          "XE",
          "XE",
          "XE",
          "XE",
          "XE",
          "XE",
          "XE",
          "XE",
          "XE",
          "XE",
          "XE",
          "XE",
          "XE",
          "XE",
          "YV",
          "YV",
          "YV",
          "YV",
          "YV",
          "YV",
          "YV",
          "YV",
          "YV",
          "YV",
          "YV",
          "YV",
          "YV",
          "YV",
          "YV",
          "YV",
          "YV",
          "YV",
          "YV",
          "YV",
          "YV",
          "YV",
          "YV",
          "YV",
          "YV",
          "YV",
          "YV",
          "YV",
          "YV",
          "YV",
          "YV",
          "YV",
          "YV",
          "YV",
          "YV",
          "YV",
          "YV"
         ],
         "y": [
          "Alabama",
          "Arkansas",
          "Connecticut",
          "District of Columbia",
          "Florida",
          "Georgia",
          "Illinois",
          "Indiana",
          "Iowa",
          "Kansas",
          "Kentucky",
          "Louisiana",
          "Maine",
          "Massachusetts",
          "Michigan",
          "Minnesota",
          "Mississippi",
          "Missouri",
          "Nebraska",
          "New Hampshire",
          "New Jersey",
          "New York",
          "North Carolina",
          "North Dakota",
          "Ohio",
          "Oklahoma",
          "Pennsylvania",
          "Rhode Island",
          "South Carolina",
          "South Dakota",
          "Tennessee",
          "Texas",
          "Vermont",
          "Virginia",
          "Wisconsin",
          "Alabama",
          "Arizona",
          "Arkansas",
          "California",
          "Colorado",
          "Connecticut",
          "District of Columbia",
          "Florida",
          "Georgia",
          "Hawaii",
          "Illinois",
          "Indiana",
          "Kansas",
          "Kentucky",
          "Louisiana",
          "Maryland",
          "Massachusetts",
          "Michigan",
          "Minnesota",
          "Missouri",
          "Nebraska",
          "Nevada",
          "New Jersey",
          "New Mexico",
          "New York",
          "North Carolina",
          "Ohio",
          "Oklahoma",
          "Oregon",
          "Pennsylvania",
          "Puerto Rico",
          "Tennessee",
          "Texas",
          "U.S. Virgin Islands",
          "Utah",
          "Virginia",
          "Washington",
          "Wyoming",
          "Alaska",
          "Arizona",
          "California",
          "Colorado",
          "District of Columbia",
          "Florida",
          "Georgia",
          "Hawaii",
          "Illinois",
          "Massachusetts",
          "Minnesota",
          "Nevada",
          "New Jersey",
          "Oregon",
          "Texas",
          "Washington",
          "Arizona",
          "California",
          "Colorado",
          "District of Columbia",
          "Florida",
          "Illinois",
          "Louisiana",
          "Maine",
          "Maryland",
          "Massachusetts",
          "Nevada",
          "New Jersey",
          "New York",
          "North Carolina",
          "Oregon",
          "Pennsylvania",
          "Puerto Rico",
          "Texas",
          "Utah",
          "Vermont",
          "Virginia",
          "Washington",
          "Alaska",
          "Arizona",
          "California",
          "Colorado",
          "District of Columbia",
          "Florida",
          "Georgia",
          "Hawaii",
          "Illinois",
          "Indiana",
          "Louisiana",
          "Maryland",
          "Massachusetts",
          "Michigan",
          "Minnesota",
          "Missouri",
          "Nebraska",
          "Nevada",
          "New Jersey",
          "New Mexico",
          "New York",
          "North Carolina",
          "Ohio",
          "Oklahoma",
          "Oregon",
          "Pennsylvania",
          "Puerto Rico",
          "Texas",
          "U.S. Virgin Islands",
          "Utah",
          "Washington",
          "Alabama",
          "Alaska",
          "Arizona",
          "California",
          "Colorado",
          "Connecticut",
          "District of Columbia",
          "Florida",
          "Georgia",
          "Hawaii",
          "Idaho",
          "Illinois",
          "Indiana",
          "Kentucky",
          "Louisiana",
          "Maryland",
          "Massachusetts",
          "Michigan",
          "Minnesota",
          "Mississippi",
          "Missouri",
          "Montana",
          "Nevada",
          "New Jersey",
          "New Mexico",
          "New York",
          "North Carolina",
          "Ohio",
          "Oregon",
          "Pennsylvania",
          "Puerto Rico",
          "Rhode Island",
          "South Carolina",
          "Tennessee",
          "Texas",
          "U.S. Virgin Islands",
          "Utah",
          "Virginia",
          "Washington",
          "Wisconsin",
          "Wyoming",
          "Alabama",
          "Arkansas",
          "District of Columbia",
          "Florida",
          "Georgia",
          "Illinois",
          "Indiana",
          "Iowa",
          "Kansas",
          "Kentucky",
          "Louisiana",
          "Maine",
          "Michigan",
          "Mississippi",
          "Missouri",
          "Nebraska",
          "New Hampshire",
          "New York",
          "North Carolina",
          "Ohio",
          "Oklahoma",
          "Pennsylvania",
          "Rhode Island",
          "South Carolina",
          "South Dakota",
          "Tennessee",
          "Texas",
          "Virginia",
          "West Virginia",
          "Wisconsin",
          "Arizona",
          "California",
          "Colorado",
          "District of Columbia",
          "Florida",
          "Georgia",
          "Idaho",
          "Illinois",
          "Indiana",
          "Massachusetts",
          "Michigan",
          "Minnesota",
          "Missouri",
          "Nevada",
          "New York",
          "Ohio",
          "Oregon",
          "Pennsylvania",
          "Tennessee",
          "Texas",
          "Utah",
          "Washington",
          "Wisconsin",
          "Arizona",
          "California",
          "Colorado",
          "District of Columbia",
          "Florida",
          "Georgia",
          "Illinois",
          "Indiana",
          "Kansas",
          "Louisiana",
          "Maine",
          "Maryland",
          "Massachusetts",
          "Michigan",
          "Minnesota",
          "Missouri",
          "Nevada",
          "New Jersey",
          "New York",
          "North Carolina",
          "Ohio",
          "Pennsylvania",
          "Puerto Rico",
          "South Carolina",
          "Tennessee",
          "Texas",
          "Virginia",
          "Washington",
          "West Virginia",
          "Wisconsin",
          "Arizona",
          "California",
          "Hawaii",
          "Nevada",
          "Oregon",
          "Washington",
          "Alabama",
          "Arkansas",
          "California",
          "Colorado",
          "Connecticut",
          "District of Columbia",
          "Florida",
          "Georgia",
          "Illinois",
          "Indiana",
          "Iowa",
          "Kansas",
          "Kentucky",
          "Louisiana",
          "Maryland",
          "Massachusetts",
          "Michigan",
          "Minnesota",
          "Mississippi",
          "Missouri",
          "Nebraska",
          "New Mexico",
          "New York",
          "North Carolina",
          "Ohio",
          "Oklahoma",
          "Pennsylvania",
          "South Carolina",
          "Tennessee",
          "Texas",
          "Virginia",
          "West Virginia",
          "Wisconsin",
          "Alaska",
          "Arizona",
          "Arkansas",
          "California",
          "Colorado",
          "Connecticut",
          "District of Columbia",
          "Florida",
          "Georgia",
          "Hawaii",
          "Illinois",
          "Indiana",
          "Louisiana",
          "Maryland",
          "Massachusetts",
          "Michigan",
          "Minnesota",
          "Missouri",
          "Montana",
          "Nebraska",
          "Nevada",
          "New Hampshire",
          "New Jersey",
          "New Mexico",
          "New York",
          "North Carolina",
          "North Dakota",
          "Ohio",
          "Oregon",
          "Pennsylvania",
          "Puerto Rico",
          "Rhode Island",
          "South Dakota",
          "Tennessee",
          "Texas",
          "Utah",
          "Virginia",
          "Washington",
          "Wisconsin",
          "Wyoming",
          "Alabama",
          "Connecticut",
          "District of Columbia",
          "Florida",
          "Georgia",
          "Illinois",
          "Indiana",
          "Iowa",
          "Kentucky",
          "Louisiana",
          "Maine",
          "Maryland",
          "Massachusetts",
          "Michigan",
          "Minnesota",
          "Mississippi",
          "Missouri",
          "Nebraska",
          "New Jersey",
          "New York",
          "North Carolina",
          "Ohio",
          "Oklahoma",
          "Pennsylvania",
          "Rhode Island",
          "South Carolina",
          "Tennessee",
          "Texas",
          "Vermont",
          "Virginia",
          "West Virginia",
          "Wisconsin",
          "Alabama",
          "Arizona",
          "Arkansas",
          "California",
          "Colorado",
          "District of Columbia",
          "Georgia",
          "Idaho",
          "Illinois",
          "Indiana",
          "Iowa",
          "Kansas",
          "Kentucky",
          "Louisiana",
          "Michigan",
          "Minnesota",
          "Mississippi",
          "Missouri",
          "Montana",
          "Nebraska",
          "Nevada",
          "New Jersey",
          "New Mexico",
          "New York",
          "North Carolina",
          "North Dakota",
          "Ohio",
          "Oklahoma",
          "Oregon",
          "Pennsylvania",
          "South Carolina",
          "South Dakota",
          "Tennessee",
          "Texas",
          "Utah",
          "Virginia",
          "Washington",
          "West Virginia",
          "Wisconsin",
          "Wyoming",
          "Arizona",
          "California",
          "Colorado",
          "Connecticut",
          "District of Columbia",
          "Florida",
          "Georgia",
          "Hawaii",
          "Idaho",
          "Illinois",
          "Iowa",
          "Kansas",
          "Louisiana",
          "Maryland",
          "Massachusetts",
          "Michigan",
          "Minnesota",
          "Missouri",
          "Montana",
          "Nebraska",
          "Nevada",
          "New Jersey",
          "New Mexico",
          "New York",
          "North Carolina",
          "Ohio",
          "Oklahoma",
          "Oregon",
          "Pennsylvania",
          "Puerto Rico",
          "Rhode Island",
          "South Dakota",
          "Texas",
          "U.S. Virgin Islands",
          "Utah",
          "Virginia",
          "Washington",
          "Wyoming",
          "Alaska",
          "Arizona",
          "California",
          "Colorado",
          "Connecticut",
          "District of Columbia",
          "Florida",
          "Georgia",
          "Hawaii",
          "Idaho",
          "Illinois",
          "Indiana",
          "Louisiana",
          "Maine",
          "Maryland",
          "Massachusetts",
          "Michigan",
          "Minnesota",
          "Missouri",
          "Nebraska",
          "Nevada",
          "New Hampshire",
          "New Jersey",
          "New Mexico",
          "New York",
          "North Carolina",
          "Ohio",
          "Oregon",
          "Pennsylvania",
          "Puerto Rico",
          "Rhode Island",
          "South Carolina",
          "Tennessee",
          "Texas",
          "U.S. Virgin Islands",
          "Utah",
          "Virginia",
          "Washington",
          "Wisconsin",
          "Alabama",
          "Arizona",
          "Arkansas",
          "California",
          "Colorado",
          "Connecticut",
          "District of Columbia",
          "Florida",
          "Idaho",
          "Illinois",
          "Indiana",
          "Kentucky",
          "Louisiana",
          "Maryland",
          "Massachusetts",
          "Michigan",
          "Minnesota",
          "Mississippi",
          "Missouri",
          "Nebraska",
          "Nevada",
          "New Hampshire",
          "New Mexico",
          "New York",
          "North Carolina",
          "Ohio",
          "Oklahoma",
          "Oregon",
          "Pennsylvania",
          "Rhode Island",
          "Tennessee",
          "Texas",
          "Utah",
          "Virginia",
          "Washington",
          "Wisconsin",
          "Alabama",
          "Arizona",
          "Arkansas",
          "Colorado",
          "Connecticut",
          "District of Columbia",
          "Florida",
          "Georgia",
          "Illinois",
          "Indiana",
          "Iowa",
          "Kansas",
          "Kentucky",
          "Louisiana",
          "Maine",
          "Maryland",
          "Massachusetts",
          "Michigan",
          "Minnesota",
          "Mississippi",
          "Missouri",
          "Nebraska",
          "New Hampshire",
          "New Jersey",
          "New Mexico",
          "New York",
          "North Carolina",
          "Ohio",
          "Oklahoma",
          "Pennsylvania",
          "Rhode Island",
          "South Carolina",
          "South Dakota",
          "Tennessee",
          "Texas",
          "Utah",
          "Vermont",
          "Virginia",
          "West Virginia",
          "Wisconsin",
          "Alabama",
          "Arizona",
          "California",
          "Colorado",
          "Connecticut",
          "District of Columbia",
          "Florida",
          "Georgia",
          "Hawaii",
          "Illinois",
          "Indiana",
          "Iowa",
          "Kentucky",
          "Maine",
          "Massachusetts",
          "Michigan",
          "Minnesota",
          "Missouri",
          "Nebraska",
          "Nevada",
          "New Hampshire",
          "New Jersey",
          "New Mexico",
          "New York",
          "North Carolina",
          "Ohio",
          "Oklahoma",
          "Pennsylvania",
          "Rhode Island",
          "South Carolina",
          "South Dakota",
          "Tennessee",
          "Texas",
          "Utah",
          "Virginia",
          "Wisconsin",
          "Wyoming"
         ],
         "z": [
          1517,
          1634,
          35,
          1186,
          1286,
          11086,
          3727,
          4027,
          1508,
          1449,
          109,
          3337,
          2202,
          446,
          45850,
          9946,
          1082,
          2001,
          3636,
          98,
          275,
          8149,
          2694,
          1808,
          3123,
          3766,
          6770,
          591,
          1996,
          642,
          24144,
          6355,
          876,
          1975,
          2234,
          3689,
          9317,
          152,
          60238,
          8334,
          1776,
          18211,
          86974,
          6206,
          7663,
          94437,
          905,
          114,
          1320,
          4416,
          4509,
          11161,
          791,
          4711,
          14157,
          1074,
          8694,
          8740,
          756,
          30936,
          4484,
          2166,
          3578,
          1485,
          7193,
          8976,
          1847,
          202691,
          969,
          1863,
          2197,
          4873,
          1159,
          16957,
          1171,
          4481,
          284,
          744,
          46,
          241,
          3748,
          4963,
          715,
          397,
          537,
          564,
          653,
          1039,
          10860,
          1291,
          23779,
          831,
          7206,
          74368,
          6000,
          1481,
          670,
          243,
          14414,
          3426,
          9156,
          87259,
          5200,
          634,
          1728,
          10179,
          6036,
          1069,
          1650,
          1927,
          453,
          1561,
          3015,
          28146,
          6750,
          3006,
          32152,
          4017,
          402,
          10982,
          81,
          2487,
          1291,
          5142,
          337,
          183,
          634,
          184,
          5341,
          66222,
          32,
          1991,
          1853,
          7501,
          64,
          1821,
          2256,
          3387,
          110901,
          165,
          263,
          6454,
          1070,
          -32,
          1787,
          13004,
          3782,
          3190,
          5721,
          36828,
          103845,
          -213,
          348,
          5035,
          1610,
          246,
          2834,
          2977,
          5360,
          4902,
          4995,
          313,
          2980,
          -84,
          3280,
          5436,
          264,
          27676,
          2840,
          7774,
          877,
          5348,
          628,
          7,
          1681,
          2348,
          11636,
          1074,
          12899,
          4179,
          4102,
          674,
          270,
          12931,
          4711,
          1132,
          19224,
          138171,
          3720,
          3871,
          895,
          2490,
          7722,
          8718,
          -16,
          3302,
          5630,
          2834,
          1541,
          560,
          4599,
          13915,
          8051,
          5504,
          3511,
          242,
          9252,
          2,
          9549,
          2761,
          8342,
          2104,
          1169,
          2794,
          5107,
          39285,
          959,
          2947,
          621,
          575,
          1194,
          838,
          699,
          213,
          840,
          2110,
          4015,
          281,
          -233,
          791,
          411,
          772,
          3627,
          921,
          132,
          8295,
          714,
          4101,
          2105,
          5874,
          60240,
          107680,
          6550,
          4803,
          832,
          3866,
          646,
          16994,
          4456,
          3917,
          2645,
          5204,
          2774,
          -146,
          11315,
          4714,
          8034,
          7502,
          501,
          83,
          1320,
          8226,
          4915,
          113,
          -5,
          17914,
          28,
          537,
          4109,
          883,
          -153,
          204,
          2972,
          15750,
          7820,
          1417,
          1349,
          10336,
          19266,
          2426,
          112989,
          9886,
          11838,
          2271,
          5171,
          9400,
          2456,
          8420,
          17710,
          2799,
          3545,
          8943,
          1846,
          4702,
          25624,
          19951,
          22870,
          5659,
          5395,
          4114,
          13492,
          138293,
          4020,
          397,
          15297,
          59,
          1487,
          358,
          10436,
          2744,
          680,
          5403,
          19477,
          452,
          3751,
          4201,
          1749,
          1456,
          1416,
          2648,
          55570,
          59962,
          2414,
          402,
          881,
          4764,
          725,
          2680,
          182,
          15923,
          2732,
          2388,
          1509,
          2003,
          2440,
          164,
          -125,
          261,
          10660,
          4669,
          2660,
          574,
          2762,
          2408,
          89,
          1083,
          755,
          7598,
          3107,
          11083,
          3885,
          1857,
          1207,
          3022,
          300,
          1556,
          411,
          3735,
          10790,
          1943,
          -59,
          2263,
          2499,
          468,
          45690,
          8411,
          25683,
          565,
          3439,
          351,
          493,
          2885,
          2457,
          470,
          3824,
          194,
          884,
          1041,
          6463,
          6392,
          127959,
          96475,
          351,
          10018,
          10436,
          93353,
          4296,
          6174,
          4721,
          5308,
          425,
          3942,
          3424,
          1745,
          6722,
          13698,
          9936,
          5353,
          1924,
          2432,
          3999,
          2000,
          5717,
          13027,
          5679,
          25002,
          5189,
          986,
          4288,
          6689,
          16036,
          74623,
          24,
          9525,
          1089,
          23963,
          6386,
          5654,
          64933,
          50871,
          373,
          28068,
          5481,
          1230,
          4703,
          623,
          84134,
          675,
          66,
          2202,
          3958,
          5599,
          -53,
          4176,
          2417,
          471,
          2666,
          6606,
          4481,
          177,
          8011,
          1089,
          613,
          691,
          2741,
          5360,
          778,
          349,
          348,
          5641,
          312,
          1132,
          632,
          5407,
          405,
          549,
          28891,
          12228,
          1961,
          396,
          9221,
          19058,
          4015,
          -403,
          226,
          7265,
          230,
          1168,
          -19,
          1237,
          496,
          102,
          841,
          1221,
          194,
          7013,
          96,
          2182,
          -253,
          445,
          61165,
          357,
          534,
          46041,
          2365,
          1024,
          -375,
          -239,
          8843,
          122,
          413,
          215,
          2448,
          106,
          9259,
          76252,
          4329,
          260419,
          64371,
          6044,
          4681,
          112655,
          4338,
          144988,
          5756,
          7021,
          15391,
          81661,
          5817,
          5662,
          5887,
          3953,
          55880,
          6906,
          111298,
          9103,
          19514,
          25622,
          12666,
          14045,
          9645,
          14264,
          39896,
          10293,
          33142,
          159415,
          16795,
          4889,
          14860,
          3873,
          3717,
          2109,
          3103,
          6529,
          788,
          6894,
          6808,
          5705,
          7869,
          6552,
          617,
          824,
          2670,
          5960,
          86,
          2206,
          1242,
          8122,
          7006,
          1747,
          10621,
          3618,
          2536,
          77168,
          890,
          8303,
          9102,
          15912,
          3565,
          1178,
          1806,
          5655,
          1292,
          12463,
          88835,
          686,
          1316,
          6030,
          620,
          5620,
          3509,
          15669,
          9158,
          15506,
          453,
          21195,
          1275,
          5500,
          7895,
          71509,
          4905,
          4690,
          131,
          485,
          770,
          8991,
          -7,
          521,
          106,
          3275,
          2035,
          1780,
          48,
          8557,
          24659,
          5533,
          1887,
          3208,
          19,
          7345,
          2096,
          8267,
          3310,
          106,
          3403,
          8600,
          1383
         ]
        }
       ],
       "layout": {
        "height": 1000,
        "scene": {
         "domain": {
          "x": [
           0,
           1
          ],
          "y": [
           0.575,
           1
          ]
         }
        },
        "scene2": {
         "domain": {
          "x": [
           0,
           1
          ],
          "y": [
           0,
           0.425
          ]
         }
        },
        "template": {
         "data": {
          "bar": [
           {
            "error_x": {
             "color": "#2a3f5f"
            },
            "error_y": {
             "color": "#2a3f5f"
            },
            "marker": {
             "line": {
              "color": "#E5ECF6",
              "width": 0.5
             },
             "pattern": {
              "fillmode": "overlay",
              "size": 10,
              "solidity": 0.2
             }
            },
            "type": "bar"
           }
          ],
          "barpolar": [
           {
            "marker": {
             "line": {
              "color": "#E5ECF6",
              "width": 0.5
             },
             "pattern": {
              "fillmode": "overlay",
              "size": 10,
              "solidity": 0.2
             }
            },
            "type": "barpolar"
           }
          ],
          "carpet": [
           {
            "aaxis": {
             "endlinecolor": "#2a3f5f",
             "gridcolor": "white",
             "linecolor": "white",
             "minorgridcolor": "white",
             "startlinecolor": "#2a3f5f"
            },
            "baxis": {
             "endlinecolor": "#2a3f5f",
             "gridcolor": "white",
             "linecolor": "white",
             "minorgridcolor": "white",
             "startlinecolor": "#2a3f5f"
            },
            "type": "carpet"
           }
          ],
          "choropleth": [
           {
            "colorbar": {
             "outlinewidth": 0,
             "ticks": ""
            },
            "type": "choropleth"
           }
          ],
          "contour": [
           {
            "colorbar": {
             "outlinewidth": 0,
             "ticks": ""
            },
            "colorscale": [
             [
              0,
              "#0d0887"
             ],
             [
              0.1111111111111111,
              "#46039f"
             ],
             [
              0.2222222222222222,
              "#7201a8"
             ],
             [
              0.3333333333333333,
              "#9c179e"
             ],
             [
              0.4444444444444444,
              "#bd3786"
             ],
             [
              0.5555555555555556,
              "#d8576b"
             ],
             [
              0.6666666666666666,
              "#ed7953"
             ],
             [
              0.7777777777777778,
              "#fb9f3a"
             ],
             [
              0.8888888888888888,
              "#fdca26"
             ],
             [
              1,
              "#f0f921"
             ]
            ],
            "type": "contour"
           }
          ],
          "contourcarpet": [
           {
            "colorbar": {
             "outlinewidth": 0,
             "ticks": ""
            },
            "type": "contourcarpet"
           }
          ],
          "heatmap": [
           {
            "colorbar": {
             "outlinewidth": 0,
             "ticks": ""
            },
            "colorscale": [
             [
              0,
              "#0d0887"
             ],
             [
              0.1111111111111111,
              "#46039f"
             ],
             [
              0.2222222222222222,
              "#7201a8"
             ],
             [
              0.3333333333333333,
              "#9c179e"
             ],
             [
              0.4444444444444444,
              "#bd3786"
             ],
             [
              0.5555555555555556,
              "#d8576b"
             ],
             [
              0.6666666666666666,
              "#ed7953"
             ],
             [
              0.7777777777777778,
              "#fb9f3a"
             ],
             [
              0.8888888888888888,
              "#fdca26"
             ],
             [
              1,
              "#f0f921"
             ]
            ],
            "type": "heatmap"
           }
          ],
          "heatmapgl": [
           {
            "colorbar": {
             "outlinewidth": 0,
             "ticks": ""
            },
            "colorscale": [
             [
              0,
              "#0d0887"
             ],
             [
              0.1111111111111111,
              "#46039f"
             ],
             [
              0.2222222222222222,
              "#7201a8"
             ],
             [
              0.3333333333333333,
              "#9c179e"
             ],
             [
              0.4444444444444444,
              "#bd3786"
             ],
             [
              0.5555555555555556,
              "#d8576b"
             ],
             [
              0.6666666666666666,
              "#ed7953"
             ],
             [
              0.7777777777777778,
              "#fb9f3a"
             ],
             [
              0.8888888888888888,
              "#fdca26"
             ],
             [
              1,
              "#f0f921"
             ]
            ],
            "type": "heatmapgl"
           }
          ],
          "histogram": [
           {
            "marker": {
             "pattern": {
              "fillmode": "overlay",
              "size": 10,
              "solidity": 0.2
             }
            },
            "type": "histogram"
           }
          ],
          "histogram2d": [
           {
            "colorbar": {
             "outlinewidth": 0,
             "ticks": ""
            },
            "colorscale": [
             [
              0,
              "#0d0887"
             ],
             [
              0.1111111111111111,
              "#46039f"
             ],
             [
              0.2222222222222222,
              "#7201a8"
             ],
             [
              0.3333333333333333,
              "#9c179e"
             ],
             [
              0.4444444444444444,
              "#bd3786"
             ],
             [
              0.5555555555555556,
              "#d8576b"
             ],
             [
              0.6666666666666666,
              "#ed7953"
             ],
             [
              0.7777777777777778,
              "#fb9f3a"
             ],
             [
              0.8888888888888888,
              "#fdca26"
             ],
             [
              1,
              "#f0f921"
             ]
            ],
            "type": "histogram2d"
           }
          ],
          "histogram2dcontour": [
           {
            "colorbar": {
             "outlinewidth": 0,
             "ticks": ""
            },
            "colorscale": [
             [
              0,
              "#0d0887"
             ],
             [
              0.1111111111111111,
              "#46039f"
             ],
             [
              0.2222222222222222,
              "#7201a8"
             ],
             [
              0.3333333333333333,
              "#9c179e"
             ],
             [
              0.4444444444444444,
              "#bd3786"
             ],
             [
              0.5555555555555556,
              "#d8576b"
             ],
             [
              0.6666666666666666,
              "#ed7953"
             ],
             [
              0.7777777777777778,
              "#fb9f3a"
             ],
             [
              0.8888888888888888,
              "#fdca26"
             ],
             [
              1,
              "#f0f921"
             ]
            ],
            "type": "histogram2dcontour"
           }
          ],
          "mesh3d": [
           {
            "colorbar": {
             "outlinewidth": 0,
             "ticks": ""
            },
            "type": "mesh3d"
           }
          ],
          "parcoords": [
           {
            "line": {
             "colorbar": {
              "outlinewidth": 0,
              "ticks": ""
             }
            },
            "type": "parcoords"
           }
          ],
          "pie": [
           {
            "automargin": true,
            "type": "pie"
           }
          ],
          "scatter": [
           {
            "marker": {
             "colorbar": {
              "outlinewidth": 0,
              "ticks": ""
             }
            },
            "type": "scatter"
           }
          ],
          "scatter3d": [
           {
            "line": {
             "colorbar": {
              "outlinewidth": 0,
              "ticks": ""
             }
            },
            "marker": {
             "colorbar": {
              "outlinewidth": 0,
              "ticks": ""
             }
            },
            "type": "scatter3d"
           }
          ],
          "scattercarpet": [
           {
            "marker": {
             "colorbar": {
              "outlinewidth": 0,
              "ticks": ""
             }
            },
            "type": "scattercarpet"
           }
          ],
          "scattergeo": [
           {
            "marker": {
             "colorbar": {
              "outlinewidth": 0,
              "ticks": ""
             }
            },
            "type": "scattergeo"
           }
          ],
          "scattergl": [
           {
            "marker": {
             "colorbar": {
              "outlinewidth": 0,
              "ticks": ""
             }
            },
            "type": "scattergl"
           }
          ],
          "scattermapbox": [
           {
            "marker": {
             "colorbar": {
              "outlinewidth": 0,
              "ticks": ""
             }
            },
            "type": "scattermapbox"
           }
          ],
          "scatterpolar": [
           {
            "marker": {
             "colorbar": {
              "outlinewidth": 0,
              "ticks": ""
             }
            },
            "type": "scatterpolar"
           }
          ],
          "scatterpolargl": [
           {
            "marker": {
             "colorbar": {
              "outlinewidth": 0,
              "ticks": ""
             }
            },
            "type": "scatterpolargl"
           }
          ],
          "scatterternary": [
           {
            "marker": {
             "colorbar": {
              "outlinewidth": 0,
              "ticks": ""
             }
            },
            "type": "scatterternary"
           }
          ],
          "surface": [
           {
            "colorbar": {
             "outlinewidth": 0,
             "ticks": ""
            },
            "colorscale": [
             [
              0,
              "#0d0887"
             ],
             [
              0.1111111111111111,
              "#46039f"
             ],
             [
              0.2222222222222222,
              "#7201a8"
             ],
             [
              0.3333333333333333,
              "#9c179e"
             ],
             [
              0.4444444444444444,
              "#bd3786"
             ],
             [
              0.5555555555555556,
              "#d8576b"
             ],
             [
              0.6666666666666666,
              "#ed7953"
             ],
             [
              0.7777777777777778,
              "#fb9f3a"
             ],
             [
              0.8888888888888888,
              "#fdca26"
             ],
             [
              1,
              "#f0f921"
             ]
            ],
            "type": "surface"
           }
          ],
          "table": [
           {
            "cells": {
             "fill": {
              "color": "#EBF0F8"
             },
             "line": {
              "color": "white"
             }
            },
            "header": {
             "fill": {
              "color": "#C8D4E3"
             },
             "line": {
              "color": "white"
             }
            },
            "type": "table"
           }
          ]
         },
         "layout": {
          "annotationdefaults": {
           "arrowcolor": "#2a3f5f",
           "arrowhead": 0,
           "arrowwidth": 1
          },
          "autotypenumbers": "strict",
          "coloraxis": {
           "colorbar": {
            "outlinewidth": 0,
            "ticks": ""
           }
          },
          "colorscale": {
           "diverging": [
            [
             0,
             "#8e0152"
            ],
            [
             0.1,
             "#c51b7d"
            ],
            [
             0.2,
             "#de77ae"
            ],
            [
             0.3,
             "#f1b6da"
            ],
            [
             0.4,
             "#fde0ef"
            ],
            [
             0.5,
             "#f7f7f7"
            ],
            [
             0.6,
             "#e6f5d0"
            ],
            [
             0.7,
             "#b8e186"
            ],
            [
             0.8,
             "#7fbc41"
            ],
            [
             0.9,
             "#4d9221"
            ],
            [
             1,
             "#276419"
            ]
           ],
           "sequential": [
            [
             0,
             "#0d0887"
            ],
            [
             0.1111111111111111,
             "#46039f"
            ],
            [
             0.2222222222222222,
             "#7201a8"
            ],
            [
             0.3333333333333333,
             "#9c179e"
            ],
            [
             0.4444444444444444,
             "#bd3786"
            ],
            [
             0.5555555555555556,
             "#d8576b"
            ],
            [
             0.6666666666666666,
             "#ed7953"
            ],
            [
             0.7777777777777778,
             "#fb9f3a"
            ],
            [
             0.8888888888888888,
             "#fdca26"
            ],
            [
             1,
             "#f0f921"
            ]
           ],
           "sequentialminus": [
            [
             0,
             "#0d0887"
            ],
            [
             0.1111111111111111,
             "#46039f"
            ],
            [
             0.2222222222222222,
             "#7201a8"
            ],
            [
             0.3333333333333333,
             "#9c179e"
            ],
            [
             0.4444444444444444,
             "#bd3786"
            ],
            [
             0.5555555555555556,
             "#d8576b"
            ],
            [
             0.6666666666666666,
             "#ed7953"
            ],
            [
             0.7777777777777778,
             "#fb9f3a"
            ],
            [
             0.8888888888888888,
             "#fdca26"
            ],
            [
             1,
             "#f0f921"
            ]
           ]
          },
          "colorway": [
           "#636efa",
           "#EF553B",
           "#00cc96",
           "#ab63fa",
           "#FFA15A",
           "#19d3f3",
           "#FF6692",
           "#B6E880",
           "#FF97FF",
           "#FECB52"
          ],
          "font": {
           "color": "#2a3f5f"
          },
          "geo": {
           "bgcolor": "white",
           "lakecolor": "white",
           "landcolor": "#E5ECF6",
           "showlakes": true,
           "showland": true,
           "subunitcolor": "white"
          },
          "hoverlabel": {
           "align": "left"
          },
          "hovermode": "closest",
          "mapbox": {
           "style": "light"
          },
          "paper_bgcolor": "white",
          "plot_bgcolor": "#E5ECF6",
          "polar": {
           "angularaxis": {
            "gridcolor": "white",
            "linecolor": "white",
            "ticks": ""
           },
           "bgcolor": "#E5ECF6",
           "radialaxis": {
            "gridcolor": "white",
            "linecolor": "white",
            "ticks": ""
           }
          },
          "scene": {
           "xaxis": {
            "backgroundcolor": "#E5ECF6",
            "gridcolor": "white",
            "gridwidth": 2,
            "linecolor": "white",
            "showbackground": true,
            "ticks": "",
            "zerolinecolor": "white"
           },
           "yaxis": {
            "backgroundcolor": "#E5ECF6",
            "gridcolor": "white",
            "gridwidth": 2,
            "linecolor": "white",
            "showbackground": true,
            "ticks": "",
            "zerolinecolor": "white"
           },
           "zaxis": {
            "backgroundcolor": "#E5ECF6",
            "gridcolor": "white",
            "gridwidth": 2,
            "linecolor": "white",
            "showbackground": true,
            "ticks": "",
            "zerolinecolor": "white"
           }
          },
          "shapedefaults": {
           "line": {
            "color": "#2a3f5f"
           }
          },
          "ternary": {
           "aaxis": {
            "gridcolor": "white",
            "linecolor": "white",
            "ticks": ""
           },
           "baxis": {
            "gridcolor": "white",
            "linecolor": "white",
            "ticks": ""
           },
           "bgcolor": "#E5ECF6",
           "caxis": {
            "gridcolor": "white",
            "linecolor": "white",
            "ticks": ""
           }
          },
          "title": {
           "x": 0.05
          },
          "xaxis": {
           "automargin": true,
           "gridcolor": "white",
           "linecolor": "white",
           "ticks": "",
           "title": {
            "standoff": 15
           },
           "zerolinecolor": "white",
           "zerolinewidth": 2
          },
          "yaxis": {
           "automargin": true,
           "gridcolor": "white",
           "linecolor": "white",
           "ticks": "",
           "title": {
            "standoff": 15
           },
           "zerolinecolor": "white",
           "zerolinewidth": 2
          }
         }
        },
        "title": {
         "text": "3D subplots with Arrival/Departure Delay time (in Minutes) of each carrier in each state for Dec 2009"
        },
        "width": 1000
       }
      }
     },
     "metadata": {},
     "output_type": "display_data"
    }
   ],
   "source": [
    "# Initialize figure with 2 3D subplots\n",
    "fig = make_subplots(\n",
    "    rows=2, cols=1,\n",
    "    specs=[[{'type': 'scatter3d'}],\n",
    "           [{'type': 'scatter3d'}]])\n",
    "\n",
    "x=Arr_delay['UNIQUE_CARRIER']\n",
    "y=Arr_delay['ORIGIN_STATE_NM']\n",
    "z=Arr_delay['ARR_DEL_TIME']\n",
    "x1=Dep_delay['UNIQUE_CARRIER']\n",
    "y1=Dep_delay['ORIGIN_STATE_NM']\n",
    "z1=Dep_delay['DEP_DEL_TIME']\n",
    "\n",
    "\n",
    "# adding surfaces to subplots.\n",
    "fig.add_trace(\n",
    "    go.Scatter3d(x=x, y=y, z=z, mode=\"markers\", name= 'Arrrival Delay'),\n",
    "    row=1, col=1)\n",
    "\n",
    "fig.add_trace(\n",
    "    go.Scatter3d(x=x1, y=y1, z=z1, mode=\"markers\", name= 'Departure Delay'),\n",
    "    row=2, col=1)\n",
    "\n",
    "fig.update_layout(\n",
    "    title_text='3D subplots with Arrival/Departure Delay time (in Minutes) of each carrier in each state for Dec 2009',\n",
    "    height=1000,\n",
    "    width=1000\n",
    ")\n",
    "\n",
    "fig.show()\n",
    "\n"
   ]
  },
  {
   "cell_type": "code",
   "execution_count": null,
   "id": "758408eb",
   "metadata": {},
   "outputs": [
    {
     "data": {
      "text/html": [
       "<div>\n",
       "<style scoped>\n",
       "    .dataframe tbody tr th:only-of-type {\n",
       "        vertical-align: middle;\n",
       "    }\n",
       "\n",
       "    .dataframe tbody tr th {\n",
       "        vertical-align: top;\n",
       "    }\n",
       "\n",
       "    .dataframe thead th {\n",
       "        text-align: right;\n",
       "    }\n",
       "</style>\n",
       "<table border=\"1\" class=\"dataframe\">\n",
       "  <thead>\n",
       "    <tr style=\"text-align: right;\">\n",
       "      <th></th>\n",
       "      <th>YEAR</th>\n",
       "      <th>MONTH</th>\n",
       "      <th>DAY_OF_MONTH</th>\n",
       "      <th>DAY_OF_WEEK</th>\n",
       "      <th>UNIQUE_CARRIER</th>\n",
       "      <th>AIRLINE_ID</th>\n",
       "      <th>CARRIER</th>\n",
       "      <th>TAIL_NUM</th>\n",
       "      <th>FL_NUM</th>\n",
       "      <th>ORIGIN</th>\n",
       "      <th>...</th>\n",
       "      <th>DEST_CITY_NAME</th>\n",
       "      <th>DEST_STATE_ABR</th>\n",
       "      <th>DEST_STATE_NM</th>\n",
       "      <th>DEST_WAC</th>\n",
       "      <th>CRS_DEP_TIME</th>\n",
       "      <th>DEP_TIME</th>\n",
       "      <th>DEP_DELAY</th>\n",
       "      <th>CRS_ARR_TIME</th>\n",
       "      <th>ARR_TIME</th>\n",
       "      <th>ARR_DELAY</th>\n",
       "    </tr>\n",
       "  </thead>\n",
       "  <tbody>\n",
       "    <tr>\n",
       "      <th>0</th>\n",
       "      <td>2009</td>\n",
       "      <td>12</td>\n",
       "      <td>2</td>\n",
       "      <td>3</td>\n",
       "      <td>9E</td>\n",
       "      <td>20363</td>\n",
       "      <td>9E</td>\n",
       "      <td>91879E</td>\n",
       "      <td>850</td>\n",
       "      <td>ATL</td>\n",
       "      <td>...</td>\n",
       "      <td>Raleigh/Durham, NC</td>\n",
       "      <td>NC</td>\n",
       "      <td>North Carolina</td>\n",
       "      <td>36</td>\n",
       "      <td>1755</td>\n",
       "      <td>1803.0</td>\n",
       "      <td>8.0</td>\n",
       "      <td>1929</td>\n",
       "      <td>1943.0</td>\n",
       "      <td>14.0</td>\n",
       "    </tr>\n",
       "    <tr>\n",
       "      <th>1</th>\n",
       "      <td>2009</td>\n",
       "      <td>12</td>\n",
       "      <td>3</td>\n",
       "      <td>4</td>\n",
       "      <td>9E</td>\n",
       "      <td>20363</td>\n",
       "      <td>9E</td>\n",
       "      <td>92289E</td>\n",
       "      <td>850</td>\n",
       "      <td>ATL</td>\n",
       "      <td>...</td>\n",
       "      <td>Raleigh/Durham, NC</td>\n",
       "      <td>NC</td>\n",
       "      <td>North Carolina</td>\n",
       "      <td>36</td>\n",
       "      <td>1755</td>\n",
       "      <td>1752.0</td>\n",
       "      <td>-3.0</td>\n",
       "      <td>1929</td>\n",
       "      <td>1924.0</td>\n",
       "      <td>-5.0</td>\n",
       "    </tr>\n",
       "    <tr>\n",
       "      <th>2</th>\n",
       "      <td>2009</td>\n",
       "      <td>12</td>\n",
       "      <td>4</td>\n",
       "      <td>5</td>\n",
       "      <td>9E</td>\n",
       "      <td>20363</td>\n",
       "      <td>9E</td>\n",
       "      <td>91629E</td>\n",
       "      <td>850</td>\n",
       "      <td>ATL</td>\n",
       "      <td>...</td>\n",
       "      <td>Raleigh/Durham, NC</td>\n",
       "      <td>NC</td>\n",
       "      <td>North Carolina</td>\n",
       "      <td>36</td>\n",
       "      <td>1755</td>\n",
       "      <td>1754.0</td>\n",
       "      <td>-1.0</td>\n",
       "      <td>1929</td>\n",
       "      <td>1920.0</td>\n",
       "      <td>-9.0</td>\n",
       "    </tr>\n",
       "    <tr>\n",
       "      <th>3</th>\n",
       "      <td>2009</td>\n",
       "      <td>12</td>\n",
       "      <td>6</td>\n",
       "      <td>7</td>\n",
       "      <td>9E</td>\n",
       "      <td>20363</td>\n",
       "      <td>9E</td>\n",
       "      <td>91709E</td>\n",
       "      <td>850</td>\n",
       "      <td>ATL</td>\n",
       "      <td>...</td>\n",
       "      <td>Raleigh/Durham, NC</td>\n",
       "      <td>NC</td>\n",
       "      <td>North Carolina</td>\n",
       "      <td>36</td>\n",
       "      <td>1755</td>\n",
       "      <td>1750.0</td>\n",
       "      <td>-5.0</td>\n",
       "      <td>1929</td>\n",
       "      <td>1917.0</td>\n",
       "      <td>-12.0</td>\n",
       "    </tr>\n",
       "    <tr>\n",
       "      <th>4</th>\n",
       "      <td>2009</td>\n",
       "      <td>12</td>\n",
       "      <td>7</td>\n",
       "      <td>1</td>\n",
       "      <td>9E</td>\n",
       "      <td>20363</td>\n",
       "      <td>9E</td>\n",
       "      <td>92289E</td>\n",
       "      <td>850</td>\n",
       "      <td>ATL</td>\n",
       "      <td>...</td>\n",
       "      <td>Raleigh/Durham, NC</td>\n",
       "      <td>NC</td>\n",
       "      <td>North Carolina</td>\n",
       "      <td>36</td>\n",
       "      <td>1755</td>\n",
       "      <td>1752.0</td>\n",
       "      <td>-3.0</td>\n",
       "      <td>1929</td>\n",
       "      <td>1930.0</td>\n",
       "      <td>1.0</td>\n",
       "    </tr>\n",
       "    <tr>\n",
       "      <th>...</th>\n",
       "      <td>...</td>\n",
       "      <td>...</td>\n",
       "      <td>...</td>\n",
       "      <td>...</td>\n",
       "      <td>...</td>\n",
       "      <td>...</td>\n",
       "      <td>...</td>\n",
       "      <td>...</td>\n",
       "      <td>...</td>\n",
       "      <td>...</td>\n",
       "      <td>...</td>\n",
       "      <td>...</td>\n",
       "      <td>...</td>\n",
       "      <td>...</td>\n",
       "      <td>...</td>\n",
       "      <td>...</td>\n",
       "      <td>...</td>\n",
       "      <td>...</td>\n",
       "      <td>...</td>\n",
       "      <td>...</td>\n",
       "      <td>...</td>\n",
       "    </tr>\n",
       "    <tr>\n",
       "      <th>529264</th>\n",
       "      <td>2009</td>\n",
       "      <td>12</td>\n",
       "      <td>31</td>\n",
       "      <td>4</td>\n",
       "      <td>YV</td>\n",
       "      <td>20378</td>\n",
       "      <td>YV</td>\n",
       "      <td>N437YV</td>\n",
       "      <td>2846</td>\n",
       "      <td>YUM</td>\n",
       "      <td>...</td>\n",
       "      <td>Phoenix, AZ</td>\n",
       "      <td>AZ</td>\n",
       "      <td>Arizona</td>\n",
       "      <td>81</td>\n",
       "      <td>615</td>\n",
       "      <td>605.0</td>\n",
       "      <td>-10.0</td>\n",
       "      <td>722</td>\n",
       "      <td>716.0</td>\n",
       "      <td>-6.0</td>\n",
       "    </tr>\n",
       "    <tr>\n",
       "      <th>529265</th>\n",
       "      <td>2009</td>\n",
       "      <td>12</td>\n",
       "      <td>31</td>\n",
       "      <td>4</td>\n",
       "      <td>YV</td>\n",
       "      <td>20378</td>\n",
       "      <td>YV</td>\n",
       "      <td>N987HA</td>\n",
       "      <td>2850</td>\n",
       "      <td>YUM</td>\n",
       "      <td>...</td>\n",
       "      <td>Phoenix, AZ</td>\n",
       "      <td>AZ</td>\n",
       "      <td>Arizona</td>\n",
       "      <td>81</td>\n",
       "      <td>1929</td>\n",
       "      <td>1919.0</td>\n",
       "      <td>-10.0</td>\n",
       "      <td>2039</td>\n",
       "      <td>2020.0</td>\n",
       "      <td>-19.0</td>\n",
       "    </tr>\n",
       "    <tr>\n",
       "      <th>529266</th>\n",
       "      <td>2009</td>\n",
       "      <td>12</td>\n",
       "      <td>31</td>\n",
       "      <td>4</td>\n",
       "      <td>YV</td>\n",
       "      <td>20378</td>\n",
       "      <td>YV</td>\n",
       "      <td>N7305V</td>\n",
       "      <td>2866</td>\n",
       "      <td>YUM</td>\n",
       "      <td>...</td>\n",
       "      <td>Phoenix, AZ</td>\n",
       "      <td>AZ</td>\n",
       "      <td>Arizona</td>\n",
       "      <td>81</td>\n",
       "      <td>1400</td>\n",
       "      <td>1400.0</td>\n",
       "      <td>0.0</td>\n",
       "      <td>1455</td>\n",
       "      <td>1510.0</td>\n",
       "      <td>15.0</td>\n",
       "    </tr>\n",
       "    <tr>\n",
       "      <th>529267</th>\n",
       "      <td>2009</td>\n",
       "      <td>12</td>\n",
       "      <td>31</td>\n",
       "      <td>4</td>\n",
       "      <td>YV</td>\n",
       "      <td>20378</td>\n",
       "      <td>YV</td>\n",
       "      <td>N987HA</td>\n",
       "      <td>2868</td>\n",
       "      <td>YUM</td>\n",
       "      <td>...</td>\n",
       "      <td>Phoenix, AZ</td>\n",
       "      <td>AZ</td>\n",
       "      <td>Arizona</td>\n",
       "      <td>81</td>\n",
       "      <td>1620</td>\n",
       "      <td>1615.0</td>\n",
       "      <td>-5.0</td>\n",
       "      <td>1727</td>\n",
       "      <td>1716.0</td>\n",
       "      <td>-11.0</td>\n",
       "    </tr>\n",
       "    <tr>\n",
       "      <th>529268</th>\n",
       "      <td>2009</td>\n",
       "      <td>12</td>\n",
       "      <td>31</td>\n",
       "      <td>4</td>\n",
       "      <td>YV</td>\n",
       "      <td>20378</td>\n",
       "      <td>YV</td>\n",
       "      <td>N988HA</td>\n",
       "      <td>2871</td>\n",
       "      <td>YUM</td>\n",
       "      <td>...</td>\n",
       "      <td>Phoenix, AZ</td>\n",
       "      <td>AZ</td>\n",
       "      <td>Arizona</td>\n",
       "      <td>81</td>\n",
       "      <td>1123</td>\n",
       "      <td>1113.0</td>\n",
       "      <td>-10.0</td>\n",
       "      <td>1230</td>\n",
       "      <td>1217.0</td>\n",
       "      <td>-13.0</td>\n",
       "    </tr>\n",
       "  </tbody>\n",
       "</table>\n",
       "<p>513051 rows × 25 columns</p>\n",
       "</div>"
      ],
      "text/plain": [
       "        YEAR  MONTH  DAY_OF_MONTH  DAY_OF_WEEK UNIQUE_CARRIER  AIRLINE_ID  \\\n",
       "0       2009     12             2            3             9E       20363   \n",
       "1       2009     12             3            4             9E       20363   \n",
       "2       2009     12             4            5             9E       20363   \n",
       "3       2009     12             6            7             9E       20363   \n",
       "4       2009     12             7            1             9E       20363   \n",
       "...      ...    ...           ...          ...            ...         ...   \n",
       "529264  2009     12            31            4             YV       20378   \n",
       "529265  2009     12            31            4             YV       20378   \n",
       "529266  2009     12            31            4             YV       20378   \n",
       "529267  2009     12            31            4             YV       20378   \n",
       "529268  2009     12            31            4             YV       20378   \n",
       "\n",
       "       CARRIER TAIL_NUM  FL_NUM ORIGIN  ...      DEST_CITY_NAME  \\\n",
       "0           9E   91879E     850    ATL  ...  Raleigh/Durham, NC   \n",
       "1           9E   92289E     850    ATL  ...  Raleigh/Durham, NC   \n",
       "2           9E   91629E     850    ATL  ...  Raleigh/Durham, NC   \n",
       "3           9E   91709E     850    ATL  ...  Raleigh/Durham, NC   \n",
       "4           9E   92289E     850    ATL  ...  Raleigh/Durham, NC   \n",
       "...        ...      ...     ...    ...  ...                 ...   \n",
       "529264      YV   N437YV    2846    YUM  ...         Phoenix, AZ   \n",
       "529265      YV   N987HA    2850    YUM  ...         Phoenix, AZ   \n",
       "529266      YV   N7305V    2866    YUM  ...         Phoenix, AZ   \n",
       "529267      YV   N987HA    2868    YUM  ...         Phoenix, AZ   \n",
       "529268      YV   N988HA    2871    YUM  ...         Phoenix, AZ   \n",
       "\n",
       "       DEST_STATE_ABR   DEST_STATE_NM  DEST_WAC CRS_DEP_TIME DEP_TIME  \\\n",
       "0                  NC  North Carolina        36         1755   1803.0   \n",
       "1                  NC  North Carolina        36         1755   1752.0   \n",
       "2                  NC  North Carolina        36         1755   1754.0   \n",
       "3                  NC  North Carolina        36         1755   1750.0   \n",
       "4                  NC  North Carolina        36         1755   1752.0   \n",
       "...               ...             ...       ...          ...      ...   \n",
       "529264             AZ         Arizona        81          615    605.0   \n",
       "529265             AZ         Arizona        81         1929   1919.0   \n",
       "529266             AZ         Arizona        81         1400   1400.0   \n",
       "529267             AZ         Arizona        81         1620   1615.0   \n",
       "529268             AZ         Arizona        81         1123   1113.0   \n",
       "\n",
       "       DEP_DELAY CRS_ARR_TIME  ARR_TIME  ARR_DELAY  \n",
       "0            8.0         1929    1943.0       14.0  \n",
       "1           -3.0         1929    1924.0       -5.0  \n",
       "2           -1.0         1929    1920.0       -9.0  \n",
       "3           -5.0         1929    1917.0      -12.0  \n",
       "4           -3.0         1929    1930.0        1.0  \n",
       "...          ...          ...       ...        ...  \n",
       "529264     -10.0          722     716.0       -6.0  \n",
       "529265     -10.0         2039    2020.0      -19.0  \n",
       "529266       0.0         1455    1510.0       15.0  \n",
       "529267      -5.0         1727    1716.0      -11.0  \n",
       "529268     -10.0         1230    1217.0      -13.0  \n",
       "\n",
       "[513051 rows x 25 columns]"
      ]
     },
     "execution_count": 19,
     "metadata": {},
     "output_type": "execute_result"
    }
   ],
   "source": [
    "df"
   ]
  },
  {
   "cell_type": "code",
   "execution_count": null,
   "id": "144db255",
   "metadata": {},
   "outputs": [
    {
     "data": {
      "application/vnd.plotly.v1+json": {
       "config": {
        "plotlyServerURL": "https://plot.ly"
       },
       "data": [
        {
         "domain": {
          "x": [
           0,
           1
          ],
          "y": [
           0,
           1
          ]
         },
         "hovertemplate": "index=%{label}<br>counts=%{value}<extra></extra>",
         "labels": [
          "WN",
          "OO",
          "AA",
          "MQ",
          "DL",
          "US",
          "UA",
          "XE",
          "EV",
          "NW",
          "CO",
          "FL",
          "9E",
          "YV",
          "B6",
          "OH",
          "AS",
          "F9",
          "HA"
         ],
         "legendgroup": "",
         "name": "",
         "showlegend": true,
         "type": "pie",
         "values": [
          90352,
          45204,
          44870,
          34550,
          34373,
          32353,
          28204,
          26612,
          22913,
          22201,
          21054,
          20839,
          20824,
          18831,
          16193,
          10687,
          10614,
          6549,
          5828
         ]
        }
       ],
       "layout": {
        "legend": {
         "tracegroupgap": 0
        },
        "template": {
         "data": {
          "bar": [
           {
            "error_x": {
             "color": "#2a3f5f"
            },
            "error_y": {
             "color": "#2a3f5f"
            },
            "marker": {
             "line": {
              "color": "#E5ECF6",
              "width": 0.5
             },
             "pattern": {
              "fillmode": "overlay",
              "size": 10,
              "solidity": 0.2
             }
            },
            "type": "bar"
           }
          ],
          "barpolar": [
           {
            "marker": {
             "line": {
              "color": "#E5ECF6",
              "width": 0.5
             },
             "pattern": {
              "fillmode": "overlay",
              "size": 10,
              "solidity": 0.2
             }
            },
            "type": "barpolar"
           }
          ],
          "carpet": [
           {
            "aaxis": {
             "endlinecolor": "#2a3f5f",
             "gridcolor": "white",
             "linecolor": "white",
             "minorgridcolor": "white",
             "startlinecolor": "#2a3f5f"
            },
            "baxis": {
             "endlinecolor": "#2a3f5f",
             "gridcolor": "white",
             "linecolor": "white",
             "minorgridcolor": "white",
             "startlinecolor": "#2a3f5f"
            },
            "type": "carpet"
           }
          ],
          "choropleth": [
           {
            "colorbar": {
             "outlinewidth": 0,
             "ticks": ""
            },
            "type": "choropleth"
           }
          ],
          "contour": [
           {
            "colorbar": {
             "outlinewidth": 0,
             "ticks": ""
            },
            "colorscale": [
             [
              0,
              "#0d0887"
             ],
             [
              0.1111111111111111,
              "#46039f"
             ],
             [
              0.2222222222222222,
              "#7201a8"
             ],
             [
              0.3333333333333333,
              "#9c179e"
             ],
             [
              0.4444444444444444,
              "#bd3786"
             ],
             [
              0.5555555555555556,
              "#d8576b"
             ],
             [
              0.6666666666666666,
              "#ed7953"
             ],
             [
              0.7777777777777778,
              "#fb9f3a"
             ],
             [
              0.8888888888888888,
              "#fdca26"
             ],
             [
              1,
              "#f0f921"
             ]
            ],
            "type": "contour"
           }
          ],
          "contourcarpet": [
           {
            "colorbar": {
             "outlinewidth": 0,
             "ticks": ""
            },
            "type": "contourcarpet"
           }
          ],
          "heatmap": [
           {
            "colorbar": {
             "outlinewidth": 0,
             "ticks": ""
            },
            "colorscale": [
             [
              0,
              "#0d0887"
             ],
             [
              0.1111111111111111,
              "#46039f"
             ],
             [
              0.2222222222222222,
              "#7201a8"
             ],
             [
              0.3333333333333333,
              "#9c179e"
             ],
             [
              0.4444444444444444,
              "#bd3786"
             ],
             [
              0.5555555555555556,
              "#d8576b"
             ],
             [
              0.6666666666666666,
              "#ed7953"
             ],
             [
              0.7777777777777778,
              "#fb9f3a"
             ],
             [
              0.8888888888888888,
              "#fdca26"
             ],
             [
              1,
              "#f0f921"
             ]
            ],
            "type": "heatmap"
           }
          ],
          "heatmapgl": [
           {
            "colorbar": {
             "outlinewidth": 0,
             "ticks": ""
            },
            "colorscale": [
             [
              0,
              "#0d0887"
             ],
             [
              0.1111111111111111,
              "#46039f"
             ],
             [
              0.2222222222222222,
              "#7201a8"
             ],
             [
              0.3333333333333333,
              "#9c179e"
             ],
             [
              0.4444444444444444,
              "#bd3786"
             ],
             [
              0.5555555555555556,
              "#d8576b"
             ],
             [
              0.6666666666666666,
              "#ed7953"
             ],
             [
              0.7777777777777778,
              "#fb9f3a"
             ],
             [
              0.8888888888888888,
              "#fdca26"
             ],
             [
              1,
              "#f0f921"
             ]
            ],
            "type": "heatmapgl"
           }
          ],
          "histogram": [
           {
            "marker": {
             "pattern": {
              "fillmode": "overlay",
              "size": 10,
              "solidity": 0.2
             }
            },
            "type": "histogram"
           }
          ],
          "histogram2d": [
           {
            "colorbar": {
             "outlinewidth": 0,
             "ticks": ""
            },
            "colorscale": [
             [
              0,
              "#0d0887"
             ],
             [
              0.1111111111111111,
              "#46039f"
             ],
             [
              0.2222222222222222,
              "#7201a8"
             ],
             [
              0.3333333333333333,
              "#9c179e"
             ],
             [
              0.4444444444444444,
              "#bd3786"
             ],
             [
              0.5555555555555556,
              "#d8576b"
             ],
             [
              0.6666666666666666,
              "#ed7953"
             ],
             [
              0.7777777777777778,
              "#fb9f3a"
             ],
             [
              0.8888888888888888,
              "#fdca26"
             ],
             [
              1,
              "#f0f921"
             ]
            ],
            "type": "histogram2d"
           }
          ],
          "histogram2dcontour": [
           {
            "colorbar": {
             "outlinewidth": 0,
             "ticks": ""
            },
            "colorscale": [
             [
              0,
              "#0d0887"
             ],
             [
              0.1111111111111111,
              "#46039f"
             ],
             [
              0.2222222222222222,
              "#7201a8"
             ],
             [
              0.3333333333333333,
              "#9c179e"
             ],
             [
              0.4444444444444444,
              "#bd3786"
             ],
             [
              0.5555555555555556,
              "#d8576b"
             ],
             [
              0.6666666666666666,
              "#ed7953"
             ],
             [
              0.7777777777777778,
              "#fb9f3a"
             ],
             [
              0.8888888888888888,
              "#fdca26"
             ],
             [
              1,
              "#f0f921"
             ]
            ],
            "type": "histogram2dcontour"
           }
          ],
          "mesh3d": [
           {
            "colorbar": {
             "outlinewidth": 0,
             "ticks": ""
            },
            "type": "mesh3d"
           }
          ],
          "parcoords": [
           {
            "line": {
             "colorbar": {
              "outlinewidth": 0,
              "ticks": ""
             }
            },
            "type": "parcoords"
           }
          ],
          "pie": [
           {
            "automargin": true,
            "type": "pie"
           }
          ],
          "scatter": [
           {
            "marker": {
             "colorbar": {
              "outlinewidth": 0,
              "ticks": ""
             }
            },
            "type": "scatter"
           }
          ],
          "scatter3d": [
           {
            "line": {
             "colorbar": {
              "outlinewidth": 0,
              "ticks": ""
             }
            },
            "marker": {
             "colorbar": {
              "outlinewidth": 0,
              "ticks": ""
             }
            },
            "type": "scatter3d"
           }
          ],
          "scattercarpet": [
           {
            "marker": {
             "colorbar": {
              "outlinewidth": 0,
              "ticks": ""
             }
            },
            "type": "scattercarpet"
           }
          ],
          "scattergeo": [
           {
            "marker": {
             "colorbar": {
              "outlinewidth": 0,
              "ticks": ""
             }
            },
            "type": "scattergeo"
           }
          ],
          "scattergl": [
           {
            "marker": {
             "colorbar": {
              "outlinewidth": 0,
              "ticks": ""
             }
            },
            "type": "scattergl"
           }
          ],
          "scattermapbox": [
           {
            "marker": {
             "colorbar": {
              "outlinewidth": 0,
              "ticks": ""
             }
            },
            "type": "scattermapbox"
           }
          ],
          "scatterpolar": [
           {
            "marker": {
             "colorbar": {
              "outlinewidth": 0,
              "ticks": ""
             }
            },
            "type": "scatterpolar"
           }
          ],
          "scatterpolargl": [
           {
            "marker": {
             "colorbar": {
              "outlinewidth": 0,
              "ticks": ""
             }
            },
            "type": "scatterpolargl"
           }
          ],
          "scatterternary": [
           {
            "marker": {
             "colorbar": {
              "outlinewidth": 0,
              "ticks": ""
             }
            },
            "type": "scatterternary"
           }
          ],
          "surface": [
           {
            "colorbar": {
             "outlinewidth": 0,
             "ticks": ""
            },
            "colorscale": [
             [
              0,
              "#0d0887"
             ],
             [
              0.1111111111111111,
              "#46039f"
             ],
             [
              0.2222222222222222,
              "#7201a8"
             ],
             [
              0.3333333333333333,
              "#9c179e"
             ],
             [
              0.4444444444444444,
              "#bd3786"
             ],
             [
              0.5555555555555556,
              "#d8576b"
             ],
             [
              0.6666666666666666,
              "#ed7953"
             ],
             [
              0.7777777777777778,
              "#fb9f3a"
             ],
             [
              0.8888888888888888,
              "#fdca26"
             ],
             [
              1,
              "#f0f921"
             ]
            ],
            "type": "surface"
           }
          ],
          "table": [
           {
            "cells": {
             "fill": {
              "color": "#EBF0F8"
             },
             "line": {
              "color": "white"
             }
            },
            "header": {
             "fill": {
              "color": "#C8D4E3"
             },
             "line": {
              "color": "white"
             }
            },
            "type": "table"
           }
          ]
         },
         "layout": {
          "annotationdefaults": {
           "arrowcolor": "#2a3f5f",
           "arrowhead": 0,
           "arrowwidth": 1
          },
          "autotypenumbers": "strict",
          "coloraxis": {
           "colorbar": {
            "outlinewidth": 0,
            "ticks": ""
           }
          },
          "colorscale": {
           "diverging": [
            [
             0,
             "#8e0152"
            ],
            [
             0.1,
             "#c51b7d"
            ],
            [
             0.2,
             "#de77ae"
            ],
            [
             0.3,
             "#f1b6da"
            ],
            [
             0.4,
             "#fde0ef"
            ],
            [
             0.5,
             "#f7f7f7"
            ],
            [
             0.6,
             "#e6f5d0"
            ],
            [
             0.7,
             "#b8e186"
            ],
            [
             0.8,
             "#7fbc41"
            ],
            [
             0.9,
             "#4d9221"
            ],
            [
             1,
             "#276419"
            ]
           ],
           "sequential": [
            [
             0,
             "#0d0887"
            ],
            [
             0.1111111111111111,
             "#46039f"
            ],
            [
             0.2222222222222222,
             "#7201a8"
            ],
            [
             0.3333333333333333,
             "#9c179e"
            ],
            [
             0.4444444444444444,
             "#bd3786"
            ],
            [
             0.5555555555555556,
             "#d8576b"
            ],
            [
             0.6666666666666666,
             "#ed7953"
            ],
            [
             0.7777777777777778,
             "#fb9f3a"
            ],
            [
             0.8888888888888888,
             "#fdca26"
            ],
            [
             1,
             "#f0f921"
            ]
           ],
           "sequentialminus": [
            [
             0,
             "#0d0887"
            ],
            [
             0.1111111111111111,
             "#46039f"
            ],
            [
             0.2222222222222222,
             "#7201a8"
            ],
            [
             0.3333333333333333,
             "#9c179e"
            ],
            [
             0.4444444444444444,
             "#bd3786"
            ],
            [
             0.5555555555555556,
             "#d8576b"
            ],
            [
             0.6666666666666666,
             "#ed7953"
            ],
            [
             0.7777777777777778,
             "#fb9f3a"
            ],
            [
             0.8888888888888888,
             "#fdca26"
            ],
            [
             1,
             "#f0f921"
            ]
           ]
          },
          "colorway": [
           "#636efa",
           "#EF553B",
           "#00cc96",
           "#ab63fa",
           "#FFA15A",
           "#19d3f3",
           "#FF6692",
           "#B6E880",
           "#FF97FF",
           "#FECB52"
          ],
          "font": {
           "color": "#2a3f5f"
          },
          "geo": {
           "bgcolor": "white",
           "lakecolor": "white",
           "landcolor": "#E5ECF6",
           "showlakes": true,
           "showland": true,
           "subunitcolor": "white"
          },
          "hoverlabel": {
           "align": "left"
          },
          "hovermode": "closest",
          "mapbox": {
           "style": "light"
          },
          "paper_bgcolor": "white",
          "plot_bgcolor": "#E5ECF6",
          "polar": {
           "angularaxis": {
            "gridcolor": "white",
            "linecolor": "white",
            "ticks": ""
           },
           "bgcolor": "#E5ECF6",
           "radialaxis": {
            "gridcolor": "white",
            "linecolor": "white",
            "ticks": ""
           }
          },
          "scene": {
           "xaxis": {
            "backgroundcolor": "#E5ECF6",
            "gridcolor": "white",
            "gridwidth": 2,
            "linecolor": "white",
            "showbackground": true,
            "ticks": "",
            "zerolinecolor": "white"
           },
           "yaxis": {
            "backgroundcolor": "#E5ECF6",
            "gridcolor": "white",
            "gridwidth": 2,
            "linecolor": "white",
            "showbackground": true,
            "ticks": "",
            "zerolinecolor": "white"
           },
           "zaxis": {
            "backgroundcolor": "#E5ECF6",
            "gridcolor": "white",
            "gridwidth": 2,
            "linecolor": "white",
            "showbackground": true,
            "ticks": "",
            "zerolinecolor": "white"
           }
          },
          "shapedefaults": {
           "line": {
            "color": "#2a3f5f"
           }
          },
          "ternary": {
           "aaxis": {
            "gridcolor": "white",
            "linecolor": "white",
            "ticks": ""
           },
           "baxis": {
            "gridcolor": "white",
            "linecolor": "white",
            "ticks": ""
           },
           "bgcolor": "#E5ECF6",
           "caxis": {
            "gridcolor": "white",
            "linecolor": "white",
            "ticks": ""
           }
          },
          "title": {
           "x": 0.05
          },
          "xaxis": {
           "automargin": true,
           "gridcolor": "white",
           "linecolor": "white",
           "ticks": "",
           "title": {
            "standoff": 15
           },
           "zerolinecolor": "white",
           "zerolinewidth": 2
          },
          "yaxis": {
           "automargin": true,
           "gridcolor": "white",
           "linecolor": "white",
           "ticks": "",
           "title": {
            "standoff": 15
           },
           "zerolinecolor": "white",
           "zerolinewidth": 2
          }
         }
        },
        "title": {
         "text": "Contribution of each carriers (by passenger count)"
        }
       }
      }
     },
     "metadata": {},
     "output_type": "display_data"
    }
   ],
   "source": [
    "df1=df['UNIQUE_CARRIER'].value_counts().reset_index(name=\"counts\")\n",
    "\n",
    "fig = px.pie(df1, values='counts', names='index', title='Contribution of each carriers (by passenger count)')\n",
    "fig.show()"
   ]
  },
  {
   "cell_type": "code",
   "execution_count": null,
   "id": "96abc856",
   "metadata": {},
   "outputs": [
    {
     "data": {
      "text/html": [
       "<div>\n",
       "<style scoped>\n",
       "    .dataframe tbody tr th:only-of-type {\n",
       "        vertical-align: middle;\n",
       "    }\n",
       "\n",
       "    .dataframe tbody tr th {\n",
       "        vertical-align: top;\n",
       "    }\n",
       "\n",
       "    .dataframe thead th {\n",
       "        text-align: right;\n",
       "    }\n",
       "</style>\n",
       "<table border=\"1\" class=\"dataframe\">\n",
       "  <thead>\n",
       "    <tr style=\"text-align: right;\">\n",
       "      <th></th>\n",
       "      <th>YEAR</th>\n",
       "      <th>MONTH</th>\n",
       "      <th>DAY_OF_MONTH</th>\n",
       "      <th>DAY_OF_WEEK</th>\n",
       "      <th>UNIQUE_CARRIER</th>\n",
       "      <th>AIRLINE_ID</th>\n",
       "      <th>CARRIER</th>\n",
       "      <th>TAIL_NUM</th>\n",
       "      <th>FL_NUM</th>\n",
       "      <th>ORIGIN</th>\n",
       "      <th>...</th>\n",
       "      <th>DEST_CITY_NAME</th>\n",
       "      <th>DEST_STATE_ABR</th>\n",
       "      <th>DEST_STATE_NM</th>\n",
       "      <th>DEST_WAC</th>\n",
       "      <th>CRS_DEP_TIME</th>\n",
       "      <th>DEP_TIME</th>\n",
       "      <th>DEP_DELAY</th>\n",
       "      <th>CRS_ARR_TIME</th>\n",
       "      <th>ARR_TIME</th>\n",
       "      <th>ARR_DELAY</th>\n",
       "    </tr>\n",
       "  </thead>\n",
       "  <tbody>\n",
       "    <tr>\n",
       "      <th>0</th>\n",
       "      <td>2009</td>\n",
       "      <td>12</td>\n",
       "      <td>2</td>\n",
       "      <td>3</td>\n",
       "      <td>9E</td>\n",
       "      <td>20363</td>\n",
       "      <td>9E</td>\n",
       "      <td>91879E</td>\n",
       "      <td>850</td>\n",
       "      <td>ATL</td>\n",
       "      <td>...</td>\n",
       "      <td>Raleigh/Durham, NC</td>\n",
       "      <td>NC</td>\n",
       "      <td>North Carolina</td>\n",
       "      <td>36</td>\n",
       "      <td>1755</td>\n",
       "      <td>1803.0</td>\n",
       "      <td>8.0</td>\n",
       "      <td>1929</td>\n",
       "      <td>1943.0</td>\n",
       "      <td>14.0</td>\n",
       "    </tr>\n",
       "    <tr>\n",
       "      <th>1</th>\n",
       "      <td>2009</td>\n",
       "      <td>12</td>\n",
       "      <td>3</td>\n",
       "      <td>4</td>\n",
       "      <td>9E</td>\n",
       "      <td>20363</td>\n",
       "      <td>9E</td>\n",
       "      <td>92289E</td>\n",
       "      <td>850</td>\n",
       "      <td>ATL</td>\n",
       "      <td>...</td>\n",
       "      <td>Raleigh/Durham, NC</td>\n",
       "      <td>NC</td>\n",
       "      <td>North Carolina</td>\n",
       "      <td>36</td>\n",
       "      <td>1755</td>\n",
       "      <td>1752.0</td>\n",
       "      <td>-3.0</td>\n",
       "      <td>1929</td>\n",
       "      <td>1924.0</td>\n",
       "      <td>-5.0</td>\n",
       "    </tr>\n",
       "    <tr>\n",
       "      <th>2</th>\n",
       "      <td>2009</td>\n",
       "      <td>12</td>\n",
       "      <td>4</td>\n",
       "      <td>5</td>\n",
       "      <td>9E</td>\n",
       "      <td>20363</td>\n",
       "      <td>9E</td>\n",
       "      <td>91629E</td>\n",
       "      <td>850</td>\n",
       "      <td>ATL</td>\n",
       "      <td>...</td>\n",
       "      <td>Raleigh/Durham, NC</td>\n",
       "      <td>NC</td>\n",
       "      <td>North Carolina</td>\n",
       "      <td>36</td>\n",
       "      <td>1755</td>\n",
       "      <td>1754.0</td>\n",
       "      <td>-1.0</td>\n",
       "      <td>1929</td>\n",
       "      <td>1920.0</td>\n",
       "      <td>-9.0</td>\n",
       "    </tr>\n",
       "    <tr>\n",
       "      <th>3</th>\n",
       "      <td>2009</td>\n",
       "      <td>12</td>\n",
       "      <td>6</td>\n",
       "      <td>7</td>\n",
       "      <td>9E</td>\n",
       "      <td>20363</td>\n",
       "      <td>9E</td>\n",
       "      <td>91709E</td>\n",
       "      <td>850</td>\n",
       "      <td>ATL</td>\n",
       "      <td>...</td>\n",
       "      <td>Raleigh/Durham, NC</td>\n",
       "      <td>NC</td>\n",
       "      <td>North Carolina</td>\n",
       "      <td>36</td>\n",
       "      <td>1755</td>\n",
       "      <td>1750.0</td>\n",
       "      <td>-5.0</td>\n",
       "      <td>1929</td>\n",
       "      <td>1917.0</td>\n",
       "      <td>-12.0</td>\n",
       "    </tr>\n",
       "    <tr>\n",
       "      <th>4</th>\n",
       "      <td>2009</td>\n",
       "      <td>12</td>\n",
       "      <td>7</td>\n",
       "      <td>1</td>\n",
       "      <td>9E</td>\n",
       "      <td>20363</td>\n",
       "      <td>9E</td>\n",
       "      <td>92289E</td>\n",
       "      <td>850</td>\n",
       "      <td>ATL</td>\n",
       "      <td>...</td>\n",
       "      <td>Raleigh/Durham, NC</td>\n",
       "      <td>NC</td>\n",
       "      <td>North Carolina</td>\n",
       "      <td>36</td>\n",
       "      <td>1755</td>\n",
       "      <td>1752.0</td>\n",
       "      <td>-3.0</td>\n",
       "      <td>1929</td>\n",
       "      <td>1930.0</td>\n",
       "      <td>1.0</td>\n",
       "    </tr>\n",
       "    <tr>\n",
       "      <th>...</th>\n",
       "      <td>...</td>\n",
       "      <td>...</td>\n",
       "      <td>...</td>\n",
       "      <td>...</td>\n",
       "      <td>...</td>\n",
       "      <td>...</td>\n",
       "      <td>...</td>\n",
       "      <td>...</td>\n",
       "      <td>...</td>\n",
       "      <td>...</td>\n",
       "      <td>...</td>\n",
       "      <td>...</td>\n",
       "      <td>...</td>\n",
       "      <td>...</td>\n",
       "      <td>...</td>\n",
       "      <td>...</td>\n",
       "      <td>...</td>\n",
       "      <td>...</td>\n",
       "      <td>...</td>\n",
       "      <td>...</td>\n",
       "      <td>...</td>\n",
       "    </tr>\n",
       "    <tr>\n",
       "      <th>529264</th>\n",
       "      <td>2009</td>\n",
       "      <td>12</td>\n",
       "      <td>31</td>\n",
       "      <td>4</td>\n",
       "      <td>YV</td>\n",
       "      <td>20378</td>\n",
       "      <td>YV</td>\n",
       "      <td>N437YV</td>\n",
       "      <td>2846</td>\n",
       "      <td>YUM</td>\n",
       "      <td>...</td>\n",
       "      <td>Phoenix, AZ</td>\n",
       "      <td>AZ</td>\n",
       "      <td>Arizona</td>\n",
       "      <td>81</td>\n",
       "      <td>615</td>\n",
       "      <td>605.0</td>\n",
       "      <td>-10.0</td>\n",
       "      <td>722</td>\n",
       "      <td>716.0</td>\n",
       "      <td>-6.0</td>\n",
       "    </tr>\n",
       "    <tr>\n",
       "      <th>529265</th>\n",
       "      <td>2009</td>\n",
       "      <td>12</td>\n",
       "      <td>31</td>\n",
       "      <td>4</td>\n",
       "      <td>YV</td>\n",
       "      <td>20378</td>\n",
       "      <td>YV</td>\n",
       "      <td>N987HA</td>\n",
       "      <td>2850</td>\n",
       "      <td>YUM</td>\n",
       "      <td>...</td>\n",
       "      <td>Phoenix, AZ</td>\n",
       "      <td>AZ</td>\n",
       "      <td>Arizona</td>\n",
       "      <td>81</td>\n",
       "      <td>1929</td>\n",
       "      <td>1919.0</td>\n",
       "      <td>-10.0</td>\n",
       "      <td>2039</td>\n",
       "      <td>2020.0</td>\n",
       "      <td>-19.0</td>\n",
       "    </tr>\n",
       "    <tr>\n",
       "      <th>529266</th>\n",
       "      <td>2009</td>\n",
       "      <td>12</td>\n",
       "      <td>31</td>\n",
       "      <td>4</td>\n",
       "      <td>YV</td>\n",
       "      <td>20378</td>\n",
       "      <td>YV</td>\n",
       "      <td>N7305V</td>\n",
       "      <td>2866</td>\n",
       "      <td>YUM</td>\n",
       "      <td>...</td>\n",
       "      <td>Phoenix, AZ</td>\n",
       "      <td>AZ</td>\n",
       "      <td>Arizona</td>\n",
       "      <td>81</td>\n",
       "      <td>1400</td>\n",
       "      <td>1400.0</td>\n",
       "      <td>0.0</td>\n",
       "      <td>1455</td>\n",
       "      <td>1510.0</td>\n",
       "      <td>15.0</td>\n",
       "    </tr>\n",
       "    <tr>\n",
       "      <th>529267</th>\n",
       "      <td>2009</td>\n",
       "      <td>12</td>\n",
       "      <td>31</td>\n",
       "      <td>4</td>\n",
       "      <td>YV</td>\n",
       "      <td>20378</td>\n",
       "      <td>YV</td>\n",
       "      <td>N987HA</td>\n",
       "      <td>2868</td>\n",
       "      <td>YUM</td>\n",
       "      <td>...</td>\n",
       "      <td>Phoenix, AZ</td>\n",
       "      <td>AZ</td>\n",
       "      <td>Arizona</td>\n",
       "      <td>81</td>\n",
       "      <td>1620</td>\n",
       "      <td>1615.0</td>\n",
       "      <td>-5.0</td>\n",
       "      <td>1727</td>\n",
       "      <td>1716.0</td>\n",
       "      <td>-11.0</td>\n",
       "    </tr>\n",
       "    <tr>\n",
       "      <th>529268</th>\n",
       "      <td>2009</td>\n",
       "      <td>12</td>\n",
       "      <td>31</td>\n",
       "      <td>4</td>\n",
       "      <td>YV</td>\n",
       "      <td>20378</td>\n",
       "      <td>YV</td>\n",
       "      <td>N988HA</td>\n",
       "      <td>2871</td>\n",
       "      <td>YUM</td>\n",
       "      <td>...</td>\n",
       "      <td>Phoenix, AZ</td>\n",
       "      <td>AZ</td>\n",
       "      <td>Arizona</td>\n",
       "      <td>81</td>\n",
       "      <td>1123</td>\n",
       "      <td>1113.0</td>\n",
       "      <td>-10.0</td>\n",
       "      <td>1230</td>\n",
       "      <td>1217.0</td>\n",
       "      <td>-13.0</td>\n",
       "    </tr>\n",
       "  </tbody>\n",
       "</table>\n",
       "<p>513051 rows × 25 columns</p>\n",
       "</div>"
      ],
      "text/plain": [
       "        YEAR  MONTH  DAY_OF_MONTH  DAY_OF_WEEK UNIQUE_CARRIER  AIRLINE_ID  \\\n",
       "0       2009     12             2            3             9E       20363   \n",
       "1       2009     12             3            4             9E       20363   \n",
       "2       2009     12             4            5             9E       20363   \n",
       "3       2009     12             6            7             9E       20363   \n",
       "4       2009     12             7            1             9E       20363   \n",
       "...      ...    ...           ...          ...            ...         ...   \n",
       "529264  2009     12            31            4             YV       20378   \n",
       "529265  2009     12            31            4             YV       20378   \n",
       "529266  2009     12            31            4             YV       20378   \n",
       "529267  2009     12            31            4             YV       20378   \n",
       "529268  2009     12            31            4             YV       20378   \n",
       "\n",
       "       CARRIER TAIL_NUM  FL_NUM ORIGIN  ...      DEST_CITY_NAME  \\\n",
       "0           9E   91879E     850    ATL  ...  Raleigh/Durham, NC   \n",
       "1           9E   92289E     850    ATL  ...  Raleigh/Durham, NC   \n",
       "2           9E   91629E     850    ATL  ...  Raleigh/Durham, NC   \n",
       "3           9E   91709E     850    ATL  ...  Raleigh/Durham, NC   \n",
       "4           9E   92289E     850    ATL  ...  Raleigh/Durham, NC   \n",
       "...        ...      ...     ...    ...  ...                 ...   \n",
       "529264      YV   N437YV    2846    YUM  ...         Phoenix, AZ   \n",
       "529265      YV   N987HA    2850    YUM  ...         Phoenix, AZ   \n",
       "529266      YV   N7305V    2866    YUM  ...         Phoenix, AZ   \n",
       "529267      YV   N987HA    2868    YUM  ...         Phoenix, AZ   \n",
       "529268      YV   N988HA    2871    YUM  ...         Phoenix, AZ   \n",
       "\n",
       "       DEST_STATE_ABR   DEST_STATE_NM  DEST_WAC CRS_DEP_TIME DEP_TIME  \\\n",
       "0                  NC  North Carolina        36         1755   1803.0   \n",
       "1                  NC  North Carolina        36         1755   1752.0   \n",
       "2                  NC  North Carolina        36         1755   1754.0   \n",
       "3                  NC  North Carolina        36         1755   1750.0   \n",
       "4                  NC  North Carolina        36         1755   1752.0   \n",
       "...               ...             ...       ...          ...      ...   \n",
       "529264             AZ         Arizona        81          615    605.0   \n",
       "529265             AZ         Arizona        81         1929   1919.0   \n",
       "529266             AZ         Arizona        81         1400   1400.0   \n",
       "529267             AZ         Arizona        81         1620   1615.0   \n",
       "529268             AZ         Arizona        81         1123   1113.0   \n",
       "\n",
       "       DEP_DELAY CRS_ARR_TIME  ARR_TIME  ARR_DELAY  \n",
       "0            8.0         1929    1943.0       14.0  \n",
       "1           -3.0         1929    1924.0       -5.0  \n",
       "2           -1.0         1929    1920.0       -9.0  \n",
       "3           -5.0         1929    1917.0      -12.0  \n",
       "4           -3.0         1929    1930.0        1.0  \n",
       "...          ...          ...       ...        ...  \n",
       "529264     -10.0          722     716.0       -6.0  \n",
       "529265     -10.0         2039    2020.0      -19.0  \n",
       "529266       0.0         1455    1510.0       15.0  \n",
       "529267      -5.0         1727    1716.0      -11.0  \n",
       "529268     -10.0         1230    1217.0      -13.0  \n",
       "\n",
       "[513051 rows x 25 columns]"
      ]
     },
     "execution_count": 21,
     "metadata": {},
     "output_type": "execute_result"
    }
   ],
   "source": [
    "df"
   ]
  },
  {
   "cell_type": "code",
   "execution_count": null,
   "id": "c6341084",
   "metadata": {},
   "outputs": [],
   "source": [
    "Carrier_State = df.groupby([\"UNIQUE_CARRIER\",\"ORIGIN_STATE_NM\",\"ORIGIN_STATE_ABR\"]).size().reset_index(name=\"Passenger_state\")\n",
    "Carrier_State['Preference Percent'] = float(0)\n",
    "\n",
    "State_all_passenger = Carrier_State.groupby([\"ORIGIN_STATE_NM\",\"ORIGIN_STATE_ABR\"])[\"Passenger_state\"].sum().reset_index(name=\"state_all_passenger\")\n"
   ]
  },
  {
   "cell_type": "code",
   "execution_count": null,
   "id": "8fdee893",
   "metadata": {},
   "outputs": [
    {
     "data": {
      "text/html": [
       "<div>\n",
       "<style scoped>\n",
       "    .dataframe tbody tr th:only-of-type {\n",
       "        vertical-align: middle;\n",
       "    }\n",
       "\n",
       "    .dataframe tbody tr th {\n",
       "        vertical-align: top;\n",
       "    }\n",
       "\n",
       "    .dataframe thead th {\n",
       "        text-align: right;\n",
       "    }\n",
       "</style>\n",
       "<table border=\"1\" class=\"dataframe\">\n",
       "  <thead>\n",
       "    <tr style=\"text-align: right;\">\n",
       "      <th></th>\n",
       "      <th>UNIQUE_CARRIER</th>\n",
       "      <th>ORIGIN_STATE_NM</th>\n",
       "      <th>ORIGIN_STATE_ABR</th>\n",
       "      <th>Passenger_state</th>\n",
       "      <th>Preference Percent</th>\n",
       "    </tr>\n",
       "  </thead>\n",
       "  <tbody>\n",
       "    <tr>\n",
       "      <th>0</th>\n",
       "      <td>9E</td>\n",
       "      <td>Alabama</td>\n",
       "      <td>AL</td>\n",
       "      <td>430</td>\n",
       "      <td>0.0</td>\n",
       "    </tr>\n",
       "    <tr>\n",
       "      <th>1</th>\n",
       "      <td>9E</td>\n",
       "      <td>Arkansas</td>\n",
       "      <td>AR</td>\n",
       "      <td>262</td>\n",
       "      <td>0.0</td>\n",
       "    </tr>\n",
       "    <tr>\n",
       "      <th>2</th>\n",
       "      <td>9E</td>\n",
       "      <td>Connecticut</td>\n",
       "      <td>CT</td>\n",
       "      <td>14</td>\n",
       "      <td>0.0</td>\n",
       "    </tr>\n",
       "    <tr>\n",
       "      <th>3</th>\n",
       "      <td>9E</td>\n",
       "      <td>District of Columbia</td>\n",
       "      <td>DC</td>\n",
       "      <td>144</td>\n",
       "      <td>0.0</td>\n",
       "    </tr>\n",
       "    <tr>\n",
       "      <th>4</th>\n",
       "      <td>9E</td>\n",
       "      <td>Florida</td>\n",
       "      <td>FL</td>\n",
       "      <td>418</td>\n",
       "      <td>0.0</td>\n",
       "    </tr>\n",
       "    <tr>\n",
       "      <th>...</th>\n",
       "      <td>...</td>\n",
       "      <td>...</td>\n",
       "      <td>...</td>\n",
       "      <td>...</td>\n",
       "      <td>...</td>\n",
       "    </tr>\n",
       "    <tr>\n",
       "      <th>602</th>\n",
       "      <td>YV</td>\n",
       "      <td>Texas</td>\n",
       "      <td>TX</td>\n",
       "      <td>587</td>\n",
       "      <td>0.0</td>\n",
       "    </tr>\n",
       "    <tr>\n",
       "      <th>603</th>\n",
       "      <td>YV</td>\n",
       "      <td>Utah</td>\n",
       "      <td>UT</td>\n",
       "      <td>25</td>\n",
       "      <td>0.0</td>\n",
       "    </tr>\n",
       "    <tr>\n",
       "      <th>604</th>\n",
       "      <td>YV</td>\n",
       "      <td>Virginia</td>\n",
       "      <td>VA</td>\n",
       "      <td>254</td>\n",
       "      <td>0.0</td>\n",
       "    </tr>\n",
       "    <tr>\n",
       "      <th>605</th>\n",
       "      <td>YV</td>\n",
       "      <td>Wisconsin</td>\n",
       "      <td>WI</td>\n",
       "      <td>265</td>\n",
       "      <td>0.0</td>\n",
       "    </tr>\n",
       "    <tr>\n",
       "      <th>606</th>\n",
       "      <td>YV</td>\n",
       "      <td>Wyoming</td>\n",
       "      <td>WY</td>\n",
       "      <td>172</td>\n",
       "      <td>0.0</td>\n",
       "    </tr>\n",
       "  </tbody>\n",
       "</table>\n",
       "<p>607 rows × 5 columns</p>\n",
       "</div>"
      ],
      "text/plain": [
       "    UNIQUE_CARRIER       ORIGIN_STATE_NM ORIGIN_STATE_ABR  Passenger_state  \\\n",
       "0               9E               Alabama               AL              430   \n",
       "1               9E              Arkansas               AR              262   \n",
       "2               9E           Connecticut               CT               14   \n",
       "3               9E  District of Columbia               DC              144   \n",
       "4               9E               Florida               FL              418   \n",
       "..             ...                   ...              ...              ...   \n",
       "602             YV                 Texas               TX              587   \n",
       "603             YV                  Utah               UT               25   \n",
       "604             YV              Virginia               VA              254   \n",
       "605             YV             Wisconsin               WI              265   \n",
       "606             YV               Wyoming               WY              172   \n",
       "\n",
       "     Preference Percent  \n",
       "0                   0.0  \n",
       "1                   0.0  \n",
       "2                   0.0  \n",
       "3                   0.0  \n",
       "4                   0.0  \n",
       "..                  ...  \n",
       "602                 0.0  \n",
       "603                 0.0  \n",
       "604                 0.0  \n",
       "605                 0.0  \n",
       "606                 0.0  \n",
       "\n",
       "[607 rows x 5 columns]"
      ]
     },
     "execution_count": 23,
     "metadata": {},
     "output_type": "execute_result"
    }
   ],
   "source": [
    "Carrier_State"
   ]
  },
  {
   "cell_type": "code",
   "execution_count": null,
   "id": "e516f969",
   "metadata": {},
   "outputs": [
    {
     "data": {
      "text/html": [
       "<div>\n",
       "<style scoped>\n",
       "    .dataframe tbody tr th:only-of-type {\n",
       "        vertical-align: middle;\n",
       "    }\n",
       "\n",
       "    .dataframe tbody tr th {\n",
       "        vertical-align: top;\n",
       "    }\n",
       "\n",
       "    .dataframe thead th {\n",
       "        text-align: right;\n",
       "    }\n",
       "</style>\n",
       "<table border=\"1\" class=\"dataframe\">\n",
       "  <thead>\n",
       "    <tr style=\"text-align: right;\">\n",
       "      <th></th>\n",
       "      <th>ORIGIN_STATE_NM</th>\n",
       "      <th>ORIGIN_STATE_ABR</th>\n",
       "      <th>state_all_passenger</th>\n",
       "    </tr>\n",
       "  </thead>\n",
       "  <tbody>\n",
       "    <tr>\n",
       "      <th>0</th>\n",
       "      <td>Alabama</td>\n",
       "      <td>AL</td>\n",
       "      <td>3704</td>\n",
       "    </tr>\n",
       "    <tr>\n",
       "      <th>1</th>\n",
       "      <td>Alaska</td>\n",
       "      <td>AK</td>\n",
       "      <td>2738</td>\n",
       "    </tr>\n",
       "    <tr>\n",
       "      <th>2</th>\n",
       "      <td>Arizona</td>\n",
       "      <td>AZ</td>\n",
       "      <td>17727</td>\n",
       "    </tr>\n",
       "    <tr>\n",
       "      <th>3</th>\n",
       "      <td>Arkansas</td>\n",
       "      <td>AR</td>\n",
       "      <td>2838</td>\n",
       "    </tr>\n",
       "    <tr>\n",
       "      <th>4</th>\n",
       "      <td>California</td>\n",
       "      <td>CA</td>\n",
       "      <td>59173</td>\n",
       "    </tr>\n",
       "    <tr>\n",
       "      <th>5</th>\n",
       "      <td>Colorado</td>\n",
       "      <td>CO</td>\n",
       "      <td>21656</td>\n",
       "    </tr>\n",
       "    <tr>\n",
       "      <th>6</th>\n",
       "      <td>Connecticut</td>\n",
       "      <td>CT</td>\n",
       "      <td>1809</td>\n",
       "    </tr>\n",
       "    <tr>\n",
       "      <th>7</th>\n",
       "      <td>District of Columbia</td>\n",
       "      <td>DC</td>\n",
       "      <td>10860</td>\n",
       "    </tr>\n",
       "    <tr>\n",
       "      <th>8</th>\n",
       "      <td>Florida</td>\n",
       "      <td>FL</td>\n",
       "      <td>38003</td>\n",
       "    </tr>\n",
       "    <tr>\n",
       "      <th>9</th>\n",
       "      <td>Georgia</td>\n",
       "      <td>GA</td>\n",
       "      <td>34705</td>\n",
       "    </tr>\n",
       "    <tr>\n",
       "      <th>10</th>\n",
       "      <td>Hawaii</td>\n",
       "      <td>HI</td>\n",
       "      <td>8962</td>\n",
       "    </tr>\n",
       "    <tr>\n",
       "      <th>11</th>\n",
       "      <td>Idaho</td>\n",
       "      <td>ID</td>\n",
       "      <td>1706</td>\n",
       "    </tr>\n",
       "    <tr>\n",
       "      <th>12</th>\n",
       "      <td>Illinois</td>\n",
       "      <td>IL</td>\n",
       "      <td>32918</td>\n",
       "    </tr>\n",
       "    <tr>\n",
       "      <th>13</th>\n",
       "      <td>Indiana</td>\n",
       "      <td>IN</td>\n",
       "      <td>4223</td>\n",
       "    </tr>\n",
       "    <tr>\n",
       "      <th>14</th>\n",
       "      <td>Iowa</td>\n",
       "      <td>IA</td>\n",
       "      <td>1835</td>\n",
       "    </tr>\n",
       "    <tr>\n",
       "      <th>15</th>\n",
       "      <td>Kansas</td>\n",
       "      <td>KS</td>\n",
       "      <td>1033</td>\n",
       "    </tr>\n",
       "    <tr>\n",
       "      <th>16</th>\n",
       "      <td>Kentucky</td>\n",
       "      <td>KY</td>\n",
       "      <td>2112</td>\n",
       "    </tr>\n",
       "    <tr>\n",
       "      <th>17</th>\n",
       "      <td>Louisiana</td>\n",
       "      <td>LA</td>\n",
       "      <td>5219</td>\n",
       "    </tr>\n",
       "    <tr>\n",
       "      <th>18</th>\n",
       "      <td>Maine</td>\n",
       "      <td>ME</td>\n",
       "      <td>645</td>\n",
       "    </tr>\n",
       "    <tr>\n",
       "      <th>19</th>\n",
       "      <td>Maryland</td>\n",
       "      <td>MD</td>\n",
       "      <td>7880</td>\n",
       "    </tr>\n",
       "    <tr>\n",
       "      <th>20</th>\n",
       "      <td>Massachusetts</td>\n",
       "      <td>MA</td>\n",
       "      <td>8359</td>\n",
       "    </tr>\n",
       "    <tr>\n",
       "      <th>21</th>\n",
       "      <td>Michigan</td>\n",
       "      <td>MI</td>\n",
       "      <td>15252</td>\n",
       "    </tr>\n",
       "    <tr>\n",
       "      <th>22</th>\n",
       "      <td>Minnesota</td>\n",
       "      <td>MN</td>\n",
       "      <td>9481</td>\n",
       "    </tr>\n",
       "    <tr>\n",
       "      <th>23</th>\n",
       "      <td>Mississippi</td>\n",
       "      <td>MS</td>\n",
       "      <td>1711</td>\n",
       "    </tr>\n",
       "    <tr>\n",
       "      <th>24</th>\n",
       "      <td>Missouri</td>\n",
       "      <td>MO</td>\n",
       "      <td>9147</td>\n",
       "    </tr>\n",
       "    <tr>\n",
       "      <th>25</th>\n",
       "      <td>Montana</td>\n",
       "      <td>MT</td>\n",
       "      <td>1307</td>\n",
       "    </tr>\n",
       "    <tr>\n",
       "      <th>26</th>\n",
       "      <td>Nebraska</td>\n",
       "      <td>NE</td>\n",
       "      <td>2064</td>\n",
       "    </tr>\n",
       "    <tr>\n",
       "      <th>27</th>\n",
       "      <td>Nevada</td>\n",
       "      <td>NV</td>\n",
       "      <td>13650</td>\n",
       "    </tr>\n",
       "    <tr>\n",
       "      <th>28</th>\n",
       "      <td>New Hampshire</td>\n",
       "      <td>NH</td>\n",
       "      <td>1146</td>\n",
       "    </tr>\n",
       "    <tr>\n",
       "      <th>29</th>\n",
       "      <td>New Jersey</td>\n",
       "      <td>NJ</td>\n",
       "      <td>9212</td>\n",
       "    </tr>\n",
       "    <tr>\n",
       "      <th>30</th>\n",
       "      <td>New Mexico</td>\n",
       "      <td>NM</td>\n",
       "      <td>3003</td>\n",
       "    </tr>\n",
       "    <tr>\n",
       "      <th>31</th>\n",
       "      <td>New York</td>\n",
       "      <td>NY</td>\n",
       "      <td>23452</td>\n",
       "    </tr>\n",
       "    <tr>\n",
       "      <th>32</th>\n",
       "      <td>North Carolina</td>\n",
       "      <td>NC</td>\n",
       "      <td>15532</td>\n",
       "    </tr>\n",
       "    <tr>\n",
       "      <th>33</th>\n",
       "      <td>North Dakota</td>\n",
       "      <td>ND</td>\n",
       "      <td>616</td>\n",
       "    </tr>\n",
       "    <tr>\n",
       "      <th>34</th>\n",
       "      <td>Ohio</td>\n",
       "      <td>OH</td>\n",
       "      <td>12495</td>\n",
       "    </tr>\n",
       "    <tr>\n",
       "      <th>35</th>\n",
       "      <td>Oklahoma</td>\n",
       "      <td>OK</td>\n",
       "      <td>3334</td>\n",
       "    </tr>\n",
       "    <tr>\n",
       "      <th>36</th>\n",
       "      <td>Oregon</td>\n",
       "      <td>OR</td>\n",
       "      <td>5321</td>\n",
       "    </tr>\n",
       "    <tr>\n",
       "      <th>37</th>\n",
       "      <td>Pennsylvania</td>\n",
       "      <td>PA</td>\n",
       "      <td>10787</td>\n",
       "    </tr>\n",
       "    <tr>\n",
       "      <th>38</th>\n",
       "      <td>Puerto Rico</td>\n",
       "      <td>PR</td>\n",
       "      <td>2172</td>\n",
       "    </tr>\n",
       "    <tr>\n",
       "      <th>39</th>\n",
       "      <td>Rhode Island</td>\n",
       "      <td>RI</td>\n",
       "      <td>1365</td>\n",
       "    </tr>\n",
       "    <tr>\n",
       "      <th>40</th>\n",
       "      <td>South Carolina</td>\n",
       "      <td>SC</td>\n",
       "      <td>2618</td>\n",
       "    </tr>\n",
       "    <tr>\n",
       "      <th>41</th>\n",
       "      <td>South Dakota</td>\n",
       "      <td>SD</td>\n",
       "      <td>598</td>\n",
       "    </tr>\n",
       "    <tr>\n",
       "      <th>42</th>\n",
       "      <td>Tennessee</td>\n",
       "      <td>TN</td>\n",
       "      <td>11858</td>\n",
       "    </tr>\n",
       "    <tr>\n",
       "      <th>43</th>\n",
       "      <td>Texas</td>\n",
       "      <td>TX</td>\n",
       "      <td>58135</td>\n",
       "    </tr>\n",
       "    <tr>\n",
       "      <th>44</th>\n",
       "      <td>U.S. Virgin Islands</td>\n",
       "      <td>VI</td>\n",
       "      <td>347</td>\n",
       "    </tr>\n",
       "    <tr>\n",
       "      <th>45</th>\n",
       "      <td>Utah</td>\n",
       "      <td>UT</td>\n",
       "      <td>10376</td>\n",
       "    </tr>\n",
       "    <tr>\n",
       "      <th>46</th>\n",
       "      <td>Vermont</td>\n",
       "      <td>VT</td>\n",
       "      <td>437</td>\n",
       "    </tr>\n",
       "    <tr>\n",
       "      <th>47</th>\n",
       "      <td>Virginia</td>\n",
       "      <td>VA</td>\n",
       "      <td>3542</td>\n",
       "    </tr>\n",
       "    <tr>\n",
       "      <th>48</th>\n",
       "      <td>Washington</td>\n",
       "      <td>WA</td>\n",
       "      <td>9129</td>\n",
       "    </tr>\n",
       "    <tr>\n",
       "      <th>49</th>\n",
       "      <td>West Virginia</td>\n",
       "      <td>WV</td>\n",
       "      <td>242</td>\n",
       "    </tr>\n",
       "    <tr>\n",
       "      <th>50</th>\n",
       "      <td>Wisconsin</td>\n",
       "      <td>WI</td>\n",
       "      <td>5827</td>\n",
       "    </tr>\n",
       "    <tr>\n",
       "      <th>51</th>\n",
       "      <td>Wyoming</td>\n",
       "      <td>WY</td>\n",
       "      <td>790</td>\n",
       "    </tr>\n",
       "  </tbody>\n",
       "</table>\n",
       "</div>"
      ],
      "text/plain": [
       "         ORIGIN_STATE_NM ORIGIN_STATE_ABR  state_all_passenger\n",
       "0                Alabama               AL                 3704\n",
       "1                 Alaska               AK                 2738\n",
       "2                Arizona               AZ                17727\n",
       "3               Arkansas               AR                 2838\n",
       "4             California               CA                59173\n",
       "5               Colorado               CO                21656\n",
       "6            Connecticut               CT                 1809\n",
       "7   District of Columbia               DC                10860\n",
       "8                Florida               FL                38003\n",
       "9                Georgia               GA                34705\n",
       "10                Hawaii               HI                 8962\n",
       "11                 Idaho               ID                 1706\n",
       "12              Illinois               IL                32918\n",
       "13               Indiana               IN                 4223\n",
       "14                  Iowa               IA                 1835\n",
       "15                Kansas               KS                 1033\n",
       "16              Kentucky               KY                 2112\n",
       "17             Louisiana               LA                 5219\n",
       "18                 Maine               ME                  645\n",
       "19              Maryland               MD                 7880\n",
       "20         Massachusetts               MA                 8359\n",
       "21              Michigan               MI                15252\n",
       "22             Minnesota               MN                 9481\n",
       "23           Mississippi               MS                 1711\n",
       "24              Missouri               MO                 9147\n",
       "25               Montana               MT                 1307\n",
       "26              Nebraska               NE                 2064\n",
       "27                Nevada               NV                13650\n",
       "28         New Hampshire               NH                 1146\n",
       "29            New Jersey               NJ                 9212\n",
       "30            New Mexico               NM                 3003\n",
       "31              New York               NY                23452\n",
       "32        North Carolina               NC                15532\n",
       "33          North Dakota               ND                  616\n",
       "34                  Ohio               OH                12495\n",
       "35              Oklahoma               OK                 3334\n",
       "36                Oregon               OR                 5321\n",
       "37          Pennsylvania               PA                10787\n",
       "38           Puerto Rico               PR                 2172\n",
       "39          Rhode Island               RI                 1365\n",
       "40        South Carolina               SC                 2618\n",
       "41          South Dakota               SD                  598\n",
       "42             Tennessee               TN                11858\n",
       "43                 Texas               TX                58135\n",
       "44   U.S. Virgin Islands               VI                  347\n",
       "45                  Utah               UT                10376\n",
       "46               Vermont               VT                  437\n",
       "47              Virginia               VA                 3542\n",
       "48            Washington               WA                 9129\n",
       "49         West Virginia               WV                  242\n",
       "50             Wisconsin               WI                 5827\n",
       "51               Wyoming               WY                  790"
      ]
     },
     "execution_count": 24,
     "metadata": {},
     "output_type": "execute_result"
    }
   ],
   "source": [
    "State_all_passenger"
   ]
  },
  {
   "cell_type": "code",
   "execution_count": null,
   "id": "b088831d",
   "metadata": {
    "scrolled": true
   },
   "outputs": [
    {
     "name": "stderr",
     "output_type": "stream",
     "text": [
      "C:\\Users\\Dell\\AppData\\Local\\Programs\\Python\\Python37\\lib\\site-packages\\ipykernel_launcher.py:4: SettingWithCopyWarning:\n",
      "\n",
      "\n",
      "A value is trying to be set on a copy of a slice from a DataFrame\n",
      "\n",
      "See the caveats in the documentation: https://pandas.pydata.org/pandas-docs/stable/user_guide/indexing.html#returning-a-view-versus-a-copy\n",
      "\n"
     ]
    }
   ],
   "source": [
    "for index in Carrier_State.index:\n",
    "        for ind in State_all_passenger.index:\n",
    "            if State_all_passenger[\"ORIGIN_STATE_ABR\"][ind] == Carrier_State[\"ORIGIN_STATE_ABR\"][index]:\n",
    "                Carrier_State[\"Preference Percent\"][index] = ((Carrier_State[\"Passenger_state\"][index]/State_all_passenger[\"state_all_passenger\"][ind])*100)"
   ]
  },
  {
   "cell_type": "code",
   "execution_count": null,
   "id": "5560f281",
   "metadata": {},
   "outputs": [
    {
     "data": {
      "text/html": [
       "<div>\n",
       "<style scoped>\n",
       "    .dataframe tbody tr th:only-of-type {\n",
       "        vertical-align: middle;\n",
       "    }\n",
       "\n",
       "    .dataframe tbody tr th {\n",
       "        vertical-align: top;\n",
       "    }\n",
       "\n",
       "    .dataframe thead th {\n",
       "        text-align: right;\n",
       "    }\n",
       "</style>\n",
       "<table border=\"1\" class=\"dataframe\">\n",
       "  <thead>\n",
       "    <tr style=\"text-align: right;\">\n",
       "      <th></th>\n",
       "      <th>UNIQUE_CARRIER</th>\n",
       "      <th>ORIGIN_STATE_NM</th>\n",
       "      <th>ORIGIN_STATE_ABR</th>\n",
       "      <th>Passenger_state</th>\n",
       "      <th>Preference Percent</th>\n",
       "    </tr>\n",
       "  </thead>\n",
       "  <tbody>\n",
       "    <tr>\n",
       "      <th>0</th>\n",
       "      <td>9E</td>\n",
       "      <td>Alabama</td>\n",
       "      <td>AL</td>\n",
       "      <td>430</td>\n",
       "      <td>11.609071</td>\n",
       "    </tr>\n",
       "    <tr>\n",
       "      <th>1</th>\n",
       "      <td>9E</td>\n",
       "      <td>Arkansas</td>\n",
       "      <td>AR</td>\n",
       "      <td>262</td>\n",
       "      <td>9.231853</td>\n",
       "    </tr>\n",
       "    <tr>\n",
       "      <th>2</th>\n",
       "      <td>9E</td>\n",
       "      <td>Connecticut</td>\n",
       "      <td>CT</td>\n",
       "      <td>14</td>\n",
       "      <td>0.773908</td>\n",
       "    </tr>\n",
       "    <tr>\n",
       "      <th>3</th>\n",
       "      <td>9E</td>\n",
       "      <td>District of Columbia</td>\n",
       "      <td>DC</td>\n",
       "      <td>144</td>\n",
       "      <td>1.325967</td>\n",
       "    </tr>\n",
       "    <tr>\n",
       "      <th>4</th>\n",
       "      <td>9E</td>\n",
       "      <td>Florida</td>\n",
       "      <td>FL</td>\n",
       "      <td>418</td>\n",
       "      <td>1.099913</td>\n",
       "    </tr>\n",
       "    <tr>\n",
       "      <th>...</th>\n",
       "      <td>...</td>\n",
       "      <td>...</td>\n",
       "      <td>...</td>\n",
       "      <td>...</td>\n",
       "      <td>...</td>\n",
       "    </tr>\n",
       "    <tr>\n",
       "      <th>602</th>\n",
       "      <td>YV</td>\n",
       "      <td>Texas</td>\n",
       "      <td>TX</td>\n",
       "      <td>587</td>\n",
       "      <td>1.009719</td>\n",
       "    </tr>\n",
       "    <tr>\n",
       "      <th>603</th>\n",
       "      <td>YV</td>\n",
       "      <td>Utah</td>\n",
       "      <td>UT</td>\n",
       "      <td>25</td>\n",
       "      <td>0.240941</td>\n",
       "    </tr>\n",
       "    <tr>\n",
       "      <th>604</th>\n",
       "      <td>YV</td>\n",
       "      <td>Virginia</td>\n",
       "      <td>VA</td>\n",
       "      <td>254</td>\n",
       "      <td>7.171090</td>\n",
       "    </tr>\n",
       "    <tr>\n",
       "      <th>605</th>\n",
       "      <td>YV</td>\n",
       "      <td>Wisconsin</td>\n",
       "      <td>WI</td>\n",
       "      <td>265</td>\n",
       "      <td>4.547795</td>\n",
       "    </tr>\n",
       "    <tr>\n",
       "      <th>606</th>\n",
       "      <td>YV</td>\n",
       "      <td>Wyoming</td>\n",
       "      <td>WY</td>\n",
       "      <td>172</td>\n",
       "      <td>21.772152</td>\n",
       "    </tr>\n",
       "  </tbody>\n",
       "</table>\n",
       "<p>607 rows × 5 columns</p>\n",
       "</div>"
      ],
      "text/plain": [
       "    UNIQUE_CARRIER       ORIGIN_STATE_NM ORIGIN_STATE_ABR  Passenger_state  \\\n",
       "0               9E               Alabama               AL              430   \n",
       "1               9E              Arkansas               AR              262   \n",
       "2               9E           Connecticut               CT               14   \n",
       "3               9E  District of Columbia               DC              144   \n",
       "4               9E               Florida               FL              418   \n",
       "..             ...                   ...              ...              ...   \n",
       "602             YV                 Texas               TX              587   \n",
       "603             YV                  Utah               UT               25   \n",
       "604             YV              Virginia               VA              254   \n",
       "605             YV             Wisconsin               WI              265   \n",
       "606             YV               Wyoming               WY              172   \n",
       "\n",
       "     Preference Percent  \n",
       "0             11.609071  \n",
       "1              9.231853  \n",
       "2              0.773908  \n",
       "3              1.325967  \n",
       "4              1.099913  \n",
       "..                  ...  \n",
       "602            1.009719  \n",
       "603            0.240941  \n",
       "604            7.171090  \n",
       "605            4.547795  \n",
       "606           21.772152  \n",
       "\n",
       "[607 rows x 5 columns]"
      ]
     },
     "execution_count": 26,
     "metadata": {},
     "output_type": "execute_result"
    }
   ],
   "source": [
    "Carrier_State"
   ]
  },
  {
   "cell_type": "code",
   "execution_count": null,
   "id": "c3fd8df2",
   "metadata": {},
   "outputs": [
    {
     "data": {
      "application/vnd.plotly.v1+json": {
       "config": {
        "plotlyServerURL": "https://plot.ly"
       },
       "data": [
        {
         "hovertemplate": "UNIQUE_CARRIER=%{x}<br>ORIGIN_STATE_NM=%{y}<br>Preference Percent=%{z}<extra></extra>",
         "legendgroup": "9E",
         "marker": {
          "color": "#636efa",
          "symbol": "circle"
         },
         "mode": "markers",
         "name": "9E",
         "scene": "scene",
         "showlegend": true,
         "type": "scatter3d",
         "x": [
          "9E",
          "9E",
          "9E",
          "9E",
          "9E",
          "9E",
          "9E",
          "9E",
          "9E",
          "9E",
          "9E",
          "9E",
          "9E",
          "9E",
          "9E",
          "9E",
          "9E",
          "9E",
          "9E",
          "9E",
          "9E",
          "9E",
          "9E",
          "9E",
          "9E",
          "9E",
          "9E",
          "9E",
          "9E",
          "9E",
          "9E",
          "9E",
          "9E",
          "9E",
          "9E"
         ],
         "y": [
          "Alabama",
          "Arkansas",
          "Connecticut",
          "District of Columbia",
          "Florida",
          "Georgia",
          "Illinois",
          "Indiana",
          "Iowa",
          "Kansas",
          "Kentucky",
          "Louisiana",
          "Maine",
          "Massachusetts",
          "Michigan",
          "Minnesota",
          "Mississippi",
          "Missouri",
          "Nebraska",
          "New Hampshire",
          "New Jersey",
          "New York",
          "North Carolina",
          "North Dakota",
          "Ohio",
          "Oklahoma",
          "Pennsylvania",
          "Rhode Island",
          "South Carolina",
          "South Dakota",
          "Tennessee",
          "Texas",
          "Vermont",
          "Virginia",
          "Wisconsin"
         ],
         "z": [
          11.609071274298056,
          9.231853417899929,
          0.7739082365948038,
          1.3259668508287292,
          1.0999131647501512,
          3.002449214810546,
          0.9386961540798348,
          14.302628463177836,
          19.455040871934603,
          12.487899322362052,
          2.9829545454545454,
          5.74822762981414,
          30.697674418604652,
          1.0049048929297764,
          36.454235510097035,
          16.54888724818057,
          11.981297486849796,
          3.4546845960424184,
          10.416666666666668,
          0.8726003490401396,
          0.13026487190620928,
          4.055091250213201,
          1.8477980942570176,
          22.24025974025974,
          3.505402160864346,
          9.028194361127774,
          7.026976916658942,
          5.201465201465202,
          8.938120702826586,
          16.05351170568562,
          33.03255186372069,
          1.009718758063129,
          20.59496567505721,
          5.533596837944664,
          8.923974600995365
         ]
        },
        {
         "hovertemplate": "UNIQUE_CARRIER=%{x}<br>ORIGIN_STATE_NM=%{y}<br>Preference Percent=%{z}<extra></extra>",
         "legendgroup": "AA",
         "marker": {
          "color": "#EF553B",
          "symbol": "circle"
         },
         "mode": "markers",
         "name": "AA",
         "scene": "scene",
         "showlegend": true,
         "type": "scatter3d",
         "x": [
          "AA",
          "AA",
          "AA",
          "AA",
          "AA",
          "AA",
          "AA",
          "AA",
          "AA",
          "AA",
          "AA",
          "AA",
          "AA",
          "AA",
          "AA",
          "AA",
          "AA",
          "AA",
          "AA",
          "AA",
          "AA",
          "AA",
          "AA",
          "AA",
          "AA",
          "AA",
          "AA",
          "AA",
          "AA",
          "AA",
          "AA",
          "AA",
          "AA",
          "AA",
          "AA",
          "AA",
          "AA",
          "AA"
         ],
         "y": [
          "Alabama",
          "Arizona",
          "Arkansas",
          "California",
          "Colorado",
          "Connecticut",
          "District of Columbia",
          "Florida",
          "Georgia",
          "Hawaii",
          "Illinois",
          "Indiana",
          "Kansas",
          "Kentucky",
          "Louisiana",
          "Maryland",
          "Massachusetts",
          "Michigan",
          "Minnesota",
          "Missouri",
          "Nebraska",
          "Nevada",
          "New Jersey",
          "New Mexico",
          "New York",
          "North Carolina",
          "Ohio",
          "Oklahoma",
          "Oregon",
          "Pennsylvania",
          "Puerto Rico",
          "Tennessee",
          "Texas",
          "U.S. Virgin Islands",
          "Utah",
          "Virginia",
          "Washington",
          "Wyoming"
         ],
         "z": [
          4.58963282937365,
          4.202628758391155,
          2.5017618040873857,
          8.225035066668921,
          3.786479497598818,
          8.12603648424544,
          10.46961325966851,
          14.535694550430229,
          1.4608845987609853,
          4.1285427359964295,
          14.44498450695668,
          3.528297418896519,
          10.939012584704743,
          4.071969696969697,
          6.380532669093696,
          3.2741116751269033,
          10.982174901303985,
          1.3571990558615263,
          4.545933973209577,
          14.430960970810103,
          6.976744186046512,
          5.384615384615385,
          4.62440295267043,
          8.025308025308025,
          9.62391267269316,
          2.929436003090394,
          1.1524609843937574,
          13.34733053389322,
          2.274008644991543,
          4.2458514879021045,
          30.662983425414364,
          4.022600775847529,
          24.847338092371203,
          45.53314121037464,
          2.033538936006168,
          4.009034443817053,
          4.261145799101763,
          3.5443037974683547
         ]
        },
        {
         "hovertemplate": "UNIQUE_CARRIER=%{x}<br>ORIGIN_STATE_NM=%{y}<br>Preference Percent=%{z}<extra></extra>",
         "legendgroup": "AS",
         "marker": {
          "color": "#00cc96",
          "symbol": "circle"
         },
         "mode": "markers",
         "name": "AS",
         "scene": "scene",
         "showlegend": true,
         "type": "scatter3d",
         "x": [
          "AS",
          "AS",
          "AS",
          "AS",
          "AS",
          "AS",
          "AS",
          "AS",
          "AS",
          "AS",
          "AS",
          "AS",
          "AS",
          "AS",
          "AS",
          "AS"
         ],
         "y": [
          "Alaska",
          "Arizona",
          "California",
          "Colorado",
          "District of Columbia",
          "Florida",
          "Georgia",
          "Hawaii",
          "Illinois",
          "Massachusetts",
          "Minnesota",
          "Nevada",
          "New Jersey",
          "Oregon",
          "Texas",
          "Washington"
         ],
         "z": [
          92.91453615777941,
          1.5795114796637897,
          3.780440403562436,
          0.5541189508681197,
          0.8011049723756906,
          0.244717522300871,
          0.08932430485520818,
          2.9011381388083017,
          0.37365575065313805,
          0.7417155162100729,
          0.6433920472523996,
          2.197802197802198,
          0.6621797655232305,
          13.606464950197331,
          0.2580201255697944,
          38.13123014568956
         ]
        },
        {
         "hovertemplate": "UNIQUE_CARRIER=%{x}<br>ORIGIN_STATE_NM=%{y}<br>Preference Percent=%{z}<extra></extra>",
         "legendgroup": "B6",
         "marker": {
          "color": "#ab63fa",
          "symbol": "circle"
         },
         "mode": "markers",
         "name": "B6",
         "scene": "scene",
         "showlegend": true,
         "type": "scatter3d",
         "x": [
          "B6",
          "B6",
          "B6",
          "B6",
          "B6",
          "B6",
          "B6",
          "B6",
          "B6",
          "B6",
          "B6",
          "B6",
          "B6",
          "B6",
          "B6",
          "B6",
          "B6",
          "B6",
          "B6",
          "B6",
          "B6",
          "B6"
         ],
         "y": [
          "Arizona",
          "California",
          "Colorado",
          "District of Columbia",
          "Florida",
          "Illinois",
          "Louisiana",
          "Maine",
          "Maryland",
          "Massachusetts",
          "Nevada",
          "New Jersey",
          "New York",
          "North Carolina",
          "Oregon",
          "Pennsylvania",
          "Puerto Rico",
          "Texas",
          "Utah",
          "Vermont",
          "Virginia",
          "Washington"
         ],
         "z": [
          0.2764145089411632,
          3.104456424382742,
          0.3647949759881788,
          4.465930018416206,
          9.978159618977449,
          0.5225104805881281,
          2.050201187967043,
          18.75968992248062,
          1.4086294416243654,
          20.24165570044264,
          2.10989010989011,
          3.897090751194095,
          22.155892887600203,
          1.796291527169714,
          1.6162375493328323,
          0.8343376286270511,
          28.867403314917127,
          0.5194805194805194,
          0.8962991518889746,
          31.57894736842105,
          4.997176736307171,
          1.2378135611786614
         ]
        },
        {
         "hovertemplate": "UNIQUE_CARRIER=%{x}<br>ORIGIN_STATE_NM=%{y}<br>Preference Percent=%{z}<extra></extra>",
         "legendgroup": "CO",
         "marker": {
          "color": "#FFA15A",
          "symbol": "circle"
         },
         "mode": "markers",
         "name": "CO",
         "scene": "scene",
         "showlegend": true,
         "type": "scatter3d",
         "x": [
          "CO",
          "CO",
          "CO",
          "CO",
          "CO",
          "CO",
          "CO",
          "CO",
          "CO",
          "CO",
          "CO",
          "CO",
          "CO",
          "CO",
          "CO",
          "CO",
          "CO",
          "CO",
          "CO",
          "CO",
          "CO",
          "CO",
          "CO",
          "CO",
          "CO",
          "CO",
          "CO",
          "CO",
          "CO",
          "CO",
          "CO"
         ],
         "y": [
          "Alaska",
          "Arizona",
          "California",
          "Colorado",
          "District of Columbia",
          "Florida",
          "Georgia",
          "Hawaii",
          "Illinois",
          "Indiana",
          "Louisiana",
          "Maryland",
          "Massachusetts",
          "Michigan",
          "Minnesota",
          "Missouri",
          "Nebraska",
          "Nevada",
          "New Jersey",
          "New Mexico",
          "New York",
          "North Carolina",
          "Ohio",
          "Oklahoma",
          "Oregon",
          "Pennsylvania",
          "Puerto Rico",
          "Texas",
          "U.S. Virgin Islands",
          "Utah",
          "Washington"
         ],
         "z": [
          2.66617969320672,
          2.2282394088114175,
          3.117976103966336,
          1.814739564093092,
          2.0257826887661143,
          5.525879535826119,
          0.5474715458867598,
          1.53983485829056,
          1.2029892460052252,
          0.6867156050201279,
          6.629622533052309,
          1.7131979695431472,
          4.0555090321808835,
          0.9244689221085759,
          0.3269697289315473,
          0.1421231004700995,
          1.308139534883721,
          3.032967032967033,
          40.65349544072948,
          0.7326007326007326,
          1.1811359372334982,
          1.255472572753026,
          8.8515406162465,
          1.7096580683863227,
          3.082127419657959,
          1.9467878001297858,
          9.898710865561695,
          12.64126601874946,
          6.628242074927954,
          0.7420971472629144,
          4.261145799101763
         ]
        },
        {
         "hovertemplate": "UNIQUE_CARRIER=%{x}<br>ORIGIN_STATE_NM=%{y}<br>Preference Percent=%{z}<extra></extra>",
         "legendgroup": "DL",
         "marker": {
          "color": "#19d3f3",
          "symbol": "circle"
         },
         "mode": "markers",
         "name": "DL",
         "scene": "scene",
         "showlegend": true,
         "type": "scatter3d",
         "x": [
          "DL",
          "DL",
          "DL",
          "DL",
          "DL",
          "DL",
          "DL",
          "DL",
          "DL",
          "DL",
          "DL",
          "DL",
          "DL",
          "DL",
          "DL",
          "DL",
          "DL",
          "DL",
          "DL",
          "DL",
          "DL",
          "DL",
          "DL",
          "DL",
          "DL",
          "DL",
          "DL",
          "DL",
          "DL",
          "DL",
          "DL",
          "DL",
          "DL",
          "DL",
          "DL",
          "DL",
          "DL",
          "DL",
          "DL",
          "DL",
          "DL"
         ],
         "y": [
          "Alabama",
          "Alaska",
          "Arizona",
          "California",
          "Colorado",
          "Connecticut",
          "District of Columbia",
          "Florida",
          "Georgia",
          "Hawaii",
          "Idaho",
          "Illinois",
          "Indiana",
          "Kentucky",
          "Louisiana",
          "Maryland",
          "Massachusetts",
          "Michigan",
          "Minnesota",
          "Mississippi",
          "Missouri",
          "Montana",
          "Nevada",
          "New Jersey",
          "New Mexico",
          "New York",
          "North Carolina",
          "Ohio",
          "Oregon",
          "Pennsylvania",
          "Puerto Rico",
          "Rhode Island",
          "South Carolina",
          "Tennessee",
          "Texas",
          "U.S. Virgin Islands",
          "Utah",
          "Virginia",
          "Washington",
          "Wisconsin",
          "Wyoming"
         ],
         "z": [
          2.429805615550756,
          1.1322132943754566,
          2.002594911716591,
          3.4745576529836244,
          1.8978574067233098,
          19.237147595356554,
          5.257826887661142,
          11.567507828329344,
          36.41550208903616,
          1.9303726846686007,
          2.813599062133646,
          0.9022419345039189,
          4.096613781671797,
          0.7102272727272727,
          5.767388388580188,
          4.251269035532995,
          10.467759301351837,
          2.222659323367427,
          3.5966670182470204,
          1.8118059614260666,
          3.3781567727123645,
          0.8416220351951033,
          4.608058608058608,
          3.3217542336083374,
          2.897102897102897,
          10.920177383592018,
          2.8650527942312642,
          9.515806322529013,
          3.7398985153166695,
          4.477611940298507,
          7.826887661141805,
          1.1721611721611722,
          7.677616501145914,
          1.981784449316917,
          1.2814999569966459,
          27.089337175792505,
          19.217424826522745,
          8.639186900056465,
          5.038887063205171,
          1.4415651278530976,
          3.1645569620253164
         ]
        },
        {
         "hovertemplate": "UNIQUE_CARRIER=%{x}<br>ORIGIN_STATE_NM=%{y}<br>Preference Percent=%{z}<extra></extra>",
         "legendgroup": "EV",
         "marker": {
          "color": "#FF6692",
          "symbol": "circle"
         },
         "mode": "markers",
         "name": "EV",
         "scene": "scene",
         "showlegend": true,
         "type": "scatter3d",
         "x": [
          "EV",
          "EV",
          "EV",
          "EV",
          "EV",
          "EV",
          "EV",
          "EV",
          "EV",
          "EV",
          "EV",
          "EV",
          "EV",
          "EV",
          "EV",
          "EV",
          "EV",
          "EV",
          "EV",
          "EV",
          "EV",
          "EV",
          "EV",
          "EV",
          "EV",
          "EV",
          "EV",
          "EV",
          "EV",
          "EV"
         ],
         "y": [
          "Alabama",
          "Arkansas",
          "District of Columbia",
          "Florida",
          "Georgia",
          "Illinois",
          "Indiana",
          "Iowa",
          "Kansas",
          "Kentucky",
          "Louisiana",
          "Maine",
          "Michigan",
          "Mississippi",
          "Missouri",
          "Nebraska",
          "New Hampshire",
          "New York",
          "North Carolina",
          "Ohio",
          "Oklahoma",
          "Pennsylvania",
          "Rhode Island",
          "South Carolina",
          "South Dakota",
          "Tennessee",
          "Texas",
          "Virginia",
          "West Virginia",
          "Wisconsin"
         ],
         "z": [
          30.69654427645788,
          11.698379140239606,
          0.5616942909760589,
          3.9391626976817617,
          34.16798732171157,
          0.7503493529376025,
          6.440918778119819,
          3.651226158038147,
          14.133591481122942,
          20.97537878787879,
          11.074918566775244,
          2.1705426356589146,
          1.6129032258064515,
          28.57977790765634,
          2.2193068765715536,
          5.910852713178294,
          2.6178010471204187,
          0.9594064472113253,
          6.747360288436775,
          5.842336934773909,
          8.158368326334733,
          2.169277834430333,
          0.8791208791208791,
          30.82505729564553,
          0.16722408026755853,
          7.134424017540901,
          0.371548980820504,
          16.233766233766232,
          47.107438016528924,
          1.5616955551741891
         ]
        },
        {
         "hovertemplate": "UNIQUE_CARRIER=%{x}<br>ORIGIN_STATE_NM=%{y}<br>Preference Percent=%{z}<extra></extra>",
         "legendgroup": "F9",
         "marker": {
          "color": "#B6E880",
          "symbol": "circle"
         },
         "mode": "markers",
         "name": "F9",
         "scene": "scene",
         "showlegend": true,
         "type": "scatter3d",
         "x": [
          "F9",
          "F9",
          "F9",
          "F9",
          "F9",
          "F9",
          "F9",
          "F9",
          "F9",
          "F9",
          "F9",
          "F9",
          "F9",
          "F9",
          "F9",
          "F9",
          "F9",
          "F9",
          "F9",
          "F9",
          "F9",
          "F9",
          "F9"
         ],
         "y": [
          "Arizona",
          "California",
          "Colorado",
          "District of Columbia",
          "Florida",
          "Georgia",
          "Idaho",
          "Illinois",
          "Indiana",
          "Massachusetts",
          "Michigan",
          "Minnesota",
          "Missouri",
          "Nevada",
          "New York",
          "Ohio",
          "Oregon",
          "Pennsylvania",
          "Tennessee",
          "Texas",
          "Utah",
          "Washington",
          "Wisconsin"
         ],
         "z": [
          1.6754103909290912,
          1.1204434454903418,
          13.74214998152937,
          0.8195211786372006,
          0.7762545062231929,
          0.2074629015991932,
          0.8206330597889802,
          0.3615043441278328,
          2.0127871181624437,
          0.29907883718148104,
          0.40650406504065045,
          0.9703617761839468,
          2.3723625232316605,
          1.9194139194139193,
          0.2558417192563534,
          0.33613445378151263,
          2.2928021048675062,
          0.2781125428756837,
          0.7252487771968291,
          0.6863335340156532,
          1.0119506553585198,
          0.8653740825939313,
          6.143813282992964
         ]
        },
        {
         "hovertemplate": "UNIQUE_CARRIER=%{x}<br>ORIGIN_STATE_NM=%{y}<br>Preference Percent=%{z}<extra></extra>",
         "legendgroup": "FL",
         "marker": {
          "color": "#FF97FF",
          "symbol": "circle"
         },
         "mode": "markers",
         "name": "FL",
         "scene": "scene",
         "showlegend": true,
         "type": "scatter3d",
         "x": [
          "FL",
          "FL",
          "FL",
          "FL",
          "FL",
          "FL",
          "FL",
          "FL",
          "FL",
          "FL",
          "FL",
          "FL",
          "FL",
          "FL",
          "FL",
          "FL",
          "FL",
          "FL",
          "FL",
          "FL",
          "FL",
          "FL",
          "FL",
          "FL",
          "FL",
          "FL",
          "FL",
          "FL",
          "FL",
          "FL"
         ],
         "y": [
          "Arizona",
          "California",
          "Colorado",
          "District of Columbia",
          "Florida",
          "Georgia",
          "Illinois",
          "Indiana",
          "Kansas",
          "Louisiana",
          "Maine",
          "Maryland",
          "Massachusetts",
          "Michigan",
          "Minnesota",
          "Missouri",
          "Nevada",
          "New Jersey",
          "New York",
          "North Carolina",
          "Ohio",
          "Pennsylvania",
          "Puerto Rico",
          "South Carolina",
          "Tennessee",
          "Texas",
          "Virginia",
          "Washington",
          "West Virginia",
          "Wisconsin"
         ],
         "z": [
          0.4794945563265076,
          0.4376996265188515,
          0.8404137421499815,
          3.839779005524862,
          11.585927426782096,
          17.098400806800175,
          1.862203050003038,
          14.492067250769594,
          7.357212003872217,
          2.87411381490707,
          11.162790697674419,
          18.19796954314721,
          6.663476492403397,
          2.3406766325727775,
          2.4680940829026476,
          3.07204547939215,
          1.1721611721611722,
          0.9335649153278333,
          4.30240491216101,
          1.9572495493175381,
          5.986394557823129,
          6.174098451840178,
          8.517495395948435,
          0.2291825821237586,
          1.0794400404790014,
          0.7964221209254323,
          10.869565217391305,
          0.3395771716507832,
          5.371900826446281,
          16.972713231508497
         ]
        },
        {
         "hovertemplate": "UNIQUE_CARRIER=%{x}<br>ORIGIN_STATE_NM=%{y}<br>Preference Percent=%{z}<extra></extra>",
         "legendgroup": "HA",
         "marker": {
          "color": "#FECB52",
          "symbol": "circle"
         },
         "mode": "markers",
         "name": "HA",
         "scene": "scene",
         "showlegend": true,
         "type": "scatter3d",
         "x": [
          "HA",
          "HA",
          "HA",
          "HA",
          "HA",
          "HA"
         ],
         "y": [
          "Arizona",
          "California",
          "Hawaii",
          "Nevada",
          "Oregon",
          "Washington"
         ],
         "z": [
          0.174874485248491,
          0.36334138880908523,
          59.88618611916983,
          0.5714285714285714,
          1.1651945123097163,
          0.821557673348669
         ]
        },
        {
         "hovertemplate": "UNIQUE_CARRIER=%{x}<br>ORIGIN_STATE_NM=%{y}<br>Preference Percent=%{z}<extra></extra>",
         "legendgroup": "MQ",
         "marker": {
          "color": "#636efa",
          "symbol": "circle"
         },
         "mode": "markers",
         "name": "MQ",
         "scene": "scene",
         "showlegend": true,
         "type": "scatter3d",
         "x": [
          "MQ",
          "MQ",
          "MQ",
          "MQ",
          "MQ",
          "MQ",
          "MQ",
          "MQ",
          "MQ",
          "MQ",
          "MQ",
          "MQ",
          "MQ",
          "MQ",
          "MQ",
          "MQ",
          "MQ",
          "MQ",
          "MQ",
          "MQ",
          "MQ",
          "MQ",
          "MQ",
          "MQ",
          "MQ",
          "MQ",
          "MQ",
          "MQ",
          "MQ",
          "MQ",
          "MQ",
          "MQ",
          "MQ"
         ],
         "y": [
          "Alabama",
          "Arkansas",
          "California",
          "Colorado",
          "Connecticut",
          "District of Columbia",
          "Florida",
          "Georgia",
          "Illinois",
          "Indiana",
          "Iowa",
          "Kansas",
          "Kentucky",
          "Louisiana",
          "Maryland",
          "Massachusetts",
          "Michigan",
          "Minnesota",
          "Mississippi",
          "Missouri",
          "Nebraska",
          "New Mexico",
          "New York",
          "North Carolina",
          "Ohio",
          "Oklahoma",
          "Pennsylvania",
          "South Carolina",
          "Tennessee",
          "Texas",
          "Virginia",
          "West Virginia",
          "Wisconsin"
         ],
         "z": [
          5.966522678185745,
          36.99788583509514,
          4.186030791070252,
          0.3140007388252678,
          9.12106135986733,
          7.357274401473296,
          3.136594479383207,
          0.3889929404984872,
          20.593596208761163,
          13.11863604072934,
          38.96457765667575,
          15.682478218780252,
          13.683712121212121,
          13.91071086415022,
          1.434010152284264,
          8.948438808469913,
          5.704169944925256,
          1.582111591604261,
          21.858562244301577,
          5.149229255493604,
          5.6686046511627906,
          8.25840825840826,
          8.400136448916937,
          9.071594128251352,
          11.732693077230891,
          6.11877624475105,
          2.716232502085844,
          11.000763941940413,
          7.952437173216394,
          14.686505547432699,
          5.9853190287972895,
          11.15702479338843,
          13.334477432641153
         ]
        },
        {
         "hovertemplate": "UNIQUE_CARRIER=%{x}<br>ORIGIN_STATE_NM=%{y}<br>Preference Percent=%{z}<extra></extra>",
         "legendgroup": "NW",
         "marker": {
          "color": "#EF553B",
          "symbol": "circle"
         },
         "mode": "markers",
         "name": "NW",
         "scene": "scene",
         "showlegend": true,
         "type": "scatter3d",
         "x": [
          "NW",
          "NW",
          "NW",
          "NW",
          "NW",
          "NW",
          "NW",
          "NW",
          "NW",
          "NW",
          "NW",
          "NW",
          "NW",
          "NW",
          "NW",
          "NW",
          "NW",
          "NW",
          "NW",
          "NW",
          "NW",
          "NW",
          "NW",
          "NW",
          "NW",
          "NW",
          "NW",
          "NW",
          "NW",
          "NW",
          "NW",
          "NW",
          "NW",
          "NW",
          "NW",
          "NW",
          "NW",
          "NW",
          "NW",
          "NW"
         ],
         "y": [
          "Alaska",
          "Arizona",
          "Arkansas",
          "California",
          "Colorado",
          "Connecticut",
          "District of Columbia",
          "Florida",
          "Georgia",
          "Hawaii",
          "Illinois",
          "Indiana",
          "Louisiana",
          "Maryland",
          "Massachusetts",
          "Michigan",
          "Minnesota",
          "Missouri",
          "Montana",
          "Nebraska",
          "Nevada",
          "New Hampshire",
          "New Jersey",
          "New Mexico",
          "New York",
          "North Carolina",
          "North Dakota",
          "Ohio",
          "Oregon",
          "Pennsylvania",
          "Puerto Rico",
          "Rhode Island",
          "South Dakota",
          "Tennessee",
          "Texas",
          "Utah",
          "Virginia",
          "Washington",
          "Wisconsin",
          "Wyoming"
         ],
         "z": [
          1.6800584368151936,
          2.008236024143961,
          1.0923185341789992,
          2.1040001351967956,
          1.4868858514961212,
          7.075732448866777,
          3.6279926335174952,
          4.944346498960608,
          0.08932430485520818,
          2.2428029457710332,
          1.4004496020414363,
          6.961875443997158,
          3.1232036788656834,
          2.779187817258883,
          3.78035650197392,
          33.300550747442955,
          52.0198291319481,
          3.8810538974527167,
          3.366488140780413,
          2.8585271317829455,
          3.743589743589744,
          5.2356020942408374,
          1.3677811550151975,
          1.7982017982017984,
          4.767184035476718,
          1.9830028328611897,
          23.051948051948052,
          0.7603041216486595,
          2.8002255215185117,
          2.549364976360434,
          1.0128913443830572,
          5.274725274725275,
          3.3444816053511706,
          10.204081632653061,
          0.47819729938935235,
          1.55165767154973,
          1.355166572557877,
          4.66644758462044,
          9.627595675304617,
          1.2658227848101267
         ]
        },
        {
         "hovertemplate": "UNIQUE_CARRIER=%{x}<br>ORIGIN_STATE_NM=%{y}<br>Preference Percent=%{z}<extra></extra>",
         "legendgroup": "OH",
         "marker": {
          "color": "#00cc96",
          "symbol": "circle"
         },
         "mode": "markers",
         "name": "OH",
         "scene": "scene",
         "showlegend": true,
         "type": "scatter3d",
         "x": [
          "OH",
          "OH",
          "OH",
          "OH",
          "OH",
          "OH",
          "OH",
          "OH",
          "OH",
          "OH",
          "OH",
          "OH",
          "OH",
          "OH",
          "OH",
          "OH",
          "OH",
          "OH",
          "OH",
          "OH",
          "OH",
          "OH",
          "OH",
          "OH",
          "OH",
          "OH",
          "OH",
          "OH",
          "OH",
          "OH",
          "OH",
          "OH"
         ],
         "y": [
          "Alabama",
          "Connecticut",
          "District of Columbia",
          "Florida",
          "Georgia",
          "Illinois",
          "Indiana",
          "Iowa",
          "Kentucky",
          "Louisiana",
          "Maine",
          "Maryland",
          "Massachusetts",
          "Michigan",
          "Minnesota",
          "Mississippi",
          "Missouri",
          "Nebraska",
          "New Jersey",
          "New York",
          "North Carolina",
          "Ohio",
          "Oklahoma",
          "Pennsylvania",
          "Rhode Island",
          "South Carolina",
          "Tennessee",
          "Texas",
          "Vermont",
          "Virginia",
          "West Virginia",
          "Wisconsin"
         ],
         "z": [
          5.372570194384449,
          2.8192371475953566,
          5.883977900552486,
          0.6262663473936269,
          1.4954617490275177,
          0.7199708366243392,
          3.7650959033862184,
          4.1961852861035425,
          11.647727272727272,
          1.0538417321325924,
          24.186046511627907,
          0.3680203045685279,
          4.7254456274674,
          4.996066089693155,
          2.679042295116549,
          1.461133839859731,
          1.8366677599212857,
          4.166666666666666,
          0.2496743378202345,
          11.824151458297798,
          4.139840329642029,
          13.741496598639454,
          0.7198560287942412,
          2.4473903773060166,
          2.1245421245421245,
          1.7188693659281895,
          1.5516950581885647,
          0.3319858948998022,
          18.993135011441648,
          8.15923207227555,
          3.3057851239669422,
          2.007894285223957
         ]
        },
        {
         "hovertemplate": "UNIQUE_CARRIER=%{x}<br>ORIGIN_STATE_NM=%{y}<br>Preference Percent=%{z}<extra></extra>",
         "legendgroup": "OO",
         "marker": {
          "color": "#ab63fa",
          "symbol": "circle"
         },
         "mode": "markers",
         "name": "OO",
         "scene": "scene",
         "showlegend": true,
         "type": "scatter3d",
         "x": [
          "OO",
          "OO",
          "OO",
          "OO",
          "OO",
          "OO",
          "OO",
          "OO",
          "OO",
          "OO",
          "OO",
          "OO",
          "OO",
          "OO",
          "OO",
          "OO",
          "OO",
          "OO",
          "OO",
          "OO",
          "OO",
          "OO",
          "OO",
          "OO",
          "OO",
          "OO",
          "OO",
          "OO",
          "OO",
          "OO",
          "OO",
          "OO",
          "OO",
          "OO",
          "OO",
          "OO",
          "OO",
          "OO",
          "OO",
          "OO"
         ],
         "y": [
          "Alabama",
          "Arizona",
          "Arkansas",
          "California",
          "Colorado",
          "District of Columbia",
          "Georgia",
          "Idaho",
          "Illinois",
          "Indiana",
          "Iowa",
          "Kansas",
          "Kentucky",
          "Louisiana",
          "Michigan",
          "Minnesota",
          "Mississippi",
          "Missouri",
          "Montana",
          "Nebraska",
          "Nevada",
          "New Jersey",
          "New Mexico",
          "New York",
          "North Carolina",
          "North Dakota",
          "Ohio",
          "Oklahoma",
          "Oregon",
          "Pennsylvania",
          "South Carolina",
          "South Dakota",
          "Tennessee",
          "Texas",
          "Utah",
          "Virginia",
          "Washington",
          "West Virginia",
          "Wisconsin",
          "Wyoming"
         ],
         "z": [
          2.591792656587473,
          4.91340892423986,
          13.248766737138832,
          21.80555320838896,
          27.188769855929074,
          0.23020257826887663,
          1.746146088459876,
          61.78194607268465,
          11.176256151649554,
          4.333412266161496,
          12.861035422343326,
          23.23330106485963,
          11.079545454545455,
          0.6131442805135083,
          1.121164437450826,
          1.012551418626727,
          3.389830508474576,
          5.02897124740352,
          91.20122417750574,
          19.234496124031008,
          4.417582417582418,
          0.5427702996092054,
          12.42091242091242,
          0.7163568139177895,
          0.47643574555755863,
          54.7077922077922,
          7.0588235294117645,
          10.677864427114576,
          40.51869949257658,
          2.1414665801427644,
          2.6737967914438503,
          42.97658862876254,
          3.4913138809242703,
          1.6926120237378515,
          61.35312259059368,
          0.0564652738565782,
          13.900755833059481,
          21.074380165289256,
          21.57199244894457,
          64.17721518987342
         ]
        },
        {
         "hovertemplate": "UNIQUE_CARRIER=%{x}<br>ORIGIN_STATE_NM=%{y}<br>Preference Percent=%{z}<extra></extra>",
         "legendgroup": "UA",
         "marker": {
          "color": "#FFA15A",
          "symbol": "circle"
         },
         "mode": "markers",
         "name": "UA",
         "scene": "scene",
         "showlegend": true,
         "type": "scatter3d",
         "x": [
          "UA",
          "UA",
          "UA",
          "UA",
          "UA",
          "UA",
          "UA",
          "UA",
          "UA",
          "UA",
          "UA",
          "UA",
          "UA",
          "UA",
          "UA",
          "UA",
          "UA",
          "UA",
          "UA",
          "UA",
          "UA",
          "UA",
          "UA",
          "UA",
          "UA",
          "UA",
          "UA",
          "UA",
          "UA",
          "UA",
          "UA",
          "UA",
          "UA",
          "UA",
          "UA",
          "UA",
          "UA",
          "UA"
         ],
         "y": [
          "Arizona",
          "California",
          "Colorado",
          "Connecticut",
          "District of Columbia",
          "Florida",
          "Georgia",
          "Hawaii",
          "Idaho",
          "Illinois",
          "Iowa",
          "Kansas",
          "Louisiana",
          "Maryland",
          "Massachusetts",
          "Michigan",
          "Minnesota",
          "Missouri",
          "Montana",
          "Nebraska",
          "Nevada",
          "New Jersey",
          "New Mexico",
          "New York",
          "North Carolina",
          "Ohio",
          "Oklahoma",
          "Oregon",
          "Pennsylvania",
          "Puerto Rico",
          "Rhode Island",
          "South Dakota",
          "Texas",
          "U.S. Virgin Islands",
          "Utah",
          "Virginia",
          "Washington",
          "Wyoming"
         ],
         "z": [
          2.6287583911547356,
          10.962770182346679,
          20.87643147395641,
          9.286898839137644,
          20.59852670349908,
          2.2340341551982736,
          0.24780291024348078,
          7.264003570631555,
          5.0996483001172335,
          16.015553800352393,
          5.286103542234333,
          3.8722168441432716,
          4.196206169764323,
          4.441624365482234,
          8.015312836463693,
          0.47206923682140045,
          3.6177618394684106,
          2.4160927079916914,
          4.590665646518746,
          9.39922480620155,
          6.249084249084249,
          2.811550151975684,
          2.064602064602065,
          4.2469725396554665,
          1.1782127221220704,
          1.400560224089636,
          4.199160167966406,
          6.464950197331329,
          5.228515806062854,
          4.23572744014733,
          4.395604395604396,
          8.361204013377927,
          0.9202717811989336,
          4.610951008645533,
          0.6553585196607555,
          1.5245623941276116,
          6.736772921459086,
          6.075949367088607
         ]
        },
        {
         "hovertemplate": "UNIQUE_CARRIER=%{x}<br>ORIGIN_STATE_NM=%{y}<br>Preference Percent=%{z}<extra></extra>",
         "legendgroup": "US",
         "marker": {
          "color": "#19d3f3",
          "symbol": "circle"
         },
         "mode": "markers",
         "name": "US",
         "scene": "scene",
         "showlegend": true,
         "type": "scatter3d",
         "x": [
          "US",
          "US",
          "US",
          "US",
          "US",
          "US",
          "US",
          "US",
          "US",
          "US",
          "US",
          "US",
          "US",
          "US",
          "US",
          "US",
          "US",
          "US",
          "US",
          "US",
          "US",
          "US",
          "US",
          "US",
          "US",
          "US",
          "US",
          "US",
          "US",
          "US",
          "US",
          "US",
          "US",
          "US",
          "US",
          "US",
          "US",
          "US",
          "US"
         ],
         "y": [
          "Alaska",
          "Arizona",
          "California",
          "Colorado",
          "Connecticut",
          "District of Columbia",
          "Florida",
          "Georgia",
          "Hawaii",
          "Idaho",
          "Illinois",
          "Indiana",
          "Louisiana",
          "Maine",
          "Maryland",
          "Massachusetts",
          "Michigan",
          "Minnesota",
          "Missouri",
          "Nebraska",
          "Nevada",
          "New Hampshire",
          "New Jersey",
          "New Mexico",
          "New York",
          "North Carolina",
          "Ohio",
          "Oregon",
          "Pennsylvania",
          "Puerto Rico",
          "Rhode Island",
          "South Carolina",
          "Tennessee",
          "Texas",
          "U.S. Virgin Islands",
          "Utah",
          "Virginia",
          "Washington",
          "Wisconsin"
         ],
         "z": [
          1.6070124178232286,
          28.22812658656287,
          3.5844050496003246,
          1.671592168452161,
          9.673852957435047,
          14.723756906077348,
          8.062521379891061,
          1.1410459587955626,
          1.7853157777281858,
          3.5756154747948417,
          1.8014460173765112,
          2.6521430262846315,
          2.854953056141023,
          4.8062015503875966,
          4.213197969543147,
          15.097499700921164,
          1.2719643325465513,
          3.1431283619871317,
          3.279763857002296,
          2.2771317829457365,
          8.512820512820513,
          6.195462478184991,
          3.4628745115067305,
          3.0303030303030303,
          5.376940133037694,
          43.8385269121813,
          0.7202881152460985,
          2.8002255215185117,
          35.4315379623621,
          8.977900552486188,
          16.41025641025641,
          4.621848739495799,
          0.9192106594703998,
          1.5601616926120239,
          16.138328530259365,
          1.3010794140323825,
          4.121964991530209,
          3.6148537627341435,
          0.8923974600995366
         ]
        },
        {
         "hovertemplate": "UNIQUE_CARRIER=%{x}<br>ORIGIN_STATE_NM=%{y}<br>Preference Percent=%{z}<extra></extra>",
         "legendgroup": "WN",
         "marker": {
          "color": "#FF6692",
          "symbol": "circle"
         },
         "mode": "markers",
         "name": "WN",
         "scene": "scene",
         "showlegend": true,
         "type": "scatter3d",
         "x": [
          "WN",
          "WN",
          "WN",
          "WN",
          "WN",
          "WN",
          "WN",
          "WN",
          "WN",
          "WN",
          "WN",
          "WN",
          "WN",
          "WN",
          "WN",
          "WN",
          "WN",
          "WN",
          "WN",
          "WN",
          "WN",
          "WN",
          "WN",
          "WN",
          "WN",
          "WN",
          "WN",
          "WN",
          "WN",
          "WN",
          "WN",
          "WN",
          "WN",
          "WN",
          "WN",
          "WN"
         ],
         "y": [
          "Alabama",
          "Arizona",
          "Arkansas",
          "California",
          "Colorado",
          "Connecticut",
          "District of Columbia",
          "Florida",
          "Idaho",
          "Illinois",
          "Indiana",
          "Kentucky",
          "Louisiana",
          "Maryland",
          "Massachusetts",
          "Michigan",
          "Minnesota",
          "Mississippi",
          "Missouri",
          "Nebraska",
          "Nevada",
          "New Hampshire",
          "New Mexico",
          "New York",
          "North Carolina",
          "Ohio",
          "Oklahoma",
          "Oregon",
          "Pennsylvania",
          "Rhode Island",
          "Tennessee",
          "Texas",
          "Utah",
          "Virginia",
          "Washington",
          "Wisconsin"
         ],
         "z": [
          19.27645788336933,
          30.749703841597565,
          13.918252290345315,
          31.29298835617596,
          14.938123383819727,
          26.64455500276396,
          2.578268876611418,
          19.635291950635477,
          25.908558030480656,
          18.585576280454465,
          10.940089983424105,
          21.543560606060606,
          20.157118221881586,
          55.78680203045685,
          3.4094987438688835,
          3.009441384736428,
          3.322434342368948,
          13.442431326709524,
          40.93145293538865,
          20.78488372093023,
          52.68131868131868,
          60.296684118673646,
          53.08025308025308,
          7.653931434419239,
          5.060520216327582,
          9.003601440576231,
          30.353929214157166,
          19.639165570381508,
          19.124872531751183,
          56.99633699633699,
          17.043346264125486,
          20.72073621742496,
          10.678488820354664,
          9.768492377188029,
          16.124438602256543,
          6.109490303758366
         ]
        },
        {
         "hovertemplate": "UNIQUE_CARRIER=%{x}<br>ORIGIN_STATE_NM=%{y}<br>Preference Percent=%{z}<extra></extra>",
         "legendgroup": "XE",
         "marker": {
          "color": "#B6E880",
          "symbol": "circle"
         },
         "mode": "markers",
         "name": "XE",
         "scene": "scene",
         "showlegend": true,
         "type": "scatter3d",
         "x": [
          "XE",
          "XE",
          "XE",
          "XE",
          "XE",
          "XE",
          "XE",
          "XE",
          "XE",
          "XE",
          "XE",
          "XE",
          "XE",
          "XE",
          "XE",
          "XE",
          "XE",
          "XE",
          "XE",
          "XE",
          "XE",
          "XE",
          "XE",
          "XE",
          "XE",
          "XE",
          "XE",
          "XE",
          "XE",
          "XE",
          "XE",
          "XE",
          "XE",
          "XE",
          "XE",
          "XE",
          "XE",
          "XE",
          "XE",
          "XE"
         ],
         "y": [
          "Alabama",
          "Arizona",
          "Arkansas",
          "Colorado",
          "Connecticut",
          "District of Columbia",
          "Florida",
          "Georgia",
          "Illinois",
          "Indiana",
          "Iowa",
          "Kansas",
          "Kentucky",
          "Louisiana",
          "Maine",
          "Maryland",
          "Massachusetts",
          "Michigan",
          "Minnesota",
          "Mississippi",
          "Missouri",
          "Nebraska",
          "New Hampshire",
          "New Jersey",
          "New Mexico",
          "New York",
          "North Carolina",
          "Ohio",
          "Oklahoma",
          "Pennsylvania",
          "Rhode Island",
          "South Carolina",
          "South Dakota",
          "Tennessee",
          "Texas",
          "Utah",
          "Vermont",
          "Virginia",
          "West Virginia",
          "Wisconsin"
         ],
         "z": [
          12.28401727861771,
          0.7502679528403001,
          11.310782241014799,
          2.9091244920576282,
          5.030403537866224,
          4.30939226519337,
          1.7945951635397206,
          1.092061662584642,
          0.9204690442918767,
          8.074828321098746,
          2.997275204359673,
          12.294288480154888,
          9.801136363636363,
          13.565817206361372,
          3.875968992248062,
          2.131979695431472,
          1.2680942696494797,
          2.4193548387096775,
          3.5122877333614597,
          17.475160724722386,
          8.002623811085602,
          10.319767441860465,
          16.143106457242585,
          36.30047763786365,
          5.627705627705628,
          1.9486610950025585,
          4.287921710018027,
          18.6234493797519,
          12.867426514697062,
          1.4739964772411236,
          5.274725274725275,
          14.858670741023683,
          8.193979933110368,
          6.8476977567886665,
          16.188182678248904,
          0.31804163454124906,
          28.832951945080094,
          11.575381140598532,
          11.983471074380166,
          6.864595846919512
         ]
        },
        {
         "hovertemplate": "UNIQUE_CARRIER=%{x}<br>ORIGIN_STATE_NM=%{y}<br>Preference Percent=%{z}<extra></extra>",
         "legendgroup": "YV",
         "marker": {
          "color": "#FF97FF",
          "symbol": "circle"
         },
         "mode": "markers",
         "name": "YV",
         "scene": "scene",
         "showlegend": true,
         "type": "scatter3d",
         "x": [
          "YV",
          "YV",
          "YV",
          "YV",
          "YV",
          "YV",
          "YV",
          "YV",
          "YV",
          "YV",
          "YV",
          "YV",
          "YV",
          "YV",
          "YV",
          "YV",
          "YV",
          "YV",
          "YV",
          "YV",
          "YV",
          "YV",
          "YV",
          "YV",
          "YV",
          "YV",
          "YV",
          "YV",
          "YV",
          "YV",
          "YV",
          "YV",
          "YV",
          "YV",
          "YV",
          "YV",
          "YV"
         ],
         "y": [
          "Alabama",
          "Arizona",
          "California",
          "Colorado",
          "Connecticut",
          "District of Columbia",
          "Florida",
          "Georgia",
          "Hawaii",
          "Illinois",
          "Indiana",
          "Iowa",
          "Kentucky",
          "Maine",
          "Massachusetts",
          "Michigan",
          "Minnesota",
          "Missouri",
          "Nebraska",
          "Nevada",
          "New Hampshire",
          "New Jersey",
          "New Mexico",
          "New York",
          "North Carolina",
          "Ohio",
          "Oklahoma",
          "Pennsylvania",
          "Rhode Island",
          "South Carolina",
          "South Dakota",
          "Tennessee",
          "Texas",
          "Utah",
          "Virginia",
          "Wisconsin",
          "Wyoming"
         ],
         "z": [
          5.183585313174946,
          18.102329779432505,
          2.4403021648386933,
          7.614517916512745,
          2.211166390270868,
          11.123388581952117,
          0.3131331736968134,
          0.809681602074629,
          18.321803168935507,
          7.427547238592867,
          4.593890599100166,
          12.588555858310627,
          3.5037878787878785,
          4.341085271317829,
          0.29907883718148104,
          2.3865722528193025,
          0.010547410610695074,
          0.40450420903028317,
          0.6782945736434108,
          3.399267399267399,
          8.638743455497382,
          1.0421189752496742,
          2.064602064602065,
          1.6118028313150266,
          10.565284573783156,
          1.7687074829931975,
          2.8194361127774443,
          1.733568183925095,
          2.271062271062271,
          17.45607333842628,
          20.903010033444815,
          4.014167650531287,
          1.009718758063129,
          0.240940632228219,
          7.171089779785432,
          4.547794748584177,
          21.772151898734176
         ]
        }
       ],
       "layout": {
        "legend": {
         "title": {
          "text": "UNIQUE_CARRIER"
         },
         "tracegroupgap": 0
        },
        "scene": {
         "domain": {
          "x": [
           0,
           1
          ],
          "y": [
           0,
           1
          ]
         },
         "xaxis": {
          "categoryarray": [
           "9E",
           "AA",
           "AS",
           "B6",
           "CO",
           "DL",
           "EV",
           "F9",
           "FL",
           "HA",
           "MQ",
           "NW",
           "OH",
           "OO",
           "UA",
           "US",
           "WN",
           "XE",
           "YV"
          ],
          "categoryorder": "array",
          "title": {
           "text": "UNIQUE_CARRIER"
          }
         },
         "yaxis": {
          "title": {
           "text": "ORIGIN_STATE_NM"
          }
         },
         "zaxis": {
          "title": {
           "text": "Preference Percent"
          }
         }
        },
        "template": {
         "data": {
          "bar": [
           {
            "error_x": {
             "color": "#2a3f5f"
            },
            "error_y": {
             "color": "#2a3f5f"
            },
            "marker": {
             "line": {
              "color": "#E5ECF6",
              "width": 0.5
             },
             "pattern": {
              "fillmode": "overlay",
              "size": 10,
              "solidity": 0.2
             }
            },
            "type": "bar"
           }
          ],
          "barpolar": [
           {
            "marker": {
             "line": {
              "color": "#E5ECF6",
              "width": 0.5
             },
             "pattern": {
              "fillmode": "overlay",
              "size": 10,
              "solidity": 0.2
             }
            },
            "type": "barpolar"
           }
          ],
          "carpet": [
           {
            "aaxis": {
             "endlinecolor": "#2a3f5f",
             "gridcolor": "white",
             "linecolor": "white",
             "minorgridcolor": "white",
             "startlinecolor": "#2a3f5f"
            },
            "baxis": {
             "endlinecolor": "#2a3f5f",
             "gridcolor": "white",
             "linecolor": "white",
             "minorgridcolor": "white",
             "startlinecolor": "#2a3f5f"
            },
            "type": "carpet"
           }
          ],
          "choropleth": [
           {
            "colorbar": {
             "outlinewidth": 0,
             "ticks": ""
            },
            "type": "choropleth"
           }
          ],
          "contour": [
           {
            "colorbar": {
             "outlinewidth": 0,
             "ticks": ""
            },
            "colorscale": [
             [
              0,
              "#0d0887"
             ],
             [
              0.1111111111111111,
              "#46039f"
             ],
             [
              0.2222222222222222,
              "#7201a8"
             ],
             [
              0.3333333333333333,
              "#9c179e"
             ],
             [
              0.4444444444444444,
              "#bd3786"
             ],
             [
              0.5555555555555556,
              "#d8576b"
             ],
             [
              0.6666666666666666,
              "#ed7953"
             ],
             [
              0.7777777777777778,
              "#fb9f3a"
             ],
             [
              0.8888888888888888,
              "#fdca26"
             ],
             [
              1,
              "#f0f921"
             ]
            ],
            "type": "contour"
           }
          ],
          "contourcarpet": [
           {
            "colorbar": {
             "outlinewidth": 0,
             "ticks": ""
            },
            "type": "contourcarpet"
           }
          ],
          "heatmap": [
           {
            "colorbar": {
             "outlinewidth": 0,
             "ticks": ""
            },
            "colorscale": [
             [
              0,
              "#0d0887"
             ],
             [
              0.1111111111111111,
              "#46039f"
             ],
             [
              0.2222222222222222,
              "#7201a8"
             ],
             [
              0.3333333333333333,
              "#9c179e"
             ],
             [
              0.4444444444444444,
              "#bd3786"
             ],
             [
              0.5555555555555556,
              "#d8576b"
             ],
             [
              0.6666666666666666,
              "#ed7953"
             ],
             [
              0.7777777777777778,
              "#fb9f3a"
             ],
             [
              0.8888888888888888,
              "#fdca26"
             ],
             [
              1,
              "#f0f921"
             ]
            ],
            "type": "heatmap"
           }
          ],
          "heatmapgl": [
           {
            "colorbar": {
             "outlinewidth": 0,
             "ticks": ""
            },
            "colorscale": [
             [
              0,
              "#0d0887"
             ],
             [
              0.1111111111111111,
              "#46039f"
             ],
             [
              0.2222222222222222,
              "#7201a8"
             ],
             [
              0.3333333333333333,
              "#9c179e"
             ],
             [
              0.4444444444444444,
              "#bd3786"
             ],
             [
              0.5555555555555556,
              "#d8576b"
             ],
             [
              0.6666666666666666,
              "#ed7953"
             ],
             [
              0.7777777777777778,
              "#fb9f3a"
             ],
             [
              0.8888888888888888,
              "#fdca26"
             ],
             [
              1,
              "#f0f921"
             ]
            ],
            "type": "heatmapgl"
           }
          ],
          "histogram": [
           {
            "marker": {
             "pattern": {
              "fillmode": "overlay",
              "size": 10,
              "solidity": 0.2
             }
            },
            "type": "histogram"
           }
          ],
          "histogram2d": [
           {
            "colorbar": {
             "outlinewidth": 0,
             "ticks": ""
            },
            "colorscale": [
             [
              0,
              "#0d0887"
             ],
             [
              0.1111111111111111,
              "#46039f"
             ],
             [
              0.2222222222222222,
              "#7201a8"
             ],
             [
              0.3333333333333333,
              "#9c179e"
             ],
             [
              0.4444444444444444,
              "#bd3786"
             ],
             [
              0.5555555555555556,
              "#d8576b"
             ],
             [
              0.6666666666666666,
              "#ed7953"
             ],
             [
              0.7777777777777778,
              "#fb9f3a"
             ],
             [
              0.8888888888888888,
              "#fdca26"
             ],
             [
              1,
              "#f0f921"
             ]
            ],
            "type": "histogram2d"
           }
          ],
          "histogram2dcontour": [
           {
            "colorbar": {
             "outlinewidth": 0,
             "ticks": ""
            },
            "colorscale": [
             [
              0,
              "#0d0887"
             ],
             [
              0.1111111111111111,
              "#46039f"
             ],
             [
              0.2222222222222222,
              "#7201a8"
             ],
             [
              0.3333333333333333,
              "#9c179e"
             ],
             [
              0.4444444444444444,
              "#bd3786"
             ],
             [
              0.5555555555555556,
              "#d8576b"
             ],
             [
              0.6666666666666666,
              "#ed7953"
             ],
             [
              0.7777777777777778,
              "#fb9f3a"
             ],
             [
              0.8888888888888888,
              "#fdca26"
             ],
             [
              1,
              "#f0f921"
             ]
            ],
            "type": "histogram2dcontour"
           }
          ],
          "mesh3d": [
           {
            "colorbar": {
             "outlinewidth": 0,
             "ticks": ""
            },
            "type": "mesh3d"
           }
          ],
          "parcoords": [
           {
            "line": {
             "colorbar": {
              "outlinewidth": 0,
              "ticks": ""
             }
            },
            "type": "parcoords"
           }
          ],
          "pie": [
           {
            "automargin": true,
            "type": "pie"
           }
          ],
          "scatter": [
           {
            "marker": {
             "colorbar": {
              "outlinewidth": 0,
              "ticks": ""
             }
            },
            "type": "scatter"
           }
          ],
          "scatter3d": [
           {
            "line": {
             "colorbar": {
              "outlinewidth": 0,
              "ticks": ""
             }
            },
            "marker": {
             "colorbar": {
              "outlinewidth": 0,
              "ticks": ""
             }
            },
            "type": "scatter3d"
           }
          ],
          "scattercarpet": [
           {
            "marker": {
             "colorbar": {
              "outlinewidth": 0,
              "ticks": ""
             }
            },
            "type": "scattercarpet"
           }
          ],
          "scattergeo": [
           {
            "marker": {
             "colorbar": {
              "outlinewidth": 0,
              "ticks": ""
             }
            },
            "type": "scattergeo"
           }
          ],
          "scattergl": [
           {
            "marker": {
             "colorbar": {
              "outlinewidth": 0,
              "ticks": ""
             }
            },
            "type": "scattergl"
           }
          ],
          "scattermapbox": [
           {
            "marker": {
             "colorbar": {
              "outlinewidth": 0,
              "ticks": ""
             }
            },
            "type": "scattermapbox"
           }
          ],
          "scatterpolar": [
           {
            "marker": {
             "colorbar": {
              "outlinewidth": 0,
              "ticks": ""
             }
            },
            "type": "scatterpolar"
           }
          ],
          "scatterpolargl": [
           {
            "marker": {
             "colorbar": {
              "outlinewidth": 0,
              "ticks": ""
             }
            },
            "type": "scatterpolargl"
           }
          ],
          "scatterternary": [
           {
            "marker": {
             "colorbar": {
              "outlinewidth": 0,
              "ticks": ""
             }
            },
            "type": "scatterternary"
           }
          ],
          "surface": [
           {
            "colorbar": {
             "outlinewidth": 0,
             "ticks": ""
            },
            "colorscale": [
             [
              0,
              "#0d0887"
             ],
             [
              0.1111111111111111,
              "#46039f"
             ],
             [
              0.2222222222222222,
              "#7201a8"
             ],
             [
              0.3333333333333333,
              "#9c179e"
             ],
             [
              0.4444444444444444,
              "#bd3786"
             ],
             [
              0.5555555555555556,
              "#d8576b"
             ],
             [
              0.6666666666666666,
              "#ed7953"
             ],
             [
              0.7777777777777778,
              "#fb9f3a"
             ],
             [
              0.8888888888888888,
              "#fdca26"
             ],
             [
              1,
              "#f0f921"
             ]
            ],
            "type": "surface"
           }
          ],
          "table": [
           {
            "cells": {
             "fill": {
              "color": "#EBF0F8"
             },
             "line": {
              "color": "white"
             }
            },
            "header": {
             "fill": {
              "color": "#C8D4E3"
             },
             "line": {
              "color": "white"
             }
            },
            "type": "table"
           }
          ]
         },
         "layout": {
          "annotationdefaults": {
           "arrowcolor": "#2a3f5f",
           "arrowhead": 0,
           "arrowwidth": 1
          },
          "autotypenumbers": "strict",
          "coloraxis": {
           "colorbar": {
            "outlinewidth": 0,
            "ticks": ""
           }
          },
          "colorscale": {
           "diverging": [
            [
             0,
             "#8e0152"
            ],
            [
             0.1,
             "#c51b7d"
            ],
            [
             0.2,
             "#de77ae"
            ],
            [
             0.3,
             "#f1b6da"
            ],
            [
             0.4,
             "#fde0ef"
            ],
            [
             0.5,
             "#f7f7f7"
            ],
            [
             0.6,
             "#e6f5d0"
            ],
            [
             0.7,
             "#b8e186"
            ],
            [
             0.8,
             "#7fbc41"
            ],
            [
             0.9,
             "#4d9221"
            ],
            [
             1,
             "#276419"
            ]
           ],
           "sequential": [
            [
             0,
             "#0d0887"
            ],
            [
             0.1111111111111111,
             "#46039f"
            ],
            [
             0.2222222222222222,
             "#7201a8"
            ],
            [
             0.3333333333333333,
             "#9c179e"
            ],
            [
             0.4444444444444444,
             "#bd3786"
            ],
            [
             0.5555555555555556,
             "#d8576b"
            ],
            [
             0.6666666666666666,
             "#ed7953"
            ],
            [
             0.7777777777777778,
             "#fb9f3a"
            ],
            [
             0.8888888888888888,
             "#fdca26"
            ],
            [
             1,
             "#f0f921"
            ]
           ],
           "sequentialminus": [
            [
             0,
             "#0d0887"
            ],
            [
             0.1111111111111111,
             "#46039f"
            ],
            [
             0.2222222222222222,
             "#7201a8"
            ],
            [
             0.3333333333333333,
             "#9c179e"
            ],
            [
             0.4444444444444444,
             "#bd3786"
            ],
            [
             0.5555555555555556,
             "#d8576b"
            ],
            [
             0.6666666666666666,
             "#ed7953"
            ],
            [
             0.7777777777777778,
             "#fb9f3a"
            ],
            [
             0.8888888888888888,
             "#fdca26"
            ],
            [
             1,
             "#f0f921"
            ]
           ]
          },
          "colorway": [
           "#636efa",
           "#EF553B",
           "#00cc96",
           "#ab63fa",
           "#FFA15A",
           "#19d3f3",
           "#FF6692",
           "#B6E880",
           "#FF97FF",
           "#FECB52"
          ],
          "font": {
           "color": "#2a3f5f"
          },
          "geo": {
           "bgcolor": "white",
           "lakecolor": "white",
           "landcolor": "#E5ECF6",
           "showlakes": true,
           "showland": true,
           "subunitcolor": "white"
          },
          "hoverlabel": {
           "align": "left"
          },
          "hovermode": "closest",
          "mapbox": {
           "style": "light"
          },
          "paper_bgcolor": "white",
          "plot_bgcolor": "#E5ECF6",
          "polar": {
           "angularaxis": {
            "gridcolor": "white",
            "linecolor": "white",
            "ticks": ""
           },
           "bgcolor": "#E5ECF6",
           "radialaxis": {
            "gridcolor": "white",
            "linecolor": "white",
            "ticks": ""
           }
          },
          "scene": {
           "xaxis": {
            "backgroundcolor": "#E5ECF6",
            "gridcolor": "white",
            "gridwidth": 2,
            "linecolor": "white",
            "showbackground": true,
            "ticks": "",
            "zerolinecolor": "white"
           },
           "yaxis": {
            "backgroundcolor": "#E5ECF6",
            "gridcolor": "white",
            "gridwidth": 2,
            "linecolor": "white",
            "showbackground": true,
            "ticks": "",
            "zerolinecolor": "white"
           },
           "zaxis": {
            "backgroundcolor": "#E5ECF6",
            "gridcolor": "white",
            "gridwidth": 2,
            "linecolor": "white",
            "showbackground": true,
            "ticks": "",
            "zerolinecolor": "white"
           }
          },
          "shapedefaults": {
           "line": {
            "color": "#2a3f5f"
           }
          },
          "ternary": {
           "aaxis": {
            "gridcolor": "white",
            "linecolor": "white",
            "ticks": ""
           },
           "baxis": {
            "gridcolor": "white",
            "linecolor": "white",
            "ticks": ""
           },
           "bgcolor": "#E5ECF6",
           "caxis": {
            "gridcolor": "white",
            "linecolor": "white",
            "ticks": ""
           }
          },
          "title": {
           "x": 0.05
          },
          "xaxis": {
           "automargin": true,
           "gridcolor": "white",
           "linecolor": "white",
           "ticks": "",
           "title": {
            "standoff": 15
           },
           "zerolinecolor": "white",
           "zerolinewidth": 2
          },
          "yaxis": {
           "automargin": true,
           "gridcolor": "white",
           "linecolor": "white",
           "ticks": "",
           "title": {
            "standoff": 15
           },
           "zerolinecolor": "white",
           "zerolinewidth": 2
          }
         }
        },
        "title": {
         "text": "Carriers preference percentage for each carrier in each state of USA"
        }
       }
      }
     },
     "metadata": {},
     "output_type": "display_data"
    }
   ],
   "source": [
    "fig = px.scatter_3d(Carrier_State, x='UNIQUE_CARRIER', y='ORIGIN_STATE_NM', z='Preference Percent',\n",
    "              color='UNIQUE_CARRIER', title='Carriers preference percentage for each carrier in each state of USA')\n",
    "fig.show()"
   ]
  },
  {
   "cell_type": "code",
   "execution_count": null,
   "id": "ca723341",
   "metadata": {},
   "outputs": [
    {
     "data": {
      "application/vnd.plotly.v1+json": {
       "config": {
        "plotlyServerURL": "https://plot.ly"
       },
       "data": [
        {
         "domain": {
          "x": [
           0,
           1
          ],
          "y": [
           0.575,
           1
          ]
         },
         "labels": [
          "WN",
          "OO",
          "AA",
          "MQ",
          "DL",
          "US",
          "UA",
          "XE",
          "EV",
          "NW",
          "CO",
          "FL",
          "9E",
          "YV",
          "B6",
          "OH",
          "AS",
          "F9",
          "HA"
         ],
         "name": "Contribution of each carriers (by passenger count)",
         "type": "pie",
         "values": [
          90352,
          45204,
          44870,
          34550,
          34373,
          32353,
          28204,
          26612,
          22913,
          22201,
          21054,
          20839,
          20824,
          18831,
          16193,
          10687,
          10614,
          6549,
          5828
         ]
        },
        {
         "mode": "markers",
         "name": "Departure Delay",
         "scene": "scene",
         "type": "scatter3d",
         "x": [
          "9E",
          "9E",
          "9E",
          "9E",
          "9E",
          "9E",
          "9E",
          "9E",
          "9E",
          "9E",
          "9E",
          "9E",
          "9E",
          "9E",
          "9E",
          "9E",
          "9E",
          "9E",
          "9E",
          "9E",
          "9E",
          "9E",
          "9E",
          "9E",
          "9E",
          "9E",
          "9E",
          "9E",
          "9E",
          "9E",
          "9E",
          "9E",
          "9E",
          "9E",
          "9E",
          "AA",
          "AA",
          "AA",
          "AA",
          "AA",
          "AA",
          "AA",
          "AA",
          "AA",
          "AA",
          "AA",
          "AA",
          "AA",
          "AA",
          "AA",
          "AA",
          "AA",
          "AA",
          "AA",
          "AA",
          "AA",
          "AA",
          "AA",
          "AA",
          "AA",
          "AA",
          "AA",
          "AA",
          "AA",
          "AA",
          "AA",
          "AA",
          "AA",
          "AA",
          "AA",
          "AA",
          "AA",
          "AA",
          "AS",
          "AS",
          "AS",
          "AS",
          "AS",
          "AS",
          "AS",
          "AS",
          "AS",
          "AS",
          "AS",
          "AS",
          "AS",
          "AS",
          "AS",
          "AS",
          "B6",
          "B6",
          "B6",
          "B6",
          "B6",
          "B6",
          "B6",
          "B6",
          "B6",
          "B6",
          "B6",
          "B6",
          "B6",
          "B6",
          "B6",
          "B6",
          "B6",
          "B6",
          "B6",
          "B6",
          "B6",
          "B6",
          "CO",
          "CO",
          "CO",
          "CO",
          "CO",
          "CO",
          "CO",
          "CO",
          "CO",
          "CO",
          "CO",
          "CO",
          "CO",
          "CO",
          "CO",
          "CO",
          "CO",
          "CO",
          "CO",
          "CO",
          "CO",
          "CO",
          "CO",
          "CO",
          "CO",
          "CO",
          "CO",
          "CO",
          "CO",
          "CO",
          "CO",
          "DL",
          "DL",
          "DL",
          "DL",
          "DL",
          "DL",
          "DL",
          "DL",
          "DL",
          "DL",
          "DL",
          "DL",
          "DL",
          "DL",
          "DL",
          "DL",
          "DL",
          "DL",
          "DL",
          "DL",
          "DL",
          "DL",
          "DL",
          "DL",
          "DL",
          "DL",
          "DL",
          "DL",
          "DL",
          "DL",
          "DL",
          "DL",
          "DL",
          "DL",
          "DL",
          "DL",
          "DL",
          "DL",
          "DL",
          "DL",
          "DL",
          "EV",
          "EV",
          "EV",
          "EV",
          "EV",
          "EV",
          "EV",
          "EV",
          "EV",
          "EV",
          "EV",
          "EV",
          "EV",
          "EV",
          "EV",
          "EV",
          "EV",
          "EV",
          "EV",
          "EV",
          "EV",
          "EV",
          "EV",
          "EV",
          "EV",
          "EV",
          "EV",
          "EV",
          "EV",
          "EV",
          "F9",
          "F9",
          "F9",
          "F9",
          "F9",
          "F9",
          "F9",
          "F9",
          "F9",
          "F9",
          "F9",
          "F9",
          "F9",
          "F9",
          "F9",
          "F9",
          "F9",
          "F9",
          "F9",
          "F9",
          "F9",
          "F9",
          "F9",
          "FL",
          "FL",
          "FL",
          "FL",
          "FL",
          "FL",
          "FL",
          "FL",
          "FL",
          "FL",
          "FL",
          "FL",
          "FL",
          "FL",
          "FL",
          "FL",
          "FL",
          "FL",
          "FL",
          "FL",
          "FL",
          "FL",
          "FL",
          "FL",
          "FL",
          "FL",
          "FL",
          "FL",
          "FL",
          "FL",
          "HA",
          "HA",
          "HA",
          "HA",
          "HA",
          "HA",
          "MQ",
          "MQ",
          "MQ",
          "MQ",
          "MQ",
          "MQ",
          "MQ",
          "MQ",
          "MQ",
          "MQ",
          "MQ",
          "MQ",
          "MQ",
          "MQ",
          "MQ",
          "MQ",
          "MQ",
          "MQ",
          "MQ",
          "MQ",
          "MQ",
          "MQ",
          "MQ",
          "MQ",
          "MQ",
          "MQ",
          "MQ",
          "MQ",
          "MQ",
          "MQ",
          "MQ",
          "MQ",
          "MQ",
          "NW",
          "NW",
          "NW",
          "NW",
          "NW",
          "NW",
          "NW",
          "NW",
          "NW",
          "NW",
          "NW",
          "NW",
          "NW",
          "NW",
          "NW",
          "NW",
          "NW",
          "NW",
          "NW",
          "NW",
          "NW",
          "NW",
          "NW",
          "NW",
          "NW",
          "NW",
          "NW",
          "NW",
          "NW",
          "NW",
          "NW",
          "NW",
          "NW",
          "NW",
          "NW",
          "NW",
          "NW",
          "NW",
          "NW",
          "NW",
          "OH",
          "OH",
          "OH",
          "OH",
          "OH",
          "OH",
          "OH",
          "OH",
          "OH",
          "OH",
          "OH",
          "OH",
          "OH",
          "OH",
          "OH",
          "OH",
          "OH",
          "OH",
          "OH",
          "OH",
          "OH",
          "OH",
          "OH",
          "OH",
          "OH",
          "OH",
          "OH",
          "OH",
          "OH",
          "OH",
          "OH",
          "OH",
          "OO",
          "OO",
          "OO",
          "OO",
          "OO",
          "OO",
          "OO",
          "OO",
          "OO",
          "OO",
          "OO",
          "OO",
          "OO",
          "OO",
          "OO",
          "OO",
          "OO",
          "OO",
          "OO",
          "OO",
          "OO",
          "OO",
          "OO",
          "OO",
          "OO",
          "OO",
          "OO",
          "OO",
          "OO",
          "OO",
          "OO",
          "OO",
          "OO",
          "OO",
          "OO",
          "OO",
          "OO",
          "OO",
          "OO",
          "OO",
          "UA",
          "UA",
          "UA",
          "UA",
          "UA",
          "UA",
          "UA",
          "UA",
          "UA",
          "UA",
          "UA",
          "UA",
          "UA",
          "UA",
          "UA",
          "UA",
          "UA",
          "UA",
          "UA",
          "UA",
          "UA",
          "UA",
          "UA",
          "UA",
          "UA",
          "UA",
          "UA",
          "UA",
          "UA",
          "UA",
          "UA",
          "UA",
          "UA",
          "UA",
          "UA",
          "UA",
          "UA",
          "UA",
          "US",
          "US",
          "US",
          "US",
          "US",
          "US",
          "US",
          "US",
          "US",
          "US",
          "US",
          "US",
          "US",
          "US",
          "US",
          "US",
          "US",
          "US",
          "US",
          "US",
          "US",
          "US",
          "US",
          "US",
          "US",
          "US",
          "US",
          "US",
          "US",
          "US",
          "US",
          "US",
          "US",
          "US",
          "US",
          "US",
          "US",
          "US",
          "US",
          "WN",
          "WN",
          "WN",
          "WN",
          "WN",
          "WN",
          "WN",
          "WN",
          "WN",
          "WN",
          "WN",
          "WN",
          "WN",
          "WN",
          "WN",
          "WN",
          "WN",
          "WN",
          "WN",
          "WN",
          "WN",
          "WN",
          "WN",
          "WN",
          "WN",
          "WN",
          "WN",
          "WN",
          "WN",
          "WN",
          "WN",
          "WN",
          "WN",
          "WN",
          "WN",
          "WN",
          "XE",
          "XE",
          "XE",
          "XE",
          "XE",
          "XE",
          "XE",
          "XE",
          "XE",
          "XE",
          "XE",
          "XE",
          "XE",
          "XE",
          "XE",
          "XE",
          "XE",
          "XE",
          "XE",
          "XE",
          "XE",
          "XE",
          "XE",
          "XE",
          "XE",
          "XE",
          "XE",
          "XE",
          "XE",
          "XE",
          "XE",
          "XE",
          "XE",
          "XE",
          "XE",
          "XE",
          "XE",
          "XE",
          "XE",
          "XE",
          "YV",
          "YV",
          "YV",
          "YV",
          "YV",
          "YV",
          "YV",
          "YV",
          "YV",
          "YV",
          "YV",
          "YV",
          "YV",
          "YV",
          "YV",
          "YV",
          "YV",
          "YV",
          "YV",
          "YV",
          "YV",
          "YV",
          "YV",
          "YV",
          "YV",
          "YV",
          "YV",
          "YV",
          "YV",
          "YV",
          "YV",
          "YV",
          "YV",
          "YV",
          "YV",
          "YV",
          "YV"
         ],
         "y": [
          "Alabama",
          "Arkansas",
          "Connecticut",
          "District of Columbia",
          "Florida",
          "Georgia",
          "Illinois",
          "Indiana",
          "Iowa",
          "Kansas",
          "Kentucky",
          "Louisiana",
          "Maine",
          "Massachusetts",
          "Michigan",
          "Minnesota",
          "Mississippi",
          "Missouri",
          "Nebraska",
          "New Hampshire",
          "New Jersey",
          "New York",
          "North Carolina",
          "North Dakota",
          "Ohio",
          "Oklahoma",
          "Pennsylvania",
          "Rhode Island",
          "South Carolina",
          "South Dakota",
          "Tennessee",
          "Texas",
          "Vermont",
          "Virginia",
          "Wisconsin",
          "Alabama",
          "Arizona",
          "Arkansas",
          "California",
          "Colorado",
          "Connecticut",
          "District of Columbia",
          "Florida",
          "Georgia",
          "Hawaii",
          "Illinois",
          "Indiana",
          "Kansas",
          "Kentucky",
          "Louisiana",
          "Maryland",
          "Massachusetts",
          "Michigan",
          "Minnesota",
          "Missouri",
          "Nebraska",
          "Nevada",
          "New Jersey",
          "New Mexico",
          "New York",
          "North Carolina",
          "Ohio",
          "Oklahoma",
          "Oregon",
          "Pennsylvania",
          "Puerto Rico",
          "Tennessee",
          "Texas",
          "U.S. Virgin Islands",
          "Utah",
          "Virginia",
          "Washington",
          "Wyoming",
          "Alaska",
          "Arizona",
          "California",
          "Colorado",
          "District of Columbia",
          "Florida",
          "Georgia",
          "Hawaii",
          "Illinois",
          "Massachusetts",
          "Minnesota",
          "Nevada",
          "New Jersey",
          "Oregon",
          "Texas",
          "Washington",
          "Arizona",
          "California",
          "Colorado",
          "District of Columbia",
          "Florida",
          "Illinois",
          "Louisiana",
          "Maine",
          "Maryland",
          "Massachusetts",
          "Nevada",
          "New Jersey",
          "New York",
          "North Carolina",
          "Oregon",
          "Pennsylvania",
          "Puerto Rico",
          "Texas",
          "Utah",
          "Vermont",
          "Virginia",
          "Washington",
          "Alaska",
          "Arizona",
          "California",
          "Colorado",
          "District of Columbia",
          "Florida",
          "Georgia",
          "Hawaii",
          "Illinois",
          "Indiana",
          "Louisiana",
          "Maryland",
          "Massachusetts",
          "Michigan",
          "Minnesota",
          "Missouri",
          "Nebraska",
          "Nevada",
          "New Jersey",
          "New Mexico",
          "New York",
          "North Carolina",
          "Ohio",
          "Oklahoma",
          "Oregon",
          "Pennsylvania",
          "Puerto Rico",
          "Texas",
          "U.S. Virgin Islands",
          "Utah",
          "Washington",
          "Alabama",
          "Alaska",
          "Arizona",
          "California",
          "Colorado",
          "Connecticut",
          "District of Columbia",
          "Florida",
          "Georgia",
          "Hawaii",
          "Idaho",
          "Illinois",
          "Indiana",
          "Kentucky",
          "Louisiana",
          "Maryland",
          "Massachusetts",
          "Michigan",
          "Minnesota",
          "Mississippi",
          "Missouri",
          "Montana",
          "Nevada",
          "New Jersey",
          "New Mexico",
          "New York",
          "North Carolina",
          "Ohio",
          "Oregon",
          "Pennsylvania",
          "Puerto Rico",
          "Rhode Island",
          "South Carolina",
          "Tennessee",
          "Texas",
          "U.S. Virgin Islands",
          "Utah",
          "Virginia",
          "Washington",
          "Wisconsin",
          "Wyoming",
          "Alabama",
          "Arkansas",
          "District of Columbia",
          "Florida",
          "Georgia",
          "Illinois",
          "Indiana",
          "Iowa",
          "Kansas",
          "Kentucky",
          "Louisiana",
          "Maine",
          "Michigan",
          "Mississippi",
          "Missouri",
          "Nebraska",
          "New Hampshire",
          "New York",
          "North Carolina",
          "Ohio",
          "Oklahoma",
          "Pennsylvania",
          "Rhode Island",
          "South Carolina",
          "South Dakota",
          "Tennessee",
          "Texas",
          "Virginia",
          "West Virginia",
          "Wisconsin",
          "Arizona",
          "California",
          "Colorado",
          "District of Columbia",
          "Florida",
          "Georgia",
          "Idaho",
          "Illinois",
          "Indiana",
          "Massachusetts",
          "Michigan",
          "Minnesota",
          "Missouri",
          "Nevada",
          "New York",
          "Ohio",
          "Oregon",
          "Pennsylvania",
          "Tennessee",
          "Texas",
          "Utah",
          "Washington",
          "Wisconsin",
          "Arizona",
          "California",
          "Colorado",
          "District of Columbia",
          "Florida",
          "Georgia",
          "Illinois",
          "Indiana",
          "Kansas",
          "Louisiana",
          "Maine",
          "Maryland",
          "Massachusetts",
          "Michigan",
          "Minnesota",
          "Missouri",
          "Nevada",
          "New Jersey",
          "New York",
          "North Carolina",
          "Ohio",
          "Pennsylvania",
          "Puerto Rico",
          "South Carolina",
          "Tennessee",
          "Texas",
          "Virginia",
          "Washington",
          "West Virginia",
          "Wisconsin",
          "Arizona",
          "California",
          "Hawaii",
          "Nevada",
          "Oregon",
          "Washington",
          "Alabama",
          "Arkansas",
          "California",
          "Colorado",
          "Connecticut",
          "District of Columbia",
          "Florida",
          "Georgia",
          "Illinois",
          "Indiana",
          "Iowa",
          "Kansas",
          "Kentucky",
          "Louisiana",
          "Maryland",
          "Massachusetts",
          "Michigan",
          "Minnesota",
          "Mississippi",
          "Missouri",
          "Nebraska",
          "New Mexico",
          "New York",
          "North Carolina",
          "Ohio",
          "Oklahoma",
          "Pennsylvania",
          "South Carolina",
          "Tennessee",
          "Texas",
          "Virginia",
          "West Virginia",
          "Wisconsin",
          "Alaska",
          "Arizona",
          "Arkansas",
          "California",
          "Colorado",
          "Connecticut",
          "District of Columbia",
          "Florida",
          "Georgia",
          "Hawaii",
          "Illinois",
          "Indiana",
          "Louisiana",
          "Maryland",
          "Massachusetts",
          "Michigan",
          "Minnesota",
          "Missouri",
          "Montana",
          "Nebraska",
          "Nevada",
          "New Hampshire",
          "New Jersey",
          "New Mexico",
          "New York",
          "North Carolina",
          "North Dakota",
          "Ohio",
          "Oregon",
          "Pennsylvania",
          "Puerto Rico",
          "Rhode Island",
          "South Dakota",
          "Tennessee",
          "Texas",
          "Utah",
          "Virginia",
          "Washington",
          "Wisconsin",
          "Wyoming",
          "Alabama",
          "Connecticut",
          "District of Columbia",
          "Florida",
          "Georgia",
          "Illinois",
          "Indiana",
          "Iowa",
          "Kentucky",
          "Louisiana",
          "Maine",
          "Maryland",
          "Massachusetts",
          "Michigan",
          "Minnesota",
          "Mississippi",
          "Missouri",
          "Nebraska",
          "New Jersey",
          "New York",
          "North Carolina",
          "Ohio",
          "Oklahoma",
          "Pennsylvania",
          "Rhode Island",
          "South Carolina",
          "Tennessee",
          "Texas",
          "Vermont",
          "Virginia",
          "West Virginia",
          "Wisconsin",
          "Alabama",
          "Arizona",
          "Arkansas",
          "California",
          "Colorado",
          "District of Columbia",
          "Georgia",
          "Idaho",
          "Illinois",
          "Indiana",
          "Iowa",
          "Kansas",
          "Kentucky",
          "Louisiana",
          "Michigan",
          "Minnesota",
          "Mississippi",
          "Missouri",
          "Montana",
          "Nebraska",
          "Nevada",
          "New Jersey",
          "New Mexico",
          "New York",
          "North Carolina",
          "North Dakota",
          "Ohio",
          "Oklahoma",
          "Oregon",
          "Pennsylvania",
          "South Carolina",
          "South Dakota",
          "Tennessee",
          "Texas",
          "Utah",
          "Virginia",
          "Washington",
          "West Virginia",
          "Wisconsin",
          "Wyoming",
          "Arizona",
          "California",
          "Colorado",
          "Connecticut",
          "District of Columbia",
          "Florida",
          "Georgia",
          "Hawaii",
          "Idaho",
          "Illinois",
          "Iowa",
          "Kansas",
          "Louisiana",
          "Maryland",
          "Massachusetts",
          "Michigan",
          "Minnesota",
          "Missouri",
          "Montana",
          "Nebraska",
          "Nevada",
          "New Jersey",
          "New Mexico",
          "New York",
          "North Carolina",
          "Ohio",
          "Oklahoma",
          "Oregon",
          "Pennsylvania",
          "Puerto Rico",
          "Rhode Island",
          "South Dakota",
          "Texas",
          "U.S. Virgin Islands",
          "Utah",
          "Virginia",
          "Washington",
          "Wyoming",
          "Alaska",
          "Arizona",
          "California",
          "Colorado",
          "Connecticut",
          "District of Columbia",
          "Florida",
          "Georgia",
          "Hawaii",
          "Idaho",
          "Illinois",
          "Indiana",
          "Louisiana",
          "Maine",
          "Maryland",
          "Massachusetts",
          "Michigan",
          "Minnesota",
          "Missouri",
          "Nebraska",
          "Nevada",
          "New Hampshire",
          "New Jersey",
          "New Mexico",
          "New York",
          "North Carolina",
          "Ohio",
          "Oregon",
          "Pennsylvania",
          "Puerto Rico",
          "Rhode Island",
          "South Carolina",
          "Tennessee",
          "Texas",
          "U.S. Virgin Islands",
          "Utah",
          "Virginia",
          "Washington",
          "Wisconsin",
          "Alabama",
          "Arizona",
          "Arkansas",
          "California",
          "Colorado",
          "Connecticut",
          "District of Columbia",
          "Florida",
          "Idaho",
          "Illinois",
          "Indiana",
          "Kentucky",
          "Louisiana",
          "Maryland",
          "Massachusetts",
          "Michigan",
          "Minnesota",
          "Mississippi",
          "Missouri",
          "Nebraska",
          "Nevada",
          "New Hampshire",
          "New Mexico",
          "New York",
          "North Carolina",
          "Ohio",
          "Oklahoma",
          "Oregon",
          "Pennsylvania",
          "Rhode Island",
          "Tennessee",
          "Texas",
          "Utah",
          "Virginia",
          "Washington",
          "Wisconsin",
          "Alabama",
          "Arizona",
          "Arkansas",
          "Colorado",
          "Connecticut",
          "District of Columbia",
          "Florida",
          "Georgia",
          "Illinois",
          "Indiana",
          "Iowa",
          "Kansas",
          "Kentucky",
          "Louisiana",
          "Maine",
          "Maryland",
          "Massachusetts",
          "Michigan",
          "Minnesota",
          "Mississippi",
          "Missouri",
          "Nebraska",
          "New Hampshire",
          "New Jersey",
          "New Mexico",
          "New York",
          "North Carolina",
          "Ohio",
          "Oklahoma",
          "Pennsylvania",
          "Rhode Island",
          "South Carolina",
          "South Dakota",
          "Tennessee",
          "Texas",
          "Utah",
          "Vermont",
          "Virginia",
          "West Virginia",
          "Wisconsin",
          "Alabama",
          "Arizona",
          "California",
          "Colorado",
          "Connecticut",
          "District of Columbia",
          "Florida",
          "Georgia",
          "Hawaii",
          "Illinois",
          "Indiana",
          "Iowa",
          "Kentucky",
          "Maine",
          "Massachusetts",
          "Michigan",
          "Minnesota",
          "Missouri",
          "Nebraska",
          "Nevada",
          "New Hampshire",
          "New Jersey",
          "New Mexico",
          "New York",
          "North Carolina",
          "Ohio",
          "Oklahoma",
          "Pennsylvania",
          "Rhode Island",
          "South Carolina",
          "South Dakota",
          "Tennessee",
          "Texas",
          "Utah",
          "Virginia",
          "Wisconsin",
          "Wyoming"
         ],
         "z": [
          11.609071274298056,
          9.231853417899929,
          0.7739082365948038,
          1.3259668508287292,
          1.0999131647501512,
          3.002449214810546,
          0.9386961540798348,
          14.302628463177836,
          19.455040871934603,
          12.487899322362052,
          2.9829545454545454,
          5.74822762981414,
          30.697674418604652,
          1.0049048929297764,
          36.454235510097035,
          16.54888724818057,
          11.981297486849796,
          3.4546845960424184,
          10.416666666666668,
          0.8726003490401396,
          0.13026487190620928,
          4.055091250213201,
          1.8477980942570176,
          22.24025974025974,
          3.505402160864346,
          9.028194361127774,
          7.026976916658942,
          5.201465201465202,
          8.938120702826586,
          16.05351170568562,
          33.03255186372069,
          1.009718758063129,
          20.59496567505721,
          5.533596837944664,
          8.923974600995365,
          4.58963282937365,
          4.202628758391155,
          2.5017618040873857,
          8.225035066668921,
          3.786479497598818,
          8.12603648424544,
          10.46961325966851,
          14.535694550430229,
          1.4608845987609853,
          4.1285427359964295,
          14.44498450695668,
          3.528297418896519,
          10.939012584704743,
          4.071969696969697,
          6.380532669093696,
          3.2741116751269033,
          10.982174901303985,
          1.3571990558615263,
          4.545933973209577,
          14.430960970810103,
          6.976744186046512,
          5.384615384615385,
          4.62440295267043,
          8.025308025308025,
          9.62391267269316,
          2.929436003090394,
          1.1524609843937574,
          13.34733053389322,
          2.274008644991543,
          4.2458514879021045,
          30.662983425414364,
          4.022600775847529,
          24.847338092371203,
          45.53314121037464,
          2.033538936006168,
          4.009034443817053,
          4.261145799101763,
          3.5443037974683547,
          92.91453615777941,
          1.5795114796637897,
          3.780440403562436,
          0.5541189508681197,
          0.8011049723756906,
          0.244717522300871,
          0.08932430485520818,
          2.9011381388083017,
          0.37365575065313805,
          0.7417155162100729,
          0.6433920472523996,
          2.197802197802198,
          0.6621797655232305,
          13.606464950197331,
          0.2580201255697944,
          38.13123014568956,
          0.2764145089411632,
          3.104456424382742,
          0.3647949759881788,
          4.465930018416206,
          9.978159618977449,
          0.5225104805881281,
          2.050201187967043,
          18.75968992248062,
          1.4086294416243654,
          20.24165570044264,
          2.10989010989011,
          3.897090751194095,
          22.155892887600203,
          1.796291527169714,
          1.6162375493328323,
          0.8343376286270511,
          28.867403314917127,
          0.5194805194805194,
          0.8962991518889746,
          31.57894736842105,
          4.997176736307171,
          1.2378135611786614,
          2.66617969320672,
          2.2282394088114175,
          3.117976103966336,
          1.814739564093092,
          2.0257826887661143,
          5.525879535826119,
          0.5474715458867598,
          1.53983485829056,
          1.2029892460052252,
          0.6867156050201279,
          6.629622533052309,
          1.7131979695431472,
          4.0555090321808835,
          0.9244689221085759,
          0.3269697289315473,
          0.1421231004700995,
          1.308139534883721,
          3.032967032967033,
          40.65349544072948,
          0.7326007326007326,
          1.1811359372334982,
          1.255472572753026,
          8.8515406162465,
          1.7096580683863227,
          3.082127419657959,
          1.9467878001297858,
          9.898710865561695,
          12.64126601874946,
          6.628242074927954,
          0.7420971472629144,
          4.261145799101763,
          2.429805615550756,
          1.1322132943754566,
          2.002594911716591,
          3.4745576529836244,
          1.8978574067233098,
          19.237147595356554,
          5.257826887661142,
          11.567507828329344,
          36.41550208903616,
          1.9303726846686007,
          2.813599062133646,
          0.9022419345039189,
          4.096613781671797,
          0.7102272727272727,
          5.767388388580188,
          4.251269035532995,
          10.467759301351837,
          2.222659323367427,
          3.5966670182470204,
          1.8118059614260666,
          3.3781567727123645,
          0.8416220351951033,
          4.608058608058608,
          3.3217542336083374,
          2.897102897102897,
          10.920177383592018,
          2.8650527942312642,
          9.515806322529013,
          3.7398985153166695,
          4.477611940298507,
          7.826887661141805,
          1.1721611721611722,
          7.677616501145914,
          1.981784449316917,
          1.2814999569966459,
          27.089337175792505,
          19.217424826522745,
          8.639186900056465,
          5.038887063205171,
          1.4415651278530976,
          3.1645569620253164,
          30.69654427645788,
          11.698379140239606,
          0.5616942909760589,
          3.9391626976817617,
          34.16798732171157,
          0.7503493529376025,
          6.440918778119819,
          3.651226158038147,
          14.133591481122942,
          20.97537878787879,
          11.074918566775244,
          2.1705426356589146,
          1.6129032258064515,
          28.57977790765634,
          2.2193068765715536,
          5.910852713178294,
          2.6178010471204187,
          0.9594064472113253,
          6.747360288436775,
          5.842336934773909,
          8.158368326334733,
          2.169277834430333,
          0.8791208791208791,
          30.82505729564553,
          0.16722408026755853,
          7.134424017540901,
          0.371548980820504,
          16.233766233766232,
          47.107438016528924,
          1.5616955551741891,
          1.6754103909290912,
          1.1204434454903418,
          13.74214998152937,
          0.8195211786372006,
          0.7762545062231929,
          0.2074629015991932,
          0.8206330597889802,
          0.3615043441278328,
          2.0127871181624437,
          0.29907883718148104,
          0.40650406504065045,
          0.9703617761839468,
          2.3723625232316605,
          1.9194139194139193,
          0.2558417192563534,
          0.33613445378151263,
          2.2928021048675062,
          0.2781125428756837,
          0.7252487771968291,
          0.6863335340156532,
          1.0119506553585198,
          0.8653740825939313,
          6.143813282992964,
          0.4794945563265076,
          0.4376996265188515,
          0.8404137421499815,
          3.839779005524862,
          11.585927426782096,
          17.098400806800175,
          1.862203050003038,
          14.492067250769594,
          7.357212003872217,
          2.87411381490707,
          11.162790697674419,
          18.19796954314721,
          6.663476492403397,
          2.3406766325727775,
          2.4680940829026476,
          3.07204547939215,
          1.1721611721611722,
          0.9335649153278333,
          4.30240491216101,
          1.9572495493175381,
          5.986394557823129,
          6.174098451840178,
          8.517495395948435,
          0.2291825821237586,
          1.0794400404790014,
          0.7964221209254323,
          10.869565217391305,
          0.3395771716507832,
          5.371900826446281,
          16.972713231508497,
          0.174874485248491,
          0.36334138880908523,
          59.88618611916983,
          0.5714285714285714,
          1.1651945123097163,
          0.821557673348669,
          5.966522678185745,
          36.99788583509514,
          4.186030791070252,
          0.3140007388252678,
          9.12106135986733,
          7.357274401473296,
          3.136594479383207,
          0.3889929404984872,
          20.593596208761163,
          13.11863604072934,
          38.96457765667575,
          15.682478218780252,
          13.683712121212121,
          13.91071086415022,
          1.434010152284264,
          8.948438808469913,
          5.704169944925256,
          1.582111591604261,
          21.858562244301577,
          5.149229255493604,
          5.6686046511627906,
          8.25840825840826,
          8.400136448916937,
          9.071594128251352,
          11.732693077230891,
          6.11877624475105,
          2.716232502085844,
          11.000763941940413,
          7.952437173216394,
          14.686505547432699,
          5.9853190287972895,
          11.15702479338843,
          13.334477432641153,
          1.6800584368151936,
          2.008236024143961,
          1.0923185341789992,
          2.1040001351967956,
          1.4868858514961212,
          7.075732448866777,
          3.6279926335174952,
          4.944346498960608,
          0.08932430485520818,
          2.2428029457710332,
          1.4004496020414363,
          6.961875443997158,
          3.1232036788656834,
          2.779187817258883,
          3.78035650197392,
          33.300550747442955,
          52.0198291319481,
          3.8810538974527167,
          3.366488140780413,
          2.8585271317829455,
          3.743589743589744,
          5.2356020942408374,
          1.3677811550151975,
          1.7982017982017984,
          4.767184035476718,
          1.9830028328611897,
          23.051948051948052,
          0.7603041216486595,
          2.8002255215185117,
          2.549364976360434,
          1.0128913443830572,
          5.274725274725275,
          3.3444816053511706,
          10.204081632653061,
          0.47819729938935235,
          1.55165767154973,
          1.355166572557877,
          4.66644758462044,
          9.627595675304617,
          1.2658227848101267,
          5.372570194384449,
          2.8192371475953566,
          5.883977900552486,
          0.6262663473936269,
          1.4954617490275177,
          0.7199708366243392,
          3.7650959033862184,
          4.1961852861035425,
          11.647727272727272,
          1.0538417321325924,
          24.186046511627907,
          0.3680203045685279,
          4.7254456274674,
          4.996066089693155,
          2.679042295116549,
          1.461133839859731,
          1.8366677599212857,
          4.166666666666666,
          0.2496743378202345,
          11.824151458297798,
          4.139840329642029,
          13.741496598639454,
          0.7198560287942412,
          2.4473903773060166,
          2.1245421245421245,
          1.7188693659281895,
          1.5516950581885647,
          0.3319858948998022,
          18.993135011441648,
          8.15923207227555,
          3.3057851239669422,
          2.007894285223957,
          2.591792656587473,
          4.91340892423986,
          13.248766737138832,
          21.80555320838896,
          27.188769855929074,
          0.23020257826887663,
          1.746146088459876,
          61.78194607268465,
          11.176256151649554,
          4.333412266161496,
          12.861035422343326,
          23.23330106485963,
          11.079545454545455,
          0.6131442805135083,
          1.121164437450826,
          1.012551418626727,
          3.389830508474576,
          5.02897124740352,
          91.20122417750574,
          19.234496124031008,
          4.417582417582418,
          0.5427702996092054,
          12.42091242091242,
          0.7163568139177895,
          0.47643574555755863,
          54.7077922077922,
          7.0588235294117645,
          10.677864427114576,
          40.51869949257658,
          2.1414665801427644,
          2.6737967914438503,
          42.97658862876254,
          3.4913138809242703,
          1.6926120237378515,
          61.35312259059368,
          0.0564652738565782,
          13.900755833059481,
          21.074380165289256,
          21.57199244894457,
          64.17721518987342,
          2.6287583911547356,
          10.962770182346679,
          20.87643147395641,
          9.286898839137644,
          20.59852670349908,
          2.2340341551982736,
          0.24780291024348078,
          7.264003570631555,
          5.0996483001172335,
          16.015553800352393,
          5.286103542234333,
          3.8722168441432716,
          4.196206169764323,
          4.441624365482234,
          8.015312836463693,
          0.47206923682140045,
          3.6177618394684106,
          2.4160927079916914,
          4.590665646518746,
          9.39922480620155,
          6.249084249084249,
          2.811550151975684,
          2.064602064602065,
          4.2469725396554665,
          1.1782127221220704,
          1.400560224089636,
          4.199160167966406,
          6.464950197331329,
          5.228515806062854,
          4.23572744014733,
          4.395604395604396,
          8.361204013377927,
          0.9202717811989336,
          4.610951008645533,
          0.6553585196607555,
          1.5245623941276116,
          6.736772921459086,
          6.075949367088607,
          1.6070124178232286,
          28.22812658656287,
          3.5844050496003246,
          1.671592168452161,
          9.673852957435047,
          14.723756906077348,
          8.062521379891061,
          1.1410459587955626,
          1.7853157777281858,
          3.5756154747948417,
          1.8014460173765112,
          2.6521430262846315,
          2.854953056141023,
          4.8062015503875966,
          4.213197969543147,
          15.097499700921164,
          1.2719643325465513,
          3.1431283619871317,
          3.279763857002296,
          2.2771317829457365,
          8.512820512820513,
          6.195462478184991,
          3.4628745115067305,
          3.0303030303030303,
          5.376940133037694,
          43.8385269121813,
          0.7202881152460985,
          2.8002255215185117,
          35.4315379623621,
          8.977900552486188,
          16.41025641025641,
          4.621848739495799,
          0.9192106594703998,
          1.5601616926120239,
          16.138328530259365,
          1.3010794140323825,
          4.121964991530209,
          3.6148537627341435,
          0.8923974600995366,
          19.27645788336933,
          30.749703841597565,
          13.918252290345315,
          31.29298835617596,
          14.938123383819727,
          26.64455500276396,
          2.578268876611418,
          19.635291950635477,
          25.908558030480656,
          18.585576280454465,
          10.940089983424105,
          21.543560606060606,
          20.157118221881586,
          55.78680203045685,
          3.4094987438688835,
          3.009441384736428,
          3.322434342368948,
          13.442431326709524,
          40.93145293538865,
          20.78488372093023,
          52.68131868131868,
          60.296684118673646,
          53.08025308025308,
          7.653931434419239,
          5.060520216327582,
          9.003601440576231,
          30.353929214157166,
          19.639165570381508,
          19.124872531751183,
          56.99633699633699,
          17.043346264125486,
          20.72073621742496,
          10.678488820354664,
          9.768492377188029,
          16.124438602256543,
          6.109490303758366,
          12.28401727861771,
          0.7502679528403001,
          11.310782241014799,
          2.9091244920576282,
          5.030403537866224,
          4.30939226519337,
          1.7945951635397206,
          1.092061662584642,
          0.9204690442918767,
          8.074828321098746,
          2.997275204359673,
          12.294288480154888,
          9.801136363636363,
          13.565817206361372,
          3.875968992248062,
          2.131979695431472,
          1.2680942696494797,
          2.4193548387096775,
          3.5122877333614597,
          17.475160724722386,
          8.002623811085602,
          10.319767441860465,
          16.143106457242585,
          36.30047763786365,
          5.627705627705628,
          1.9486610950025585,
          4.287921710018027,
          18.6234493797519,
          12.867426514697062,
          1.4739964772411236,
          5.274725274725275,
          14.858670741023683,
          8.193979933110368,
          6.8476977567886665,
          16.188182678248904,
          0.31804163454124906,
          28.832951945080094,
          11.575381140598532,
          11.983471074380166,
          6.864595846919512,
          5.183585313174946,
          18.102329779432505,
          2.4403021648386933,
          7.614517916512745,
          2.211166390270868,
          11.123388581952117,
          0.3131331736968134,
          0.809681602074629,
          18.321803168935507,
          7.427547238592867,
          4.593890599100166,
          12.588555858310627,
          3.5037878787878785,
          4.341085271317829,
          0.29907883718148104,
          2.3865722528193025,
          0.010547410610695074,
          0.40450420903028317,
          0.6782945736434108,
          3.399267399267399,
          8.638743455497382,
          1.0421189752496742,
          2.064602064602065,
          1.6118028313150266,
          10.565284573783156,
          1.7687074829931975,
          2.8194361127774443,
          1.733568183925095,
          2.271062271062271,
          17.45607333842628,
          20.903010033444815,
          4.014167650531287,
          1.009718758063129,
          0.240940632228219,
          7.171089779785432,
          4.547794748584177,
          21.772151898734176
         ]
        }
       ],
       "layout": {
        "height": 1000,
        "scene": {
         "domain": {
          "x": [
           0,
           1
          ],
          "y": [
           0,
           0.425
          ]
         }
        },
        "template": {
         "data": {
          "bar": [
           {
            "error_x": {
             "color": "#2a3f5f"
            },
            "error_y": {
             "color": "#2a3f5f"
            },
            "marker": {
             "line": {
              "color": "#E5ECF6",
              "width": 0.5
             },
             "pattern": {
              "fillmode": "overlay",
              "size": 10,
              "solidity": 0.2
             }
            },
            "type": "bar"
           }
          ],
          "barpolar": [
           {
            "marker": {
             "line": {
              "color": "#E5ECF6",
              "width": 0.5
             },
             "pattern": {
              "fillmode": "overlay",
              "size": 10,
              "solidity": 0.2
             }
            },
            "type": "barpolar"
           }
          ],
          "carpet": [
           {
            "aaxis": {
             "endlinecolor": "#2a3f5f",
             "gridcolor": "white",
             "linecolor": "white",
             "minorgridcolor": "white",
             "startlinecolor": "#2a3f5f"
            },
            "baxis": {
             "endlinecolor": "#2a3f5f",
             "gridcolor": "white",
             "linecolor": "white",
             "minorgridcolor": "white",
             "startlinecolor": "#2a3f5f"
            },
            "type": "carpet"
           }
          ],
          "choropleth": [
           {
            "colorbar": {
             "outlinewidth": 0,
             "ticks": ""
            },
            "type": "choropleth"
           }
          ],
          "contour": [
           {
            "colorbar": {
             "outlinewidth": 0,
             "ticks": ""
            },
            "colorscale": [
             [
              0,
              "#0d0887"
             ],
             [
              0.1111111111111111,
              "#46039f"
             ],
             [
              0.2222222222222222,
              "#7201a8"
             ],
             [
              0.3333333333333333,
              "#9c179e"
             ],
             [
              0.4444444444444444,
              "#bd3786"
             ],
             [
              0.5555555555555556,
              "#d8576b"
             ],
             [
              0.6666666666666666,
              "#ed7953"
             ],
             [
              0.7777777777777778,
              "#fb9f3a"
             ],
             [
              0.8888888888888888,
              "#fdca26"
             ],
             [
              1,
              "#f0f921"
             ]
            ],
            "type": "contour"
           }
          ],
          "contourcarpet": [
           {
            "colorbar": {
             "outlinewidth": 0,
             "ticks": ""
            },
            "type": "contourcarpet"
           }
          ],
          "heatmap": [
           {
            "colorbar": {
             "outlinewidth": 0,
             "ticks": ""
            },
            "colorscale": [
             [
              0,
              "#0d0887"
             ],
             [
              0.1111111111111111,
              "#46039f"
             ],
             [
              0.2222222222222222,
              "#7201a8"
             ],
             [
              0.3333333333333333,
              "#9c179e"
             ],
             [
              0.4444444444444444,
              "#bd3786"
             ],
             [
              0.5555555555555556,
              "#d8576b"
             ],
             [
              0.6666666666666666,
              "#ed7953"
             ],
             [
              0.7777777777777778,
              "#fb9f3a"
             ],
             [
              0.8888888888888888,
              "#fdca26"
             ],
             [
              1,
              "#f0f921"
             ]
            ],
            "type": "heatmap"
           }
          ],
          "heatmapgl": [
           {
            "colorbar": {
             "outlinewidth": 0,
             "ticks": ""
            },
            "colorscale": [
             [
              0,
              "#0d0887"
             ],
             [
              0.1111111111111111,
              "#46039f"
             ],
             [
              0.2222222222222222,
              "#7201a8"
             ],
             [
              0.3333333333333333,
              "#9c179e"
             ],
             [
              0.4444444444444444,
              "#bd3786"
             ],
             [
              0.5555555555555556,
              "#d8576b"
             ],
             [
              0.6666666666666666,
              "#ed7953"
             ],
             [
              0.7777777777777778,
              "#fb9f3a"
             ],
             [
              0.8888888888888888,
              "#fdca26"
             ],
             [
              1,
              "#f0f921"
             ]
            ],
            "type": "heatmapgl"
           }
          ],
          "histogram": [
           {
            "marker": {
             "pattern": {
              "fillmode": "overlay",
              "size": 10,
              "solidity": 0.2
             }
            },
            "type": "histogram"
           }
          ],
          "histogram2d": [
           {
            "colorbar": {
             "outlinewidth": 0,
             "ticks": ""
            },
            "colorscale": [
             [
              0,
              "#0d0887"
             ],
             [
              0.1111111111111111,
              "#46039f"
             ],
             [
              0.2222222222222222,
              "#7201a8"
             ],
             [
              0.3333333333333333,
              "#9c179e"
             ],
             [
              0.4444444444444444,
              "#bd3786"
             ],
             [
              0.5555555555555556,
              "#d8576b"
             ],
             [
              0.6666666666666666,
              "#ed7953"
             ],
             [
              0.7777777777777778,
              "#fb9f3a"
             ],
             [
              0.8888888888888888,
              "#fdca26"
             ],
             [
              1,
              "#f0f921"
             ]
            ],
            "type": "histogram2d"
           }
          ],
          "histogram2dcontour": [
           {
            "colorbar": {
             "outlinewidth": 0,
             "ticks": ""
            },
            "colorscale": [
             [
              0,
              "#0d0887"
             ],
             [
              0.1111111111111111,
              "#46039f"
             ],
             [
              0.2222222222222222,
              "#7201a8"
             ],
             [
              0.3333333333333333,
              "#9c179e"
             ],
             [
              0.4444444444444444,
              "#bd3786"
             ],
             [
              0.5555555555555556,
              "#d8576b"
             ],
             [
              0.6666666666666666,
              "#ed7953"
             ],
             [
              0.7777777777777778,
              "#fb9f3a"
             ],
             [
              0.8888888888888888,
              "#fdca26"
             ],
             [
              1,
              "#f0f921"
             ]
            ],
            "type": "histogram2dcontour"
           }
          ],
          "mesh3d": [
           {
            "colorbar": {
             "outlinewidth": 0,
             "ticks": ""
            },
            "type": "mesh3d"
           }
          ],
          "parcoords": [
           {
            "line": {
             "colorbar": {
              "outlinewidth": 0,
              "ticks": ""
             }
            },
            "type": "parcoords"
           }
          ],
          "pie": [
           {
            "automargin": true,
            "type": "pie"
           }
          ],
          "scatter": [
           {
            "marker": {
             "colorbar": {
              "outlinewidth": 0,
              "ticks": ""
             }
            },
            "type": "scatter"
           }
          ],
          "scatter3d": [
           {
            "line": {
             "colorbar": {
              "outlinewidth": 0,
              "ticks": ""
             }
            },
            "marker": {
             "colorbar": {
              "outlinewidth": 0,
              "ticks": ""
             }
            },
            "type": "scatter3d"
           }
          ],
          "scattercarpet": [
           {
            "marker": {
             "colorbar": {
              "outlinewidth": 0,
              "ticks": ""
             }
            },
            "type": "scattercarpet"
           }
          ],
          "scattergeo": [
           {
            "marker": {
             "colorbar": {
              "outlinewidth": 0,
              "ticks": ""
             }
            },
            "type": "scattergeo"
           }
          ],
          "scattergl": [
           {
            "marker": {
             "colorbar": {
              "outlinewidth": 0,
              "ticks": ""
             }
            },
            "type": "scattergl"
           }
          ],
          "scattermapbox": [
           {
            "marker": {
             "colorbar": {
              "outlinewidth": 0,
              "ticks": ""
             }
            },
            "type": "scattermapbox"
           }
          ],
          "scatterpolar": [
           {
            "marker": {
             "colorbar": {
              "outlinewidth": 0,
              "ticks": ""
             }
            },
            "type": "scatterpolar"
           }
          ],
          "scatterpolargl": [
           {
            "marker": {
             "colorbar": {
              "outlinewidth": 0,
              "ticks": ""
             }
            },
            "type": "scatterpolargl"
           }
          ],
          "scatterternary": [
           {
            "marker": {
             "colorbar": {
              "outlinewidth": 0,
              "ticks": ""
             }
            },
            "type": "scatterternary"
           }
          ],
          "surface": [
           {
            "colorbar": {
             "outlinewidth": 0,
             "ticks": ""
            },
            "colorscale": [
             [
              0,
              "#0d0887"
             ],
             [
              0.1111111111111111,
              "#46039f"
             ],
             [
              0.2222222222222222,
              "#7201a8"
             ],
             [
              0.3333333333333333,
              "#9c179e"
             ],
             [
              0.4444444444444444,
              "#bd3786"
             ],
             [
              0.5555555555555556,
              "#d8576b"
             ],
             [
              0.6666666666666666,
              "#ed7953"
             ],
             [
              0.7777777777777778,
              "#fb9f3a"
             ],
             [
              0.8888888888888888,
              "#fdca26"
             ],
             [
              1,
              "#f0f921"
             ]
            ],
            "type": "surface"
           }
          ],
          "table": [
           {
            "cells": {
             "fill": {
              "color": "#EBF0F8"
             },
             "line": {
              "color": "white"
             }
            },
            "header": {
             "fill": {
              "color": "#C8D4E3"
             },
             "line": {
              "color": "white"
             }
            },
            "type": "table"
           }
          ]
         },
         "layout": {
          "annotationdefaults": {
           "arrowcolor": "#2a3f5f",
           "arrowhead": 0,
           "arrowwidth": 1
          },
          "autotypenumbers": "strict",
          "coloraxis": {
           "colorbar": {
            "outlinewidth": 0,
            "ticks": ""
           }
          },
          "colorscale": {
           "diverging": [
            [
             0,
             "#8e0152"
            ],
            [
             0.1,
             "#c51b7d"
            ],
            [
             0.2,
             "#de77ae"
            ],
            [
             0.3,
             "#f1b6da"
            ],
            [
             0.4,
             "#fde0ef"
            ],
            [
             0.5,
             "#f7f7f7"
            ],
            [
             0.6,
             "#e6f5d0"
            ],
            [
             0.7,
             "#b8e186"
            ],
            [
             0.8,
             "#7fbc41"
            ],
            [
             0.9,
             "#4d9221"
            ],
            [
             1,
             "#276419"
            ]
           ],
           "sequential": [
            [
             0,
             "#0d0887"
            ],
            [
             0.1111111111111111,
             "#46039f"
            ],
            [
             0.2222222222222222,
             "#7201a8"
            ],
            [
             0.3333333333333333,
             "#9c179e"
            ],
            [
             0.4444444444444444,
             "#bd3786"
            ],
            [
             0.5555555555555556,
             "#d8576b"
            ],
            [
             0.6666666666666666,
             "#ed7953"
            ],
            [
             0.7777777777777778,
             "#fb9f3a"
            ],
            [
             0.8888888888888888,
             "#fdca26"
            ],
            [
             1,
             "#f0f921"
            ]
           ],
           "sequentialminus": [
            [
             0,
             "#0d0887"
            ],
            [
             0.1111111111111111,
             "#46039f"
            ],
            [
             0.2222222222222222,
             "#7201a8"
            ],
            [
             0.3333333333333333,
             "#9c179e"
            ],
            [
             0.4444444444444444,
             "#bd3786"
            ],
            [
             0.5555555555555556,
             "#d8576b"
            ],
            [
             0.6666666666666666,
             "#ed7953"
            ],
            [
             0.7777777777777778,
             "#fb9f3a"
            ],
            [
             0.8888888888888888,
             "#fdca26"
            ],
            [
             1,
             "#f0f921"
            ]
           ]
          },
          "colorway": [
           "#636efa",
           "#EF553B",
           "#00cc96",
           "#ab63fa",
           "#FFA15A",
           "#19d3f3",
           "#FF6692",
           "#B6E880",
           "#FF97FF",
           "#FECB52"
          ],
          "font": {
           "color": "#2a3f5f"
          },
          "geo": {
           "bgcolor": "white",
           "lakecolor": "white",
           "landcolor": "#E5ECF6",
           "showlakes": true,
           "showland": true,
           "subunitcolor": "white"
          },
          "hoverlabel": {
           "align": "left"
          },
          "hovermode": "closest",
          "mapbox": {
           "style": "light"
          },
          "paper_bgcolor": "white",
          "plot_bgcolor": "#E5ECF6",
          "polar": {
           "angularaxis": {
            "gridcolor": "white",
            "linecolor": "white",
            "ticks": ""
           },
           "bgcolor": "#E5ECF6",
           "radialaxis": {
            "gridcolor": "white",
            "linecolor": "white",
            "ticks": ""
           }
          },
          "scene": {
           "xaxis": {
            "backgroundcolor": "#E5ECF6",
            "gridcolor": "white",
            "gridwidth": 2,
            "linecolor": "white",
            "showbackground": true,
            "ticks": "",
            "zerolinecolor": "white"
           },
           "yaxis": {
            "backgroundcolor": "#E5ECF6",
            "gridcolor": "white",
            "gridwidth": 2,
            "linecolor": "white",
            "showbackground": true,
            "ticks": "",
            "zerolinecolor": "white"
           },
           "zaxis": {
            "backgroundcolor": "#E5ECF6",
            "gridcolor": "white",
            "gridwidth": 2,
            "linecolor": "white",
            "showbackground": true,
            "ticks": "",
            "zerolinecolor": "white"
           }
          },
          "shapedefaults": {
           "line": {
            "color": "#2a3f5f"
           }
          },
          "ternary": {
           "aaxis": {
            "gridcolor": "white",
            "linecolor": "white",
            "ticks": ""
           },
           "baxis": {
            "gridcolor": "white",
            "linecolor": "white",
            "ticks": ""
           },
           "bgcolor": "#E5ECF6",
           "caxis": {
            "gridcolor": "white",
            "linecolor": "white",
            "ticks": ""
           }
          },
          "title": {
           "x": 0.05
          },
          "xaxis": {
           "automargin": true,
           "gridcolor": "white",
           "linecolor": "white",
           "ticks": "",
           "title": {
            "standoff": 15
           },
           "zerolinecolor": "white",
           "zerolinewidth": 2
          },
          "yaxis": {
           "automargin": true,
           "gridcolor": "white",
           "linecolor": "white",
           "ticks": "",
           "title": {
            "standoff": 15
           },
           "zerolinecolor": "white",
           "zerolinewidth": 2
          }
         }
        },
        "title": {
         "text": "Contribution of each carriers (by passenger count) and Carriers preference percentage for each carrier in each state of USA"
        },
        "width": 1000
       }
      }
     },
     "metadata": {},
     "output_type": "display_data"
    }
   ],
   "source": [
    "# Initialize figure with 2 3D subplots\n",
    "fig = make_subplots(\n",
    "    rows=2, cols=1,\n",
    "    specs=[[{'type': 'Pie'}],\n",
    "            [{'type': 'Scatter3d'}]])\n",
    "\n",
    "x=Carrier_State['UNIQUE_CARRIER']\n",
    "y=Carrier_State['ORIGIN_STATE_NM']\n",
    "z=Carrier_State['Preference Percent']\n",
    "\n",
    "\n",
    "\n",
    "\n",
    "# adding surfaces to subplots.\n",
    "fig.add_trace(\n",
    "    go.Pie(labels=df1['index'], values=df1['counts'],name='Contribution of each carriers (by passenger count)'),\n",
    "    row=1, col=1)\n",
    "\n",
    "fig.add_trace(\n",
    "    go.Scatter3d(x=x, y=y, z=z, mode=\"markers\", name= 'Departure Delay'),\n",
    "    row=2, col=1)\n",
    "\n",
    "fig.update_layout(\n",
    "    title_text='Contribution of each carriers (by passenger count) and Carriers preference percentage for each carrier in each state of USA',\n",
    "    height=1000,\n",
    "    width=1000\n",
    ")\n",
    "\n",
    "fig.show()"
   ]
  },
  {
   "cell_type": "code",
   "execution_count": null,
   "id": "ced9dbc3",
   "metadata": {},
   "outputs": [
    {
     "data": {
      "text/html": [
       "<div>\n",
       "<style scoped>\n",
       "    .dataframe tbody tr th:only-of-type {\n",
       "        vertical-align: middle;\n",
       "    }\n",
       "\n",
       "    .dataframe tbody tr th {\n",
       "        vertical-align: top;\n",
       "    }\n",
       "\n",
       "    .dataframe thead th {\n",
       "        text-align: right;\n",
       "    }\n",
       "</style>\n",
       "<table border=\"1\" class=\"dataframe\">\n",
       "  <thead>\n",
       "    <tr style=\"text-align: right;\">\n",
       "      <th></th>\n",
       "      <th>UNIQUE_CARRIER</th>\n",
       "      <th>ORIGIN_STATE_NM</th>\n",
       "      <th>ORIGIN_STATE_ABR</th>\n",
       "      <th>Passenger_state</th>\n",
       "      <th>Preference Percent</th>\n",
       "    </tr>\n",
       "  </thead>\n",
       "  <tbody>\n",
       "    <tr>\n",
       "      <th>183</th>\n",
       "      <td>EV</td>\n",
       "      <td>Alabama</td>\n",
       "      <td>AL</td>\n",
       "      <td>1137</td>\n",
       "      <td>30.696544</td>\n",
       "    </tr>\n",
       "    <tr>\n",
       "      <th>273</th>\n",
       "      <td>MQ</td>\n",
       "      <td>Arkansas</td>\n",
       "      <td>AR</td>\n",
       "      <td>1050</td>\n",
       "      <td>36.997886</td>\n",
       "    </tr>\n",
       "    <tr>\n",
       "      <th>499</th>\n",
       "      <td>WN</td>\n",
       "      <td>Connecticut</td>\n",
       "      <td>CT</td>\n",
       "      <td>482</td>\n",
       "      <td>26.644555</td>\n",
       "    </tr>\n",
       "    <tr>\n",
       "      <th>421</th>\n",
       "      <td>UA</td>\n",
       "      <td>District of Columbia</td>\n",
       "      <td>DC</td>\n",
       "      <td>2237</td>\n",
       "      <td>20.598527</td>\n",
       "    </tr>\n",
       "    <tr>\n",
       "      <th>501</th>\n",
       "      <td>WN</td>\n",
       "      <td>Florida</td>\n",
       "      <td>FL</td>\n",
       "      <td>7462</td>\n",
       "      <td>19.635292</td>\n",
       "    </tr>\n",
       "    <tr>\n",
       "      <th>150</th>\n",
       "      <td>DL</td>\n",
       "      <td>Georgia</td>\n",
       "      <td>GA</td>\n",
       "      <td>12638</td>\n",
       "      <td>36.415502</td>\n",
       "    </tr>\n",
       "    <tr>\n",
       "      <th>280</th>\n",
       "      <td>MQ</td>\n",
       "      <td>Illinois</td>\n",
       "      <td>IL</td>\n",
       "      <td>6779</td>\n",
       "      <td>20.593596</td>\n",
       "    </tr>\n",
       "    <tr>\n",
       "      <th>243</th>\n",
       "      <td>FL</td>\n",
       "      <td>Indiana</td>\n",
       "      <td>IN</td>\n",
       "      <td>612</td>\n",
       "      <td>14.492067</td>\n",
       "    </tr>\n",
       "    <tr>\n",
       "      <th>282</th>\n",
       "      <td>MQ</td>\n",
       "      <td>Iowa</td>\n",
       "      <td>IA</td>\n",
       "      <td>715</td>\n",
       "      <td>38.964578</td>\n",
       "    </tr>\n",
       "    <tr>\n",
       "      <th>388</th>\n",
       "      <td>OO</td>\n",
       "      <td>Kansas</td>\n",
       "      <td>KS</td>\n",
       "      <td>240</td>\n",
       "      <td>23.233301</td>\n",
       "    </tr>\n",
       "    <tr>\n",
       "      <th>505</th>\n",
       "      <td>WN</td>\n",
       "      <td>Kentucky</td>\n",
       "      <td>KY</td>\n",
       "      <td>455</td>\n",
       "      <td>21.543561</td>\n",
       "    </tr>\n",
       "    <tr>\n",
       "      <th>506</th>\n",
       "      <td>WN</td>\n",
       "      <td>Louisiana</td>\n",
       "      <td>LA</td>\n",
       "      <td>1052</td>\n",
       "      <td>20.157118</td>\n",
       "    </tr>\n",
       "    <tr>\n",
       "      <th>12</th>\n",
       "      <td>9E</td>\n",
       "      <td>Maine</td>\n",
       "      <td>ME</td>\n",
       "      <td>198</td>\n",
       "      <td>30.697674</td>\n",
       "    </tr>\n",
       "    <tr>\n",
       "      <th>98</th>\n",
       "      <td>B6</td>\n",
       "      <td>Massachusetts</td>\n",
       "      <td>MA</td>\n",
       "      <td>1692</td>\n",
       "      <td>20.241656</td>\n",
       "    </tr>\n",
       "    <tr>\n",
       "      <th>14</th>\n",
       "      <td>9E</td>\n",
       "      <td>Michigan</td>\n",
       "      <td>MI</td>\n",
       "      <td>5560</td>\n",
       "      <td>36.454236</td>\n",
       "    </tr>\n",
       "    <tr>\n",
       "      <th>321</th>\n",
       "      <td>NW</td>\n",
       "      <td>Minnesota</td>\n",
       "      <td>MN</td>\n",
       "      <td>4932</td>\n",
       "      <td>52.019829</td>\n",
       "    </tr>\n",
       "    <tr>\n",
       "      <th>196</th>\n",
       "      <td>EV</td>\n",
       "      <td>Mississippi</td>\n",
       "      <td>MS</td>\n",
       "      <td>489</td>\n",
       "      <td>28.579778</td>\n",
       "    </tr>\n",
       "    <tr>\n",
       "      <th>512</th>\n",
       "      <td>WN</td>\n",
       "      <td>Missouri</td>\n",
       "      <td>MO</td>\n",
       "      <td>3744</td>\n",
       "      <td>40.931453</td>\n",
       "    </tr>\n",
       "    <tr>\n",
       "      <th>513</th>\n",
       "      <td>WN</td>\n",
       "      <td>Nebraska</td>\n",
       "      <td>NE</td>\n",
       "      <td>429</td>\n",
       "      <td>20.784884</td>\n",
       "    </tr>\n",
       "    <tr>\n",
       "      <th>515</th>\n",
       "      <td>WN</td>\n",
       "      <td>New Hampshire</td>\n",
       "      <td>NH</td>\n",
       "      <td>691</td>\n",
       "      <td>60.296684</td>\n",
       "    </tr>\n",
       "    <tr>\n",
       "      <th>129</th>\n",
       "      <td>CO</td>\n",
       "      <td>New Jersey</td>\n",
       "      <td>NJ</td>\n",
       "      <td>3745</td>\n",
       "      <td>40.653495</td>\n",
       "    </tr>\n",
       "    <tr>\n",
       "      <th>101</th>\n",
       "      <td>B6</td>\n",
       "      <td>New York</td>\n",
       "      <td>NY</td>\n",
       "      <td>5196</td>\n",
       "      <td>22.155893</td>\n",
       "    </tr>\n",
       "    <tr>\n",
       "      <th>480</th>\n",
       "      <td>US</td>\n",
       "      <td>North Carolina</td>\n",
       "      <td>NC</td>\n",
       "      <td>6809</td>\n",
       "      <td>43.838527</td>\n",
       "    </tr>\n",
       "    <tr>\n",
       "      <th>402</th>\n",
       "      <td>OO</td>\n",
       "      <td>North Dakota</td>\n",
       "      <td>ND</td>\n",
       "      <td>337</td>\n",
       "      <td>54.707792</td>\n",
       "    </tr>\n",
       "    <tr>\n",
       "      <th>557</th>\n",
       "      <td>XE</td>\n",
       "      <td>Ohio</td>\n",
       "      <td>OH</td>\n",
       "      <td>2327</td>\n",
       "      <td>18.623449</td>\n",
       "    </tr>\n",
       "    <tr>\n",
       "      <th>520</th>\n",
       "      <td>WN</td>\n",
       "      <td>Oklahoma</td>\n",
       "      <td>OK</td>\n",
       "      <td>1012</td>\n",
       "      <td>30.353929</td>\n",
       "    </tr>\n",
       "    <tr>\n",
       "      <th>483</th>\n",
       "      <td>US</td>\n",
       "      <td>Pennsylvania</td>\n",
       "      <td>PA</td>\n",
       "      <td>3822</td>\n",
       "      <td>35.431538</td>\n",
       "    </tr>\n",
       "    <tr>\n",
       "      <th>523</th>\n",
       "      <td>WN</td>\n",
       "      <td>Rhode Island</td>\n",
       "      <td>RI</td>\n",
       "      <td>778</td>\n",
       "      <td>56.996337</td>\n",
       "    </tr>\n",
       "    <tr>\n",
       "      <th>206</th>\n",
       "      <td>EV</td>\n",
       "      <td>South Carolina</td>\n",
       "      <td>SC</td>\n",
       "      <td>807</td>\n",
       "      <td>30.825057</td>\n",
       "    </tr>\n",
       "    <tr>\n",
       "      <th>408</th>\n",
       "      <td>OO</td>\n",
       "      <td>South Dakota</td>\n",
       "      <td>SD</td>\n",
       "      <td>257</td>\n",
       "      <td>42.976589</td>\n",
       "    </tr>\n",
       "    <tr>\n",
       "      <th>30</th>\n",
       "      <td>9E</td>\n",
       "      <td>Tennessee</td>\n",
       "      <td>TN</td>\n",
       "      <td>3917</td>\n",
       "      <td>33.032552</td>\n",
       "    </tr>\n",
       "    <tr>\n",
       "      <th>67</th>\n",
       "      <td>AA</td>\n",
       "      <td>Texas</td>\n",
       "      <td>TX</td>\n",
       "      <td>14445</td>\n",
       "      <td>24.847338</td>\n",
       "    </tr>\n",
       "    <tr>\n",
       "      <th>108</th>\n",
       "      <td>B6</td>\n",
       "      <td>Vermont</td>\n",
       "      <td>VT</td>\n",
       "      <td>138</td>\n",
       "      <td>31.578947</td>\n",
       "    </tr>\n",
       "    <tr>\n",
       "      <th>210</th>\n",
       "      <td>EV</td>\n",
       "      <td>Virginia</td>\n",
       "      <td>VA</td>\n",
       "      <td>575</td>\n",
       "      <td>16.233766</td>\n",
       "    </tr>\n",
       "    <tr>\n",
       "      <th>415</th>\n",
       "      <td>OO</td>\n",
       "      <td>Wisconsin</td>\n",
       "      <td>WI</td>\n",
       "      <td>1257</td>\n",
       "      <td>21.571992</td>\n",
       "    </tr>\n",
       "    <tr>\n",
       "      <th>495</th>\n",
       "      <td>WN</td>\n",
       "      <td>Arizona</td>\n",
       "      <td>AZ</td>\n",
       "      <td>5451</td>\n",
       "      <td>30.749704</td>\n",
       "    </tr>\n",
       "    <tr>\n",
       "      <th>497</th>\n",
       "      <td>WN</td>\n",
       "      <td>California</td>\n",
       "      <td>CA</td>\n",
       "      <td>18517</td>\n",
       "      <td>31.292988</td>\n",
       "    </tr>\n",
       "    <tr>\n",
       "      <th>381</th>\n",
       "      <td>OO</td>\n",
       "      <td>Colorado</td>\n",
       "      <td>CO</td>\n",
       "      <td>5888</td>\n",
       "      <td>27.188770</td>\n",
       "    </tr>\n",
       "    <tr>\n",
       "      <th>268</th>\n",
       "      <td>HA</td>\n",
       "      <td>Hawaii</td>\n",
       "      <td>HI</td>\n",
       "      <td>5367</td>\n",
       "      <td>59.886186</td>\n",
       "    </tr>\n",
       "    <tr>\n",
       "      <th>507</th>\n",
       "      <td>WN</td>\n",
       "      <td>Maryland</td>\n",
       "      <td>MD</td>\n",
       "      <td>4396</td>\n",
       "      <td>55.786802</td>\n",
       "    </tr>\n",
       "    <tr>\n",
       "      <th>514</th>\n",
       "      <td>WN</td>\n",
       "      <td>Nevada</td>\n",
       "      <td>NV</td>\n",
       "      <td>7191</td>\n",
       "      <td>52.681319</td>\n",
       "    </tr>\n",
       "    <tr>\n",
       "      <th>516</th>\n",
       "      <td>WN</td>\n",
       "      <td>New Mexico</td>\n",
       "      <td>NM</td>\n",
       "      <td>1594</td>\n",
       "      <td>53.080253</td>\n",
       "    </tr>\n",
       "    <tr>\n",
       "      <th>405</th>\n",
       "      <td>OO</td>\n",
       "      <td>Oregon</td>\n",
       "      <td>OR</td>\n",
       "      <td>2156</td>\n",
       "      <td>40.518699</td>\n",
       "    </tr>\n",
       "    <tr>\n",
       "      <th>65</th>\n",
       "      <td>AA</td>\n",
       "      <td>Puerto Rico</td>\n",
       "      <td>PR</td>\n",
       "      <td>666</td>\n",
       "      <td>30.662983</td>\n",
       "    </tr>\n",
       "    <tr>\n",
       "      <th>68</th>\n",
       "      <td>AA</td>\n",
       "      <td>U.S. Virgin Islands</td>\n",
       "      <td>VI</td>\n",
       "      <td>158</td>\n",
       "      <td>45.533141</td>\n",
       "    </tr>\n",
       "    <tr>\n",
       "      <th>411</th>\n",
       "      <td>OO</td>\n",
       "      <td>Utah</td>\n",
       "      <td>UT</td>\n",
       "      <td>6366</td>\n",
       "      <td>61.353123</td>\n",
       "    </tr>\n",
       "    <tr>\n",
       "      <th>88</th>\n",
       "      <td>AS</td>\n",
       "      <td>Washington</td>\n",
       "      <td>WA</td>\n",
       "      <td>3481</td>\n",
       "      <td>38.131230</td>\n",
       "    </tr>\n",
       "    <tr>\n",
       "      <th>416</th>\n",
       "      <td>OO</td>\n",
       "      <td>Wyoming</td>\n",
       "      <td>WY</td>\n",
       "      <td>507</td>\n",
       "      <td>64.177215</td>\n",
       "    </tr>\n",
       "    <tr>\n",
       "      <th>73</th>\n",
       "      <td>AS</td>\n",
       "      <td>Alaska</td>\n",
       "      <td>AK</td>\n",
       "      <td>2544</td>\n",
       "      <td>92.914536</td>\n",
       "    </tr>\n",
       "    <tr>\n",
       "      <th>384</th>\n",
       "      <td>OO</td>\n",
       "      <td>Idaho</td>\n",
       "      <td>ID</td>\n",
       "      <td>1054</td>\n",
       "      <td>61.781946</td>\n",
       "    </tr>\n",
       "    <tr>\n",
       "      <th>395</th>\n",
       "      <td>OO</td>\n",
       "      <td>Montana</td>\n",
       "      <td>MT</td>\n",
       "      <td>1192</td>\n",
       "      <td>91.201224</td>\n",
       "    </tr>\n",
       "    <tr>\n",
       "      <th>211</th>\n",
       "      <td>EV</td>\n",
       "      <td>West Virginia</td>\n",
       "      <td>WV</td>\n",
       "      <td>114</td>\n",
       "      <td>47.107438</td>\n",
       "    </tr>\n",
       "  </tbody>\n",
       "</table>\n",
       "</div>"
      ],
      "text/plain": [
       "    UNIQUE_CARRIER       ORIGIN_STATE_NM ORIGIN_STATE_ABR  Passenger_state  \\\n",
       "183             EV               Alabama               AL             1137   \n",
       "273             MQ              Arkansas               AR             1050   \n",
       "499             WN           Connecticut               CT              482   \n",
       "421             UA  District of Columbia               DC             2237   \n",
       "501             WN               Florida               FL             7462   \n",
       "150             DL               Georgia               GA            12638   \n",
       "280             MQ              Illinois               IL             6779   \n",
       "243             FL               Indiana               IN              612   \n",
       "282             MQ                  Iowa               IA              715   \n",
       "388             OO                Kansas               KS              240   \n",
       "505             WN              Kentucky               KY              455   \n",
       "506             WN             Louisiana               LA             1052   \n",
       "12              9E                 Maine               ME              198   \n",
       "98              B6         Massachusetts               MA             1692   \n",
       "14              9E              Michigan               MI             5560   \n",
       "321             NW             Minnesota               MN             4932   \n",
       "196             EV           Mississippi               MS              489   \n",
       "512             WN              Missouri               MO             3744   \n",
       "513             WN              Nebraska               NE              429   \n",
       "515             WN         New Hampshire               NH              691   \n",
       "129             CO            New Jersey               NJ             3745   \n",
       "101             B6              New York               NY             5196   \n",
       "480             US        North Carolina               NC             6809   \n",
       "402             OO          North Dakota               ND              337   \n",
       "557             XE                  Ohio               OH             2327   \n",
       "520             WN              Oklahoma               OK             1012   \n",
       "483             US          Pennsylvania               PA             3822   \n",
       "523             WN          Rhode Island               RI              778   \n",
       "206             EV        South Carolina               SC              807   \n",
       "408             OO          South Dakota               SD              257   \n",
       "30              9E             Tennessee               TN             3917   \n",
       "67              AA                 Texas               TX            14445   \n",
       "108             B6               Vermont               VT              138   \n",
       "210             EV              Virginia               VA              575   \n",
       "415             OO             Wisconsin               WI             1257   \n",
       "495             WN               Arizona               AZ             5451   \n",
       "497             WN            California               CA            18517   \n",
       "381             OO              Colorado               CO             5888   \n",
       "268             HA                Hawaii               HI             5367   \n",
       "507             WN              Maryland               MD             4396   \n",
       "514             WN                Nevada               NV             7191   \n",
       "516             WN            New Mexico               NM             1594   \n",
       "405             OO                Oregon               OR             2156   \n",
       "65              AA           Puerto Rico               PR              666   \n",
       "68              AA   U.S. Virgin Islands               VI              158   \n",
       "411             OO                  Utah               UT             6366   \n",
       "88              AS            Washington               WA             3481   \n",
       "416             OO               Wyoming               WY              507   \n",
       "73              AS                Alaska               AK             2544   \n",
       "384             OO                 Idaho               ID             1054   \n",
       "395             OO               Montana               MT             1192   \n",
       "211             EV         West Virginia               WV              114   \n",
       "\n",
       "     Preference Percent  \n",
       "183           30.696544  \n",
       "273           36.997886  \n",
       "499           26.644555  \n",
       "421           20.598527  \n",
       "501           19.635292  \n",
       "150           36.415502  \n",
       "280           20.593596  \n",
       "243           14.492067  \n",
       "282           38.964578  \n",
       "388           23.233301  \n",
       "505           21.543561  \n",
       "506           20.157118  \n",
       "12            30.697674  \n",
       "98            20.241656  \n",
       "14            36.454236  \n",
       "321           52.019829  \n",
       "196           28.579778  \n",
       "512           40.931453  \n",
       "513           20.784884  \n",
       "515           60.296684  \n",
       "129           40.653495  \n",
       "101           22.155893  \n",
       "480           43.838527  \n",
       "402           54.707792  \n",
       "557           18.623449  \n",
       "520           30.353929  \n",
       "483           35.431538  \n",
       "523           56.996337  \n",
       "206           30.825057  \n",
       "408           42.976589  \n",
       "30            33.032552  \n",
       "67            24.847338  \n",
       "108           31.578947  \n",
       "210           16.233766  \n",
       "415           21.571992  \n",
       "495           30.749704  \n",
       "497           31.292988  \n",
       "381           27.188770  \n",
       "268           59.886186  \n",
       "507           55.786802  \n",
       "514           52.681319  \n",
       "516           53.080253  \n",
       "405           40.518699  \n",
       "65            30.662983  \n",
       "68            45.533141  \n",
       "411           61.353123  \n",
       "88            38.131230  \n",
       "416           64.177215  \n",
       "73            92.914536  \n",
       "384           61.781946  \n",
       "395           91.201224  \n",
       "211           47.107438  "
      ]
     },
     "execution_count": 28,
     "metadata": {},
     "output_type": "execute_result"
    }
   ],
   "source": [
    "temp = pd.DataFrame()\n",
    "new_temp = list()\n",
    "State_pref = list()\n",
    "for index in Carrier_State.index:\n",
    "    max_pref = float(0)\n",
    "    max_ind = 0\n",
    "    if (Carrier_State['ORIGIN_STATE_NM'][index]) not in State_pref:\n",
    "        State_pref.append(Carrier_State['ORIGIN_STATE_NM'][index])\n",
    "        for ind in Carrier_State.index:\n",
    "            if Carrier_State['ORIGIN_STATE_NM'][ind] == Carrier_State['ORIGIN_STATE_NM'][index]:\n",
    "                if pd.to_numeric(Carrier_State['Preference Percent'][ind]) >= max_pref:\n",
    "                    max_pref = pd.to_numeric(Carrier_State['Preference Percent'][ind])\n",
    "                    max_ind = ind\n",
    "        new_temp.append(int(max_ind))\n",
    "\n",
    "#for i in new_temp:\n",
    "#    (Carrier_State.iloc[i])\n",
    "temp=temp.append(Carrier_State.loc[new_temp])\n",
    "    \n",
    "temp\n",
    "\n"
   ]
  },
  {
   "cell_type": "code",
   "execution_count": null,
   "id": "53aaea56",
   "metadata": {},
   "outputs": [
    {
     "data": {
      "application/vnd.plotly.v1+json": {
       "config": {
        "plotlyServerURL": "https://plot.ly"
       },
       "data": [
        {
         "colorscale": [
          [
           0,
           "#636efa"
          ],
          [
           1,
           "#636efa"
          ]
         ],
         "customdata": [
          [
           "EV",
           "Alabama",
           "AL",
           30.69654427645788
          ],
          [
           "MQ",
           "Arkansas",
           "AR",
           36.99788583509514
          ],
          [
           "WN",
           "Connecticut",
           "CT",
           26.64455500276396
          ],
          [
           "UA",
           "District of Columbia",
           "DC",
           20.59852670349908
          ],
          [
           "WN",
           "Florida",
           "FL",
           19.635291950635477
          ],
          [
           "DL",
           "Georgia",
           "GA",
           36.41550208903616
          ],
          [
           "MQ",
           "Illinois",
           "IL",
           20.593596208761163
          ],
          [
           "FL",
           "Indiana",
           "IN",
           14.492067250769594
          ],
          [
           "MQ",
           "Iowa",
           "IA",
           38.96457765667575
          ],
          [
           "OO",
           "Kansas",
           "KS",
           23.23330106485963
          ],
          [
           "WN",
           "Kentucky",
           "KY",
           21.543560606060606
          ],
          [
           "WN",
           "Louisiana",
           "LA",
           20.157118221881586
          ],
          [
           "9E",
           "Maine",
           "ME",
           30.697674418604652
          ],
          [
           "B6",
           "Massachusetts",
           "MA",
           20.24165570044264
          ],
          [
           "9E",
           "Michigan",
           "MI",
           36.454235510097035
          ],
          [
           "NW",
           "Minnesota",
           "MN",
           52.0198291319481
          ],
          [
           "EV",
           "Mississippi",
           "MS",
           28.57977790765634
          ],
          [
           "WN",
           "Missouri",
           "MO",
           40.93145293538865
          ],
          [
           "WN",
           "Nebraska",
           "NE",
           20.78488372093023
          ],
          [
           "WN",
           "New Hampshire",
           "NH",
           60.296684118673646
          ],
          [
           "CO",
           "New Jersey",
           "NJ",
           40.65349544072948
          ],
          [
           "B6",
           "New York",
           "NY",
           22.155892887600203
          ],
          [
           "US",
           "North Carolina",
           "NC",
           43.8385269121813
          ],
          [
           "OO",
           "North Dakota",
           "ND",
           54.7077922077922
          ],
          [
           "XE",
           "Ohio",
           "OH",
           18.6234493797519
          ],
          [
           "WN",
           "Oklahoma",
           "OK",
           30.353929214157166
          ],
          [
           "US",
           "Pennsylvania",
           "PA",
           35.4315379623621
          ],
          [
           "WN",
           "Rhode Island",
           "RI",
           56.99633699633699
          ],
          [
           "EV",
           "South Carolina",
           "SC",
           30.82505729564553
          ],
          [
           "OO",
           "South Dakota",
           "SD",
           42.97658862876254
          ],
          [
           "9E",
           "Tennessee",
           "TN",
           33.03255186372069
          ],
          [
           "AA",
           "Texas",
           "TX",
           24.847338092371203
          ],
          [
           "B6",
           "Vermont",
           "VT",
           31.57894736842105
          ],
          [
           "EV",
           "Virginia",
           "VA",
           16.233766233766232
          ],
          [
           "OO",
           "Wisconsin",
           "WI",
           21.57199244894457
          ],
          [
           "WN",
           "Arizona",
           "AZ",
           30.749703841597565
          ],
          [
           "WN",
           "California",
           "CA",
           31.29298835617596
          ],
          [
           "OO",
           "Colorado",
           "CO",
           27.188769855929074
          ],
          [
           "HA",
           "Hawaii",
           "HI",
           59.88618611916983
          ],
          [
           "WN",
           "Maryland",
           "MD",
           55.78680203045685
          ],
          [
           "WN",
           "Nevada",
           "NV",
           52.68131868131868
          ],
          [
           "WN",
           "New Mexico",
           "NM",
           53.08025308025308
          ],
          [
           "OO",
           "Oregon",
           "OR",
           40.51869949257658
          ],
          [
           "AA",
           "Puerto Rico",
           "PR",
           30.662983425414364
          ],
          [
           "AA",
           "U.S. Virgin Islands",
           "VI",
           45.53314121037464
          ],
          [
           "OO",
           "Utah",
           "UT",
           61.35312259059368
          ],
          [
           "AS",
           "Washington",
           "WA",
           38.13123014568956
          ],
          [
           "OO",
           "Wyoming",
           "WY",
           64.17721518987342
          ],
          [
           "AS",
           "Alaska",
           "AK",
           92.91453615777941
          ],
          [
           "OO",
           "Idaho",
           "ID",
           61.78194607268465
          ],
          [
           "OO",
           "Montana",
           "MT",
           91.20122417750574
          ],
          [
           "EV",
           "West Virginia",
           "WV",
           47.107438016528924
          ]
         ],
         "geo": "geo",
         "hovertemplate": "ORIGIN_STATE_ABR=%{customdata[2]}<br>UNIQUE_CARRIER=%{customdata[0]}<br>ORIGIN_STATE_NM=%{customdata[1]}<br>Preference Percent=%{customdata[3]}<extra></extra>",
         "locationmode": "USA-states",
         "locations": [
          "AL",
          "AR",
          "CT",
          "DC",
          "FL",
          "GA",
          "IL",
          "IN",
          "IA",
          "KS",
          "KY",
          "LA",
          "ME",
          "MA",
          "MI",
          "MN",
          "MS",
          "MO",
          "NE",
          "NH",
          "NJ",
          "NY",
          "NC",
          "ND",
          "OH",
          "OK",
          "PA",
          "RI",
          "SC",
          "SD",
          "TN",
          "TX",
          "VT",
          "VA",
          "WI",
          "AZ",
          "CA",
          "CO",
          "HI",
          "MD",
          "NV",
          "NM",
          "OR",
          "PR",
          "VI",
          "UT",
          "WA",
          "WY",
          "AK",
          "ID",
          "MT",
          "WV"
         ],
         "name": "",
         "showlegend": true,
         "showscale": false,
         "type": "choropleth",
         "z": [
          1,
          1,
          1,
          1,
          1,
          1,
          1,
          1,
          1,
          1,
          1,
          1,
          1,
          1,
          1,
          1,
          1,
          1,
          1,
          1,
          1,
          1,
          1,
          1,
          1,
          1,
          1,
          1,
          1,
          1,
          1,
          1,
          1,
          1,
          1,
          1,
          1,
          1,
          1,
          1,
          1,
          1,
          1,
          1,
          1,
          1,
          1,
          1,
          1,
          1,
          1,
          1
         ]
        }
       ],
       "layout": {
        "geo": {
         "center": {},
         "domain": {
          "x": [
           0,
           1
          ],
          "y": [
           0,
           1
          ]
         },
         "scope": "usa"
        },
        "legend": {
         "tracegroupgap": 0
        },
        "margin": {
         "t": 60
        },
        "template": {
         "data": {
          "bar": [
           {
            "error_x": {
             "color": "#2a3f5f"
            },
            "error_y": {
             "color": "#2a3f5f"
            },
            "marker": {
             "line": {
              "color": "#E5ECF6",
              "width": 0.5
             },
             "pattern": {
              "fillmode": "overlay",
              "size": 10,
              "solidity": 0.2
             }
            },
            "type": "bar"
           }
          ],
          "barpolar": [
           {
            "marker": {
             "line": {
              "color": "#E5ECF6",
              "width": 0.5
             },
             "pattern": {
              "fillmode": "overlay",
              "size": 10,
              "solidity": 0.2
             }
            },
            "type": "barpolar"
           }
          ],
          "carpet": [
           {
            "aaxis": {
             "endlinecolor": "#2a3f5f",
             "gridcolor": "white",
             "linecolor": "white",
             "minorgridcolor": "white",
             "startlinecolor": "#2a3f5f"
            },
            "baxis": {
             "endlinecolor": "#2a3f5f",
             "gridcolor": "white",
             "linecolor": "white",
             "minorgridcolor": "white",
             "startlinecolor": "#2a3f5f"
            },
            "type": "carpet"
           }
          ],
          "choropleth": [
           {
            "colorbar": {
             "outlinewidth": 0,
             "ticks": ""
            },
            "type": "choropleth"
           }
          ],
          "contour": [
           {
            "colorbar": {
             "outlinewidth": 0,
             "ticks": ""
            },
            "colorscale": [
             [
              0,
              "#0d0887"
             ],
             [
              0.1111111111111111,
              "#46039f"
             ],
             [
              0.2222222222222222,
              "#7201a8"
             ],
             [
              0.3333333333333333,
              "#9c179e"
             ],
             [
              0.4444444444444444,
              "#bd3786"
             ],
             [
              0.5555555555555556,
              "#d8576b"
             ],
             [
              0.6666666666666666,
              "#ed7953"
             ],
             [
              0.7777777777777778,
              "#fb9f3a"
             ],
             [
              0.8888888888888888,
              "#fdca26"
             ],
             [
              1,
              "#f0f921"
             ]
            ],
            "type": "contour"
           }
          ],
          "contourcarpet": [
           {
            "colorbar": {
             "outlinewidth": 0,
             "ticks": ""
            },
            "type": "contourcarpet"
           }
          ],
          "heatmap": [
           {
            "colorbar": {
             "outlinewidth": 0,
             "ticks": ""
            },
            "colorscale": [
             [
              0,
              "#0d0887"
             ],
             [
              0.1111111111111111,
              "#46039f"
             ],
             [
              0.2222222222222222,
              "#7201a8"
             ],
             [
              0.3333333333333333,
              "#9c179e"
             ],
             [
              0.4444444444444444,
              "#bd3786"
             ],
             [
              0.5555555555555556,
              "#d8576b"
             ],
             [
              0.6666666666666666,
              "#ed7953"
             ],
             [
              0.7777777777777778,
              "#fb9f3a"
             ],
             [
              0.8888888888888888,
              "#fdca26"
             ],
             [
              1,
              "#f0f921"
             ]
            ],
            "type": "heatmap"
           }
          ],
          "heatmapgl": [
           {
            "colorbar": {
             "outlinewidth": 0,
             "ticks": ""
            },
            "colorscale": [
             [
              0,
              "#0d0887"
             ],
             [
              0.1111111111111111,
              "#46039f"
             ],
             [
              0.2222222222222222,
              "#7201a8"
             ],
             [
              0.3333333333333333,
              "#9c179e"
             ],
             [
              0.4444444444444444,
              "#bd3786"
             ],
             [
              0.5555555555555556,
              "#d8576b"
             ],
             [
              0.6666666666666666,
              "#ed7953"
             ],
             [
              0.7777777777777778,
              "#fb9f3a"
             ],
             [
              0.8888888888888888,
              "#fdca26"
             ],
             [
              1,
              "#f0f921"
             ]
            ],
            "type": "heatmapgl"
           }
          ],
          "histogram": [
           {
            "marker": {
             "pattern": {
              "fillmode": "overlay",
              "size": 10,
              "solidity": 0.2
             }
            },
            "type": "histogram"
           }
          ],
          "histogram2d": [
           {
            "colorbar": {
             "outlinewidth": 0,
             "ticks": ""
            },
            "colorscale": [
             [
              0,
              "#0d0887"
             ],
             [
              0.1111111111111111,
              "#46039f"
             ],
             [
              0.2222222222222222,
              "#7201a8"
             ],
             [
              0.3333333333333333,
              "#9c179e"
             ],
             [
              0.4444444444444444,
              "#bd3786"
             ],
             [
              0.5555555555555556,
              "#d8576b"
             ],
             [
              0.6666666666666666,
              "#ed7953"
             ],
             [
              0.7777777777777778,
              "#fb9f3a"
             ],
             [
              0.8888888888888888,
              "#fdca26"
             ],
             [
              1,
              "#f0f921"
             ]
            ],
            "type": "histogram2d"
           }
          ],
          "histogram2dcontour": [
           {
            "colorbar": {
             "outlinewidth": 0,
             "ticks": ""
            },
            "colorscale": [
             [
              0,
              "#0d0887"
             ],
             [
              0.1111111111111111,
              "#46039f"
             ],
             [
              0.2222222222222222,
              "#7201a8"
             ],
             [
              0.3333333333333333,
              "#9c179e"
             ],
             [
              0.4444444444444444,
              "#bd3786"
             ],
             [
              0.5555555555555556,
              "#d8576b"
             ],
             [
              0.6666666666666666,
              "#ed7953"
             ],
             [
              0.7777777777777778,
              "#fb9f3a"
             ],
             [
              0.8888888888888888,
              "#fdca26"
             ],
             [
              1,
              "#f0f921"
             ]
            ],
            "type": "histogram2dcontour"
           }
          ],
          "mesh3d": [
           {
            "colorbar": {
             "outlinewidth": 0,
             "ticks": ""
            },
            "type": "mesh3d"
           }
          ],
          "parcoords": [
           {
            "line": {
             "colorbar": {
              "outlinewidth": 0,
              "ticks": ""
             }
            },
            "type": "parcoords"
           }
          ],
          "pie": [
           {
            "automargin": true,
            "type": "pie"
           }
          ],
          "scatter": [
           {
            "marker": {
             "colorbar": {
              "outlinewidth": 0,
              "ticks": ""
             }
            },
            "type": "scatter"
           }
          ],
          "scatter3d": [
           {
            "line": {
             "colorbar": {
              "outlinewidth": 0,
              "ticks": ""
             }
            },
            "marker": {
             "colorbar": {
              "outlinewidth": 0,
              "ticks": ""
             }
            },
            "type": "scatter3d"
           }
          ],
          "scattercarpet": [
           {
            "marker": {
             "colorbar": {
              "outlinewidth": 0,
              "ticks": ""
             }
            },
            "type": "scattercarpet"
           }
          ],
          "scattergeo": [
           {
            "marker": {
             "colorbar": {
              "outlinewidth": 0,
              "ticks": ""
             }
            },
            "type": "scattergeo"
           }
          ],
          "scattergl": [
           {
            "marker": {
             "colorbar": {
              "outlinewidth": 0,
              "ticks": ""
             }
            },
            "type": "scattergl"
           }
          ],
          "scattermapbox": [
           {
            "marker": {
             "colorbar": {
              "outlinewidth": 0,
              "ticks": ""
             }
            },
            "type": "scattermapbox"
           }
          ],
          "scatterpolar": [
           {
            "marker": {
             "colorbar": {
              "outlinewidth": 0,
              "ticks": ""
             }
            },
            "type": "scatterpolar"
           }
          ],
          "scatterpolargl": [
           {
            "marker": {
             "colorbar": {
              "outlinewidth": 0,
              "ticks": ""
             }
            },
            "type": "scatterpolargl"
           }
          ],
          "scatterternary": [
           {
            "marker": {
             "colorbar": {
              "outlinewidth": 0,
              "ticks": ""
             }
            },
            "type": "scatterternary"
           }
          ],
          "surface": [
           {
            "colorbar": {
             "outlinewidth": 0,
             "ticks": ""
            },
            "colorscale": [
             [
              0,
              "#0d0887"
             ],
             [
              0.1111111111111111,
              "#46039f"
             ],
             [
              0.2222222222222222,
              "#7201a8"
             ],
             [
              0.3333333333333333,
              "#9c179e"
             ],
             [
              0.4444444444444444,
              "#bd3786"
             ],
             [
              0.5555555555555556,
              "#d8576b"
             ],
             [
              0.6666666666666666,
              "#ed7953"
             ],
             [
              0.7777777777777778,
              "#fb9f3a"
             ],
             [
              0.8888888888888888,
              "#fdca26"
             ],
             [
              1,
              "#f0f921"
             ]
            ],
            "type": "surface"
           }
          ],
          "table": [
           {
            "cells": {
             "fill": {
              "color": "#EBF0F8"
             },
             "line": {
              "color": "white"
             }
            },
            "header": {
             "fill": {
              "color": "#C8D4E3"
             },
             "line": {
              "color": "white"
             }
            },
            "type": "table"
           }
          ]
         },
         "layout": {
          "annotationdefaults": {
           "arrowcolor": "#2a3f5f",
           "arrowhead": 0,
           "arrowwidth": 1
          },
          "autotypenumbers": "strict",
          "coloraxis": {
           "colorbar": {
            "outlinewidth": 0,
            "ticks": ""
           }
          },
          "colorscale": {
           "diverging": [
            [
             0,
             "#8e0152"
            ],
            [
             0.1,
             "#c51b7d"
            ],
            [
             0.2,
             "#de77ae"
            ],
            [
             0.3,
             "#f1b6da"
            ],
            [
             0.4,
             "#fde0ef"
            ],
            [
             0.5,
             "#f7f7f7"
            ],
            [
             0.6,
             "#e6f5d0"
            ],
            [
             0.7,
             "#b8e186"
            ],
            [
             0.8,
             "#7fbc41"
            ],
            [
             0.9,
             "#4d9221"
            ],
            [
             1,
             "#276419"
            ]
           ],
           "sequential": [
            [
             0,
             "#0d0887"
            ],
            [
             0.1111111111111111,
             "#46039f"
            ],
            [
             0.2222222222222222,
             "#7201a8"
            ],
            [
             0.3333333333333333,
             "#9c179e"
            ],
            [
             0.4444444444444444,
             "#bd3786"
            ],
            [
             0.5555555555555556,
             "#d8576b"
            ],
            [
             0.6666666666666666,
             "#ed7953"
            ],
            [
             0.7777777777777778,
             "#fb9f3a"
            ],
            [
             0.8888888888888888,
             "#fdca26"
            ],
            [
             1,
             "#f0f921"
            ]
           ],
           "sequentialminus": [
            [
             0,
             "#0d0887"
            ],
            [
             0.1111111111111111,
             "#46039f"
            ],
            [
             0.2222222222222222,
             "#7201a8"
            ],
            [
             0.3333333333333333,
             "#9c179e"
            ],
            [
             0.4444444444444444,
             "#bd3786"
            ],
            [
             0.5555555555555556,
             "#d8576b"
            ],
            [
             0.6666666666666666,
             "#ed7953"
            ],
            [
             0.7777777777777778,
             "#fb9f3a"
            ],
            [
             0.8888888888888888,
             "#fdca26"
            ],
            [
             1,
             "#f0f921"
            ]
           ]
          },
          "colorway": [
           "#636efa",
           "#EF553B",
           "#00cc96",
           "#ab63fa",
           "#FFA15A",
           "#19d3f3",
           "#FF6692",
           "#B6E880",
           "#FF97FF",
           "#FECB52"
          ],
          "font": {
           "color": "#2a3f5f"
          },
          "geo": {
           "bgcolor": "white",
           "lakecolor": "white",
           "landcolor": "#E5ECF6",
           "showlakes": true,
           "showland": true,
           "subunitcolor": "white"
          },
          "hoverlabel": {
           "align": "left"
          },
          "hovermode": "closest",
          "mapbox": {
           "style": "light"
          },
          "paper_bgcolor": "white",
          "plot_bgcolor": "#E5ECF6",
          "polar": {
           "angularaxis": {
            "gridcolor": "white",
            "linecolor": "white",
            "ticks": ""
           },
           "bgcolor": "#E5ECF6",
           "radialaxis": {
            "gridcolor": "white",
            "linecolor": "white",
            "ticks": ""
           }
          },
          "scene": {
           "xaxis": {
            "backgroundcolor": "#E5ECF6",
            "gridcolor": "white",
            "gridwidth": 2,
            "linecolor": "white",
            "showbackground": true,
            "ticks": "",
            "zerolinecolor": "white"
           },
           "yaxis": {
            "backgroundcolor": "#E5ECF6",
            "gridcolor": "white",
            "gridwidth": 2,
            "linecolor": "white",
            "showbackground": true,
            "ticks": "",
            "zerolinecolor": "white"
           },
           "zaxis": {
            "backgroundcolor": "#E5ECF6",
            "gridcolor": "white",
            "gridwidth": 2,
            "linecolor": "white",
            "showbackground": true,
            "ticks": "",
            "zerolinecolor": "white"
           }
          },
          "shapedefaults": {
           "line": {
            "color": "#2a3f5f"
           }
          },
          "ternary": {
           "aaxis": {
            "gridcolor": "white",
            "linecolor": "white",
            "ticks": ""
           },
           "baxis": {
            "gridcolor": "white",
            "linecolor": "white",
            "ticks": ""
           },
           "bgcolor": "#E5ECF6",
           "caxis": {
            "gridcolor": "white",
            "linecolor": "white",
            "ticks": ""
           }
          },
          "title": {
           "x": 0.05
          },
          "xaxis": {
           "automargin": true,
           "gridcolor": "white",
           "linecolor": "white",
           "ticks": "",
           "title": {
            "standoff": 15
           },
           "zerolinecolor": "white",
           "zerolinewidth": 2
          },
          "yaxis": {
           "automargin": true,
           "gridcolor": "white",
           "linecolor": "white",
           "ticks": "",
           "title": {
            "standoff": 15
           },
           "zerolinecolor": "white",
           "zerolinewidth": 2
          }
         }
        },
        "title": {
         "text": "Carrier preference of each state (in Percentage)"
        }
       }
      }
     },
     "metadata": {},
     "output_type": "display_data"
    }
   ],
   "source": [
    "figsize=(16, 12)\n",
    "fig = px.choropleth(temp, locations='ORIGIN_STATE_ABR',\n",
    "                    locationmode=\"USA-states\", hover_data =[\"UNIQUE_CARRIER\",\"ORIGIN_STATE_NM\",\"ORIGIN_STATE_ABR\",\"Preference Percent\"])\n",
    "\n",
    "fig.update_layout(\n",
    "    title_text = 'Carrier preference of each state (in Percentage)',geo_scope='usa', # limite map scope to USA\n",
    ")\n",
    "fig.show()"
   ]
  },
  {
   "cell_type": "code",
   "execution_count": null,
   "id": "be1c5c34",
   "metadata": {},
   "outputs": [],
   "source": []
  },
  {
   "cell_type": "code",
   "execution_count": null,
   "id": "87951134",
   "metadata": {},
   "outputs": [],
   "source": []
  }
 ],
 "metadata": {
  "kernelspec": {
   "display_name": "Python 3",
   "language": "python",
   "name": "python3"
  },
  "language_info": {
   "codemirror_mode": {
    "name": "ipython",
    "version": 3
   },
   "file_extension": ".py",
   "mimetype": "text/x-python",
   "name": "python",
   "nbconvert_exporter": "python",
   "pygments_lexer": "ipython3",
   "version": "3.7.4"
  }
 },
 "nbformat": 4,
 "nbformat_minor": 5
}
